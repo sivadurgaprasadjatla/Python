{
  "cells": [
    {
      "cell_type": "markdown",
      "source": [
        "# Looping\n",
        "\n",
        "- Looping is a concept to repeat a block of code many times.\n",
        "- It is basically iterations (repeating a task).\n",
        "- In general there are 2 commonly used loops in python\n",
        "    - for loops\n",
        "    - while loops"
      ],
      "metadata": {
        "id": "Nh4PXSLKSH73"
      }
    },
    {
      "cell_type": "markdown",
      "source": [
        "# While loop\n",
        "\n",
        "There will be time when we want to run a loop until a condition a become false\n",
        "\n",
        "Also known as indefinite loop as it runs till infinite time.\n",
        "\n",
        "run continuously"
      ],
      "metadata": {
        "id": "rd75qGDESdId"
      }
    },
    {
      "cell_type": "markdown",
      "source": [
        "# While Loop\n",
        "Syntax: While (condition):\n",
        "\n",
        "            Statement 1\n",
        "\n",
        "            Statement 2\n",
        "\n",
        "                .\n",
        "\n",
        "                .\n",
        "            Statement n\n",
        "            \n",
        "        Statement x"
      ],
      "metadata": {
        "id": "rCF3xzprUVPt"
      }
    },
    {
      "cell_type": "markdown",
      "source": [
        "### We must have to create variable before"
      ],
      "metadata": {
        "id": "GI_sI4OfSqmC"
      }
    },
    {
      "cell_type": "code",
      "source": [
        "W = 0\n",
        "while W < 5:\n",
        "    print(W)\n",
        "    W = W + 1 #this step is called incrementing. if we didint give this statement in while loop, it will go infinite loop"
      ],
      "metadata": {
        "colab": {
          "base_uri": "https://localhost:8080/"
        },
        "id": "aquqWurZSpQL",
        "outputId": "8db9ed21-57a5-4b34-f3c2-e876a82581b5"
      },
      "execution_count": null,
      "outputs": [
        {
          "output_type": "stream",
          "name": "stdout",
          "text": [
            "0\n",
            "1\n",
            "2\n",
            "3\n",
            "4\n"
          ]
        }
      ]
    },
    {
      "cell_type": "code",
      "source": [],
      "metadata": {
        "id": "q1zcPDnMSpfG"
      },
      "execution_count": null,
      "outputs": []
    },
    {
      "cell_type": "code",
      "source": [
        "notes = 5 \n",
        "i = 1 \n",
        "j = 1\n",
        "while i < notes:\n",
        "    print(i)\n",
        "    i += 1\n",
        "else :\n",
        "    \n",
        "    while j < 2 :\n",
        "        print(i)\n",
        "        j = j + 1 \n",
        "    print(\"no 10 rs notes are available \")"
      ],
      "metadata": {
        "colab": {
          "base_uri": "https://localhost:8080/"
        },
        "id": "wtV6kKKxSNZG",
        "outputId": "ddabff5f-f659-4c57-a368-37fd9928e026"
      },
      "execution_count": null,
      "outputs": [
        {
          "output_type": "stream",
          "name": "stdout",
          "text": [
            "1\n",
            "2\n",
            "3\n",
            "4\n",
            "5\n",
            "no 10 rs notes are available \n"
          ]
        }
      ]
    },
    {
      "cell_type": "code",
      "source": [
        "initial_speed = 0\n",
        "final_speed = 5\n",
        "while initial_speed < final_speed :\n",
        "  print('speed')\n",
        "  initial_speed = initial_speed + 1"
      ],
      "metadata": {
        "colab": {
          "base_uri": "https://localhost:8080/"
        },
        "id": "3oPQ73TprVmd",
        "outputId": "6bda89de-caf2-4df8-d689-dfe17ed0468a"
      },
      "execution_count": null,
      "outputs": [
        {
          "output_type": "stream",
          "name": "stdout",
          "text": [
            "speed\n",
            "speed\n",
            "speed\n",
            "speed\n",
            "speed\n"
          ]
        }
      ]
    },
    {
      "cell_type": "code",
      "source": [
        "initial_speed = 0\n",
        "final_speed = 10\n",
        "count = 1\n",
        "while initial_speed < final_speed :\n",
        "  print('speed')\n",
        "  count = count + 1\n",
        "  if count == 4 :\n",
        "    break "
      ],
      "metadata": {
        "colab": {
          "base_uri": "https://localhost:8080/"
        },
        "id": "cB32DQ6breeU",
        "outputId": "886b7be9-cf9a-4c40-e6fa-4247f901d25b"
      },
      "execution_count": null,
      "outputs": [
        {
          "output_type": "stream",
          "name": "stdout",
          "text": [
            "speed\n",
            "speed\n",
            "speed\n"
          ]
        }
      ]
    },
    {
      "cell_type": "code",
      "source": [
        "i = 1\n",
        "j = 5\n",
        "while i < j :\n",
        "  print(i)\n",
        "  i = i+1\n",
        "  "
      ],
      "metadata": {
        "colab": {
          "base_uri": "https://localhost:8080/"
        },
        "id": "oQNftV7Qrf8e",
        "outputId": "4bd0303f-731d-464d-92e0-bd5657d87c3b"
      },
      "execution_count": null,
      "outputs": [
        {
          "output_type": "stream",
          "name": "stdout",
          "text": [
            "1\n",
            "2\n",
            "3\n",
            "4\n"
          ]
        }
      ]
    },
    {
      "cell_type": "code",
      "source": [
        "i = 1\n",
        "j = 5\n",
        "while i < j :\n",
        "  print(i)\n",
        "  i = i+1\n",
        "else :\n",
        "  print('this is valid in else condition')"
      ],
      "metadata": {
        "colab": {
          "base_uri": "https://localhost:8080/"
        },
        "id": "UR8CtP7frjys",
        "outputId": "7d99af27-e919-41c5-948c-aa54673b7f22"
      },
      "execution_count": null,
      "outputs": [
        {
          "output_type": "stream",
          "name": "stdout",
          "text": [
            "1\n",
            "2\n",
            "3\n",
            "4\n",
            "this is valid in else condition\n"
          ]
        }
      ]
    },
    {
      "cell_type": "code",
      "source": [
        "i = 1\n",
        "j = 5\n",
        "while i < j :\n",
        "  print(i)\n",
        "  i = i+1\n",
        "else :\n",
        "  while i < 2 :\n",
        "    print(i)\n",
        "    i = i+1\n",
        "  print('this is valid in else condition')"
      ],
      "metadata": {
        "colab": {
          "base_uri": "https://localhost:8080/"
        },
        "id": "112ynWW2roT-",
        "outputId": "007a5519-6829-4b07-fbd8-311d02c66597"
      },
      "execution_count": null,
      "outputs": [
        {
          "output_type": "stream",
          "name": "stdout",
          "text": [
            "1\n",
            "2\n",
            "3\n",
            "4\n",
            "this is valid in else condition\n"
          ]
        }
      ]
    },
    {
      "cell_type": "code",
      "source": [
        "i = 1\n",
        "j = 5\n",
        "k = 1\n",
        "while i < j :\n",
        "  print(i)\n",
        "  i = i+1\n",
        "else :\n",
        "  while k < 2 :\n",
        "    print(i)\n",
        "    k = k+1\n",
        "  print('this is valid in else condition')"
      ],
      "metadata": {
        "colab": {
          "base_uri": "https://localhost:8080/"
        },
        "id": "1r4J-2l1rq-e",
        "outputId": "29803498-3fb7-4ad8-cfcd-f6272efcf15c"
      },
      "execution_count": null,
      "outputs": [
        {
          "output_type": "stream",
          "name": "stdout",
          "text": [
            "1\n",
            "2\n",
            "3\n",
            "4\n",
            "5\n",
            "this is valid in else condition\n"
          ]
        }
      ]
    },
    {
      "cell_type": "code",
      "source": [
        "i = 1\n",
        "j = 5\n",
        "k = 1\n",
        "while i < j :\n",
        "  print(i)\n",
        "  i = i+1\n",
        "else :\n",
        "  while k < 3:\n",
        "    print(i)\n",
        "    k = k+1\n",
        "  print('this is valid in else condition')"
      ],
      "metadata": {
        "colab": {
          "base_uri": "https://localhost:8080/"
        },
        "id": "sSoicv3Tr0Ry",
        "outputId": "8c7ce44e-9482-4b53-8a0e-2e0546c9b50a"
      },
      "execution_count": null,
      "outputs": [
        {
          "output_type": "stream",
          "name": "stdout",
          "text": [
            "1\n",
            "2\n",
            "3\n",
            "4\n",
            "5\n",
            "5\n",
            "this is valid in else condition\n"
          ]
        }
      ]
    },
    {
      "cell_type": "code",
      "execution_count": null,
      "metadata": {
        "id": "WZ_fguovnM6r"
      },
      "outputs": [],
      "source": [
        "s = \"my name is sudhanshu\""
      ]
    },
    {
      "cell_type": "code",
      "execution_count": null,
      "metadata": {
        "id": "9wZfqjotnM6r",
        "outputId": "53572abd-e459-422a-d3ce-dec6b50bba86"
      },
      "outputs": [
        {
          "data": {
            "text/plain": [
              "'my name is sudhanshu'"
            ]
          },
          "execution_count": 32,
          "metadata": {},
          "output_type": "execute_result"
        }
      ],
      "source": [
        "s"
      ]
    },
    {
      "cell_type": "code",
      "execution_count": null,
      "metadata": {
        "id": "XT62xN8fnM6s",
        "outputId": "4c59d2a8-de00-49f9-f94c-005c9d085d7d"
      },
      "outputs": [
        {
          "data": {
            "text/plain": [
              "' name is sud'"
            ]
          },
          "execution_count": 33,
          "metadata": {},
          "output_type": "execute_result"
        }
      ],
      "source": [
        "s[2:-6]"
      ]
    },
    {
      "cell_type": "code",
      "execution_count": null,
      "metadata": {
        "id": "K-AHw28lnM6s",
        "outputId": "5eb5b38b-3b2c-4c62-af89-3675e0c3eae8"
      },
      "outputs": [
        {
          "data": {
            "text/plain": [
              "'nm s'"
            ]
          },
          "execution_count": 15,
          "metadata": {},
          "output_type": "execute_result"
        }
      ],
      "source": [
        "s[3:10:2]"
      ]
    },
    {
      "cell_type": "code",
      "execution_count": null,
      "metadata": {
        "id": "SyI-mmUhnM6s",
        "outputId": "25c94639-81c1-4d64-d6f8-5e7b93936692"
      },
      "outputs": [
        {
          "data": {
            "text/plain": [
              "'uhsnahdus si eman ym'"
            ]
          },
          "execution_count": 22,
          "metadata": {},
          "output_type": "execute_result"
        }
      ],
      "source": [
        "s[::-1]"
      ]
    },
    {
      "cell_type": "code",
      "execution_count": null,
      "metadata": {
        "id": "9gauhbOcnM6s",
        "outputId": "e107c4e2-b79a-49a1-ec50-54c7defdb965"
      },
      "outputs": [
        {
          "data": {
            "text/plain": [
              "' name is sud'"
            ]
          },
          "execution_count": 23,
          "metadata": {},
          "output_type": "execute_result"
        }
      ],
      "source": [
        "s[2:-6]"
      ]
    },
    {
      "cell_type": "code",
      "execution_count": null,
      "metadata": {
        "id": "_9QKyZaynM6t"
      },
      "outputs": [],
      "source": [
        "s = \"sudh\""
      ]
    },
    {
      "cell_type": "code",
      "execution_count": null,
      "metadata": {
        "id": "Mr_h3Wj9nM6t",
        "outputId": "fd0d6b7a-7993-4826-9ac0-ca1f9bc741e5"
      },
      "outputs": [
        {
          "data": {
            "text/plain": [
              "'s'"
            ]
          },
          "execution_count": 28,
          "metadata": {},
          "output_type": "execute_result"
        }
      ],
      "source": [
        "s[0]"
      ]
    },
    {
      "cell_type": "code",
      "execution_count": null,
      "metadata": {
        "id": "7fW9mEnNnM6t",
        "outputId": "0db72fda-78b3-4833-825c-7efaf5328936"
      },
      "outputs": [
        {
          "data": {
            "text/plain": [
              "'my name is sudhanshu'"
            ]
          },
          "execution_count": 34,
          "metadata": {},
          "output_type": "execute_result"
        }
      ],
      "source": [
        "s"
      ]
    },
    {
      "cell_type": "markdown",
      "source": [
        "# New Section\n",
        "For Loop\n",
        "\n",
        "Syntax: for i in sequence:\n",
        "\n",
        "            Statement 1\n",
        "\n",
        "            Statement 2\n",
        "\n",
        "                .\n",
        "\n",
        "                .\n",
        "            Statement n\n",
        "\n",
        "        Statement x\n",
        "\n",
        "All the 3 Loop controls (Initialization, termination and updation of Loop variable) are performed in the sequence.\n",
        "\n",
        "\n",
        "Sequence could be any collection (Array, List, tuple, dictionary)."
      ],
      "metadata": {
        "id": "pwUhSiQRUkHm"
      }
    },
    {
      "cell_type": "code",
      "source": [
        "for i in s:\n",
        "  print(i)"
      ],
      "metadata": {
        "colab": {
          "base_uri": "https://localhost:8080/"
        },
        "id": "mN3IjpXWsEgP",
        "outputId": "6d852238-8c1d-4783-91ce-d8961b6fe1b5"
      },
      "execution_count": null,
      "outputs": [
        {
          "output_type": "stream",
          "name": "stdout",
          "text": [
            "m\n",
            "y\n",
            " \n",
            "n\n",
            "a\n",
            "m\n",
            "e\n",
            " \n",
            "i\n",
            "s\n",
            " \n",
            "s\n",
            "u\n",
            "d\n",
            "h\n",
            "a\n",
            "n\n",
            "s\n",
            "h\n",
            "u\n"
          ]
        }
      ]
    },
    {
      "cell_type": "code",
      "execution_count": null,
      "metadata": {
        "id": "xpFSEGDHnM6u",
        "outputId": "5a241581-b0fb-4ea9-ff62-e1371cb61110",
        "colab": {
          "base_uri": "https://localhost:8080/"
        }
      },
      "outputs": [
        {
          "output_type": "stream",
          "name": "stdout",
          "text": [
            "m\n",
            "y\n",
            " \n",
            "n\n",
            "a\n",
            "m\n",
            "e\n",
            " \n",
            "i\n",
            " i got s as a string \n",
            "s\n",
            " \n",
            " i got s as a string \n",
            "s\n",
            "u\n",
            "d\n",
            "h\n",
            "a\n",
            "n\n",
            " i got s as a string \n",
            "s\n",
            "h\n",
            "u\n"
          ]
        }
      ],
      "source": [
        "for i in s :\n",
        "    if i == 's':\n",
        "        print(\" i got s as a string \")\n",
        "    print(i)"
      ]
    },
    {
      "cell_type": "code",
      "source": [
        "  # Example: Factorial\n",
        "\n",
        "# 5! = 5*4*3*2*1\n",
        "result = 1\n",
        "\n",
        "number = int(input(\"Enter the number\"))\n",
        "for i in range(1, number+1):\n",
        "  result *= i # result = result * i # 24*5 = 120\n",
        "\n",
        "print(result)"
      ],
      "metadata": {
        "colab": {
          "base_uri": "https://localhost:8080/"
        },
        "id": "zqsYb4cFU6l_",
        "outputId": "ebaade1b-c27d-4149-e7ad-3d91f917b32a"
      },
      "execution_count": null,
      "outputs": [
        {
          "output_type": "stream",
          "name": "stdout",
          "text": [
            "Enter the number5\n",
            "120\n"
          ]
        }
      ]
    },
    {
      "cell_type": "code",
      "execution_count": null,
      "metadata": {
        "id": "Iq1TslIznM6u",
        "outputId": "3434a580-20aa-4ce6-e17e-4768bb15e885"
      },
      "outputs": [
        {
          "data": {
            "text/plain": [
              "'my name is sudhanshu'"
            ]
          },
          "execution_count": 37,
          "metadata": {},
          "output_type": "execute_result"
        }
      ],
      "source": [
        "s "
      ]
    },
    {
      "cell_type": "code",
      "source": [
        "for i in s :\n",
        "  print(i)\n",
        "\n",
        "else :\n",
        "  print('this is a valid statement')"
      ],
      "metadata": {
        "colab": {
          "base_uri": "https://localhost:8080/"
        },
        "id": "l3PP9WJvtTYe",
        "outputId": "55e6e5b0-1122-43f2-c7b8-54c1cbf447f9"
      },
      "execution_count": null,
      "outputs": [
        {
          "output_type": "stream",
          "name": "stdout",
          "text": [
            "m\n",
            "y\n",
            " \n",
            "n\n",
            "a\n",
            "m\n",
            "e\n",
            " \n",
            "i\n",
            "s\n",
            " \n",
            "s\n",
            "u\n",
            "d\n",
            "h\n",
            "a\n",
            "n\n",
            "s\n",
            "h\n",
            "u\n",
            "this is a valid statement\n"
          ]
        }
      ]
    },
    {
      "cell_type": "code",
      "source": [
        "for i in s :\n",
        "  print(i)\n",
        "\n",
        "else :\n",
        "  if i == 'u' :\n",
        "    print('last character was D')    \n",
        "  print('this is a valid statement')"
      ],
      "metadata": {
        "colab": {
          "base_uri": "https://localhost:8080/"
        },
        "id": "AxZ9PoOStTQO",
        "outputId": "0971b85e-1bd2-4467-ec9e-efc157be5f0e"
      },
      "execution_count": null,
      "outputs": [
        {
          "output_type": "stream",
          "name": "stdout",
          "text": [
            "m\n",
            "y\n",
            " \n",
            "n\n",
            "a\n",
            "m\n",
            "e\n",
            " \n",
            "i\n",
            "s\n",
            " \n",
            "s\n",
            "u\n",
            "d\n",
            "h\n",
            "a\n",
            "n\n",
            "s\n",
            "h\n",
            "u\n",
            "last character was D\n",
            "this is a valid statement\n"
          ]
        }
      ]
    },
    {
      "cell_type": "markdown",
      "source": [
        "# Break - \n",
        "it will break nearest loop while meet the breaking condition\n",
        "\n",
        "# continue - \n",
        "it will skip one step in nearest looping when condition get satisfied"
      ],
      "metadata": {
        "id": "SNmOhX7JVhgr"
      }
    },
    {
      "cell_type": "code",
      "source": [
        "for i in s :\n",
        "  if i == 'a' :\n",
        "    break\n",
        "  print(i)\n",
        "\n",
        "else :\n",
        "  if i == 'u' :\n",
        "    print('last character was D')    \n",
        "  print('this is a valid statement')"
      ],
      "metadata": {
        "colab": {
          "base_uri": "https://localhost:8080/"
        },
        "id": "5E5W2vXBtTCQ",
        "outputId": "c6d90d92-d25a-4084-ae95-09f038b00659"
      },
      "execution_count": null,
      "outputs": [
        {
          "output_type": "stream",
          "name": "stdout",
          "text": [
            "m\n",
            "y\n",
            " \n",
            "n\n"
          ]
        }
      ]
    },
    {
      "cell_type": "code",
      "source": [
        "for i in s :\n",
        "  if i == 'a' :\n",
        "    continue\n",
        "  print(i)\n",
        "\n",
        "else :\n",
        "  if i == 'd' :\n",
        "    print('last character was D')    \n",
        "  print('this is a valid statement')"
      ],
      "metadata": {
        "colab": {
          "base_uri": "https://localhost:8080/"
        },
        "id": "VBJFNASctqBS",
        "outputId": "dd506d55-6297-4203-fdbe-be17b5ecf681"
      },
      "execution_count": null,
      "outputs": [
        {
          "output_type": "stream",
          "name": "stdout",
          "text": [
            "m\n",
            "y\n",
            " \n",
            "n\n",
            "m\n",
            "e\n",
            " \n",
            "i\n",
            "s\n",
            " \n",
            "s\n",
            "u\n",
            "d\n",
            "h\n",
            "n\n",
            "s\n",
            "h\n",
            "u\n",
            "this is a valid statement\n"
          ]
        }
      ]
    },
    {
      "cell_type": "code",
      "source": [
        "b = 'ramakrishna'\n",
        "c = ''\n",
        "\n",
        "for i in range(len(b)):\n",
        "  if b[i] == 'a':\n",
        "    continue\n",
        "  else :\n",
        "    c = c + b[i]\n",
        "\n",
        "print(c)"
      ],
      "metadata": {
        "id": "_WzKXNAztuB2",
        "colab": {
          "base_uri": "https://localhost:8080/"
        },
        "outputId": "2b569cfe-ff78-49b2-dbd2-8ccadca0f252"
      },
      "execution_count": null,
      "outputs": [
        {
          "output_type": "stream",
          "name": "stdout",
          "text": [
            "rmkrishn\n"
          ]
        }
      ]
    },
    {
      "cell_type": "code",
      "source": [
        "a = 23\n",
        "\n",
        "for i in range(2, a):\n",
        "  if a%i == 0: # not True in all cases\n",
        "    print(\"Not a prime\")\n",
        "    break\n",
        "else:\n",
        "  print('its prime')"
      ],
      "metadata": {
        "colab": {
          "base_uri": "https://localhost:8080/"
        },
        "id": "UvRRTlLIbAbi",
        "outputId": "c7bd9c07-f58e-44b1-9095-e155fef45b4d"
      },
      "execution_count": null,
      "outputs": [
        {
          "output_type": "stream",
          "name": "stdout",
          "text": [
            "its prime\n"
          ]
        }
      ]
    },
    {
      "cell_type": "code",
      "source": [
        "# zip function\n",
        "fruits = (\"Apple\", \"Banana\", \"Cherry\")\n",
        "prices = (50, 25, 60)\n",
        "c = zip(fruits, prices)\n",
        "for i in c:\n",
        "  print(i)"
      ],
      "metadata": {
        "colab": {
          "base_uri": "https://localhost:8080/"
        },
        "id": "YlmHv8LXWJdq",
        "outputId": "8a79109d-9574-4e82-b7d6-6580b30b17b0"
      },
      "execution_count": null,
      "outputs": [
        {
          "output_type": "stream",
          "name": "stdout",
          "text": [
            "('Apple', 50)\n",
            "('Banana', 25)\n",
            "('Cherry', 60)\n"
          ]
        }
      ]
    },
    {
      "cell_type": "code",
      "source": [
        "# enumerate function\n",
        "students = [\"Prerna\", \"Akaksha\", \"Adithya\"]\n",
        "b = enumerate(students, 10)\n",
        "print(b)\n",
        "for i in b:\n",
        "  print(i)"
      ],
      "metadata": {
        "colab": {
          "base_uri": "https://localhost:8080/"
        },
        "id": "u4jxDXjnWJqI",
        "outputId": "a0f19343-2bc3-4f73-a777-b359b7b562f3"
      },
      "execution_count": null,
      "outputs": [
        {
          "output_type": "stream",
          "name": "stdout",
          "text": [
            "<enumerate object at 0x7f33ed8a1fc0>\n",
            "(10, 'Prerna')\n",
            "(11, 'Akaksha')\n",
            "(12, 'Adithya')\n"
          ]
        }
      ]
    },
    {
      "cell_type": "code",
      "execution_count": null,
      "metadata": {
        "id": "WUQoN05hnM6u",
        "outputId": "a1124338-4259-4a36-ef23-cb484f1b89df"
      },
      "outputs": [
        {
          "name": "stdout",
          "output_type": "stream",
          "text": [
            "m\n",
            "y\n",
            " \n",
            "a\n",
            "m\n",
            "e\n",
            " \n",
            "i\n",
            "s\n",
            " \n",
            "s\n",
            "u\n",
            "d\n",
            "h\n",
            "a\n",
            "s\n",
            "h\n",
            "u\n",
            "last char was u \n",
            "this is a else condtion \n"
          ]
        }
      ],
      "source": [
        "for i in s :\n",
        "    if i == \"n\":\n",
        "        continue \n",
        "    print(i)\n",
        "else :\n",
        "    if i == 'u':\n",
        "        print(\"last char was u \")\n",
        "    print(\"this is a else condtion \")"
      ]
    },
    {
      "cell_type": "code",
      "execution_count": null,
      "metadata": {
        "id": "vX3yJvtanM6u"
      },
      "outputs": [],
      "source": [
        "s =  \"ineuron\"\n",
        "ss = \"\"\n",
        "for i in range(len(s)):\n",
        "    if s[i] == \"n\":\n",
        "        continue\n",
        "    else :\n",
        "        ss = ss + s[i]"
      ]
    },
    {
      "cell_type": "code",
      "execution_count": null,
      "metadata": {
        "id": "lXwLm5X0nM6v",
        "outputId": "92665bb9-b1e6-4e03-d2c1-a78a874f91cf"
      },
      "outputs": [
        {
          "data": {
            "text/plain": [
              "'ieuro'"
            ]
          },
          "execution_count": 54,
          "metadata": {},
          "output_type": "execute_result"
        }
      ],
      "source": [
        "ss"
      ]
    },
    {
      "cell_type": "code",
      "execution_count": null,
      "metadata": {
        "id": "SV1w5nw5nM6v",
        "outputId": "2f304f48-e8ae-4f66-f847-89bd824e43dc"
      },
      "outputs": [
        {
          "data": {
            "text/plain": [
              "7"
            ]
          },
          "execution_count": 55,
          "metadata": {},
          "output_type": "execute_result"
        }
      ],
      "source": [
        "len(s)"
      ]
    },
    {
      "cell_type": "code",
      "source": [
        "a = \"madam\"\n",
        "if a[::-1] == a:\n",
        "  print(\"Palindrome\")\n",
        "else:\n",
        "  print(\"Not a palindrome\")"
      ],
      "metadata": {
        "colab": {
          "base_uri": "https://localhost:8080/"
        },
        "id": "GO4JJZdLbhHF",
        "outputId": "208266b2-6fb3-41d5-e97f-2f54202e3dcd"
      },
      "execution_count": null,
      "outputs": [
        {
          "output_type": "stream",
          "name": "stdout",
          "text": [
            "Palindrome\n"
          ]
        }
      ]
    },
    {
      "cell_type": "code",
      "source": [
        "a = \"python\"\n",
        "\n",
        "reversed_string = \"\"\n",
        "\n",
        "for i in a:\n",
        "  reversed_string = i + reversed_string # 't'+'yp' -> typ\n",
        "print(reversed_string)\n",
        "\n",
        "if reversed_string == a:\n",
        "  print(\"Palindrome\")\n",
        "else:\n",
        "  print(\"not\")"
      ],
      "metadata": {
        "colab": {
          "base_uri": "https://localhost:8080/"
        },
        "id": "IGk7dZEnbhKg",
        "outputId": "bb949b57-898b-45c5-b2f0-3ae05b791e7c"
      },
      "execution_count": null,
      "outputs": [
        {
          "output_type": "stream",
          "name": "stdout",
          "text": [
            "nohtyp\n",
            "not\n"
          ]
        }
      ]
    },
    {
      "cell_type": "code",
      "source": [
        "# Print largest number\n",
        "largest_so_for = -1\n",
        "print('Before', largest_so_for)\n",
        "for the_num in [9, 41, 12, 3, 74, 15]:\n",
        "    if the_num > largest_so_for:\n",
        "        largest_so_for = the_num\n",
        "print('the large number in given list is :',largest_so_for)"
      ],
      "metadata": {
        "colab": {
          "base_uri": "https://localhost:8080/"
        },
        "id": "6rXmWN1egokg",
        "outputId": "41a9028e-0ea5-42f0-cb31-5316801d6fd7"
      },
      "execution_count": null,
      "outputs": [
        {
          "output_type": "stream",
          "name": "stdout",
          "text": [
            "Before -1\n",
            "the large number in given list is : 74\n"
          ]
        }
      ]
    },
    {
      "cell_type": "code",
      "source": [
        "d =[9, 41, 12, 3, 74, 15,456,945,2,3,12,45,1,23,9]\n",
        "c = d[0]\n",
        "for i in d:\n",
        "    if i > c :\n",
        "        c = i\n",
        "print('max number in given list is : ',c)"
      ],
      "metadata": {
        "colab": {
          "base_uri": "https://localhost:8080/"
        },
        "id": "U4AdJUpviH4F",
        "outputId": "605417cc-358a-4dc7-f5bb-81d82560b9aa"
      },
      "execution_count": null,
      "outputs": [
        {
          "output_type": "stream",
          "name": "stdout",
          "text": [
            "max number in given list is :  945\n"
          ]
        }
      ]
    },
    {
      "cell_type": "markdown",
      "source": [
        "# While vs For loop\n",
        "While: Indefinite, For: Definite\n",
        "\n",
        "While: To be used when the number of iterations are unknown. \n",
        "\n",
        "For: To be used when the number of iterations are known."
      ],
      "metadata": {
        "id": "IOl1aGvCVKuW"
      }
    },
    {
      "cell_type": "code",
      "execution_count": null,
      "metadata": {
        "id": "Uwr1tEQBnM6v",
        "outputId": "5c4bffae-a034-45a2-a1f8-47d17926a77b"
      },
      "outputs": [
        {
          "name": "stdout",
          "output_type": "stream",
          "text": [
            "+ \r\n",
            "+ + \r\n",
            "+ + + \r\n",
            "+ + + + \r\n",
            "+ + + + + \r\n",
            "+ + + + + + \r\n",
            "+ + + + + + + \r\n"
          ]
        }
      ],
      "source": [
        "n = 7 \n",
        "for i in range(0 ,n):\n",
        "    for j in range(0 ,i +1):\n",
        "        print(\"+ \" , end = \"\")\n",
        "    print(\"\\r\")\n",
        "    "
      ]
    },
    {
      "cell_type": "code",
      "source": [
        "n = 5\n",
        "\n",
        "for i in range (n,0,-1):\n",
        "  for j in range(0,n-i+1):\n",
        "    print('+ ',end ='')\n",
        "  print()"
      ],
      "metadata": {
        "colab": {
          "base_uri": "https://localhost:8080/"
        },
        "id": "HUA_kWLL5yEO",
        "outputId": "31f68628-26aa-4beb-fc08-1104b99f3f4b"
      },
      "execution_count": null,
      "outputs": [
        {
          "output_type": "stream",
          "name": "stdout",
          "text": [
            "+ \n",
            "+ + \n",
            "+ + + \n",
            "+ + + + \n",
            "+ + + + + \n"
          ]
        }
      ]
    },
    {
      "cell_type": "code",
      "source": [
        "n = 5\n",
        "for i in range(0 ,n):\n",
        "    for j in range(1 ,i +2):\n",
        "        print(j , end = \" \")\n",
        "    print()"
      ],
      "metadata": {
        "colab": {
          "base_uri": "https://localhost:8080/"
        },
        "id": "aB05zaDAG-yL",
        "outputId": "20ce114f-817e-42b1-e256-fb02f6755b3d"
      },
      "execution_count": null,
      "outputs": [
        {
          "output_type": "stream",
          "name": "stdout",
          "text": [
            "1 \n",
            "1 2 \n",
            "1 2 3 \n",
            "1 2 3 4 \n",
            "1 2 3 4 5 \n"
          ]
        }
      ]
    },
    {
      "cell_type": "code",
      "source": [
        "n = 5\n",
        "for i in range(0 ,n):\n",
        "    for j in range(1 ,i +2):\n",
        "        print(i , end = \" \")\n",
        "    print()"
      ],
      "metadata": {
        "colab": {
          "base_uri": "https://localhost:8080/"
        },
        "id": "x6GqRSlTIUhr",
        "outputId": "6b5e41a7-f862-4e62-a4ad-aa3634320035"
      },
      "execution_count": null,
      "outputs": [
        {
          "output_type": "stream",
          "name": "stdout",
          "text": [
            "0 \n",
            "1 1 \n",
            "2 2 2 \n",
            "3 3 3 3 \n",
            "4 4 4 4 4 \n"
          ]
        }
      ]
    },
    {
      "cell_type": "code",
      "source": [
        "n = 5\n",
        "\n",
        "for i in range (n,0,-1):\n",
        "  for j in range(1,n-i+2):\n",
        "    print(j ,end =' ')\n",
        "  print()"
      ],
      "metadata": {
        "colab": {
          "base_uri": "https://localhost:8080/"
        },
        "id": "bpaU1HYIHzJA",
        "outputId": "e0f62c43-d403-4e91-b802-2a93061100a7"
      },
      "execution_count": null,
      "outputs": [
        {
          "output_type": "stream",
          "name": "stdout",
          "text": [
            "1 \n",
            "1 2 \n",
            "1 2 3 \n",
            "1 2 3 4 \n",
            "1 2 3 4 5 \n"
          ]
        }
      ]
    },
    {
      "cell_type": "code",
      "source": [
        "n = 5\n",
        "\n",
        "for i in range (n,0,-1):\n",
        "  for j in range(1,n-i+2):\n",
        "    print(i ,end =' ')\n",
        "  print()"
      ],
      "metadata": {
        "colab": {
          "base_uri": "https://localhost:8080/"
        },
        "id": "JhnWzsMaIbHp",
        "outputId": "9c3b39fc-eb1b-4353-8828-14803a01865a"
      },
      "execution_count": null,
      "outputs": [
        {
          "output_type": "stream",
          "name": "stdout",
          "text": [
            "5 \n",
            "4 4 \n",
            "3 3 3 \n",
            "2 2 2 2 \n",
            "1 1 1 1 1 \n"
          ]
        }
      ]
    },
    {
      "cell_type": "code",
      "source": [],
      "metadata": {
        "id": "UyE-YKi1JiOp"
      },
      "execution_count": null,
      "outputs": []
    },
    {
      "cell_type": "code",
      "source": [
        "n = 5\n",
        "a = 0\n",
        "\n",
        "while a < n :\n",
        "  b = a+1\n",
        "  while b > 0:\n",
        "    print('+', end = ' ')\n",
        "    b = b-1\n",
        "  a = a+1\n",
        "  print()"
      ],
      "metadata": {
        "colab": {
          "base_uri": "https://localhost:8080/"
        },
        "id": "t_O3pHzP8pST",
        "outputId": "0da413d8-2ec8-42f5-eb46-12c4a75f5265"
      },
      "execution_count": null,
      "outputs": [
        {
          "output_type": "stream",
          "name": "stdout",
          "text": [
            "+ \n",
            "+ + \n",
            "+ + + \n",
            "+ + + + \n",
            "+ + + + + \n"
          ]
        }
      ]
    },
    {
      "cell_type": "code",
      "source": [
        "n = 5\n",
        "a = 0\n",
        "\n",
        "while a < n :\n",
        "  b = a+1\n",
        "  while b <= n :\n",
        "    print(b, end = ' ')\n",
        "    b = b+1\n",
        "  a = a+1\n",
        "  print()"
      ],
      "metadata": {
        "colab": {
          "base_uri": "https://localhost:8080/"
        },
        "id": "pr07XsW5H9r8",
        "outputId": "3fb22fda-fdb2-4f54-ae3c-760f50c608ac"
      },
      "execution_count": null,
      "outputs": [
        {
          "output_type": "stream",
          "name": "stdout",
          "text": [
            "1 2 3 4 5 \n",
            "2 3 4 5 \n",
            "3 4 5 \n",
            "4 5 \n",
            "5 \n"
          ]
        }
      ]
    },
    {
      "cell_type": "code",
      "source": [
        "n= 5\n",
        "a = 5\n",
        "\n",
        "while a > 0 :\n",
        "  b = n-a+1\n",
        "  while b >0 :\n",
        "    print('+', end = ' ')\n",
        "    b = b-1\n",
        "  a = a-1\n",
        "  print()"
      ],
      "metadata": {
        "colab": {
          "base_uri": "https://localhost:8080/"
        },
        "id": "skvMTlLj_r0w",
        "outputId": "d36f8638-b7fd-437d-a04d-92bbaa0706a0"
      },
      "execution_count": null,
      "outputs": [
        {
          "output_type": "stream",
          "name": "stdout",
          "text": [
            "+ \n",
            "+ + \n",
            "+ + + \n",
            "+ + + + \n",
            "+ + + + + \n"
          ]
        }
      ]
    },
    {
      "cell_type": "code",
      "source": [
        "n= 5\n",
        "a = 5\n",
        "\n",
        "while a > 0 :\n",
        "  b = n-a+1\n",
        "  while b >0 :\n",
        "    print(b, end = ' ')\n",
        "    b = b-1\n",
        "  a = a-1\n",
        "  print()"
      ],
      "metadata": {
        "colab": {
          "base_uri": "https://localhost:8080/"
        },
        "id": "u-0SELxPG8FP",
        "outputId": "dbe503e1-668b-4b11-b412-b68fc367803a"
      },
      "execution_count": null,
      "outputs": [
        {
          "output_type": "stream",
          "name": "stdout",
          "text": [
            "1 \n",
            "2 1 \n",
            "3 2 1 \n",
            "4 3 2 1 \n",
            "5 4 3 2 1 \n"
          ]
        }
      ]
    },
    {
      "cell_type": "code",
      "source": [
        "n = 5\n",
        "for i in range(n,0,-1):\n",
        "    for j in range(0 ,i ):\n",
        "        print(\"+ \" , end = \"\")\n",
        "    print(\"\\r\")"
      ],
      "metadata": {
        "colab": {
          "base_uri": "https://localhost:8080/"
        },
        "id": "3kpABJJtpz4j",
        "outputId": "d6b4dddb-46c6-4c49-a090-1d37c180af63"
      },
      "execution_count": null,
      "outputs": [
        {
          "output_type": "stream",
          "name": "stdout",
          "text": [
            "+ + + + + \r\n",
            "+ + + + \r\n",
            "+ + + \r\n",
            "+ + \r\n",
            "+ \r\n"
          ]
        }
      ]
    },
    {
      "cell_type": "code",
      "source": [
        "n = 5\n",
        "a = 0\n",
        "\n",
        "while a <n :\n",
        "  b = n-a \n",
        "  while b>0 :\n",
        "    print('+', end = ' ')\n",
        "    b = b-1\n",
        "  a= a+1\n",
        "  print()"
      ],
      "metadata": {
        "colab": {
          "base_uri": "https://localhost:8080/"
        },
        "id": "DmTP19mk-4sI",
        "outputId": "6f05630f-f918-4d5f-bee8-c7818f12d017"
      },
      "execution_count": null,
      "outputs": [
        {
          "output_type": "stream",
          "name": "stdout",
          "text": [
            "+ + + + + \n",
            "+ + + + \n",
            "+ + + \n",
            "+ + \n",
            "+ \n"
          ]
        }
      ]
    },
    {
      "cell_type": "code",
      "source": [
        "n = 5\n",
        "a = 5\n",
        "\n",
        "while a >0 :\n",
        "  b = a \n",
        "  while b > 0 :\n",
        "    print('+', end = ' ')\n",
        "    b = b-1\n",
        "  a = a-1\n",
        "  print()"
      ],
      "metadata": {
        "colab": {
          "base_uri": "https://localhost:8080/"
        },
        "id": "vuGACFrY-4_Y",
        "outputId": "c512ae84-b7e6-4fcf-90e7-2b4be64cd281"
      },
      "execution_count": null,
      "outputs": [
        {
          "output_type": "stream",
          "name": "stdout",
          "text": [
            "+ + + + + \n",
            "+ + + + \n",
            "+ + + \n",
            "+ + \n",
            "+ \n"
          ]
        }
      ]
    },
    {
      "cell_type": "code",
      "source": [
        "n = 5\n",
        "for i in range (0,n):\n",
        "  for j in range (0,n-i):\n",
        "    print('+ ',end ='')\n",
        "  print()"
      ],
      "metadata": {
        "colab": {
          "base_uri": "https://localhost:8080/"
        },
        "id": "xnGHOhk86Ky-",
        "outputId": "de4ff95b-54e7-4469-bc9b-5416fda40657"
      },
      "execution_count": null,
      "outputs": [
        {
          "output_type": "stream",
          "name": "stdout",
          "text": [
            "+ + + + + \n",
            "+ + + + \n",
            "+ + + \n",
            "+ + \n",
            "+ \n"
          ]
        }
      ]
    },
    {
      "cell_type": "code",
      "source": [
        "n = 5\n",
        "for i in range(0 ,n):\n",
        "    for j in range(0 ,i +1):\n",
        "        print(\"+ \" , end = \"\")\n",
        "    print(\"\\r\")\n",
        "\n",
        "\n",
        "for i in range (0,n):\n",
        "  for j in range (1,n-i):\n",
        "    print('+ ',end ='')\n",
        "  print()"
      ],
      "metadata": {
        "colab": {
          "base_uri": "https://localhost:8080/"
        },
        "id": "cx6X7lOfJs3p",
        "outputId": "61341a40-74ef-41ee-dcd5-305c6d774d6f"
      },
      "execution_count": null,
      "outputs": [
        {
          "output_type": "stream",
          "name": "stdout",
          "text": [
            "+ \r\n",
            "+ + \r\n",
            "+ + + \r\n",
            "+ + + + \r\n",
            "+ + + + + \r\n",
            "+ + + + \n",
            "+ + + \n",
            "+ + \n",
            "+ \n",
            "\n"
          ]
        }
      ]
    },
    {
      "cell_type": "code",
      "source": [
        "n = 5\n",
        "\n",
        "for i in range (0,n):\n",
        "  for j in range (0,n-i):\n",
        "    print('+ ',end ='')\n",
        "  print()\n",
        "\n",
        "for i in range(0 ,n):\n",
        "    for j in range(0 ,i +2):\n",
        "        print(\"+ \" , end = \"\")\n",
        "    print(\"\\r\")\n"
      ],
      "metadata": {
        "colab": {
          "base_uri": "https://localhost:8080/"
        },
        "id": "0Kpz0Oi8JtDS",
        "outputId": "14980027-6b98-47ed-ceb2-19d3c28fc6ca"
      },
      "execution_count": null,
      "outputs": [
        {
          "output_type": "stream",
          "name": "stdout",
          "text": [
            "+ + + + + \n",
            "+ + + + \n",
            "+ + + \n",
            "+ + \n",
            "+ \n",
            "+ + \r\n",
            "+ + + \r\n",
            "+ + + + \r\n",
            "+ + + + + \r\n",
            "+ + + + + + \r\n"
          ]
        }
      ]
    },
    {
      "cell_type": "code",
      "source": [],
      "metadata": {
        "id": "KwcsOIM-JtOf"
      },
      "execution_count": null,
      "outputs": []
    },
    {
      "cell_type": "code",
      "source": [
        "n = 5\n",
        "for i in range(n,0,-1):\n",
        "    for j in range(0 ,i-1 ):\n",
        "        print(' ' , end = \"\")\n",
        "\n",
        "    for k in range (0,n-i+1):\n",
        "          print('+', end = ' ')\n",
        "    print()\n",
        "\n"
      ],
      "metadata": {
        "colab": {
          "base_uri": "https://localhost:8080/"
        },
        "id": "m9IwZVe4p0Hh",
        "outputId": "eacab143-0782-4a60-cb19-92a620aa10a7"
      },
      "execution_count": null,
      "outputs": [
        {
          "output_type": "stream",
          "name": "stdout",
          "text": [
            "    + \n",
            "   + + \n",
            "  + + + \n",
            " + + + + \n",
            "+ + + + + \n"
          ]
        }
      ]
    },
    {
      "cell_type": "code",
      "source": [
        "n= int(input('give us number...'))\n",
        "\n",
        "for i in range(0,n):\n",
        "  for j in range(0,n-i-1):\n",
        "    print(' ',end = '')\n",
        "\n",
        "  for k in range (0,i+1):\n",
        "    print('+',end = ' ')\n",
        "  print()"
      ],
      "metadata": {
        "colab": {
          "base_uri": "https://localhost:8080/"
        },
        "id": "FyL0p9GQ0_K6",
        "outputId": "1e8e59e0-edf5-4dcd-8b03-83d7d520ce61"
      },
      "execution_count": null,
      "outputs": [
        {
          "output_type": "stream",
          "name": "stdout",
          "text": [
            "give us number...5\n",
            "    + \n",
            "   + + \n",
            "  + + + \n",
            " + + + + \n",
            "+ + + + + \n"
          ]
        }
      ]
    },
    {
      "cell_type": "code",
      "source": [
        "n = 5\n",
        "a = 0\n",
        "\n",
        "while a < n :\n",
        "  b = n-a\n",
        "  c = a\n",
        "  while b >0 :\n",
        "        print('  ', end = '')\n",
        "        b= b-1\n",
        "  while c >= 0 :\n",
        "    print('+', end = ' ')\n",
        "    c = c-1\n",
        "\n",
        "  a = a+1\n",
        "  print()"
      ],
      "metadata": {
        "colab": {
          "base_uri": "https://localhost:8080/"
        },
        "id": "5BmrM9nvCE6J",
        "outputId": "c3998ec1-2877-48cf-b199-2a4411fe1dae"
      },
      "execution_count": null,
      "outputs": [
        {
          "output_type": "stream",
          "name": "stdout",
          "text": [
            "          + \n",
            "        + + \n",
            "      + + + \n",
            "    + + + + \n",
            "  + + + + + \n"
          ]
        }
      ]
    },
    {
      "cell_type": "code",
      "source": [
        "n = 5\n",
        "a = 5\n",
        "\n",
        "while a > 0:\n",
        "  b = a\n",
        "  c = n-a\n",
        "  while b > 0:\n",
        "    print('  ',end = '')\n",
        "    b = b-1\n",
        "  while c >= 0 :\n",
        "    print('+', end = ' ')\n",
        "    c = c-1\n",
        "\n",
        "  a = a-1\n",
        "  print()"
      ],
      "metadata": {
        "colab": {
          "base_uri": "https://localhost:8080/"
        },
        "id": "91_olhPsD84F",
        "outputId": "09904681-22c7-4a07-cdc8-1ee0d722f442"
      },
      "execution_count": null,
      "outputs": [
        {
          "output_type": "stream",
          "name": "stdout",
          "text": [
            "          + \n",
            "        + + \n",
            "      + + + \n",
            "    + + + + \n",
            "  + + + + + \n"
          ]
        }
      ]
    },
    {
      "cell_type": "code",
      "source": [
        "n = 5\n",
        "for i in range(n):\n",
        "  for j in range(i+1):\n",
        "    print('  ',end = '')\n",
        "  \n",
        "  for k in range(0,n-i):\n",
        "    print('+', end  =' ')\n",
        "  print()"
      ],
      "metadata": {
        "colab": {
          "base_uri": "https://localhost:8080/"
        },
        "id": "0mEajcih4K67",
        "outputId": "44d54cf4-a0f7-4ffd-d3ee-1c565c74cfe0"
      },
      "execution_count": null,
      "outputs": [
        {
          "output_type": "stream",
          "name": "stdout",
          "text": [
            "  + + + + + \n",
            "    + + + + \n",
            "      + + + \n",
            "        + + \n",
            "          + \n"
          ]
        }
      ]
    },
    {
      "cell_type": "code",
      "source": [
        "n = 5\n",
        "\n",
        "for i in range(n,0,-1):\n",
        "  for j in range(0,n-i+1):\n",
        "    print('  ', end = '')\n",
        "  for k in range (0,i):\n",
        "    print('+', end = ' ')\n",
        "  print()"
      ],
      "metadata": {
        "colab": {
          "base_uri": "https://localhost:8080/"
        },
        "id": "eVPKudPI4LLD",
        "outputId": "ac9975ea-0209-461f-9a66-b4001aed1561"
      },
      "execution_count": null,
      "outputs": [
        {
          "output_type": "stream",
          "name": "stdout",
          "text": [
            "  + + + + + \n",
            "    + + + + \n",
            "      + + + \n",
            "        + + \n",
            "          + \n"
          ]
        }
      ]
    },
    {
      "cell_type": "code",
      "execution_count": null,
      "metadata": {
        "colab": {
          "base_uri": "https://localhost:8080/"
        },
        "id": "o2kzpSrZnM6w",
        "outputId": "ec13d9bc-3417-437b-df40-a5dc01a79591"
      },
      "outputs": [
        {
          "output_type": "stream",
          "name": "stdout",
          "text": [
            "    + + + + + \n",
            "      + + + + \n",
            "        + + + \n",
            "          + + \n",
            "            + \n"
          ]
        }
      ],
      "source": [
        "n = 5\n",
        "a = 0\n",
        "\n",
        "while a <n :\n",
        "  b = a+1\n",
        "  c = n-a\n",
        "  while b >= 0:\n",
        "    print('  ', end = '')\n",
        "    b = b-1\n",
        "\n",
        "  while c >0 :\n",
        "    print('+',end = ' ')\n",
        "    c = c-1\n",
        "  \n",
        "\n",
        "\n",
        "\n",
        "  a = a+1\n",
        "  print()"
      ]
    },
    {
      "cell_type": "code",
      "execution_count": null,
      "metadata": {
        "id": "mtg4lxKXnM6w",
        "outputId": "153b8c01-6797-478a-ceb9-5f2d08d33130"
      },
      "outputs": [
        {
          "name": "stdout",
          "output_type": "stream",
          "text": [
            "Enter number of rows required: 7\n",
            "*************\n",
            " ***********\n",
            "  *********\n",
            "   *******\n",
            "    *****\n",
            "     ***\n",
            "      *\n"
          ]
        }
      ],
      "source": [
        "n = int(input('Enter number of rows required: '))\n",
        "\n",
        "for i in range(n,0,-1):\n",
        "    for j in range(n-i):\n",
        "        print(' ', end='') \n",
        "    \n",
        "    for j in range(2*i-1):\n",
        "        print('*',end='') \n",
        "    print()\n"
      ]
    },
    {
      "cell_type": "code",
      "execution_count": null,
      "metadata": {
        "colab": {
          "base_uri": "https://localhost:8080/"
        },
        "id": "w8AuPPi_nM6w",
        "outputId": "d495ef99-d06f-4d66-95e3-6e2002bbc3d6"
      },
      "outputs": [
        {
          "output_type": "stream",
          "name": "stdout",
          "text": [
            "        * * * * * * \n",
            "         * * * * * \n",
            "          * * * * \n",
            "           * * * \n",
            "            * * \n",
            "             * \n"
          ]
        }
      ],
      "source": [
        "num = 5\n",
        "m = 2 * num - 2\n",
        "for i in range(num, -1, -1):\n",
        "    for j in range(m, 0, -1):\n",
        "        print('',end=\" \")\n",
        "    m = m + 1\n",
        "    for j in range(0, i + 1):\n",
        "        print(\"*\", end=\" \")\n",
        "    print(\"\")\n"
      ]
    },
    {
      "cell_type": "code",
      "execution_count": null,
      "metadata": {
        "id": "0FmeJyIjnM6x",
        "outputId": "5481c42d-d066-443b-a8e7-8ce3655aa031"
      },
      "outputs": [
        {
          "name": "stdout",
          "output_type": "stream",
          "text": [
            "        * \n",
            "       * * \n",
            "      * * * \n",
            "     * * * * \n",
            "    * * * * * \n",
            "   * * * * * * \n",
            "  * * * * * * * \n",
            " * * * * * * * * \n",
            "* * * * * * * * * \n"
          ]
        }
      ],
      "source": [
        "n =9\n",
        "i=0\n",
        "while i < n :\n",
        "    print(' '*(n-i-1) + '* '*(i+1))\n",
        "    i +=1\n"
      ]
    },
    {
      "cell_type": "code",
      "execution_count": null,
      "metadata": {
        "id": "DQo723RxnM6x",
        "outputId": "d3910b15-6be8-4e7e-d48d-64d4d7475c0d"
      },
      "outputs": [
        {
          "name": "stdout",
          "output_type": "stream",
          "text": [
            "    *\n",
            "   ***\n",
            "  *****\n",
            " *******\n",
            "*********\n"
          ]
        }
      ],
      "source": [
        "i=1\n",
        "k=1 #for printing starts with the increament of 2\n",
        "\n",
        "while i<=5:\n",
        "    b=1\n",
        "    while b<=5-i:\n",
        "        print(' ',end='')\n",
        "        b=b+1\n",
        "        \n",
        "    j=1\n",
        "    while j<=k:\n",
        "        print('*', end='')\n",
        "        j=j+1\n",
        "    print()\n",
        "    \n",
        "    k=k+2\n",
        "    \n",
        "    i=i+1\n"
      ]
    },
    {
      "cell_type": "code",
      "execution_count": null,
      "metadata": {
        "id": "bFwxNA0hnM6x",
        "outputId": "e7f36768-bc37-4823-fee7-78aca938668b"
      },
      "outputs": [
        {
          "name": "stdout",
          "output_type": "stream",
          "text": [
            "Please enter the amount of rows: 7\n",
            "      *\n",
            "     ***\n",
            "    *****\n",
            "   *******\n",
            "  *********\n",
            " ***********\n",
            "*************\n",
            "**iNeuron-FSDS**\n"
          ]
        }
      ],
      "source": [
        "userInput = int(input(\"Please enter the amount of rows: \"))\n",
        "\n",
        "row = 0\n",
        "while(row < userInput):\n",
        "    row += 1\n",
        "    spaces = userInput - row\n",
        "\n",
        "    spaces_counter = 0\n",
        "    while(spaces_counter < spaces):\n",
        "        print(\" \", end='')\n",
        "        spaces_counter += 1\n",
        "\n",
        "    num_stars = 2*row-1\n",
        "    while(num_stars > 0):\n",
        "        print(\"*\", end='')\n",
        "        num_stars -= 1\n",
        "\n",
        "    print()\n",
        "print(\"**iNeuron-FSDS**\")\n"
      ]
    },
    {
      "cell_type": "code",
      "execution_count": null,
      "metadata": {
        "id": "dSjh74X-nM6y"
      },
      "outputs": [],
      "source": [
        "l = list()"
      ]
    },
    {
      "cell_type": "code",
      "execution_count": null,
      "metadata": {
        "id": "gj-nfcv1nM6y"
      },
      "outputs": [],
      "source": [
        "name = \"sudh\"\n",
        "phno = 543535345\n",
        "addr = \"sdfsff\"\n",
        "\n",
        "name , phno , addr = \"sudh \" , 54353453,\"fgfd\""
      ]
    },
    {
      "cell_type": "code",
      "execution_count": null,
      "metadata": {
        "id": "5aiMpqasnM6y",
        "outputId": "fd427c02-5160-428a-b287-b2d041bbddfb"
      },
      "outputs": [
        {
          "data": {
            "text/plain": [
              "7"
            ]
          },
          "execution_count": 122,
          "metadata": {},
          "output_type": "execute_result"
        }
      ],
      "source": [
        "l = [\"sudh\" , 34535,\"sfsfsafa\", True, 45+8j , [3,5,6,\"dfg\"],6.787]\n",
        "\n",
        "len(l)"
      ]
    },
    {
      "cell_type": "code",
      "execution_count": null,
      "metadata": {
        "id": "p-hDa5BtnM6y",
        "outputId": "0fe2ce9e-6ced-4f8f-f561-2cfde8128d23"
      },
      "outputs": [
        {
          "data": {
            "text/plain": [
              "range(0, 10)"
            ]
          },
          "execution_count": 121,
          "metadata": {},
          "output_type": "execute_result"
        }
      ],
      "source": [
        "range(10)"
      ]
    },
    {
      "cell_type": "code",
      "execution_count": null,
      "metadata": {
        "id": "bvIiGLj0nM6y",
        "outputId": "8c8cd8f7-a2ce-4d02-c159-74e9a4663716"
      },
      "outputs": [
        {
          "data": {
            "text/plain": [
              "[0, 1, 2, 3, 4, 5, 6, 7, 8, 9]"
            ]
          },
          "execution_count": 119,
          "metadata": {},
          "output_type": "execute_result"
        }
      ],
      "source": [
        "list(range(10))"
      ]
    },
    {
      "cell_type": "code",
      "execution_count": null,
      "metadata": {
        "id": "a-gm68PVnM6z",
        "outputId": "7c39faf7-1619-43b6-8236-6536a0fd4867"
      },
      "outputs": [
        {
          "name": "stdout",
          "output_type": "stream",
          "text": [
            "4\n",
            "5\n",
            "6\n",
            "7\n",
            "8\n",
            "9\n"
          ]
        }
      ],
      "source": [
        "for  i in range(4,10):\n",
        "    print(i)"
      ]
    },
    {
      "cell_type": "code",
      "execution_count": null,
      "metadata": {
        "id": "HcNQoRXznM6z",
        "outputId": "428b82a4-1de5-44a4-cafd-b6545fd703dd"
      },
      "outputs": [
        {
          "data": {
            "text/plain": [
              "[]"
            ]
          },
          "execution_count": 114,
          "metadata": {},
          "output_type": "execute_result"
        }
      ],
      "source": [
        "l[80 :3:1]"
      ]
    },
    {
      "cell_type": "code",
      "execution_count": null,
      "metadata": {
        "id": "DI0itZG6nM6z",
        "outputId": "c0754324-5912-4327-8dd8-f6edd93682ca"
      },
      "outputs": [
        {
          "name": "stdout",
          "output_type": "stream",
          "text": [
            "14\n",
            "<class 'str'>\n"
          ]
        }
      ],
      "source": [
        "for i in l :\n",
        "    if type(i) == list:\n",
        "        n = 0\n",
        "        for  j in i :\n",
        "            if type(j) == int :\n",
        "                n = n + j\n",
        "        print(n)\n",
        "                \n",
        "        print(type(j))"
      ]
    },
    {
      "cell_type": "code",
      "execution_count": null,
      "metadata": {
        "id": "TNCUdyZ5nM6z",
        "outputId": "97deb9f9-9e18-4cc4-f028-37cb3ab073a0"
      },
      "outputs": [
        {
          "data": {
            "text/plain": [
              "list"
            ]
          },
          "execution_count": 88,
          "metadata": {},
          "output_type": "execute_result"
        }
      ],
      "source": [
        "type(l)"
      ]
    },
    {
      "cell_type": "code",
      "execution_count": null,
      "metadata": {
        "id": "rg_9f3pOnM6z",
        "outputId": "7bffe18b-b25b-48c3-a17f-996ac5bf4c66"
      },
      "outputs": [
        {
          "data": {
            "text/plain": [
              "list"
            ]
          },
          "execution_count": 94,
          "metadata": {},
          "output_type": "execute_result"
        }
      ],
      "source": [
        "l1 = []\n",
        "type(l1)"
      ]
    },
    {
      "cell_type": "code",
      "execution_count": null,
      "metadata": {
        "id": "LClGyHUEnM6z",
        "outputId": "7ab83511-73b9-460d-b24b-3faa492a1cf4"
      },
      "outputs": [
        {
          "data": {
            "text/plain": [
              "list"
            ]
          },
          "execution_count": 95,
          "metadata": {},
          "output_type": "execute_result"
        }
      ],
      "source": [
        "l2 = list()\n",
        "type(l2)"
      ]
    },
    {
      "cell_type": "code",
      "execution_count": null,
      "metadata": {
        "id": "-wm4P6ilnM60",
        "outputId": "931a21f1-b960-4f01-935d-0c2667c6d8a1"
      },
      "outputs": [
        {
          "data": {
            "text/plain": [
              "list"
            ]
          },
          "execution_count": 90,
          "metadata": {},
          "output_type": "execute_result"
        }
      ],
      "source": [
        "type(l1)"
      ]
    },
    {
      "cell_type": "code",
      "execution_count": null,
      "metadata": {
        "id": "F01Gtj--nM60",
        "outputId": "0aa55b1b-5cea-405a-97f5-2c70476b3776"
      },
      "outputs": [
        {
          "data": {
            "text/plain": [
              "'sudh'"
            ]
          },
          "execution_count": 85,
          "metadata": {},
          "output_type": "execute_result"
        }
      ],
      "source": [
        "l[0]"
      ]
    },
    {
      "cell_type": "code",
      "execution_count": null,
      "metadata": {
        "id": "w0htlA4CnM60",
        "outputId": "e19f9bfe-3683-4f13-c053-a756d3b66685"
      },
      "outputs": [
        {
          "data": {
            "text/plain": [
              "34535"
            ]
          },
          "execution_count": 86,
          "metadata": {},
          "output_type": "execute_result"
        }
      ],
      "source": [
        "l[1]"
      ]
    },
    {
      "cell_type": "code",
      "execution_count": null,
      "metadata": {
        "id": "MdIJ6AqYnM60",
        "outputId": "1b6cc4f5-ba77-4674-b0ee-afd23dde060c"
      },
      "outputs": [
        {
          "data": {
            "text/plain": [
              "'sfsfsafa'"
            ]
          },
          "execution_count": 87,
          "metadata": {},
          "output_type": "execute_result"
        }
      ],
      "source": [
        "l[2]"
      ]
    },
    {
      "cell_type": "code",
      "execution_count": null,
      "metadata": {
        "id": "Km14yzqcnM60",
        "colab": {
          "base_uri": "https://localhost:8080/"
        },
        "outputId": "5f2b9404-fac0-4601-cffc-f5503c4655df"
      },
      "outputs": [
        {
          "output_type": "stream",
          "name": "stdout",
          "text": [
            "                  *   \n",
            "                *   *     \n",
            "              *   *   *       \n",
            "            *   *   *   *         \n",
            "          *   *   *   *   *           \n",
            "        *   *   *   *   *   *             \n",
            "      *   *   *   *   *   *   *               \n",
            "    *   *   *   *   *   *   *   *                 \n",
            "  *   *   *   *   *   *   *   *   *                   \n",
            "*   *   *   *   *   *   *   *   *   *                     \n"
          ]
        }
      ],
      "source": [
        "import math\n",
        "rows = 10\n",
        "\n",
        "bottom_line_stars = rows\n",
        "bottom_line_space = rows - 1\n",
        "\n",
        "start = math.floor((bottom_line_stars + bottom_line_space) / 2)\n",
        "\n",
        "for i in range(1, (rows + 1)):\n",
        "  for j in range(0, (rows)):\n",
        "    if j == start:\n",
        "      for k in range(i):\n",
        "        print(\"*\", end = \" \")\n",
        "        print(\" \", end = \" \")\n",
        "    else:\n",
        "      print(\" \", end = \" \")\n",
        "  start -= 1\n",
        "  print(end = \"\\n\")"
      ]
    },
    {
      "cell_type": "code",
      "source": [],
      "metadata": {
        "id": "Yv2NsIZAWWLo"
      },
      "execution_count": null,
      "outputs": []
    }
  ],
  "metadata": {
    "kernelspec": {
      "display_name": "Python 3",
      "language": "python",
      "name": "python3"
    },
    "language_info": {
      "codemirror_mode": {
        "name": "ipython",
        "version": 3
      },
      "file_extension": ".py",
      "mimetype": "text/x-python",
      "name": "python",
      "nbconvert_exporter": "python",
      "pygments_lexer": "ipython3",
      "version": "3.8.3"
    },
    "colab": {
      "provenance": []
    }
  },
  "nbformat": 4,
  "nbformat_minor": 0
}