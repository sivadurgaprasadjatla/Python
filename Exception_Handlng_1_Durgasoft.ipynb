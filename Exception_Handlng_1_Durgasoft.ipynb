{
  "nbformat": 4,
  "nbformat_minor": 0,
  "metadata": {
    "colab": {
      "provenance": [],
      "authorship_tag": "ABX9TyPv9dXfRFqDR1JMzopuWIxh",
      "include_colab_link": true
    },
    "kernelspec": {
      "name": "python3",
      "display_name": "Python 3"
    },
    "language_info": {
      "name": "python"
    }
  },
  "cells": [
    {
      "cell_type": "markdown",
      "metadata": {
        "id": "view-in-github",
        "colab_type": "text"
      },
      "source": [
        "<a href=\"https://colab.research.google.com/github/sivadurgaprasadjatla/Python/blob/python-basic-assignment-1/Exception_Handlng_1_Durgasoft.ipynb\" target=\"_parent\"><img src=\"https://colab.research.google.com/assets/colab-badge.svg\" alt=\"Open In Colab\"/></a>"
      ]
    },
    {
      "cell_type": "markdown",
      "source": [
        "There are two types of errors in any coding\n",
        "\n",
        "1) Syntactical Error\n",
        "\n",
        "2) Runnig error"
      ],
      "metadata": {
        "id": "6PHbQ5jnFGsg"
      }
    },
    {
      "cell_type": "markdown",
      "source": [
        " #syntactical Errors :\n",
        " \n",
        "\n",
        "*   the errors which occurs because of invalid syntax such type of errors are considered as syntax Errors. *   programmer is responsibe for correct these errors . Once all syntactical errors are corrected, then only programme excecution wil start\n"
      ],
      "metadata": {
        "id": "CnvNnC2vFPFf"
      }
    },
    {
      "cell_type": "code",
      "source": [
        "print('hello world'"
      ],
      "metadata": {
        "colab": {
          "base_uri": "https://localhost:8080/",
          "height": 131
        },
        "id": "TpPYgw0HAZSe",
        "outputId": "afb2780b-60dc-4fe8-e937-1ab2508af897"
      },
      "execution_count": null,
      "outputs": [
        {
          "output_type": "error",
          "ename": "SyntaxError",
          "evalue": "ignored",
          "traceback": [
            "\u001b[0;36m  File \u001b[0;32m\"<ipython-input-18-5d0b1ccb3532>\"\u001b[0;36m, line \u001b[0;32m5\u001b[0m\n\u001b[0;31m    print('hello world'\u001b[0m\n\u001b[0m                       ^\u001b[0m\n\u001b[0;31mSyntaxError\u001b[0m\u001b[0;31m:\u001b[0m unexpected EOF while parsing\n"
          ]
        }
      ]
    },
    {
      "cell_type": "code",
      "source": [
        "x = 10\n",
        "\n",
        "if x ==10\n",
        "  print('x value is 10')\n"
      ],
      "metadata": {
        "colab": {
          "base_uri": "https://localhost:8080/",
          "height": 131
        },
        "id": "mmPyF3PpAgqK",
        "outputId": "df349667-71e1-4906-a36e-cd1410d1361f"
      },
      "execution_count": null,
      "outputs": [
        {
          "output_type": "error",
          "ename": "SyntaxError",
          "evalue": "ignored",
          "traceback": [
            "\u001b[0;36m  File \u001b[0;32m\"<ipython-input-3-5acd2c405b36>\"\u001b[0;36m, line \u001b[0;32m3\u001b[0m\n\u001b[0;31m    if x ==10\u001b[0m\n\u001b[0m             ^\u001b[0m\n\u001b[0;31mSyntaxError\u001b[0m\u001b[0;31m:\u001b[0m invalid syntax\n"
          ]
        }
      ]
    },
    {
      "cell_type": "markdown",
      "source": [
        " #Running Errors / Exceptions :\n",
        "\n",
        "\n",
        "while excecuting the programme , at run time if something goes wrong because of end user input, memoryproblems,programme logic etc, then we will get Run time Errors.\n",
        "\n",
        "an unwanted and unexpected event that disturbs normal flow of programme is called Exception."
      ],
      "metadata": {
        "id": "YOpE6kpfE-p2"
      }
    },
    {
      "cell_type": "code",
      "source": [],
      "metadata": {
        "id": "R3sYpIRoE85E"
      },
      "execution_count": null,
      "outputs": []
    },
    {
      "cell_type": "code",
      "source": [
        "x = int(input('enter first value'))\n",
        "y = int(input('enter second value'))\n",
        "print('the value is', x/y)"
      ],
      "metadata": {
        "colab": {
          "base_uri": "https://localhost:8080/"
        },
        "id": "aAy4mbuyBNzj",
        "outputId": "761112b0-91e3-41a1-dcad-e77061c31369"
      },
      "execution_count": null,
      "outputs": [
        {
          "output_type": "stream",
          "name": "stdout",
          "text": [
            "enter first value10\n",
            "enter second value2\n",
            "the value is 5.0\n"
          ]
        }
      ]
    },
    {
      "cell_type": "code",
      "source": [
        "x = int(input('enter first value'))\n",
        "y = int(input('enter second value'))\n",
        "print('the value is', x/y)\n",
        "\n",
        "#if we end user take 0 as input into y. the value is infinty then we will get error in console.\n",
        "# here i will get 'zeroDivisionError'"
      ],
      "metadata": {
        "colab": {
          "base_uri": "https://localhost:8080/",
          "height": 270
        },
        "id": "ibkjY2kJBmy3",
        "outputId": "8e7973f0-5172-4e06-a42a-8ae21475b445"
      },
      "execution_count": null,
      "outputs": [
        {
          "name": "stdout",
          "output_type": "stream",
          "text": [
            "enter first value10\n",
            "enter second value0\n"
          ]
        },
        {
          "output_type": "error",
          "ename": "ZeroDivisionError",
          "evalue": "ignored",
          "traceback": [
            "\u001b[0;31m---------------------------------------------------------------------------\u001b[0m",
            "\u001b[0;31mZeroDivisionError\u001b[0m                         Traceback (most recent call last)",
            "\u001b[0;32m<ipython-input-11-a5e6df300281>\u001b[0m in \u001b[0;36m<module>\u001b[0;34m\u001b[0m\n\u001b[1;32m      1\u001b[0m \u001b[0mx\u001b[0m \u001b[0;34m=\u001b[0m \u001b[0mint\u001b[0m\u001b[0;34m(\u001b[0m\u001b[0minput\u001b[0m\u001b[0;34m(\u001b[0m\u001b[0;34m'enter first value'\u001b[0m\u001b[0;34m)\u001b[0m\u001b[0;34m)\u001b[0m\u001b[0;34m\u001b[0m\u001b[0;34m\u001b[0m\u001b[0m\n\u001b[1;32m      2\u001b[0m \u001b[0my\u001b[0m \u001b[0;34m=\u001b[0m \u001b[0mint\u001b[0m\u001b[0;34m(\u001b[0m\u001b[0minput\u001b[0m\u001b[0;34m(\u001b[0m\u001b[0;34m'enter second value'\u001b[0m\u001b[0;34m)\u001b[0m\u001b[0;34m)\u001b[0m\u001b[0;34m\u001b[0m\u001b[0;34m\u001b[0m\u001b[0m\n\u001b[0;32m----> 3\u001b[0;31m \u001b[0mprint\u001b[0m\u001b[0;34m(\u001b[0m\u001b[0;34m'the value is'\u001b[0m\u001b[0;34m,\u001b[0m \u001b[0mx\u001b[0m\u001b[0;34m/\u001b[0m\u001b[0my\u001b[0m\u001b[0;34m)\u001b[0m\u001b[0;34m\u001b[0m\u001b[0;34m\u001b[0m\u001b[0m\n\u001b[0m\u001b[1;32m      4\u001b[0m \u001b[0;34m\u001b[0m\u001b[0m\n\u001b[1;32m      5\u001b[0m \u001b[0;31m#if we end user take 0 as input into y. the value is infinty then we will get error in console.\u001b[0m\u001b[0;34m\u001b[0m\u001b[0;34m\u001b[0m\u001b[0;34m\u001b[0m\u001b[0m\n",
            "\u001b[0;31mZeroDivisionError\u001b[0m: division by zero"
          ]
        }
      ]
    },
    {
      "cell_type": "code",
      "source": [
        "f = open('siva.txt')\n",
        "print(f)\n",
        "\n",
        "# here I am trying to open the text file names 'siva.txt' and trying to print the data in that file.\n",
        "# if there is no 'siva.txt' file in my directory then i will get 'file not found error"
      ],
      "metadata": {
        "colab": {
          "base_uri": "https://localhost:8080/",
          "height": 236
        },
        "id": "3HSpg2a-BqZM",
        "outputId": "7282ed21-3929-40ab-97bc-2c1c575828a0"
      },
      "execution_count": null,
      "outputs": [
        {
          "output_type": "error",
          "ename": "FileNotFoundError",
          "evalue": "ignored",
          "traceback": [
            "\u001b[0;31m---------------------------------------------------------------------------\u001b[0m",
            "\u001b[0;31mFileNotFoundError\u001b[0m                         Traceback (most recent call last)",
            "\u001b[0;32m<ipython-input-10-4969297f0d0c>\u001b[0m in \u001b[0;36m<module>\u001b[0;34m\u001b[0m\n\u001b[0;32m----> 1\u001b[0;31m \u001b[0mf\u001b[0m \u001b[0;34m=\u001b[0m \u001b[0mopen\u001b[0m\u001b[0;34m(\u001b[0m\u001b[0;34m'siva.txt'\u001b[0m\u001b[0;34m)\u001b[0m\u001b[0;34m\u001b[0m\u001b[0;34m\u001b[0m\u001b[0m\n\u001b[0m\u001b[1;32m      2\u001b[0m \u001b[0mprint\u001b[0m\u001b[0;34m(\u001b[0m\u001b[0mf\u001b[0m\u001b[0;34m)\u001b[0m\u001b[0;34m\u001b[0m\u001b[0;34m\u001b[0m\u001b[0m\n\u001b[1;32m      3\u001b[0m \u001b[0;34m\u001b[0m\u001b[0m\n\u001b[1;32m      4\u001b[0m \u001b[0;31m# here I am trying to open the text file names 'siva.txt' and trying to print the data in that file.\u001b[0m\u001b[0;34m\u001b[0m\u001b[0;34m\u001b[0m\u001b[0;34m\u001b[0m\u001b[0m\n\u001b[1;32m      5\u001b[0m \u001b[0;31m# if there is no 'siva.txt' file in my directory then i will get 'file not found error\u001b[0m\u001b[0;34m\u001b[0m\u001b[0;34m\u001b[0m\u001b[0;34m\u001b[0m\u001b[0m\n",
            "\u001b[0;31mFileNotFoundError\u001b[0m: [Errno 2] No such file or directory: 'siva.txt'"
          ]
        }
      ]
    },
    {
      "cell_type": "code",
      "source": [
        "pwd()"
      ],
      "metadata": {
        "colab": {
          "base_uri": "https://localhost:8080/",
          "height": 35
        },
        "id": "zn2eJvjcChK3",
        "outputId": "4ff9b86b-c5cf-4889-ee8e-14e16ea7bb8d"
      },
      "execution_count": null,
      "outputs": [
        {
          "output_type": "execute_result",
          "data": {
            "text/plain": [
              "'/content'"
            ],
            "application/vnd.google.colaboratory.intrinsic+json": {
              "type": "string"
            }
          },
          "metadata": {},
          "execution_count": 12
        }
      ]
    },
    {
      "cell_type": "code",
      "source": [
        "f = open('abc.txt')\n",
        "f.read()\n",
        "\n",
        "#if there is file we will get the data, if we dont have a file we will get 'FileNotFoundError'"
      ],
      "metadata": {
        "colab": {
          "base_uri": "https://localhost:8080/",
          "height": 35
        },
        "id": "RN70cFuvDGLF",
        "outputId": "50f1da6d-b955-49a9-ed5f-181b23991b76"
      },
      "execution_count": null,
      "outputs": [
        {
          "output_type": "execute_result",
          "data": {
            "text/plain": [
              "'caevinaerrv aaeercsdac aer, vre '"
            ],
            "application/vnd.google.colaboratory.intrinsic+json": {
              "type": "string"
            }
          },
          "metadata": {},
          "execution_count": 15
        }
      ]
    },
    {
      "cell_type": "code",
      "source": [
        "f.close()"
      ],
      "metadata": {
        "id": "Ov0-zPGuDVg_"
      },
      "execution_count": null,
      "outputs": []
    },
    {
      "cell_type": "markdown",
      "source": [
        "Main Objective of Exception Handling\n",
        "\n",
        "\n",
        "\n",
        "1.   it is highly recommended to handle exceptions.\n",
        "2.   the main objective of exception handling is graceful termination / normal termination of the application(i.e.,we should not block our resources and we should not miss anything)\n",
        "\n"
      ],
      "metadata": {
        "id": "wxGBMftLIo3M"
      }
    },
    {
      "cell_type": "markdown",
      "source": [
        "Statement by Junior :\n",
        "This weekend i am planning to go to my native place by bus.\n",
        "\n",
        "Expert statement :\n",
        "This weekend i am planning to go to my native place by bus. if bus not available then i will try for train. if train is not available then i will try for flight.still it is not avilable then go by cab.\n",
        "\n",
        "Meaning:\n",
        "expert is finding the alternative ways previously if there is any something is happend in oneway.\n",
        "\n",
        "# Exception Handling :\n",
        "\n",
        "it doesnt mean repairing an exception. we have to define alternative way to continue rest of the programme normally.\n",
        "\n",
        "This way of defining alternative way is nothing but exception handling\n",
        "\n"
      ],
      "metadata": {
        "id": "iDJtHqPGJTs9"
      }
    },
    {
      "cell_type": "code",
      "source": [
        "# Abnormal Exception / abnormal termination.\n",
        "\n",
        "# due to error inbetween code, if the rest programme not excecutes then we called abnormal termination."
      ],
      "metadata": {
        "id": "2-vlVFsgDkZp"
      },
      "execution_count": null,
      "outputs": []
    },
    {
      "cell_type": "code",
      "source": [
        "print('hello')\n",
        "print(10/0)\n",
        "print('world')\n",
        "\n",
        "#here due to error in 2nd line , the rest of the  programme is not going to excecute."
      ],
      "metadata": {
        "colab": {
          "base_uri": "https://localhost:8080/",
          "height": 253
        },
        "id": "W_a1_emlOBZk",
        "outputId": "c8b7dbe9-593c-4a68-8e07-50f6883f3645"
      },
      "execution_count": null,
      "outputs": [
        {
          "output_type": "stream",
          "name": "stdout",
          "text": [
            "hello\n"
          ]
        },
        {
          "output_type": "error",
          "ename": "ZeroDivisionError",
          "evalue": "ignored",
          "traceback": [
            "\u001b[0;31m---------------------------------------------------------------------------\u001b[0m",
            "\u001b[0;31mZeroDivisionError\u001b[0m                         Traceback (most recent call last)",
            "\u001b[0;32m<ipython-input-21-aa1f6a448f51>\u001b[0m in \u001b[0;36m<module>\u001b[0;34m\u001b[0m\n\u001b[1;32m      1\u001b[0m \u001b[0mprint\u001b[0m\u001b[0;34m(\u001b[0m\u001b[0;34m'hello'\u001b[0m\u001b[0;34m)\u001b[0m\u001b[0;34m\u001b[0m\u001b[0;34m\u001b[0m\u001b[0m\n\u001b[0;32m----> 2\u001b[0;31m \u001b[0mprint\u001b[0m\u001b[0;34m(\u001b[0m\u001b[0;36m10\u001b[0m\u001b[0;34m/\u001b[0m\u001b[0;36m0\u001b[0m\u001b[0;34m)\u001b[0m\u001b[0;34m\u001b[0m\u001b[0;34m\u001b[0m\u001b[0m\n\u001b[0m\u001b[1;32m      3\u001b[0m \u001b[0mprint\u001b[0m\u001b[0;34m(\u001b[0m\u001b[0;34m'world'\u001b[0m\u001b[0;34m)\u001b[0m\u001b[0;34m\u001b[0m\u001b[0;34m\u001b[0m\u001b[0m\n\u001b[1;32m      4\u001b[0m \u001b[0;34m\u001b[0m\u001b[0m\n\u001b[1;32m      5\u001b[0m \u001b[0;31m#here due to error in 2nd line , the rest of the  programme is not going to excecute.\u001b[0m\u001b[0;34m\u001b[0m\u001b[0;34m\u001b[0m\u001b[0;34m\u001b[0m\u001b[0m\n",
            "\u001b[0;31mZeroDivisionError\u001b[0m: division by zero"
          ]
        }
      ]
    },
    {
      "cell_type": "code",
      "source": [
        "print('hello world')"
      ],
      "metadata": {
        "colab": {
          "base_uri": "https://localhost:8080/"
        },
        "id": "pvMLtbAdOVPQ",
        "outputId": "e3471b35-9f29-480a-a4ea-d669fb61500b"
      },
      "execution_count": null,
      "outputs": [
        {
          "output_type": "stream",
          "name": "stdout",
          "text": [
            "hello world\n"
          ]
        }
      ]
    },
    {
      "cell_type": "markdown",
      "source": [
        "# Default Exception Handling\n",
        "\n",
        "1)Every exception in a python is an object. for every exception type the correspoding class is available.\n",
        "\n",
        "\n",
        "\n",
        "\n",
        "2)whenever an exception occurs python virtual machine will create the corresponding exception object and will check for handling code.if handling code is available then it will be excecuted and then rest of the programme excecutes normally.\n",
        "\n",
        "\n",
        "\n",
        "\n",
        "3)if handling code is not available then pvm will terminates programme abnoramally and print corresponding exception termination to the console. the rest of the programme wont be excecuted.\n",
        "\n",
        "\n",
        "\n",
        "\n",
        "4)to prevent this abnoraml termination,we should handle exception explicitly.of course by using 'try -except' block"
      ],
      "metadata": {
        "id": "aNZutgFMOblx"
      }
    },
    {
      "cell_type": "code",
      "source": [
        "#Exception Hierarchy "
      ],
      "metadata": {
        "id": "KitjOObcOayt"
      },
      "execution_count": null,
      "outputs": []
    },
    {
      "cell_type": "markdown",
      "source": [
        "1) Every exception in python is a calss.\n",
        "\n",
        "2) All exception classes are child classes of Base Exception either directly or indirectly. Hence python base exception works as a root for python exception hierarchy.\n",
        "\n",
        "3) Being a programmer , most of the time, we have to concentrate / handle exception and its child classes.\n",
        "\n",
        "In Exception Class we have following chlid classes :\n",
        "\n",
        "1) Arthematic Errors - a)Zer Point Error b) Floating point error  c)Over Flow Error\n",
        "\n",
        "2) Lookup Error - a)Index Error b) Key Error\n",
        "\n",
        "3) OS Error - a) File Not Found Error b)Time Out Error c) Interrupted Error  d) Permission Error\n",
        "\n",
        "4) Attribute Error\n",
        "\n",
        "5) EOF Error\n",
        "\n",
        "6) Name Error\n",
        "\n",
        "7) Type Error\n",
        "\n",
        "8) Value Error"
      ],
      "metadata": {
        "id": "putWkpguS_CW"
      }
    },
    {
      "cell_type": "code",
      "source": [
        "print('hello')\n",
        "print(10/0)\n",
        "print('world')\n",
        "\n",
        "# here we have 2nd line code may give the problem. so, that linecode is called as risky code/ suspisius code."
      ],
      "metadata": {
        "colab": {
          "base_uri": "https://localhost:8080/",
          "height": 270
        },
        "id": "4XupaoztS-OM",
        "outputId": "b461b460-a62f-4841-a727-29be4a6b20c0"
      },
      "execution_count": null,
      "outputs": [
        {
          "output_type": "stream",
          "name": "stdout",
          "text": [
            "hello\n"
          ]
        },
        {
          "output_type": "error",
          "ename": "ZeroDivisionError",
          "evalue": "ignored",
          "traceback": [
            "\u001b[0;31m---------------------------------------------------------------------------\u001b[0m",
            "\u001b[0;31mZeroDivisionError\u001b[0m                         Traceback (most recent call last)",
            "\u001b[0;32m<ipython-input-24-33ed4d11d775>\u001b[0m in \u001b[0;36m<module>\u001b[0;34m\u001b[0m\n\u001b[1;32m      1\u001b[0m \u001b[0mprint\u001b[0m\u001b[0;34m(\u001b[0m\u001b[0;34m'hello'\u001b[0m\u001b[0;34m)\u001b[0m\u001b[0;34m\u001b[0m\u001b[0;34m\u001b[0m\u001b[0m\n\u001b[0;32m----> 2\u001b[0;31m \u001b[0mprint\u001b[0m\u001b[0;34m(\u001b[0m\u001b[0;36m10\u001b[0m\u001b[0;34m/\u001b[0m\u001b[0;36m0\u001b[0m\u001b[0;34m)\u001b[0m\u001b[0;34m\u001b[0m\u001b[0;34m\u001b[0m\u001b[0m\n\u001b[0m\u001b[1;32m      3\u001b[0m \u001b[0mprint\u001b[0m\u001b[0;34m(\u001b[0m\u001b[0;34m'world'\u001b[0m\u001b[0;34m)\u001b[0m\u001b[0;34m\u001b[0m\u001b[0;34m\u001b[0m\u001b[0m\n\u001b[1;32m      4\u001b[0m \u001b[0;34m\u001b[0m\u001b[0m\n\u001b[1;32m      5\u001b[0m \u001b[0;31m# here we have 2nd line code may give the problem. so, that linecode is called as risky code/ suspisius code.\u001b[0m\u001b[0;34m\u001b[0m\u001b[0;34m\u001b[0m\u001b[0;34m\u001b[0m\u001b[0m\n",
            "\u001b[0;31mZeroDivisionError\u001b[0m: division by zero"
          ]
        }
      ]
    },
    {
      "cell_type": "code",
      "source": [
        "# suspecious code may give the trouble to rest of the code. so, we need to give alternative way / exception code for that"
      ],
      "metadata": {
        "id": "t7_rZcytVMIE"
      },
      "execution_count": null,
      "outputs": []
    },
    {
      "cell_type": "code",
      "source": [
        "'''\n",
        "\n",
        "try :\n",
        "  risky / suspisious code\n",
        "\n",
        "except :\n",
        "  alternative code for the risky code\n",
        "  all_feature_names\n",
        "\n",
        "\n",
        "  '''"
      ],
      "metadata": {
        "colab": {
          "base_uri": "https://localhost:8080/",
          "height": 35
        },
        "id": "HqLUMnVuVa4A",
        "outputId": "1d70d496-52b5-4bfa-c3c0-eaf956e264eb"
      },
      "execution_count": null,
      "outputs": [
        {
          "output_type": "execute_result",
          "data": {
            "text/plain": [
              "'\\n\\ntry :\\n  risky / suspisious code\\n\\nexcept :\\n  all_feature_names\\n\\n\\n  '"
            ],
            "application/vnd.google.colaboratory.intrinsic+json": {
              "type": "string"
            }
          },
          "metadata": {},
          "execution_count": 27
        }
      ]
    },
    {
      "cell_type": "code",
      "source": [
        "print('hello')\n",
        "\n",
        "try :\n",
        "  print(10/0)\n",
        "\n",
        "except ZeroDivisionError :\n",
        "  print('infinate')\n",
        "\n",
        "print('world')"
      ],
      "metadata": {
        "colab": {
          "base_uri": "https://localhost:8080/"
        },
        "id": "N4Q4mt8XVoz6",
        "outputId": "632a18a8-ce6c-4d5e-9619-44cd79291aaf"
      },
      "execution_count": null,
      "outputs": [
        {
          "output_type": "stream",
          "name": "stdout",
          "text": [
            "hello\n",
            "infinate\n",
            "world\n"
          ]
        }
      ]
    },
    {
      "cell_type": "code",
      "source": [
        "try :\n",
        "  print(10/0)\n",
        "\n",
        "except ZeroDivisionError as msg :\n",
        "  print('type of error', type(msg))"
      ],
      "metadata": {
        "colab": {
          "base_uri": "https://localhost:8080/"
        },
        "id": "WJ05a_OIWIpK",
        "outputId": "ec4abab9-c082-4793-d931-500a911090ee"
      },
      "execution_count": null,
      "outputs": [
        {
          "output_type": "stream",
          "name": "stdout",
          "text": [
            "type of error <class 'ZeroDivisionError'>\n"
          ]
        }
      ]
    },
    {
      "cell_type": "code",
      "source": [
        "try :\n",
        "  print(10/0)\n",
        "\n",
        "except ZeroDivisionError as msg :\n",
        "  print('Description of exception..', msg)"
      ],
      "metadata": {
        "colab": {
          "base_uri": "https://localhost:8080/"
        },
        "id": "QwrLVvV7a9Hy",
        "outputId": "a29c57f9-4eb0-4036-e90c-198167f93554"
      },
      "execution_count": null,
      "outputs": [
        {
          "output_type": "stream",
          "name": "stdout",
          "text": [
            "Description of exception.. division by zero\n"
          ]
        }
      ]
    },
    {
      "cell_type": "code",
      "source": [
        "try :\n",
        "  print(10/0)\n",
        "\n",
        "except ZeroDivisionError as msg :\n",
        "  print('type of class..', msg.__class__)"
      ],
      "metadata": {
        "colab": {
          "base_uri": "https://localhost:8080/"
        },
        "id": "HtvcMTAcbBO3",
        "outputId": "ff84c6cb-2d42-4b70-93ed-446fce596e9d"
      },
      "execution_count": null,
      "outputs": [
        {
          "output_type": "stream",
          "name": "stdout",
          "text": [
            "type of class.. <class 'ZeroDivisionError'>\n"
          ]
        }
      ]
    },
    {
      "cell_type": "code",
      "source": [
        "try :\n",
        "  print(10/0)\n",
        "\n",
        "except ZeroDivisionError as msg :\n",
        "  print('type calss name..', msg.__class__.__name__)"
      ],
      "metadata": {
        "colab": {
          "base_uri": "https://localhost:8080/"
        },
        "id": "R5aq_n6qbSYQ",
        "outputId": "1ea939a8-f538-4e56-e74c-e3d6dd8e3dae"
      },
      "execution_count": null,
      "outputs": [
        {
          "output_type": "stream",
          "name": "stdout",
          "text": [
            "type calss name.. ZeroDivisionError\n"
          ]
        }
      ]
    },
    {
      "cell_type": "code",
      "source": [
        "try :\n",
        "  print(10/0)\n",
        "\n",
        "except BaseException as msg :\n",
        "  print('type of exception..', type(msg))\n",
        "  print('type calss name..', msg.__class__.__name__)\n",
        "  print('type name of exception..', msg.__class__.__name__)\n",
        "  print('the description.....',msg)"
      ],
      "metadata": {
        "colab": {
          "base_uri": "https://localhost:8080/"
        },
        "id": "Ta2h0wRXbkUh",
        "outputId": "5e76df3e-9362-4196-8591-a22e22b31fd1"
      },
      "execution_count": null,
      "outputs": [
        {
          "output_type": "stream",
          "name": "stdout",
          "text": [
            "type of exception.. <class 'ZeroDivisionError'>\n",
            "type calss name.. ZeroDivisionError\n",
            "type name of exception.. ZeroDivisionError\n",
            "the description..... division by zero\n"
          ]
        }
      ]
    },
    {
      "cell_type": "code",
      "source": [
        "try :\n",
        "  a = int(input('enter first value....'))\n",
        "  b = int(input('enter second value....')) \n",
        "  print(a/b)\n",
        "\n",
        "except BaseException as msg :\n",
        "  print('type of exception..', type(msg))\n",
        "  print('type calss name..', msg.__class__.__name__)\n",
        "  print('type name of exception..', msg.__class__.__name__)\n",
        "  print('the description.....',msg)"
      ],
      "metadata": {
        "colab": {
          "base_uri": "https://localhost:8080/"
        },
        "id": "RjZAbYEydkbJ",
        "outputId": "230ce296-70e0-4fed-eae4-331bf5f157aa"
      },
      "execution_count": null,
      "outputs": [
        {
          "output_type": "stream",
          "name": "stdout",
          "text": [
            "enter first value....10\n",
            "enter second value....two\n",
            "type of exception.. <class 'ValueError'>\n",
            "type calss name.. ValueError\n",
            "type name of exception.. ValueError\n",
            "the description..... invalid literal for int() with base 10: 'two'\n"
          ]
        }
      ]
    },
    {
      "cell_type": "code",
      "source": [
        "try :\n",
        "  a = int(input('enter first value....'))\n",
        "  b = int(input('enter second value....')) \n",
        "  print(a/b)\n",
        "\n",
        "except BaseException as msg :\n",
        "  print('type of exception..', type(msg))\n",
        "  print('type calss name..', msg.__class__.__name__)\n",
        "  print('type name of exception..', msg.__class__.__name__)\n",
        "  print('the description.....',msg)"
      ],
      "metadata": {
        "colab": {
          "base_uri": "https://localhost:8080/"
        },
        "id": "TaJEp44dcNCc",
        "outputId": "ebd3e307-01b4-4f80-ac3a-d95459688f3c"
      },
      "execution_count": null,
      "outputs": [
        {
          "output_type": "stream",
          "name": "stdout",
          "text": [
            "enter first value....10\n",
            "enter second value....0\n",
            "type of exception.. <class 'ZeroDivisionError'>\n",
            "type calss name.. ZeroDivisionError\n",
            "type name of exception.. ZeroDivisionError\n",
            "the description..... division by zero\n"
          ]
        }
      ]
    },
    {
      "cell_type": "code",
      "source": [
        "# multiple exception blocks"
      ],
      "metadata": {
        "id": "IiNCeLwQd_XR"
      },
      "execution_count": null,
      "outputs": []
    },
    {
      "cell_type": "code",
      "source": [
        "try :\n",
        "  a = int(input('enter first value....'))\n",
        "  b = int(input('enter second value....')) \n",
        "  print(a/b)\n",
        "except ZeroDivisionError as msg :\n",
        "  print('the type of error..',msg)\n",
        "except ValueError as msg1:\n",
        "  print('the type of error ', type(msg1))\n",
        "\n",
        "print(a,b)\n",
        "print(b,a)"
      ],
      "metadata": {
        "colab": {
          "base_uri": "https://localhost:8080/"
        },
        "id": "qibKDZi3epU9",
        "outputId": "705acfcc-ed57-4001-8c91-244a6ca709fb"
      },
      "execution_count": null,
      "outputs": [
        {
          "output_type": "stream",
          "name": "stdout",
          "text": [
            "enter first value....10\n",
            "enter second value....two\n",
            "the type of error  <class 'ValueError'>\n",
            "10 5\n",
            "5 10\n"
          ]
        }
      ]
    },
    {
      "cell_type": "code",
      "source": [
        "try :\n",
        "  a = int(input('enter first value....'))\n",
        "  b = int(input('enter second value....')) \n",
        "  print(a/b)\n",
        "except ZeroDivisionError :\n",
        "    print('this is zero division Error')\n",
        "except ArthemticError :\n",
        "    print('it is a arthematic Error')\n",
        "\n"
      ],
      "metadata": {
        "colab": {
          "base_uri": "https://localhost:8080/"
        },
        "id": "rpSqoAdSggnJ",
        "outputId": "fd055b58-348d-4b52-b22f-dacb2eba6ebe"
      },
      "execution_count": null,
      "outputs": [
        {
          "output_type": "stream",
          "name": "stdout",
          "text": [
            "enter first value....10\n",
            "enter second value....0\n",
            "this is zero division Error\n"
          ]
        }
      ]
    },
    {
      "cell_type": "code",
      "source": [
        "try :\n",
        "  a = int(input('enter first value....'))\n",
        "  b = int(input('enter second value....')) \n",
        "  print(a/b)\n",
        "\n",
        "except ArithmeticError :\n",
        "      print('it is a arthematic Error')\n",
        "\n",
        "\n",
        "except ZeroDivisionError :\n",
        "    print('this is zero division Error')\n",
        "\n",
        "#since  Zero error is sub class in Arthematic error, athematic error will excecute the code."
      ],
      "metadata": {
        "colab": {
          "base_uri": "https://localhost:8080/"
        },
        "id": "CSeGRxcCjgJA",
        "outputId": "8a2aac42-43e0-4ae1-ea13-bd9f6fc3c3d5"
      },
      "execution_count": null,
      "outputs": [
        {
          "output_type": "stream",
          "name": "stdout",
          "text": [
            "enter first value....10\n",
            "enter second value....0\n",
            "it is a arthematic Error\n"
          ]
        }
      ]
    },
    {
      "cell_type": "code",
      "source": [
        "# Raising multiple exceptions in single block.\n",
        "try :\n",
        "  a = int(input('enter first value....'))\n",
        "  b = int(input('enter second value....')) \n",
        "  print(a/b)\n",
        "\n",
        "except (ZeroDivisionError,ValueError) as msg :\n",
        "      print('the class name..', msg.__class__.__name__)\n",
        "      print('Description of exception...', msg)\n",
        "      print('please provide valid info only')\n",
        "\n"
      ],
      "metadata": {
        "colab": {
          "base_uri": "https://localhost:8080/"
        },
        "id": "eWPLOz-6j1-g",
        "outputId": "8215168c-6580-4361-bb03-431ebe779b2f"
      },
      "execution_count": null,
      "outputs": [
        {
          "output_type": "stream",
          "name": "stdout",
          "text": [
            "enter first value....10\n",
            "enter second value....fre\n",
            "the class name.. ValueError\n",
            "Description of exception... invalid literal for int() with base 10: 'fre'\n",
            "please provide valid info only\n"
          ]
        }
      ]
    },
    {
      "cell_type": "code",
      "source": [
        "# Default Except Block matched , if there is no exception block matched.\n",
        "# but default exception block will give general exception info only in the console.\n",
        "# it will not give the specific data\n",
        "# it should be write at last exception block, other wise it will give the syntax error."
      ],
      "metadata": {
        "id": "DkDq1O3dl7-c"
      },
      "execution_count": null,
      "outputs": []
    },
    {
      "cell_type": "code",
      "source": [
        " \n",
        "try :\n",
        "  a = int(input('enter first value....'))\n",
        "  b = int(input('enter second value....')) \n",
        "  print(a/b)\n",
        "\n",
        "except ZeroDivisionError as msg :\n",
        "      print('the class name..', msg.__class__.__name__)\n",
        "      print('Description of exception...', msg)\n",
        "      \n",
        "\n",
        "except :\n",
        "  print('Default Except code :please provide valid info only')\n"
      ],
      "metadata": {
        "colab": {
          "base_uri": "https://localhost:8080/"
        },
        "id": "2ewUUAk3mw62",
        "outputId": "ee096989-c654-4f7a-ff12-017523c99b0e"
      },
      "execution_count": null,
      "outputs": [
        {
          "output_type": "stream",
          "name": "stdout",
          "text": [
            "enter first value....10\n",
            "enter second value....te\n",
            "Default Except code :please provide valid info only\n"
          ]
        }
      ]
    },
    {
      "cell_type": "code",
      "source": [
        "try :\n",
        "  a = int(input('enter first value....'))\n",
        "  b = int(input('enter second value....')) \n",
        "  print(a/b)\n",
        "\n",
        "\n",
        "\n",
        "except :\n",
        "  print('Default Except code :please provide valid info only')\n",
        "\n",
        "except ZeroDivisionError as msg :\n",
        "      print('the class name..', msg.__class__.__name__)\n",
        "      print('Description of exception...', msg)\n",
        "      \n",
        "# Default Exception Blocks should use at last.Other wie we will get syntax error"
      ],
      "metadata": {
        "colab": {
          "base_uri": "https://localhost:8080/",
          "height": 131
        },
        "id": "KvX63U93njFc",
        "outputId": "3a3020f1-f914-4514-cbbe-feef45333ba8"
      },
      "execution_count": null,
      "outputs": [
        {
          "output_type": "error",
          "ename": "SyntaxError",
          "evalue": "ignored",
          "traceback": [
            "\u001b[0;36m  File \u001b[0;32m\"<ipython-input-3-1031e9eb9564>\"\u001b[0;36m, line \u001b[0;32m4\u001b[0m\n\u001b[0;31m    print(a/b)\u001b[0m\n\u001b[0m    ^\u001b[0m\n\u001b[0;31mSyntaxError\u001b[0m\u001b[0;31m:\u001b[0m default 'except:' must be last\n"
          ]
        }
      ]
    },
    {
      "cell_type": "code",
      "source": [
        "# Finally Block\n",
        "\n",
        "# it will always going to excecute irrespective of exception block excecution"
      ],
      "metadata": {
        "id": "PYYZyc0iobd5"
      },
      "execution_count": null,
      "outputs": []
    },
    {
      "cell_type": "code",
      "source": [
        "# here exception raised and excecuted in running. At the end finally also excecuted\n",
        "\n",
        "try :\n",
        "  print('hello')\n",
        "  print(10/0)\n",
        "  print('world')\n",
        "except ZeroDivisionError :\n",
        "  print('its a zero error')\n",
        "\n",
        "finally :\n",
        "  print('siva')"
      ],
      "metadata": {
        "colab": {
          "base_uri": "https://localhost:8080/"
        },
        "id": "FF2UBVRQsvLZ",
        "outputId": "a93d7103-8183-4feb-8ed6-56112ad76dfb"
      },
      "execution_count": null,
      "outputs": [
        {
          "output_type": "stream",
          "name": "stdout",
          "text": [
            "hello\n",
            "its a zero error\n",
            "siva\n"
          ]
        }
      ]
    },
    {
      "cell_type": "code",
      "source": [
        "# here exception raised and not excecuted in running. But, At the end finally also excecuted\n",
        "\n",
        "try :\n",
        "  print('hello')\n",
        "  print(10/2)\n",
        "  print('world')\n",
        "except ZeroDivisionError :\n",
        "  print('its a zero error')\n",
        "\n",
        "finally :\n",
        "  print('siva')"
      ],
      "metadata": {
        "colab": {
          "base_uri": "https://localhost:8080/"
        },
        "id": "mtoztN-_s9Sk",
        "outputId": "7e0cca73-3bf9-47f2-ccc0-4af2bed42c5a"
      },
      "execution_count": null,
      "outputs": [
        {
          "output_type": "stream",
          "name": "stdout",
          "text": [
            "hello\n",
            "5.0\n",
            "world\n",
            "siva\n"
          ]
        }
      ]
    },
    {
      "cell_type": "code",
      "source": [
        "# case of finally block is not going to excecute.we need to close the python virtual machine explicitly.\n",
        "# then only its not possible to excecute finally code."
      ],
      "metadata": {
        "id": "Z5Qgct1ctoPg"
      },
      "execution_count": null,
      "outputs": []
    },
    {
      "cell_type": "code",
      "source": [
        "import os\n",
        "\n",
        "try :\n",
        "  print('try')\n",
        "except :\n",
        "  print('except')\n",
        "finally:\n",
        "  print('finally')"
      ],
      "metadata": {
        "colab": {
          "base_uri": "https://localhost:8080/"
        },
        "id": "DGd_pUtmvigW",
        "outputId": "5efe17f3-5272-4ed3-d63b-2b35904970a3"
      },
      "execution_count": null,
      "outputs": [
        {
          "output_type": "stream",
          "name": "stdout",
          "text": [
            "try\n",
            "finally\n"
          ]
        }
      ]
    },
    {
      "cell_type": "code",
      "source": [
        "import os\n",
        "\n",
        "try :\n",
        "  print('try')\n",
        "\n",
        "  os._exit(0)\n",
        "except :\n",
        "  print('except')\n",
        "finally:\n",
        "  print('finally')\n",
        "\n",
        "# we are explicitly closing the pvm by using 0s._exit(0) option. If the PVM shutdown, there is no chance to excecute final block."
      ],
      "metadata": {
        "id": "NWswPZfJv6MO"
      },
      "execution_count": null,
      "outputs": []
    },
    {
      "cell_type": "code",
      "source": [
        "# finally block vs destructor\n",
        "\n",
        "#destructor - ment for deallocate the resources in object level.\n",
        "\n",
        "#final block - ment for deallocate the resources in the try block resources"
      ],
      "metadata": {
        "id": "Dw9UOFJjwJzc"
      },
      "execution_count": null,
      "outputs": []
    },
    {
      "cell_type": "code",
      "source": [
        "# control flow in Try, Except, Finally blocks"
      ],
      "metadata": {
        "id": "SlR3Mol6zzQe"
      },
      "execution_count": null,
      "outputs": []
    },
    {
      "cell_type": "code",
      "source": [
        "'''\n",
        "try :\n",
        "  stateemnt-1\n",
        "  statement-2\n",
        "  satatement-3\n",
        "\n",
        "except :\n",
        "  sattement -4\n",
        "\n",
        "finally :\n",
        "  statement -5\n",
        "\n",
        "statement-6\n",
        "\n",
        "'''"
      ],
      "metadata": {
        "colab": {
          "base_uri": "https://localhost:8080/",
          "height": 53
        },
        "id": "_YhYzJckz3Pn",
        "outputId": "3ffaf4de-28de-46f9-ebc7-49c02cf023b4"
      },
      "execution_count": null,
      "outputs": [
        {
          "output_type": "execute_result",
          "data": {
            "text/plain": [
              "'\\ntry :\\n  stateemnt-1\\n  statement-2\\n  satatement-3\\n\\nexcept :\\n  sattement -4\\n\\nfinally :\\n  statement -5\\n\\nstatement-6\\n\\n'"
            ],
            "application/vnd.google.colaboratory.intrinsic+json": {
              "type": "string"
            }
          },
          "metadata": {},
          "execution_count": 6
        }
      ]
    },
    {
      "cell_type": "code",
      "source": [
        "'''\n",
        "Case-1:if no Excepetions in given code, the control flow will be : satements(1,2,3,5,6)\n",
        "\n",
        "case-2:If exception raised at statement2 , the contro; flow will be : statements(1,4,5,6)\n",
        "\n",
        "case-4: if exception raised at statement2, but corresponding except block not matched : statement(1,5) abnormal termination\n",
        "\n",
        "case-4 if exception raised at statement-4, the control flow will be : statements(5) abnormal termination\n",
        "\n",
        "case-5 : if exception raied at satement -5 or 6 then it is abnormal termination. '''\n"
      ],
      "metadata": {
        "colab": {
          "base_uri": "https://localhost:8080/",
          "height": 105
        },
        "id": "4yDSqqJB0h9Q",
        "outputId": "66fdb7fb-2992-40d8-9815-a2c98c7b26b4"
      },
      "execution_count": null,
      "outputs": [
        {
          "output_type": "execute_result",
          "data": {
            "text/plain": [
              "'\\nCase-1:if no Excepetions in given code, the control flow will be : satements(1,2,3,5,6)\\n\\ncase-2:If exception raised at statement2 , the contro; flow will be : statements(1,4,5,6)\\n\\ncase-4: if exception raised at statement2, but corresponding except block not matched : statement(1,5) abnormal termination\\n\\ncase-4 if exception raised at statement-4, the control flow will be : statements(5) abnormal termination\\n\\ncase-5 : if exception raied at satement -5 or 6 then it is abnormal termination. '"
            ],
            "application/vnd.google.colaboratory.intrinsic+json": {
              "type": "string"
            }
          },
          "metadata": {},
          "execution_count": 8
        }
      ]
    },
    {
      "cell_type": "code",
      "source": [
        "# Control flow in nested \n",
        "\n",
        "'''\n",
        "try :\n",
        "  statement 1\n",
        "  statement 2\n",
        "  statement 3\n",
        "\n",
        "  try :\n",
        "    statement 4\n",
        "    satement 5\n",
        "    satatement 6\n",
        "  except :\n",
        "    statement 7\n",
        "  finally :\n",
        "    statement 8\n",
        "  \n",
        "  staatement 9\n",
        "\n",
        "except :\n",
        "  statement -10\n",
        "\n",
        "finally :\n",
        "  stateemnt -11\n",
        "\n",
        "statement -12\n",
        "\n",
        "'''\n"
      ],
      "metadata": {
        "colab": {
          "base_uri": "https://localhost:8080/",
          "height": 70
        },
        "id": "G0tUL95V17dy",
        "outputId": "565f2ca4-385d-4b1f-d717-0272ad6f49e3"
      },
      "execution_count": null,
      "outputs": [
        {
          "output_type": "execute_result",
          "data": {
            "text/plain": [
              "'\\ntry :\\n  statement 1\\n  statement 2\\n  statement 3\\n\\n  try :\\n    statement 4\\n    satement 5\\n    satatement 6\\n  except :\\n    statement 7\\n  finally :\\n    statement 8\\n  \\n  staatement 9\\n\\nexcept :\\n  statement -10\\n\\nfinally :\\n  stateemnt -11\\n\\nstatement -12\\n\\n'"
            ],
            "application/vnd.google.colaboratory.intrinsic+json": {
              "type": "string"
            }
          },
          "metadata": {},
          "execution_count": 9
        }
      ]
    },
    {
      "cell_type": "code",
      "source": [
        "'''\n",
        "case-1 : if there is no exception, \n",
        "\n",
        "the control flow : 1,2,3,4,5,6,8,9,11,12\n",
        "\n",
        "case -2 : if exception raised at statement 2 and corresponding exception matched,\n",
        "\n",
        "control flow will be : 1,10,11,12, Normal termination\n",
        "\n",
        "case-3 :if exception raised at statement 2 and corresponding exception not matched,\n",
        "\n",
        "control flow will be : 1,11, Abnormal Termination\n",
        "\n",
        "case-4 : if exception raised at statement 5 and inner except block matched :\n",
        "\n",
        "control Flow will be : 1,2,3,4,7,8,9,11,12\n",
        "\n",
        "Case-5 :if exception raised at statement 5 and inner except block not matched but outer except block matched :\n",
        "\n",
        "control Flow :1,2,3,4,8,10,11,12, Normal Termination\n",
        "\n",
        "Case-6 :if exception raised at statement 5 and both inner except block outer except block not matched :\n",
        "\n",
        "control Flow will be : 1,2,3,4,8,11,Abnormal Termination\n",
        "\n",
        "\n",
        "case -7 : if exception raised at statement 5, 7 and corresponding exception block matched\n",
        "\n",
        "control Flow will be : 1,2,3,4,8,10,11,12,Normal Termination\n",
        "\n",
        "Case -8 :if exception raised at statement 5, 7 and corresponding exception block not matched\n",
        "\n",
        "control Flow will be : 1,2,3,4,8,11,Abnormal Termination\n",
        "\n",
        "Case -9 :if exception raised at statement 8 and corresponding exception block  matched,( no exception in 4,5,6)\n",
        "\n",
        "control Flow will be : 1,2,3,4,5,6,10,11,12 Normal Termination\n",
        "\n",
        "Case -9 :if exception raised at statement 8 and corresponding exception block not matched,( no exception in 4,5,6)\n",
        "\n",
        "control Flow will be : 1,2,3,4,5,6,11,Abnormal termination\n",
        "\n",
        "case-11 : if exception raised at statement -9 and corresponding exception block matched,( no exception in 4,5,6) :\n",
        "\n",
        "control Flow will be : 1,2,3,4,5,6,8,10,11,12,Normal Termination\n",
        "\n",
        "case-12 :if exception raised at statement -9 and corresponding exception block not matched,( no exception in 4,5,6) :\n",
        "\n",
        "control Flow will be : 1,2,3,4,5,6,8,11,Abnormal Termination\n",
        "\n",
        "Case-13 :if exception raised at statement -10\n",
        "\n",
        "control Flow Will be : 11,Abnormal Termination\n",
        "\n",
        "Case-14: if excepion raised at statemnt 11 and 12 then its abnormal termination \n",
        "\n",
        "'''"
      ],
      "metadata": {
        "colab": {
          "base_uri": "https://localhost:8080/",
          "height": 192
        },
        "id": "tLaWxQp66eeq",
        "outputId": "eadb94db-4339-4811-be10-f0ae7e2eb1a6"
      },
      "execution_count": null,
      "outputs": [
        {
          "output_type": "execute_result",
          "data": {
            "text/plain": [
              "'\\ncase-1 : if there is no exception, \\n\\nthe control flow : 1,2,3,4,5,6,8,9,11,12\\n\\ncase -2 : if exception raised at statement 2 and corresponding exception matched,\\n\\ncontrol flow will be : 1,10,11,12, Normal termination\\n\\ncase-3 :if exception raised at statement 2 and corresponding exception not matched,\\n\\ncontrol flow will be : 1,11, Abnormal Termination\\n\\ncase-4 : if exception raised at statement 5 and inner except block matched :\\n\\ncontrol Flow will be : 1,2,3,4,7,8,9,11,12\\n\\nCase-5 :if exception raised at statement 5 and inner except block not matched but outer except block matched :\\n\\ncontrol Flow :1,2,3,4,8,10,11,12, Normal Termination\\n\\nCase-6 :if exception raised at statement 5 and both inner except block outer except block not matched :\\n\\ncontrol Flow will be : 1,2,3,4,8,11,Abnormal Termination\\n\\n\\ncase -7 : if exception raised at statement 5, 7 and corresponding exception block matched\\n\\ncontrol Flow will be : 1,2,3,4,8,10,11,12,Normal Termination\\n\\nCase -8 :if exception raised at statement 5, 7 and corresponding exception block not matched\\n\\ncontrol Flow will be : 1,2,3,4,8,11,Abnormal Termination\\n\\nCase -9 :if exception raised at statement 8 and corresponding exception block  matched,( no exception in 4,5,6)\\n\\ncontrol Flow will be : 1,2,3,4,5,6,10,11,12 Normal Termination\\n\\nCase -9 :if exception raised at statement 8 and corresponding exception block not matched,( no exception in 4,5,6)\\n\\ncontrol Flow will be : 1,2,3,4,5,6,11,Abnormal termination\\n\\ncase-11 : if exception raised at statement -9 and corresponding exception block matched,( no exception in 4,5,6) :\\n\\ncontrol Flow will be : 1,2,3,4,5,6,8,10,11,12,Normal Termination\\n\\ncase-12 :if exception raised at statement -9 and corresponding exception block not matched,( no exception in 4,5,6) :\\n\\ncontrol Flow will be : 1,2,3,4,5,6,8,11,Abnormal Termination\\n\\nCase-13 :if exception raised at statement -10\\n\\ncontrol Flow Will be : 11,Abnormal Termination\\n\\nCase-14: if excepion raised at statemnt 11 and 12 then its abnormal termination \\n\\n'"
            ],
            "application/vnd.google.colaboratory.intrinsic+json": {
              "type": "string"
            }
          },
          "metadata": {},
          "execution_count": 12
        }
      ]
    },
    {
      "cell_type": "code",
      "source": [
        "#Else Block "
      ],
      "metadata": {
        "id": "oBR06A4oYBnV"
      },
      "execution_count": null,
      "outputs": []
    },
    {
      "cell_type": "code",
      "source": [
        "x = 10\n",
        "\n",
        "if x> 10:\n",
        "  print('x is greater than 10')\n",
        "\n",
        "else :\n",
        "  print('x is not greater than 10')"
      ],
      "metadata": {
        "colab": {
          "base_uri": "https://localhost:8080/"
        },
        "id": "NQpYNljwYFUN",
        "outputId": "42850d3a-022f-41a0-a315-c579968e0a1f"
      },
      "execution_count": null,
      "outputs": [
        {
          "output_type": "stream",
          "name": "stdout",
          "text": [
            "x is not greater than 10\n"
          ]
        }
      ]
    },
    {
      "cell_type": "code",
      "source": [
        "for i in range(10):\n",
        "  print('the current item is', i)\n",
        "\n",
        "else :\n",
        "  print('congrats, u r able to excecute all the elements')"
      ],
      "metadata": {
        "colab": {
          "base_uri": "https://localhost:8080/"
        },
        "id": "jbGfgwipYpwx",
        "outputId": "e61bd264-26a6-4cee-c078-a7dd5c88a20c"
      },
      "execution_count": null,
      "outputs": [
        {
          "output_type": "stream",
          "name": "stdout",
          "text": [
            "the current item is 0\n",
            "the current item is 1\n",
            "the current item is 2\n",
            "the current item is 3\n",
            "the current item is 4\n",
            "the current item is 5\n",
            "the current item is 6\n",
            "the current item is 7\n",
            "the current item is 8\n",
            "the current item is 9\n",
            "congrats, u r able to excecute all the elements\n"
          ]
        }
      ]
    },
    {
      "cell_type": "code",
      "source": [
        "for i in range(10):\n",
        "  if i>5 :\n",
        "    break\n",
        "  print('the current item is', i)\n",
        "\n",
        "else :\n",
        "  print('congrats, u r able to excecute all the elements')"
      ],
      "metadata": {
        "colab": {
          "base_uri": "https://localhost:8080/"
        },
        "id": "AzqVbfXSZath",
        "outputId": "3b648bc2-624d-48fa-a9de-4fc0e4355b3e"
      },
      "execution_count": null,
      "outputs": [
        {
          "output_type": "stream",
          "name": "stdout",
          "text": [
            "the current item is 0\n",
            "the current item is 1\n",
            "the current item is 2\n",
            "the current item is 3\n",
            "the current item is 4\n",
            "the current item is 5\n"
          ]
        }
      ]
    },
    {
      "cell_type": "code",
      "source": [
        "'''\n",
        "try :\n",
        "  risk code\n",
        "\n",
        "except :\n",
        "  it will be excecuted if there is exceptiption in try block\n",
        "\n",
        "else:\n",
        "  it will be excecuted if there is no exception in try block\n",
        "\n",
        "final:\n",
        "  cleanup code\n",
        "  it will be excecuted whether exception raised or not raised and whether exception handled or not handled\n",
        "  '''"
      ],
      "metadata": {
        "colab": {
          "base_uri": "https://localhost:8080/",
          "height": 70
        },
        "id": "HR7p7nT5ZhHq",
        "outputId": "33c72ef7-0577-4b1b-ade9-cad575cf8cfc"
      },
      "execution_count": null,
      "outputs": [
        {
          "output_type": "execute_result",
          "data": {
            "text/plain": [
              "'\\ntry :\\n  risk code\\n\\nexcept :\\n  it will be excecuted if there is exceptiption in try block\\n\\nelse:\\n  it will be excecuted if there is no exception in try block\\n\\nfinal:\\n  cleanup code\\n  it will be excecuted whether exception raised or not raised and whether exception handled or not handled\\n  '"
            ],
            "application/vnd.google.colaboratory.intrinsic+json": {
              "type": "string"
            }
          },
          "metadata": {},
          "execution_count": 17
        }
      ]
    },
    {
      "cell_type": "code",
      "source": [
        "try :\n",
        "  print('try')\n",
        "\n",
        "except :\n",
        "  print('except')\n",
        "\n",
        "else :\n",
        "  print('else')\n",
        "\n",
        "finally :\n",
        "  print('finally')"
      ],
      "metadata": {
        "colab": {
          "base_uri": "https://localhost:8080/"
        },
        "id": "91kUmWMRbGsE",
        "outputId": "f911638c-e4c4-460b-e2f1-f574f9cd1151"
      },
      "execution_count": null,
      "outputs": [
        {
          "output_type": "stream",
          "name": "stdout",
          "text": [
            "try\n",
            "else\n",
            "finally\n"
          ]
        }
      ]
    },
    {
      "cell_type": "code",
      "source": [
        "try :\n",
        "  print('try')\n",
        "  print(10/0)\n",
        "\n",
        "except :\n",
        "  print('except')\n",
        "\n",
        "else :\n",
        "  print('else')\n",
        "\n",
        "finally :\n",
        "  print('finally')\n"
      ],
      "metadata": {
        "colab": {
          "base_uri": "https://localhost:8080/"
        },
        "id": "F71jJjZ7bwO9",
        "outputId": "0a0977b2-68bb-4cd3-8a5b-081552ab7dbb"
      },
      "execution_count": null,
      "outputs": [
        {
          "output_type": "stream",
          "name": "stdout",
          "text": [
            "try\n",
            "except\n",
            "finally\n"
          ]
        }
      ]
    },
    {
      "cell_type": "code",
      "source": [
        "try :\n",
        "  print('try')\n",
        "\n",
        "\n",
        "else :\n",
        "  print('else')\n",
        "\n",
        "finally :\n",
        "  print('finally')\n",
        "\n",
        "# else block will not work without except block"
      ],
      "metadata": {
        "colab": {
          "base_uri": "https://localhost:8080/",
          "height": 131
        },
        "id": "Q4IJZqzYb-_T",
        "outputId": "5715bdf7-bd7c-4b54-e1a1-8c4c0551f430"
      },
      "execution_count": null,
      "outputs": [
        {
          "output_type": "error",
          "ename": "SyntaxError",
          "evalue": "ignored",
          "traceback": [
            "\u001b[0;36m  File \u001b[0;32m\"<ipython-input-23-e562d43e282e>\"\u001b[0;36m, line \u001b[0;32m5\u001b[0m\n\u001b[0;31m    else :\u001b[0m\n\u001b[0m    ^\u001b[0m\n\u001b[0;31mSyntaxError\u001b[0m\u001b[0;31m:\u001b[0m invalid syntax\n"
          ]
        }
      ]
    },
    {
      "cell_type": "code",
      "source": [
        "pwd"
      ],
      "metadata": {
        "colab": {
          "base_uri": "https://localhost:8080/",
          "height": 35
        },
        "id": "hGSQV7dFcYfi",
        "outputId": "d618934e-7314-4062-d971-7a33ae8c4725"
      },
      "execution_count": null,
      "outputs": [
        {
          "output_type": "execute_result",
          "data": {
            "text/plain": [
              "'/content'"
            ],
            "application/vnd.google.colaboratory.intrinsic+json": {
              "type": "string"
            }
          },
          "metadata": {},
          "execution_count": 24
        }
      ]
    },
    {
      "cell_type": "code",
      "source": [
        "f = None\n",
        "\n",
        "try :\n",
        "  f = open('test.txt')\n",
        "  \n",
        "except :\n",
        "  print('the file is not available in local path')\n",
        "\n",
        "else :\n",
        "  print('the file opened successfully')\n",
        "  print('the context of the file')\n",
        "  print('#'*30)\n",
        "  print(f.read())\n",
        "\n",
        "finally :\n",
        "  if f is not None:\n",
        "    f.close()"
      ],
      "metadata": {
        "colab": {
          "base_uri": "https://localhost:8080/"
        },
        "id": "XovKY7RqdoxY",
        "outputId": "595f14d8-5303-4d05-96e2-facd347d9617"
      },
      "execution_count": null,
      "outputs": [
        {
          "output_type": "stream",
          "name": "stdout",
          "text": [
            "the file opened successfully\n",
            "the context of the file\n",
            "##############################\n",
            "this is the first file in exception handling\n"
          ]
        }
      ]
    },
    {
      "cell_type": "code",
      "source": [
        "f = open('test.txt', 'w')\n",
        "\n",
        "f.write('this is the first file in exception handling')\n",
        "\n",
        "f.close()"
      ],
      "metadata": {
        "id": "GfhYfGLGepL0"
      },
      "execution_count": null,
      "outputs": []
    },
    {
      "cell_type": "code",
      "source": [
        "try :\n",
        "  print('try')\n",
        "\n",
        "# try without exception block is invalid"
      ],
      "metadata": {
        "colab": {
          "base_uri": "https://localhost:8080/",
          "height": 131
        },
        "id": "zK_Y2icXgGJV",
        "outputId": "81041728-fc27-4f4d-d3de-545c1b029256"
      },
      "execution_count": null,
      "outputs": [
        {
          "output_type": "error",
          "ename": "SyntaxError",
          "evalue": "ignored",
          "traceback": [
            "\u001b[0;36m  File \u001b[0;32m\"<ipython-input-31-8a76c5712086>\"\u001b[0;36m, line \u001b[0;32m4\u001b[0m\n\u001b[0;31m    # try without exception block is invalid\u001b[0m\n\u001b[0m                                            ^\u001b[0m\n\u001b[0;31mSyntaxError\u001b[0m\u001b[0;31m:\u001b[0m unexpected EOF while parsing\n"
          ]
        }
      ]
    },
    {
      "cell_type": "code",
      "source": [
        "except :\n",
        "  print('element')\n",
        "\n",
        "# except block without try block is also invlaid"
      ],
      "metadata": {
        "colab": {
          "base_uri": "https://localhost:8080/",
          "height": 131
        },
        "id": "AR7BbNYpgb4_",
        "outputId": "ef6a0847-ac3c-4a11-e97d-c0f1f53cd035"
      },
      "execution_count": null,
      "outputs": [
        {
          "output_type": "error",
          "ename": "SyntaxError",
          "evalue": "ignored",
          "traceback": [
            "\u001b[0;36m  File \u001b[0;32m\"<ipython-input-32-7dbf74c72549>\"\u001b[0;36m, line \u001b[0;32m1\u001b[0m\n\u001b[0;31m    except :\u001b[0m\n\u001b[0m    ^\u001b[0m\n\u001b[0;31mSyntaxError\u001b[0m\u001b[0;31m:\u001b[0m invalid syntax\n"
          ]
        }
      ]
    },
    {
      "cell_type": "code",
      "source": [
        "else :\n",
        "  print('else')\n",
        "\n",
        "# without except block else block is invalid"
      ],
      "metadata": {
        "colab": {
          "base_uri": "https://localhost:8080/",
          "height": 131
        },
        "id": "e_OdKhuggmAj",
        "outputId": "3b38315d-785c-4250-8b3a-ad19d28599db"
      },
      "execution_count": null,
      "outputs": [
        {
          "output_type": "error",
          "ename": "SyntaxError",
          "evalue": "ignored",
          "traceback": [
            "\u001b[0;36m  File \u001b[0;32m\"<ipython-input-33-6cc843beb5f6>\"\u001b[0;36m, line \u001b[0;32m1\u001b[0m\n\u001b[0;31m    else :\u001b[0m\n\u001b[0m    ^\u001b[0m\n\u001b[0;31mSyntaxError\u001b[0m\u001b[0;31m:\u001b[0m invalid syntax\n"
          ]
        }
      ]
    },
    {
      "cell_type": "code",
      "source": [
        "finally :\n",
        "  print('finally')\n",
        "\n",
        "#without try block final block is invalid"
      ],
      "metadata": {
        "colab": {
          "base_uri": "https://localhost:8080/",
          "height": 131
        },
        "id": "lgaWy9K7guJZ",
        "outputId": "59a91499-d380-4350-a277-12858415e066"
      },
      "execution_count": null,
      "outputs": [
        {
          "output_type": "error",
          "ename": "SyntaxError",
          "evalue": "ignored",
          "traceback": [
            "\u001b[0;36m  File \u001b[0;32m\"<ipython-input-34-45bbd6dad7ae>\"\u001b[0;36m, line \u001b[0;32m1\u001b[0m\n\u001b[0;31m    finally :\u001b[0m\n\u001b[0m    ^\u001b[0m\n\u001b[0;31mSyntaxError\u001b[0m\u001b[0;31m:\u001b[0m invalid syntax\n"
          ]
        }
      ]
    },
    {
      "cell_type": "code",
      "source": [
        "try :\n",
        "  print('try')\n",
        "\n",
        "except :\n",
        "  print('except')"
      ],
      "metadata": {
        "colab": {
          "base_uri": "https://localhost:8080/"
        },
        "id": "pq80Dz6Eg1JG",
        "outputId": "0082f137-66f1-44f7-80f1-775abbdf5937"
      },
      "execution_count": null,
      "outputs": [
        {
          "output_type": "stream",
          "name": "stdout",
          "text": [
            "try\n"
          ]
        }
      ]
    },
    {
      "cell_type": "code",
      "source": [
        "try :\n",
        "  print('try')\n",
        "else :\n",
        "  print('else')\n",
        "\n",
        "# else block is invalid without except block"
      ],
      "metadata": {
        "colab": {
          "base_uri": "https://localhost:8080/",
          "height": 131
        },
        "id": "QwWFBZsOhDUU",
        "outputId": "79e8b46a-06d0-4312-a2b6-f6441fd17c62"
      },
      "execution_count": null,
      "outputs": [
        {
          "output_type": "error",
          "ename": "SyntaxError",
          "evalue": "ignored",
          "traceback": [
            "\u001b[0;36m  File \u001b[0;32m\"<ipython-input-36-b4918841d1b2>\"\u001b[0;36m, line \u001b[0;32m3\u001b[0m\n\u001b[0;31m    else :\u001b[0m\n\u001b[0m    ^\u001b[0m\n\u001b[0;31mSyntaxError\u001b[0m\u001b[0;31m:\u001b[0m invalid syntax\n"
          ]
        }
      ]
    },
    {
      "cell_type": "code",
      "source": [
        "try :\n",
        "  print('try')\n",
        "\n",
        "finally:\n",
        "  print('finally')\n",
        "\n",
        "# try finally blocks will work without except, else blocks"
      ],
      "metadata": {
        "colab": {
          "base_uri": "https://localhost:8080/"
        },
        "id": "4RLCyzKGhQ-r",
        "outputId": "25b6a40d-a2e9-4221-aac5-4c3d757057f3"
      },
      "execution_count": null,
      "outputs": [
        {
          "output_type": "stream",
          "name": "stdout",
          "text": [
            "try\n",
            "finally\n"
          ]
        }
      ]
    },
    {
      "cell_type": "code",
      "source": [
        "try :\n",
        "  print('try')\n",
        "else :\n",
        "  print('else')\n",
        "\n",
        "except :\n",
        "  print('except')\n",
        "\n",
        "#except should be after try block"
      ],
      "metadata": {
        "colab": {
          "base_uri": "https://localhost:8080/",
          "height": 131
        },
        "id": "2OpiGj7Xhavp",
        "outputId": "6a32793a-15f6-4692-a458-521fa49e1ec3"
      },
      "execution_count": null,
      "outputs": [
        {
          "output_type": "error",
          "ename": "SyntaxError",
          "evalue": "ignored",
          "traceback": [
            "\u001b[0;36m  File \u001b[0;32m\"<ipython-input-39-73dc51af2b38>\"\u001b[0;36m, line \u001b[0;32m3\u001b[0m\n\u001b[0;31m    else :\u001b[0m\n\u001b[0m    ^\u001b[0m\n\u001b[0;31mSyntaxError\u001b[0m\u001b[0;31m:\u001b[0m invalid syntax\n"
          ]
        }
      ]
    },
    {
      "cell_type": "code",
      "source": [
        "try :\n",
        "  print('try')\n",
        "else :\n",
        "  print('else')\n",
        "\n",
        "finally :\n",
        "  print('fianllu')\n",
        "\n",
        "# else block will not work without except block"
      ],
      "metadata": {
        "colab": {
          "base_uri": "https://localhost:8080/",
          "height": 131
        },
        "id": "GiNRNsCXh6lq",
        "outputId": "cbcd876d-e091-47e0-e510-4012b1773d33"
      },
      "execution_count": null,
      "outputs": [
        {
          "output_type": "error",
          "ename": "SyntaxError",
          "evalue": "ignored",
          "traceback": [
            "\u001b[0;36m  File \u001b[0;32m\"<ipython-input-41-6cfff36911e9>\"\u001b[0;36m, line \u001b[0;32m3\u001b[0m\n\u001b[0;31m    else :\u001b[0m\n\u001b[0m    ^\u001b[0m\n\u001b[0;31mSyntaxError\u001b[0m\u001b[0;31m:\u001b[0m invalid syntax\n"
          ]
        }
      ]
    },
    {
      "cell_type": "code",
      "source": [
        "try :\n",
        "  print('try')\n",
        "\n",
        "except :\n",
        "  print('except')\n",
        "\n",
        "else :\n",
        "  print('else')\n",
        "\n",
        "finally :\n",
        "  print('fianlly')"
      ],
      "metadata": {
        "colab": {
          "base_uri": "https://localhost:8080/"
        },
        "id": "rYdiYo-QiCh7",
        "outputId": "9de23807-60ac-436e-8f9d-2f8270e5edb4"
      },
      "execution_count": null,
      "outputs": [
        {
          "output_type": "stream",
          "name": "stdout",
          "text": [
            "try\n",
            "else\n",
            "fianlly\n"
          ]
        }
      ]
    },
    {
      "cell_type": "code",
      "source": [
        "try :\n",
        "  print('try')\n",
        "\n",
        "except :\n",
        "  print('except')\n",
        "try :\n",
        "  print('try1')\n",
        "\n",
        "finally :\n",
        "  print('fianlly')"
      ],
      "metadata": {
        "colab": {
          "base_uri": "https://localhost:8080/"
        },
        "id": "qlIRHWeyiP9p",
        "outputId": "68f8af04-44eb-466d-b5cf-c934b2f81ca4"
      },
      "execution_count": null,
      "outputs": [
        {
          "output_type": "stream",
          "name": "stdout",
          "text": [
            "try\n",
            "try1\n",
            "fianlly\n"
          ]
        }
      ]
    },
    {
      "cell_type": "code",
      "source": [
        "try :\n",
        "  print('try')\n",
        "\n",
        "except :\n",
        "  print('except')\n",
        "\n",
        "try :\n",
        "  print('try1')\n",
        "\n",
        "else :\n",
        "  print('else')\n",
        "\n",
        "# first try,except is one block of code and next try ,else is another block of code.\n",
        "#without except block else block will not work"
      ],
      "metadata": {
        "colab": {
          "base_uri": "https://localhost:8080/",
          "height": 131
        },
        "id": "Ka8OrKNHibP4",
        "outputId": "9eb7e3d7-02d6-41cb-efd6-1f1d40343378"
      },
      "execution_count": null,
      "outputs": [
        {
          "output_type": "error",
          "ename": "SyntaxError",
          "evalue": "ignored",
          "traceback": [
            "\u001b[0;36m  File \u001b[0;32m\"<ipython-input-46-5519c5d6840f>\"\u001b[0;36m, line \u001b[0;32m10\u001b[0m\n\u001b[0;31m    else :\u001b[0m\n\u001b[0m    ^\u001b[0m\n\u001b[0;31mSyntaxError\u001b[0m\u001b[0;31m:\u001b[0m invalid syntax\n"
          ]
        }
      ]
    },
    {
      "cell_type": "code",
      "source": [
        "try :\n",
        "  print('try')\n",
        "\n",
        "except xxxx :\n",
        "  print('except')\n",
        "\n",
        "except yyyyyy:\n",
        "  print('except2')"
      ],
      "metadata": {
        "colab": {
          "base_uri": "https://localhost:8080/"
        },
        "id": "xdN5ehdqiqck",
        "outputId": "61ea2b8c-0e98-4865-ebd1-3a74d68d4843"
      },
      "execution_count": null,
      "outputs": [
        {
          "output_type": "stream",
          "name": "stdout",
          "text": [
            "try\n"
          ]
        }
      ]
    },
    {
      "cell_type": "code",
      "source": [
        "try :\n",
        "  print('try')\n",
        "\n",
        "except xxxx :\n",
        "  print('except')\n",
        "\n",
        "else :\n",
        "  print('else1')\n",
        "\n",
        "else :\n",
        "  print('else2')\n",
        "\n",
        "# more than one else block is not possible in one try block"
      ],
      "metadata": {
        "colab": {
          "base_uri": "https://localhost:8080/",
          "height": 131
        },
        "id": "_4AygXHVjLWE",
        "outputId": "c9f87d45-3d44-4f7c-9749-e4bf75b7d600"
      },
      "execution_count": null,
      "outputs": [
        {
          "output_type": "error",
          "ename": "SyntaxError",
          "evalue": "ignored",
          "traceback": [
            "\u001b[0;36m  File \u001b[0;32m\"<ipython-input-49-39992a4930d3>\"\u001b[0;36m, line \u001b[0;32m10\u001b[0m\n\u001b[0;31m    else :\u001b[0m\n\u001b[0m    ^\u001b[0m\n\u001b[0;31mSyntaxError\u001b[0m\u001b[0;31m:\u001b[0m invalid syntax\n"
          ]
        }
      ]
    },
    {
      "cell_type": "code",
      "source": [
        "try :\n",
        "  print('try')\n",
        "\n",
        "except xxxx :\n",
        "  print('except')\n",
        "\n",
        "finally :\n",
        "  print('finally1')\n",
        "\n",
        "finally :\n",
        "  print('finally2')\n",
        "\n",
        "# for one try block more than one finally blocks are not acceptable"
      ],
      "metadata": {
        "colab": {
          "base_uri": "https://localhost:8080/",
          "height": 131
        },
        "id": "v0pNpy3Hjbji",
        "outputId": "9535bbc9-2dae-4e93-fdbd-c1563b19604f"
      },
      "execution_count": null,
      "outputs": [
        {
          "output_type": "error",
          "ename": "SyntaxError",
          "evalue": "ignored",
          "traceback": [
            "\u001b[0;36m  File \u001b[0;32m\"<ipython-input-50-27a326bcc746>\"\u001b[0;36m, line \u001b[0;32m10\u001b[0m\n\u001b[0;31m    finally :\u001b[0m\n\u001b[0m    ^\u001b[0m\n\u001b[0;31mSyntaxError\u001b[0m\u001b[0;31m:\u001b[0m invalid syntax\n"
          ]
        }
      ]
    },
    {
      "cell_type": "code",
      "source": [
        "try :\n",
        "  print('try')\n",
        "\n",
        "except :\n",
        "  print('except')\n",
        "\n",
        "if 10>5 :\n",
        "  print('good')\n",
        "else :\n",
        "  print('Bad')"
      ],
      "metadata": {
        "colab": {
          "base_uri": "https://localhost:8080/"
        },
        "id": "H3tcC90Nj0xq",
        "outputId": "3978cee3-ba93-42ed-af36-e10c67bbd3ee"
      },
      "execution_count": null,
      "outputs": [
        {
          "output_type": "stream",
          "name": "stdout",
          "text": [
            "try\n",
            "good\n"
          ]
        }
      ]
    },
    {
      "cell_type": "code",
      "source": [
        "try :\n",
        "  print('try')\n",
        "\n",
        "print('its ok')\n",
        "\n",
        "else :\n",
        "  print('else')\n",
        "\n",
        "# we should not write any independent statement inbetween try except blocks"
      ],
      "metadata": {
        "colab": {
          "base_uri": "https://localhost:8080/",
          "height": 131
        },
        "id": "aYtnplhDkIMh",
        "outputId": "49ab7a97-b7fc-43c5-e726-1e1e554236d7"
      },
      "execution_count": null,
      "outputs": [
        {
          "output_type": "error",
          "ename": "SyntaxError",
          "evalue": "ignored",
          "traceback": [
            "\u001b[0;36m  File \u001b[0;32m\"<ipython-input-53-12e5d4b8be19>\"\u001b[0;36m, line \u001b[0;32m4\u001b[0m\n\u001b[0;31m    print('its ok')\u001b[0m\n\u001b[0m    ^\u001b[0m\n\u001b[0;31mSyntaxError\u001b[0m\u001b[0;31m:\u001b[0m invalid syntax\n"
          ]
        }
      ]
    },
    {
      "cell_type": "code",
      "source": [
        "try :\n",
        "  print('try')\n",
        "\n",
        "except xxxx :\n",
        "  print('except')\n",
        "\n",
        "print('Hello') #independent stateemnt between two except blocks is invailid\n",
        "\n",
        "except yyyyyy:\n",
        "  print('except2')"
      ],
      "metadata": {
        "colab": {
          "base_uri": "https://localhost:8080/",
          "height": 131
        },
        "id": "sepDFWlikhp4",
        "outputId": "1a346d86-496e-41da-b60a-b974f12a6588"
      },
      "execution_count": null,
      "outputs": [
        {
          "output_type": "error",
          "ename": "SyntaxError",
          "evalue": "ignored",
          "traceback": [
            "\u001b[0;36m  File \u001b[0;32m\"<ipython-input-55-47959bbb4388>\"\u001b[0;36m, line \u001b[0;32m9\u001b[0m\n\u001b[0;31m    except yyyyyy:\u001b[0m\n\u001b[0m    ^\u001b[0m\n\u001b[0;31mSyntaxError\u001b[0m\u001b[0;31m:\u001b[0m invalid syntax\n"
          ]
        }
      ]
    },
    {
      "cell_type": "code",
      "source": [
        "try :\n",
        "  print('try')\n",
        "\n",
        "except xxxx :\n",
        "  print('except')\n",
        "\n",
        "print('hello world') # indepandent statement between exceot and else blocks is invalid\n",
        "\n",
        "else :\n",
        "  print('else1')"
      ],
      "metadata": {
        "colab": {
          "base_uri": "https://localhost:8080/",
          "height": 131
        },
        "id": "jLp4kLQclCxv",
        "outputId": "4c3c2047-bc39-4a8f-bb0c-591953880a1f"
      },
      "execution_count": null,
      "outputs": [
        {
          "output_type": "error",
          "ename": "SyntaxError",
          "evalue": "ignored",
          "traceback": [
            "\u001b[0;36m  File \u001b[0;32m\"<ipython-input-57-85141873d34f>\"\u001b[0;36m, line \u001b[0;32m9\u001b[0m\n\u001b[0;31m    else :\u001b[0m\n\u001b[0m    ^\u001b[0m\n\u001b[0;31mSyntaxError\u001b[0m\u001b[0;31m:\u001b[0m invalid syntax\n"
          ]
        }
      ]
    },
    {
      "cell_type": "code",
      "source": [
        "try :\n",
        "  print('try')\n",
        "\n",
        "except xxxx :\n",
        "  print('except')\n",
        "\n",
        "print('hello world') # indepandent statement between except and finally blocks is invalid\n",
        "\n",
        "finally :\n",
        "  print('finally')"
      ],
      "metadata": {
        "colab": {
          "base_uri": "https://localhost:8080/",
          "height": 131
        },
        "id": "Hk8HwGrYliPw",
        "outputId": "95a6a87c-5d6c-464e-b4fe-421355e77d57"
      },
      "execution_count": null,
      "outputs": [
        {
          "output_type": "error",
          "ename": "SyntaxError",
          "evalue": "ignored",
          "traceback": [
            "\u001b[0;36m  File \u001b[0;32m\"<ipython-input-58-080698010c1a>\"\u001b[0;36m, line \u001b[0;32m9\u001b[0m\n\u001b[0;31m    finally :\u001b[0m\n\u001b[0m    ^\u001b[0m\n\u001b[0;31mSyntaxError\u001b[0m\u001b[0;31m:\u001b[0m invalid syntax\n"
          ]
        }
      ]
    },
    {
      "cell_type": "code",
      "source": [
        "try :\n",
        "  try :\n",
        "    print('inner try')\n",
        "  \n",
        "  except :\n",
        "    print('inner except')\n",
        "\n",
        "  finally :\n",
        "    print('inner finally')\n",
        "\n",
        "except :\n",
        "  print('outer except')"
      ],
      "metadata": {
        "colab": {
          "base_uri": "https://localhost:8080/"
        },
        "id": "sYrjxmVyl2yq",
        "outputId": "b3a09b0d-04d0-4c35-9e5c-80a8dc7e3469"
      },
      "execution_count": null,
      "outputs": [
        {
          "output_type": "stream",
          "name": "stdout",
          "text": [
            "inner try\n",
            "inner finally\n"
          ]
        }
      ]
    },
    {
      "cell_type": "code",
      "source": [
        "try :\n",
        "  print('try')\n",
        "\n",
        "except :\n",
        "  try :\n",
        "    print('inner try')\n",
        "  \n",
        "  except :\n",
        "    print('inner except')"
      ],
      "metadata": {
        "colab": {
          "base_uri": "https://localhost:8080/"
        },
        "id": "2PvL0DyKmWNe",
        "outputId": "45aabf8c-3702-485d-b07d-febdc6bf6d24"
      },
      "execution_count": null,
      "outputs": [
        {
          "output_type": "stream",
          "name": "stdout",
          "text": [
            "try\n"
          ]
        }
      ]
    },
    {
      "cell_type": "code",
      "source": [
        "try :\n",
        "  print('try')\n",
        "\n",
        "except :\n",
        "  print('except')\n",
        "\n",
        "else :\n",
        "  try :\n",
        "    print('inner try')\n",
        "  \n",
        "  finally :\n",
        "    print('finally')"
      ],
      "metadata": {
        "colab": {
          "base_uri": "https://localhost:8080/"
        },
        "id": "SHsoVdNjmldK",
        "outputId": "1a2c0fac-643a-4f4a-aa76-ef9e00645337"
      },
      "execution_count": null,
      "outputs": [
        {
          "output_type": "stream",
          "name": "stdout",
          "text": [
            "try\n",
            "inner try\n",
            "finally\n"
          ]
        }
      ]
    },
    {
      "cell_type": "code",
      "source": [
        "try :\n",
        "  print('try')\n",
        "\n",
        "except :\n",
        "  print('except')\n",
        "\n",
        "finally :\n",
        "  try :\n",
        "    print('inner try')\n",
        "  \n",
        "  except:\n",
        "    print('inner except')"
      ],
      "metadata": {
        "colab": {
          "base_uri": "https://localhost:8080/"
        },
        "id": "XH7jy60tm-sK",
        "outputId": "44880ce4-30ff-4467-92e2-b48966d7acb5"
      },
      "execution_count": null,
      "outputs": [
        {
          "output_type": "stream",
          "name": "stdout",
          "text": [
            "try\n",
            "inner try\n"
          ]
        }
      ]
    },
    {
      "cell_type": "code",
      "source": [
        "try :\n",
        "  try :\n",
        "    print('try')\n",
        "  #inner try block is having without except/finally blocks. so, its invalid\n",
        "  \n",
        "except :\n",
        "  print('except')\n"
      ],
      "metadata": {
        "colab": {
          "base_uri": "https://localhost:8080/",
          "height": 131
        },
        "id": "iFfq8bQtnT7Q",
        "outputId": "2aba2df3-4c1c-4d28-c1c0-f479b548d147"
      },
      "execution_count": null,
      "outputs": [
        {
          "output_type": "error",
          "ename": "IndentationError",
          "evalue": "ignored",
          "traceback": [
            "\u001b[0;36m  File \u001b[0;32m\"<ipython-input-63-87095fcb1f16>\"\u001b[0;36m, line \u001b[0;32m6\u001b[0m\n\u001b[0;31m    except :\u001b[0m\n\u001b[0m            ^\u001b[0m\n\u001b[0;31mIndentationError\u001b[0m\u001b[0;31m:\u001b[0m unexpected unindent\n"
          ]
        }
      ]
    },
    {
      "cell_type": "code",
      "source": [
        "try :\n",
        "  try :\n",
        "    print('try')\n",
        "  finally :\n",
        "    print('finally')\n",
        "  #inner try block is having without except/finally blocks. so, its invalid\n",
        "  \n",
        "except :\n",
        "  print('except')"
      ],
      "metadata": {
        "colab": {
          "base_uri": "https://localhost:8080/"
        },
        "id": "K6rj7NEFn2x5",
        "outputId": "6ea7db19-fcc7-44ea-e5b0-0c6ceedc907f"
      },
      "execution_count": null,
      "outputs": [
        {
          "output_type": "stream",
          "name": "stdout",
          "text": [
            "try\n",
            "finally\n"
          ]
        }
      ]
    },
    {
      "cell_type": "code",
      "source": [
        "# Types of Exceptions\n",
        "\n",
        "#1) predefined Exceptions: the exceptions which are raised automatically by the PVM .Ex:print(10/0)\n",
        "#2)User defined Exceptions\n",
        "\n"
      ],
      "metadata": {
        "id": "yQy8t40Yovwz"
      },
      "execution_count": null,
      "outputs": []
    },
    {
      "cell_type": "code",
      "source": [
        "#predefined exceptions \n",
        "\n",
        "print(10/0)\n",
        "x = int('ten')\n",
        "print(x)"
      ],
      "metadata": {
        "colab": {
          "base_uri": "https://localhost:8080/",
          "height": 236
        },
        "id": "hS-uNICMtEOO",
        "outputId": "9106d823-1a16-4511-b9a4-5c2d601a5657"
      },
      "execution_count": null,
      "outputs": [
        {
          "output_type": "error",
          "ename": "ZeroDivisionError",
          "evalue": "ignored",
          "traceback": [
            "\u001b[0;31m---------------------------------------------------------------------------\u001b[0m",
            "\u001b[0;31mZeroDivisionError\u001b[0m                         Traceback (most recent call last)",
            "\u001b[0;32m<ipython-input-66-fde9b8560f14>\u001b[0m in \u001b[0;36m<cell line: 3>\u001b[0;34m()\u001b[0m\n\u001b[1;32m      1\u001b[0m \u001b[0;31m#predefined exceptions\u001b[0m\u001b[0;34m\u001b[0m\u001b[0;34m\u001b[0m\u001b[0m\n\u001b[1;32m      2\u001b[0m \u001b[0;34m\u001b[0m\u001b[0m\n\u001b[0;32m----> 3\u001b[0;31m \u001b[0mprint\u001b[0m\u001b[0;34m(\u001b[0m\u001b[0;36m10\u001b[0m\u001b[0;34m/\u001b[0m\u001b[0;36m0\u001b[0m\u001b[0;34m)\u001b[0m\u001b[0;34m\u001b[0m\u001b[0;34m\u001b[0m\u001b[0m\n\u001b[0m\u001b[1;32m      4\u001b[0m \u001b[0mx\u001b[0m \u001b[0;34m=\u001b[0m \u001b[0mint\u001b[0m\u001b[0;34m(\u001b[0m\u001b[0;34m'ten'\u001b[0m\u001b[0;34m)\u001b[0m\u001b[0;34m\u001b[0m\u001b[0;34m\u001b[0m\u001b[0m\n\u001b[1;32m      5\u001b[0m \u001b[0mprint\u001b[0m\u001b[0;34m(\u001b[0m\u001b[0mx\u001b[0m\u001b[0;34m)\u001b[0m\u001b[0;34m\u001b[0m\u001b[0;34m\u001b[0m\u001b[0m\n",
            "\u001b[0;31mZeroDivisionError\u001b[0m: division by zero"
          ]
        }
      ]
    },
    {
      "cell_type": "code",
      "source": [
        "#user defined exceptions\n",
        "\n",
        "class fundserror(Exception):\n",
        "  def __init__(self,msg):\n",
        "    self.msg = msg\n",
        "#bank app\n",
        "\n",
        "def withdrawl(amount):\n",
        "  if amount >= balance :\n",
        "    raise  fundserror('In Sufficient Funds in your account')\n",
        "  else :\n",
        "    print('process request')"
      ],
      "metadata": {
        "id": "ewGTXxSTtNPd"
      },
      "execution_count": null,
      "outputs": []
    },
    {
      "cell_type": "code",
      "source": [
        "balance = 5000\n",
        "withdrawl(6000)"
      ],
      "metadata": {
        "colab": {
          "base_uri": "https://localhost:8080/",
          "height": 305
        },
        "id": "zm6svJCytlQC",
        "outputId": "683ae88a-24d3-4536-f272-0e37bb398730"
      },
      "execution_count": null,
      "outputs": [
        {
          "output_type": "error",
          "ename": "fundserror",
          "evalue": "ignored",
          "traceback": [
            "\u001b[0;31m---------------------------------------------------------------------------\u001b[0m",
            "\u001b[0;31mfundserror\u001b[0m                                Traceback (most recent call last)",
            "\u001b[0;32m<ipython-input-79-f71d25f8a85a>\u001b[0m in \u001b[0;36m<cell line: 2>\u001b[0;34m()\u001b[0m\n\u001b[1;32m      1\u001b[0m \u001b[0mbalance\u001b[0m \u001b[0;34m=\u001b[0m \u001b[0;36m5000\u001b[0m\u001b[0;34m\u001b[0m\u001b[0;34m\u001b[0m\u001b[0m\n\u001b[0;32m----> 2\u001b[0;31m \u001b[0mwithdrawl\u001b[0m\u001b[0;34m(\u001b[0m\u001b[0;36m6000\u001b[0m\u001b[0;34m)\u001b[0m\u001b[0;34m\u001b[0m\u001b[0;34m\u001b[0m\u001b[0m\n\u001b[0m",
            "\u001b[0;32m<ipython-input-78-f0f8ca7de43c>\u001b[0m in \u001b[0;36mwithdrawl\u001b[0;34m(amount)\u001b[0m\n\u001b[1;32m      8\u001b[0m \u001b[0;32mdef\u001b[0m \u001b[0mwithdrawl\u001b[0m\u001b[0;34m(\u001b[0m\u001b[0mamount\u001b[0m\u001b[0;34m)\u001b[0m\u001b[0;34m:\u001b[0m\u001b[0;34m\u001b[0m\u001b[0;34m\u001b[0m\u001b[0m\n\u001b[1;32m      9\u001b[0m   \u001b[0;32mif\u001b[0m \u001b[0mamount\u001b[0m \u001b[0;34m>=\u001b[0m \u001b[0mbalance\u001b[0m \u001b[0;34m:\u001b[0m\u001b[0;34m\u001b[0m\u001b[0;34m\u001b[0m\u001b[0m\n\u001b[0;32m---> 10\u001b[0;31m     \u001b[0;32mraise\u001b[0m  \u001b[0mfundserror\u001b[0m\u001b[0;34m(\u001b[0m\u001b[0;34m'In Sufficient Funds in your account'\u001b[0m\u001b[0;34m)\u001b[0m\u001b[0;34m\u001b[0m\u001b[0;34m\u001b[0m\u001b[0m\n\u001b[0m\u001b[1;32m     11\u001b[0m   \u001b[0;32melse\u001b[0m \u001b[0;34m:\u001b[0m\u001b[0;34m\u001b[0m\u001b[0;34m\u001b[0m\u001b[0m\n\u001b[1;32m     12\u001b[0m     \u001b[0mprint\u001b[0m\u001b[0;34m(\u001b[0m\u001b[0;34m'process request'\u001b[0m\u001b[0;34m)\u001b[0m\u001b[0;34m\u001b[0m\u001b[0;34m\u001b[0m\u001b[0m\n",
            "\u001b[0;31mfundserror\u001b[0m: In Sufficient Funds in your account"
          ]
        }
      ]
    },
    {
      "cell_type": "code",
      "source": [
        "# Matrimony Websites\n",
        "\n",
        "# customer age should be 1bove 18and below 60. if age below 60 it should give too youg error.\\\n",
        "#if age above 60 it sould give too old error"
      ],
      "metadata": {
        "id": "gu9b2L0BvVFN"
      },
      "execution_count": null,
      "outputs": []
    },
    {
      "cell_type": "code",
      "source": [
        "class Tooyoungerror(Exception):\n",
        "  def __init__ (self,msg):\n",
        "    self.msg = msg\n",
        "\n",
        "\n",
        "class TooOldError(Exception):\n",
        "  def __init__(self,msg):\n",
        "    self.msg=msg\n",
        "\n",
        "\n",
        "age = int(input('enter age...'))\n",
        "\n",
        "if age < 18:\n",
        "  raise Tooyoungerror('you should wait for some time')\n",
        "\n",
        "elif age>60 :\n",
        "  raise TooOldError('its website only for below 40 years people')\n",
        "\n",
        "else :\n",
        "  print('you will get the matches by yur mail')"
      ],
      "metadata": {
        "colab": {
          "base_uri": "https://localhost:8080/",
          "height": 253
        },
        "id": "bWcitJJ9z6wu",
        "outputId": "9f3c08b5-771c-4f04-80fd-d6e334c15ce6"
      },
      "execution_count": null,
      "outputs": [
        {
          "name": "stdout",
          "output_type": "stream",
          "text": [
            "enter age...67\n"
          ]
        },
        {
          "output_type": "error",
          "ename": "TooOldError",
          "evalue": "ignored",
          "traceback": [
            "\u001b[0;31m---------------------------------------------------------------------------\u001b[0m",
            "\u001b[0;31mTooOldError\u001b[0m                               Traceback (most recent call last)",
            "\u001b[0;32m<ipython-input-81-9c1d75179823>\u001b[0m in \u001b[0;36m<cell line: 13>\u001b[0;34m()\u001b[0m\n\u001b[1;32m     15\u001b[0m \u001b[0;34m\u001b[0m\u001b[0m\n\u001b[1;32m     16\u001b[0m \u001b[0;32melif\u001b[0m \u001b[0mage\u001b[0m\u001b[0;34m>\u001b[0m\u001b[0;36m60\u001b[0m \u001b[0;34m:\u001b[0m\u001b[0;34m\u001b[0m\u001b[0;34m\u001b[0m\u001b[0m\n\u001b[0;32m---> 17\u001b[0;31m   \u001b[0;32mraise\u001b[0m \u001b[0mTooOldError\u001b[0m\u001b[0;34m(\u001b[0m\u001b[0;34m'its website only for below 40 years people'\u001b[0m\u001b[0;34m)\u001b[0m\u001b[0;34m\u001b[0m\u001b[0;34m\u001b[0m\u001b[0m\n\u001b[0m\u001b[1;32m     18\u001b[0m \u001b[0;34m\u001b[0m\u001b[0m\n\u001b[1;32m     19\u001b[0m \u001b[0;32melse\u001b[0m \u001b[0;34m:\u001b[0m\u001b[0;34m\u001b[0m\u001b[0;34m\u001b[0m\u001b[0m\n",
            "\u001b[0;31mTooOldError\u001b[0m: its website only for below 40 years people"
          ]
        }
      ]
    },
    {
      "cell_type": "code",
      "source": [],
      "metadata": {
        "id": "DSAijxrm09NT"
      },
      "execution_count": null,
      "outputs": []
    }
  ]
}