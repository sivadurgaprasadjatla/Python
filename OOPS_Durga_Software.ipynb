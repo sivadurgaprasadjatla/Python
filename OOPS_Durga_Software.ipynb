{
  "nbformat": 4,
  "nbformat_minor": 0,
  "metadata": {
    "colab": {
      "provenance": [],
      "authorship_tag": "ABX9TyOtif8D/OvIFzQYDHASrIav",
      "include_colab_link": true
    },
    "kernelspec": {
      "name": "python3",
      "display_name": "Python 3"
    },
    "language_info": {
      "name": "python"
    }
  },
  "cells": [
    {
      "cell_type": "markdown",
      "metadata": {
        "id": "view-in-github",
        "colab_type": "text"
      },
      "source": [
        "<a href=\"https://colab.research.google.com/github/sivadurgaprasadjatla/Python/blob/python-basic-assignment-1/OOPS_Durga_Software.ipynb\" target=\"_parent\"><img src=\"https://colab.research.google.com/assets/colab-badge.svg\" alt=\"Open In Colab\"/></a>"
      ]
    },
    {
      "cell_type": "markdown",
      "source": [],
      "metadata": {
        "id": "3jF5p5Z3Pt3E"
      }
    },
    {
      "cell_type": "code",
      "source": [
        "'''\n",
        "I would like to build 12 floor building in my village. So, for that i first go to civil engineer for a plan . He will visit our site and will \n",
        "prepare design/ plan in charts/autocad. based on that plan i will implliment my house . means i will try to get the physicality of that plan.\n",
        "based on that physical existence i may apply for all my site in Ap( if i have more sites in AP).Based on one plan i can build 'N' number of \n",
        "buildings.\n",
        "\n",
        "\n",
        "plan/ design - class\n",
        "physical form of plan i.e, physcial building  - object\n",
        "\n",
        "'''"
      ],
      "metadata": {
        "colab": {
          "base_uri": "https://localhost:8080/",
          "height": 87
        },
        "id": "7khsWeJYPtA0",
        "outputId": "dc8b528f-87a2-4a8a-f27a-7e870de9d71d"
      },
      "execution_count": null,
      "outputs": [
        {
          "output_type": "execute_result",
          "data": {
            "text/plain": [
              "\"\\nI would like to build 12 floor building in my village. So, for that i first go to civil engineer for a plan . He will visit our site and will \\nprepare design/ plan in charts/autocad. based on that plan i will implliment my house . means i will try to get the physicality of that plan.\\nbased on that physical existence i may apply for all my site in Ap( if i have more sites in AP).Based on one plan i can build 'N' number of \\nbuildings.\\n\\n\\nplan/ design - class\\nphysical form of plan i.e, physcial building  - object\\n\\n\""
            ],
            "application/vnd.google.colaboratory.intrinsic+json": {
              "type": "string"
            }
          },
          "metadata": {},
          "execution_count": 2
        }
      ]
    },
    {
      "cell_type": "code",
      "source": [
        "'''\n",
        "I would like to purcahse a VU32inch ultra CD32 model tv. I gone to shop1 and he told me 15k price. then i gone to shop 2 and he told me 13k price.\n",
        "i gone to amazon website for the same model tv, there is 12.5k . I went to flipkart, there he said 12k for the same model.\n",
        "\n",
        "here , tv model is same. as tv model is same , all the specificatios will be same. the company will manufactures the same model tv's with \n",
        "same specifications. before gong to manufacture the 'n' numbers of Tvs of same model , the company will prepare design for that. \n",
        "and then they will make production of 'n' number of tv's. \n",
        "\n",
        "design - class.\n",
        "object - physical form Tv's which are manufactured by using design of that model.\n",
        "\n",
        "Note : for single class / design, we may have multiple objects (physical form of classes) .\n",
        "\n",
        "'''"
      ],
      "metadata": {
        "colab": {
          "base_uri": "https://localhost:8080/",
          "height": 122
        },
        "id": "BUxSoNmQRiCX",
        "outputId": "4bbf4400-342d-47ce-b1cd-2da14a220ef7"
      },
      "execution_count": null,
      "outputs": [
        {
          "output_type": "execute_result",
          "data": {
            "text/plain": [
              "\"\\nI would like to purcahse a VU32inch ultra CD32 model tv. I gone to shop1 and he told me 15k price. then i gone to shop 2 and he told me 13k price.\\ni gone to amazon website for the same model tv, there is 12.5k . I went to flipkart, there he said 12k for the same model.\\n\\nhere , tv model is same. as tv model is same , all the specificatios will be same. the company will manufactures the same model tv's with \\nsame specifications. before gong to manufacture the 'n' numbers of Tvs of same model , the company will prepare design for that. \\nand then they will make production of 'n' number of tv's. \\n\\ndesign - class.\\nobject - physical form Tv's which are manufactured by using design of that model.\\n\\nNote : for single class / design, we may have multiple objects (physical form of classes) .\\n\\n\""
            ],
            "application/vnd.google.colaboratory.intrinsic+json": {
              "type": "string"
            }
          },
          "metadata": {},
          "execution_count": 3
        }
      ]
    },
    {
      "cell_type": "code",
      "source": [
        "'''\n",
        "if wwe observe the lord ganesh idles near to vinayakachaviti, the maker first prepare one mould with some cement material and the he will \n",
        "try to make the 'n' number of idles with that mould piece. \n",
        "\n",
        "Mould - class\n",
        "physicality of idles using that mould - object\n",
        "\n",
        "'''"
      ],
      "metadata": {
        "colab": {
          "base_uri": "https://localhost:8080/",
          "height": 53
        },
        "id": "ORdmmrYdTsWF",
        "outputId": "d5d443f8-296b-45b4-9e89-ee791f06a33f"
      },
      "execution_count": null,
      "outputs": [
        {
          "output_type": "execute_result",
          "data": {
            "text/plain": [
              "\"\\nif wwe observe the lord ganesh idles near to vinayakachaviti, the maker first prepare one mould with some cement material and the he will \\nttry to make the 'n' number of idles with that mould piece. \\n\\nMould - class\\nphysicality of idles using that mould - object\\n\\n\""
            ],
            "application/vnd.google.colaboratory.intrinsic+json": {
              "type": "string"
            }
          },
          "metadata": {},
          "execution_count": 4
        }
      ]
    },
    {
      "cell_type": "code",
      "source": [
        "'''\n",
        "The bowl of Idly maker - class\n",
        "Idly which are maked by the Idly Bowl - object\n",
        "\n",
        "'''"
      ],
      "metadata": {
        "colab": {
          "base_uri": "https://localhost:8080/",
          "height": 35
        },
        "id": "pRua1vvyUu1b",
        "outputId": "51825286-34af-46f0-e38e-5457cd79f749"
      },
      "execution_count": null,
      "outputs": [
        {
          "output_type": "execute_result",
          "data": {
            "text/plain": [
              "'\\nThe bowl of Idly maker - class\\nIdly which are maked by the Idly Bowl - object\\n\\n'"
            ],
            "application/vnd.google.colaboratory.intrinsic+json": {
              "type": "string"
            }
          },
          "metadata": {},
          "execution_count": 5
        }
      ]
    },
    {
      "cell_type": "code",
      "source": [
        "#class - the design/ plan/ array/ blueprint. it represent the  properties ( attributes of the object)  & actions (behaviour of the object).\n",
        "# object - physical existance  of class. \n"
      ],
      "metadata": {
        "id": "ozboeopiTbSZ"
      },
      "execution_count": null,
      "outputs": []
    },
    {
      "cell_type": "code",
      "source": [
        "'''\n",
        "\n",
        "Referance Variable - it is used to perform some operations on object. \n",
        "\n",
        "Ex : to do some operations in our TV , we will use remote. here , remote acts as a referance variable and tv acts as a object.\n",
        "\n",
        "if we lost the remote , we can get the same model remote in market. means we can have more that on referance variable for 1 object.\n",
        "\n",
        "if we dont have a remote(referance variable), we cant do required operations on object properly.\n",
        "\n",
        "'''"
      ],
      "metadata": {
        "colab": {
          "base_uri": "https://localhost:8080/",
          "height": 70
        },
        "id": "O3I4IxYxV7KT",
        "outputId": "45e9fb36-492a-449d-c1ab-2e40a29f1de9"
      },
      "execution_count": null,
      "outputs": [
        {
          "output_type": "execute_result",
          "data": {
            "text/plain": [
              "'\\n\\nReferance Variable - it is used to perform some operations on object. \\n\\nEx : to do some operations in our TV , we will use remote. here , remote acts as a referance variable and tv acts as a object.\\n\\nif we lost the remote , we can get the same model remote in market. means we can have more that on referance variable for 1 object.\\n\\nif we dont have a remote(referance variable), we cant do required operations on object properly.\\n\\n'"
            ],
            "application/vnd.google.colaboratory.intrinsic+json": {
              "type": "string"
            }
          },
          "metadata": {},
          "execution_count": 9
        }
      ]
    },
    {
      "cell_type": "code",
      "source": [
        "# Referance Variable - the variable which can be used to refer object is called referance variable.\n",
        "# by using referance varible , we can perform required operations on the object.\n",
        "# by using referance variable , we can invoke functionality of object.\n"
      ],
      "metadata": {
        "id": "y5yXS2PjWa0B"
      },
      "execution_count": null,
      "outputs": []
    },
    {
      "cell_type": "markdown",
      "source": [
        "# creation of class\n",
        "\n",
        "\n",
        "\n",
        "\n",
        "class name_of_class :\n",
        "\n",
        "  ''' Doc string '''\n",
        "\n",
        "  properties (variable) like name, roll no, marks\n",
        "\n",
        "  actions (methods)\n",
        "  "
      ],
      "metadata": {
        "id": "pF3_kFT_cM3A"
      }
    },
    {
      "cell_type": "code",
      "source": [
        "class student :\n",
        "  '''this is developing for sample'''\n",
        "  \n",
        "\n"
      ],
      "metadata": {
        "id": "Rkc3-YgPbrK6"
      },
      "execution_count": null,
      "outputs": []
    },
    {
      "cell_type": "code",
      "source": [
        "print(student.__doc__)"
      ],
      "metadata": {
        "colab": {
          "base_uri": "https://localhost:8080/"
        },
        "id": "IEd_5YRwcLYR",
        "outputId": "ac54ce16-826e-4714-ff2f-c00e239fda2d"
      },
      "execution_count": null,
      "outputs": [
        {
          "output_type": "stream",
          "name": "stdout",
          "text": [
            "this is developing for sample\n"
          ]
        }
      ]
    },
    {
      "cell_type": "code",
      "source": [
        "help(student)"
      ],
      "metadata": {
        "colab": {
          "base_uri": "https://localhost:8080/"
        },
        "id": "7MR6_yPYc3iS",
        "outputId": "8ca5ba67-e861-4010-ed90-09ace5e7eb51"
      },
      "execution_count": null,
      "outputs": [
        {
          "output_type": "stream",
          "name": "stdout",
          "text": [
            "Help on class student in module __main__:\n",
            "\n",
            "class student(builtins.object)\n",
            " |  this is developing for sample\n",
            " |  \n",
            " |  Data descriptors defined here:\n",
            " |  \n",
            " |  __dict__\n",
            " |      dictionary for instance variables (if defined)\n",
            " |  \n",
            " |  __weakref__\n",
            " |      list of weak references to the object (if defined)\n",
            "\n"
          ]
        }
      ]
    },
    {
      "cell_type": "code",
      "source": [
        "# Evrery object has properties and behaviour\n",
        "# properties (data) are specified by variables\n",
        "# behaviour can be specified by methods."
      ],
      "metadata": {
        "id": "XlpnrVoVdEoC"
      },
      "execution_count": null,
      "outputs": []
    },
    {
      "cell_type": "code",
      "source": [
        "# types of variables in oops programming :\n",
        "\n",
        "# 1) Instance variable (object level variable)\n",
        "# 2) static Variable (class level variable)\n",
        "# 3) local Variable (method level variable)"
      ],
      "metadata": {
        "id": "p6DXRuUDgoiT"
      },
      "execution_count": null,
      "outputs": []
    },
    {
      "cell_type": "code",
      "source": [
        "# Types of methods allowd in  Python class  :\n",
        "\n",
        "# 1) instance method\n",
        "# 2) class method\n",
        "# 3) static method"
      ],
      "metadata": {
        "id": "b5D8QtPIhKNE"
      },
      "execution_count": null,
      "outputs": []
    },
    {
      "cell_type": "code",
      "source": [
        "# Method : the functions which are mentioed in class is called Methods in OOPS."
      ],
      "metadata": {
        "id": "_zN_MtaQhzcr"
      },
      "execution_count": null,
      "outputs": []
    },
    {
      "cell_type": "code",
      "source": [
        "class Student1 :\n",
        "  def __init__(self):\n",
        "    self.name = 'Durga'\n",
        "    self.roll_no = 23\n",
        "    self.marks = 90\n",
        "\n",
        "  def talk(self) :\n",
        "    print('hello I am :', self.name)\n",
        "    print('Hello, My I roll number is :', self.roll_no)\n",
        "    print('hello my marks are :', self.marks)"
      ],
      "metadata": {
        "id": "BTKht5pJkW-C"
      },
      "execution_count": null,
      "outputs": []
    },
    {
      "cell_type": "code",
      "source": [
        "# creating referance variable (varible name given to object) and object (class name())\n",
        "\n",
        "s = Student1()\n",
        "\n",
        "# s = refernace variable, student1() = object. If we create object using class, all the data and properties in class will come to object."
      ],
      "metadata": {
        "id": "5ZA74xr1lhiK"
      },
      "execution_count": null,
      "outputs": []
    },
    {
      "cell_type": "code",
      "source": [
        "# Accessing variables in class using referance variable\n",
        "\n",
        "print(s.name)\n",
        "print(s.roll_no)\n",
        "print(s.marks)"
      ],
      "metadata": {
        "colab": {
          "base_uri": "https://localhost:8080/"
        },
        "id": "x496gErgnC8r",
        "outputId": "7d88e1be-7100-4dd5-e055-05e8d17e66c4"
      },
      "execution_count": null,
      "outputs": [
        {
          "output_type": "stream",
          "name": "stdout",
          "text": [
            "Durga\n",
            "23\n",
            "90\n"
          ]
        }
      ]
    },
    {
      "cell_type": "code",
      "source": [
        "# Accesssing methods(function in class) by using referance variable :\n",
        "s.talk()"
      ],
      "metadata": {
        "colab": {
          "base_uri": "https://localhost:8080/"
        },
        "id": "yx8i6SqDnE28",
        "outputId": "62893e30-3bdb-400d-f568-7a1bde506359"
      },
      "execution_count": null,
      "outputs": [
        {
          "output_type": "stream",
          "name": "stdout",
          "text": [
            "hello I am : Durga\n",
            "hello I roll number is : 23\n",
            "hello my marks are : 90\n"
          ]
        }
      ]
    },
    {
      "cell_type": "code",
      "source": [
        "'''\n",
        "in student1 calss :\n",
        "def __init__(self)  -- it is the constructor. we will provide some varibles data into it. \n",
        "when we creating objects using class, the data in constructor will automatically shared to objects. \n",
        "\n",
        "this is the reason we can get output for the --print(s.marks), print(s.name), print(s.roll_no) \n",
        "\n",
        "'''"
      ],
      "metadata": {
        "colab": {
          "base_uri": "https://localhost:8080/",
          "height": 70
        },
        "id": "lCrbfOF-nsOb",
        "outputId": "7d1f394c-b7dc-4c15-ec84-24e316f00cb8"
      },
      "execution_count": null,
      "outputs": [
        {
          "output_type": "execute_result",
          "data": {
            "text/plain": [
              "'\\nin student1 calss :\\ndef __init__(self)  -- it is the constructor. we will provide some varibles data into it. \\nwhen we creating objects using class, the data in constructor will automatically shared to objects. \\n\\nthis is the reason we can get output for the --print(s.marks), print(s.name), print(s.roll_no) \\n\\n'"
            ],
            "application/vnd.google.colaboratory.intrinsic+json": {
              "type": "string"
            }
          },
          "metadata": {},
          "execution_count": 21
        }
      ]
    },
    {
      "cell_type": "code",
      "source": [
        "class student2():\n",
        "  def __init__(self):\n",
        "    print('constructor excecution')\n",
        "    self.name = 'siva'\n",
        "    self.sirname = 'Jatla'"
      ],
      "metadata": {
        "id": "YQPrVU1HpY5j"
      },
      "execution_count": null,
      "outputs": []
    },
    {
      "cell_type": "code",
      "source": [
        "a = student2()\n",
        "\n",
        "print(a.name)\n",
        "print(a.sirname)\n",
        "print(id(a))"
      ],
      "metadata": {
        "colab": {
          "base_uri": "https://localhost:8080/"
        },
        "id": "k2dJ03Erpw-7",
        "outputId": "efe72e30-33ce-4e3b-db4a-bffb2d108152"
      },
      "execution_count": null,
      "outputs": [
        {
          "output_type": "stream",
          "name": "stdout",
          "text": [
            "constructor excecution\n",
            "siva\n",
            "Jatla\n",
            "140602423371040\n"
          ]
        }
      ]
    },
    {
      "cell_type": "code",
      "source": [
        "b = student2()\n",
        "\n",
        "print(b.name)\n",
        "print(b.sirname)\n",
        "print(id(b))"
      ],
      "metadata": {
        "colab": {
          "base_uri": "https://localhost:8080/"
        },
        "id": "ejsk4dQsqM0x",
        "outputId": "6ce6a7db-773a-4148-cec9-fc462d68e75e"
      },
      "execution_count": null,
      "outputs": [
        {
          "output_type": "stream",
          "name": "stdout",
          "text": [
            "constructor excecution\n",
            "siva\n",
            "Jatla\n",
            "140602423280976\n"
          ]
        }
      ]
    },
    {
      "cell_type": "code",
      "source": [
        "# a,b are two different objects created by using student2 class. \n",
        "# in both objects , all the sata in constructor  will be loaded.  "
      ],
      "metadata": {
        "id": "maWiqEiVrRfU"
      },
      "execution_count": null,
      "outputs": []
    },
    {
      "cell_type": "code",
      "source": [
        "a = 5"
      ],
      "metadata": {
        "id": "F2qd1OSbrqxB"
      },
      "execution_count": null,
      "outputs": []
    },
    {
      "cell_type": "code",
      "source": [
        "# trying to create object with changing the vaarible data from class.\n",
        "c = student2('ram','prasad')"
      ],
      "metadata": {
        "colab": {
          "base_uri": "https://localhost:8080/",
          "height": 184
        },
        "id": "KMrTxryD0elw",
        "outputId": "fdc79029-232d-4bdc-a6ab-2f6b398f8b06"
      },
      "execution_count": null,
      "outputs": [
        {
          "output_type": "error",
          "ename": "TypeError",
          "evalue": "ignored",
          "traceback": [
            "\u001b[0;31m---------------------------------------------------------------------------\u001b[0m",
            "\u001b[0;31mTypeError\u001b[0m                                 Traceback (most recent call last)",
            "\u001b[0;32m<ipython-input-30-d1c6ab73258c>\u001b[0m in \u001b[0;36m<module>\u001b[0;34m\u001b[0m\n\u001b[1;32m      1\u001b[0m \u001b[0;31m# trying to create object with changing the vaarible data from class.\u001b[0m\u001b[0;34m\u001b[0m\u001b[0;34m\u001b[0m\u001b[0;34m\u001b[0m\u001b[0m\n\u001b[0;32m----> 2\u001b[0;31m \u001b[0mc\u001b[0m \u001b[0;34m=\u001b[0m \u001b[0mstudent2\u001b[0m\u001b[0;34m(\u001b[0m\u001b[0;34m'ram'\u001b[0m\u001b[0;34m,\u001b[0m\u001b[0;34m'prasad'\u001b[0m\u001b[0;34m)\u001b[0m\u001b[0;34m\u001b[0m\u001b[0;34m\u001b[0m\u001b[0m\n\u001b[0m",
            "\u001b[0;31mTypeError\u001b[0m: __init__() takes 1 positional argument but 3 were given"
          ]
        }
      ]
    },
    {
      "cell_type": "code",
      "source": [
        "class Student4:\n",
        "  def __init__(self,name,rollno,marks):\n",
        "\n",
        "    self.name = name\n",
        "    self.rollno = rollno\n",
        "    self.marks = marks\n",
        "\n"
      ],
      "metadata": {
        "id": "ns0wFGzZ203f"
      },
      "execution_count": null,
      "outputs": []
    },
    {
      "cell_type": "code",
      "source": [
        "s1 = Student4('Ram', 24, 93)\n",
        "\n",
        "print(s1.name)\n",
        "print(s1.rollno)\n",
        "print(s1.marks)"
      ],
      "metadata": {
        "colab": {
          "base_uri": "https://localhost:8080/"
        },
        "id": "ktRgn0A-4Aoy",
        "outputId": "aae63803-e497-4438-ccb4-2d06c8aa564f"
      },
      "execution_count": null,
      "outputs": [
        {
          "output_type": "stream",
          "name": "stdout",
          "text": [
            "Ram\n",
            "24\n",
            "93\n"
          ]
        }
      ]
    },
    {
      "cell_type": "code",
      "source": [
        "class Student4:\n",
        "  def __init__(self,name,rollno,marks):\n",
        "\n",
        "    self.name = 'Kishore'\n",
        "    self.rollno = 123\n",
        "    self.marks = 70"
      ],
      "metadata": {
        "id": "iVObwEoo4N5r"
      },
      "execution_count": null,
      "outputs": []
    },
    {
      "cell_type": "code",
      "source": [
        "s3 = Student4('ram',321,34)"
      ],
      "metadata": {
        "id": "lpcrxGO0Rtuj"
      },
      "execution_count": null,
      "outputs": []
    },
    {
      "cell_type": "code",
      "source": [
        "print(s3.name)\n",
        "print(s3.rollno)\n",
        "print(s3.marks)"
      ],
      "metadata": {
        "colab": {
          "base_uri": "https://localhost:8080/"
        },
        "id": "sAYQjyeSSHjm",
        "outputId": "402010e2-d6ee-4d70-d5e7-fd484993c33e"
      },
      "execution_count": null,
      "outputs": [
        {
          "output_type": "stream",
          "name": "stdout",
          "text": [
            "Kishore\n",
            "123\n",
            "70\n"
          ]
        }
      ]
    },
    {
      "cell_type": "code",
      "source": [
        "class Test :\n",
        "  def __init__(self) :\n",
        "    pass"
      ],
      "metadata": {
        "id": "iABG7PQlSKVF"
      },
      "execution_count": null,
      "outputs": []
    },
    {
      "cell_type": "code",
      "source": [
        "t = Test()"
      ],
      "metadata": {
        "id": "i-iw0PGET2I_"
      },
      "execution_count": null,
      "outputs": []
    },
    {
      "cell_type": "code",
      "source": [
        "class Test3 :\n",
        "  def __init__(self) :\n",
        "    print('Address of the object refered by self :', id(self))\n",
        "\n",
        "t1 = Test3()\n",
        "\n",
        "print('Address of the object refered by t :', id(t))"
      ],
      "metadata": {
        "colab": {
          "base_uri": "https://localhost:8080/"
        },
        "id": "6ZHp11pbT47z",
        "outputId": "1ad19ddd-8805-4bcc-ba74-48c0601bdca5"
      },
      "execution_count": null,
      "outputs": [
        {
          "output_type": "stream",
          "name": "stdout",
          "text": [
            "Address of the object refered by self : 140276531320672\n",
            "Address of the object refered by t : 140276552833104\n"
          ]
        }
      ]
    },
    {
      "cell_type": "code",
      "source": [
        "# Self :\n",
        "\n",
        "'''\n",
        "self is a referance variable , which is always pointing to current object . within the python class, to access current object , we can use self.\n",
        "\n",
        "1) the first argument for the constructor is always self\n",
        "2) the first argument for the instance method is always slef\n",
        "3) we are not required to provide the value for self variable, Python virtual machine will automatically provide the value for self varible.\n",
        "'''"
      ],
      "metadata": {
        "colab": {
          "base_uri": "https://localhost:8080/",
          "height": 70
        },
        "id": "BYGc4B-zUsCF",
        "outputId": "587f4bcc-c7d8-4fca-e217-664560a86ecf"
      },
      "execution_count": null,
      "outputs": [
        {
          "output_type": "execute_result",
          "data": {
            "text/plain": [
              "'\\nself is a referance variable , which is always pointing to current object . within the python class, to access current object , we can use self.\\n\\n1) the first argument for the constructor is always self\\n2) the first argument for the instance method is always slef\\n3) we are not required to provide the value for self variable, Python virtual machine will automatically provide the value for self varible.\\n'"
            ],
            "application/vnd.google.colaboratory.intrinsic+json": {
              "type": "string"
            }
          },
          "metadata": {},
          "execution_count": 17
        }
      ]
    },
    {
      "cell_type": "code",
      "source": [
        "class Test :\n",
        "  def __init__(self):\n",
        "    print('constructor')\n",
        "\n",
        "  def m1(self,x):\n",
        "    print('method')"
      ],
      "metadata": {
        "id": "BU6RfYKCU1tM"
      },
      "execution_count": null,
      "outputs": []
    },
    {
      "cell_type": "code",
      "source": [
        "t1 = Test()"
      ],
      "metadata": {
        "colab": {
          "base_uri": "https://localhost:8080/"
        },
        "id": "H1rSV3AqiV9-",
        "outputId": "5a334e77-548b-4d66-f3cf-22f2a3d527c1"
      },
      "execution_count": null,
      "outputs": [
        {
          "output_type": "stream",
          "name": "stdout",
          "text": [
            "constructor\n"
          ]
        }
      ]
    },
    {
      "cell_type": "code",
      "source": [
        "t1.m1(10)"
      ],
      "metadata": {
        "colab": {
          "base_uri": "https://localhost:8080/"
        },
        "id": "R6MTahWqjMH_",
        "outputId": "6854a52c-6958-4b61-8284-de15da8bf4a6"
      },
      "execution_count": null,
      "outputs": [
        {
          "output_type": "stream",
          "name": "stdout",
          "text": [
            "method\n"
          ]
        }
      ]
    },
    {
      "cell_type": "code",
      "source": [
        "# we can use self always within the class only.\n",
        "# inside constructor, we can use self to declare object related varibles(instance variables)\n",
        "# inside instance method , wed can use self to access the values of instance variables."
      ],
      "metadata": {
        "id": "V67nUX16jPTZ"
      },
      "execution_count": null,
      "outputs": []
    },
    {
      "cell_type": "code",
      "source": [
        "# self is not a key word. We can use any name like delf/ relf,...etc."
      ],
      "metadata": {
        "id": "82BbrCxolb5K"
      },
      "execution_count": null,
      "outputs": []
    },
    {
      "cell_type": "code",
      "source": [
        "class Student1 :\n",
        "  def __init__(delf):\n",
        "    delf.name = 'Durga'\n",
        "    delf.roll_no = 23\n",
        "    delf.marks = 90\n",
        "\n",
        "  def talk(delf) :\n",
        "    print('hello I am :', delf.name)\n",
        "    print('Hello, My I roll number is :', delf.roll_no)\n",
        "    print('hello my marks are :', delf.marks)"
      ],
      "metadata": {
        "id": "cIavf7YbmJTW"
      },
      "execution_count": null,
      "outputs": []
    },
    {
      "cell_type": "code",
      "source": [
        "t = Student1()\n",
        "t.talk()"
      ],
      "metadata": {
        "colab": {
          "base_uri": "https://localhost:8080/"
        },
        "id": "kHLRHZblmvr3",
        "outputId": "cf993952-c6a7-4642-a906-f3f390ecf491"
      },
      "execution_count": null,
      "outputs": [
        {
          "output_type": "stream",
          "name": "stdout",
          "text": [
            "hello I am : Durga\n",
            "Hello, My I roll number is : 23\n",
            "hello my marks are : 90\n"
          ]
        }
      ]
    },
    {
      "cell_type": "code",
      "source": [
        "class test2 :\n",
        "  def __init__(x):\n",
        "    print('constructor')\n",
        "\n",
        "t = test2()"
      ],
      "metadata": {
        "colab": {
          "base_uri": "https://localhost:8080/"
        },
        "id": "wkNWPHRLmz6O",
        "outputId": "e3104197-9e44-4af1-cdd4-46cdfe1c1cef"
      },
      "execution_count": null,
      "outputs": [
        {
          "output_type": "stream",
          "name": "stdout",
          "text": [
            "constructor\n"
          ]
        }
      ]
    },
    {
      "cell_type": "code",
      "source": [
        "class test2 :\n",
        "  def __init__(x):\n",
        "    print('constructor',id(x))\n",
        "\n",
        "t = test2()\n",
        "print(id(t))"
      ],
      "metadata": {
        "id": "5gA0OxBHo209"
      },
      "execution_count": null,
      "outputs": []
    },
    {
      "cell_type": "markdown",
      "source": [
        "## Constructor\n",
        "\n",
        "1) constructor is special method\n",
        "\n",
        "2) the name of the constructor is always  __init__()\n",
        "\n",
        "3) we are not required to call the constructor explicitly, It will be excecuted automatically when we are creating an object.\n",
        "\n",
        "4) per object, constructor will excecute only once.\n",
        "\n",
        "5) the main purpose of constructor is to declare and intialize instance variable. __init__ means intialization.\n",
        "\n",
        "6) constructor should take atleast one argument(self).\n",
        "\n",
        "7) within the python class constructor is optional. if we are not provided the constructor default constructor will be provided by Python virtual machine"
      ],
      "metadata": {
        "id": "8SQ0YwHz-4K8"
      }
    },
    {
      "cell_type": "code",
      "source": [
        "class Test :\n",
        "  def __init__(slef):\n",
        "    print('constructor Excecution')"
      ],
      "metadata": {
        "id": "Mu0pxREpph7d"
      },
      "execution_count": null,
      "outputs": []
    },
    {
      "cell_type": "code",
      "source": [
        "t = Test()"
      ],
      "metadata": {
        "colab": {
          "base_uri": "https://localhost:8080/"
        },
        "id": "lG1wzbDe81r4",
        "outputId": "1ba8b2c7-4e56-465e-8aa2-fcbeed4e5fe5"
      },
      "execution_count": null,
      "outputs": [
        {
          "output_type": "stream",
          "name": "stdout",
          "text": [
            "constructor Excecution\n"
          ]
        }
      ]
    },
    {
      "cell_type": "code",
      "source": [
        "class Test1 :\n",
        "  def m1 (self):\n",
        "    print('Method excecution')\n",
        "\n"
      ],
      "metadata": {
        "id": "PzW98Mj3_or1"
      },
      "execution_count": null,
      "outputs": []
    },
    {
      "cell_type": "code",
      "source": [
        "t = Test1()\n",
        "t.m1()"
      ],
      "metadata": {
        "colab": {
          "base_uri": "https://localhost:8080/"
        },
        "id": "gpaBk8Z1EeQm",
        "outputId": "82346b31-1a3e-401c-fc9a-6458bf8fa5e8"
      },
      "execution_count": null,
      "outputs": [
        {
          "output_type": "stream",
          "name": "stdout",
          "text": [
            "Method excecution\n"
          ]
        }
      ]
    },
    {
      "cell_type": "code",
      "source": [
        "class Test :\n",
        "  def __init__(self) :\n",
        "    print('constructor excecution')\n",
        "\n",
        "t = Test()\n",
        "t.__init__()"
      ],
      "metadata": {
        "colab": {
          "base_uri": "https://localhost:8080/"
        },
        "id": "LOQXhnk5EqEC",
        "outputId": "3142d0a2-e64e-48b5-d42c-da526f215361"
      },
      "execution_count": null,
      "outputs": [
        {
          "output_type": "stream",
          "name": "stdout",
          "text": [
            "constructor excecution\n",
            "constructor excecution\n"
          ]
        }
      ]
    },
    {
      "cell_type": "code",
      "source": [
        "# its possible to call the special method / constructor explicitly.\n",
        "# but if we call explicitly, it will work as a normal method and new object wont be created."
      ],
      "metadata": {
        "id": "CPElUa0WVh20"
      },
      "execution_count": null,
      "outputs": []
    },
    {
      "cell_type": "code",
      "source": [
        "class Test :\n",
        "  def __init__(self) :\n",
        "    print('constructor excecution :', id(self))\n",
        "\n",
        "t = Test()\n",
        "t.__init__()\n",
        "t.__init__()\n",
        "t.__init__()\n",
        "t.__init__()"
      ],
      "metadata": {
        "colab": {
          "base_uri": "https://localhost:8080/"
        },
        "id": "zLt9wctnVuyh",
        "outputId": "0ac87cca-92a6-4418-8fec-f12d62389e82"
      },
      "execution_count": null,
      "outputs": [
        {
          "output_type": "stream",
          "name": "stdout",
          "text": [
            "constructor excecution : 139735379450944\n",
            "constructor excecution : 139735379450944\n",
            "constructor excecution : 139735379450944\n",
            "constructor excecution : 139735379450944\n",
            "constructor excecution : 139735379450944\n"
          ]
        }
      ]
    },
    {
      "cell_type": "code",
      "source": [
        "class Tese2 :\n",
        "  def __init__(self):\n",
        "    print('no - arg constructor')\n",
        "\n",
        "  def __init__(self,x):\n",
        "    print('one - arg constructor')"
      ],
      "metadata": {
        "id": "5aEuaFruWkBr"
      },
      "execution_count": null,
      "outputs": []
    },
    {
      "cell_type": "code",
      "source": [
        "t = Tese2()\n",
        "\n"
      ],
      "metadata": {
        "colab": {
          "base_uri": "https://localhost:8080/",
          "height": 184
        },
        "id": "_F8jTwwQXu7X",
        "outputId": "94a15243-ee3e-4dfc-a2e5-10a12f415d8b"
      },
      "execution_count": null,
      "outputs": [
        {
          "output_type": "error",
          "ename": "TypeError",
          "evalue": "ignored",
          "traceback": [
            "\u001b[0;31m---------------------------------------------------------------------------\u001b[0m",
            "\u001b[0;31mTypeError\u001b[0m                                 Traceback (most recent call last)",
            "\u001b[0;32m<ipython-input-14-03610d2636a4>\u001b[0m in \u001b[0;36m<module>\u001b[0;34m\u001b[0m\n\u001b[0;32m----> 1\u001b[0;31m \u001b[0mt\u001b[0m \u001b[0;34m=\u001b[0m \u001b[0mTese2\u001b[0m\u001b[0;34m(\u001b[0m\u001b[0;34m)\u001b[0m\u001b[0;34m\u001b[0m\u001b[0;34m\u001b[0m\u001b[0m\n\u001b[0m\u001b[1;32m      2\u001b[0m \u001b[0;34m\u001b[0m\u001b[0m\n",
            "\u001b[0;31mTypeError\u001b[0m: __init__() missing 1 required positional argument: 'x'"
          ]
        }
      ]
    },
    {
      "cell_type": "code",
      "source": [
        "t1 = Tese2(10)"
      ],
      "metadata": {
        "colab": {
          "base_uri": "https://localhost:8080/"
        },
        "id": "6Ba3JGaUZXT5",
        "outputId": "81c7e23b-a555-4f0f-ee42-9e4f145658de"
      },
      "execution_count": null,
      "outputs": [
        {
          "output_type": "stream",
          "name": "stdout",
          "text": [
            "one - arg constructor\n"
          ]
        }
      ]
    },
    {
      "cell_type": "code",
      "source": [
        "# constructor/ Method Overloading is not possible in python."
      ],
      "metadata": {
        "id": "HTkURL1VX0dS"
      },
      "execution_count": null,
      "outputs": []
    },
    {
      "cell_type": "code",
      "source": [
        "# if we trying to declare multiple constructors, PM will always consider only last constructor."
      ],
      "metadata": {
        "id": "2MRlXAmFX7g6"
      },
      "execution_count": null,
      "outputs": []
    },
    {
      "cell_type": "markdown",
      "source": [
        "## Task\n",
        "\n",
        "1) create Movie class\n",
        "\n",
        "2)Creation multiple movie objects\n",
        "\n",
        "3)Add these objects to the list\n",
        "\n",
        "4) Try to get these objects one by one from the list\n",
        "\n",
        "5) call movie class functionality on that object "
      ],
      "metadata": {
        "id": "g63FK3V1k-LM"
      }
    },
    {
      "cell_type": "code",
      "source": [
        "class Movie :\n",
        "  ''' this is developed by Durga prasad for demo purpose'''\n",
        "\n",
        "  def __init__(self,title,hero,heroine):\n",
        "    self.title = title\n",
        "    self.hero = hero\n",
        "    self.heroine = heroine\n",
        "\n",
        "  def info (self) :\n",
        "    print('Movie name :', self.title)\n",
        "    print('Hero name :', self.hero)\n",
        "    print('Heroine name is :',self.heroine)\n"
      ],
      "metadata": {
        "id": "4L74ExdDYTQ8"
      },
      "execution_count": null,
      "outputs": []
    },
    {
      "cell_type": "code",
      "source": [
        "m= Movie('Bahubali','Prabhas','Anushka')"
      ],
      "metadata": {
        "id": "BYqoAUABmmp1"
      },
      "execution_count": null,
      "outputs": []
    },
    {
      "cell_type": "code",
      "source": [
        "m.info()"
      ],
      "metadata": {
        "colab": {
          "base_uri": "https://localhost:8080/"
        },
        "id": "-nxYEQDdmuxS",
        "outputId": "9a9cb87d-c12c-489a-82e3-3ca27de0d5c7"
      },
      "execution_count": null,
      "outputs": [
        {
          "output_type": "stream",
          "name": "stdout",
          "text": [
            "Movie name : Bahubali\n",
            "Hero name : Prabhas\n",
            "Heroine name is : Anushka\n"
          ]
        }
      ]
    },
    {
      "cell_type": "code",
      "source": [
        "class Movies :\n",
        "     ''' this is developed by Durga prasad for demo purpose'''\n",
        "     def __init__(self,title,hero,heroine):\n",
        "        self.title = title\n",
        "        self.hero = hero\n",
        "        self.heroine = heroine\n",
        "\n",
        "     def info (self) :\n",
        "        print('Movie name :', self.title)\n",
        "        print('Hero name :', self.hero)\n",
        "        print('Heroine name is :',self.heroine)\n",
        "\n",
        "\n",
        "list_of_Movies = []\n",
        "\n",
        "while True :\n",
        "  title = input('Enter Movie Name :')\n",
        "  hero = input('enter Hero name :')\n",
        "  heroine = input('enter heroine name :')\n",
        "  m = Movies(title,hero,heroine)\n",
        "  list_of_Movies.append(m)\n",
        "  print('Movie added to the list successfully')\n",
        "  option = input('Do You Want to add one more movie [Yes | No] : ')\n",
        "  if option.lower() == 'no' :\n",
        "    break\n",
        "print('All movies information ......')\n",
        "\n",
        "for i in list_of_Movies:\n",
        "  i.info()"
      ],
      "metadata": {
        "colab": {
          "base_uri": "https://localhost:8080/"
        },
        "id": "HZfGw1dimxVn",
        "outputId": "9b6c37c1-ed73-46c7-cf8a-42910e955cda"
      },
      "execution_count": null,
      "outputs": [
        {
          "output_type": "stream",
          "name": "stdout",
          "text": [
            "Enter Movie Name :bahubali\n",
            "enter Hero name :prabhas\n",
            "enter heroine name :anushka\n",
            "Movie added to the list successfully\n",
            "Do You Want to add one more movie [Yes | No] : yes\n",
            "Enter Movie Name :sivaji\n",
            "enter Hero name :marathi\n",
            "enter heroine name :sarada\n",
            "Movie added to the list successfully\n",
            "Do You Want to add one more movie [Yes | No] : no\n",
            "All movies information ......\n",
            "Movie name : bahubali\n",
            "Hero name : prabhas\n",
            "Heroine name is : anushka\n",
            "Movie name : sivaji\n",
            "Hero name : marathi\n",
            "Heroine name is : sarada\n"
          ]
        }
      ]
    },
    {
      "cell_type": "markdown",
      "source": [
        "# Instance Variable / object level variable:\n",
        "\n",
        "1) If the value of  a variable is varied from object to object , such type of variables are called instance varriable/ object level variabes.\n",
        "\n",
        "2) for every object a seperate cpy wil be created.\n",
        "\n",
        "3) In genereal, we can define instance variable inside constructor by using self.\n",
        "\n",
        "\n",
        "# Static Variables / class level variable :\n",
        "\n",
        "1) If the value of the variable is not varied from object to object then it is not recommended to declared that variable as a instance variable.\n",
        "Static Varible / Instance Variable.\n",
        "\n",
        "2) In the case of instance Variables, for every object a seperate copy. But in the case of static varibles, a copy will be created and shared to every object of the class.\n",
        "\n",
        "3) most of the times , static variables shoukd be created with in the class directly(above the constructor).\n",
        "\n",
        "# Local Variable / Method level variable :\n",
        "\n",
        "1) to meet temperty requirements of the programmer, we will declare variables eperatly in different methods. \n",
        "\n"
      ],
      "metadata": {
        "id": "WfNece-wf2PR"
      }
    },
    {
      "cell_type": "code",
      "source": [
        "class Students :\n",
        "  college_name = 'sri prakash'  # static variable, it will be same for all the objects\n",
        "\n",
        "  def __init__(self,name,roll_number):\n",
        "    self.student_name = name \n",
        "    self.roll_number = roll_number\n",
        "\n",
        "    # as we are decalring varible name with starting self, we can change the value of the varibake from object to object.above two varibale are static\n",
        "\n",
        "  def sample (self):\n",
        "    x = 10\n",
        "\n",
        "    for i in range(x):\n",
        "      print(i)\n",
        "\n",
        "      # here x,i are local variables"
      ],
      "metadata": {
        "id": "xFqejCyQD30j"
      },
      "execution_count": null,
      "outputs": []
    },
    {
      "cell_type": "markdown",
      "source": [
        "# Instance Method / Object related Method :\n",
        "\n",
        "1) if we are accessing atleast one instant varible inside the method, we call it as instance Method.\n",
        "\n",
        "\n",
        "# class Method / class related Method:    \n",
        "\n",
        "2) if there are no instance varible using in the method and there is static variable atleast once in method we called it as class method\n",
        "\n",
        "# Static Method / General Utility Method :    \n",
        "\n",
        "1) if there is no instance variable , static varible in method and there is only local varible using in method, we call it as static Method."
      ],
      "metadata": {
        "id": "sEg1AbOqnxg3"
      }
    },
    {
      "cell_type": "code",
      "source": [
        "class Students :\n",
        "  college_name = 'sri prakash'  # static variable, it will be same for all the objects\n",
        "\n",
        "  def __init__(self,name,roll_number):\n",
        "    self.student_name = name \n",
        "    self.roll_number = roll_number\n",
        " # here we are using  instant variables, so this is instant method\n",
        "    \n",
        "  def collge (self):\n",
        "    print('college name :', college_name)\n",
        "\n",
        " # here we are using static variable / class variable, so we called it as class method\n",
        "\n",
        "\n",
        "  def sample (self):\n",
        "    x = 10\n",
        "\n",
        "    for i in range(x):\n",
        "      print(i)\n",
        "\n",
        "# here , we are suing only local varable, so we called it as static method"
      ],
      "metadata": {
        "id": "IUT_vjmGnvKt"
      },
      "execution_count": null,
      "outputs": []
    },
    {
      "cell_type": "code",
      "source": [
        "t = Students('ram',102)\n",
        "t.collge()"
      ],
      "metadata": {
        "id": "X3GEnlYdsVbb",
        "colab": {
          "base_uri": "https://localhost:8080/",
          "height": 305
        },
        "outputId": "f9bc59f8-65bb-4fcc-c7b3-ee82c3aeebc4"
      },
      "execution_count": null,
      "outputs": [
        {
          "output_type": "error",
          "ename": "NameError",
          "evalue": "ignored",
          "traceback": [
            "\u001b[0;31m---------------------------------------------------------------------------\u001b[0m",
            "\u001b[0;31mNameError\u001b[0m                                 Traceback (most recent call last)",
            "\u001b[0;32m<ipython-input-5-9ab53f0deb03>\u001b[0m in \u001b[0;36m<module>\u001b[0;34m\u001b[0m\n\u001b[1;32m      1\u001b[0m \u001b[0mt\u001b[0m \u001b[0;34m=\u001b[0m \u001b[0mStudents\u001b[0m\u001b[0;34m(\u001b[0m\u001b[0;34m'ram'\u001b[0m\u001b[0;34m,\u001b[0m\u001b[0;36m102\u001b[0m\u001b[0;34m)\u001b[0m\u001b[0;34m\u001b[0m\u001b[0;34m\u001b[0m\u001b[0m\n\u001b[0;32m----> 2\u001b[0;31m \u001b[0mt\u001b[0m\u001b[0;34m.\u001b[0m\u001b[0mcollge\u001b[0m\u001b[0;34m(\u001b[0m\u001b[0;34m)\u001b[0m\u001b[0;34m\u001b[0m\u001b[0;34m\u001b[0m\u001b[0m\n\u001b[0m",
            "\u001b[0;32m<ipython-input-1-205e16f92d58>\u001b[0m in \u001b[0;36mcollge\u001b[0;34m(self)\u001b[0m\n\u001b[1;32m      8\u001b[0m \u001b[0;34m\u001b[0m\u001b[0m\n\u001b[1;32m      9\u001b[0m   \u001b[0;32mdef\u001b[0m \u001b[0mcollge\u001b[0m \u001b[0;34m(\u001b[0m\u001b[0mself\u001b[0m\u001b[0;34m)\u001b[0m\u001b[0;34m:\u001b[0m\u001b[0;34m\u001b[0m\u001b[0;34m\u001b[0m\u001b[0m\n\u001b[0;32m---> 10\u001b[0;31m     \u001b[0mprint\u001b[0m\u001b[0;34m(\u001b[0m\u001b[0;34m'college name :'\u001b[0m\u001b[0;34m,\u001b[0m \u001b[0mcollege_name\u001b[0m\u001b[0;34m)\u001b[0m\u001b[0;34m\u001b[0m\u001b[0;34m\u001b[0m\u001b[0m\n\u001b[0m\u001b[1;32m     11\u001b[0m \u001b[0;34m\u001b[0m\u001b[0m\n\u001b[1;32m     12\u001b[0m  \u001b[0;31m# here we are using static variable / class variable, so we called it as class method\u001b[0m\u001b[0;34m\u001b[0m\u001b[0;34m\u001b[0m\u001b[0;34m\u001b[0m\u001b[0m\n",
            "\u001b[0;31mNameError\u001b[0m: name 'college_name' is not defined"
          ]
        }
      ]
    },
    {
      "cell_type": "code",
      "source": [
        "# there is some procedure to write class methods:\n",
        "\n",
        "class Students1 :\n",
        "  college_name = 'sri prakash'  \n",
        "  director = 'vijaykumar'\n",
        "\n",
        "  def __init__(self,name,roll_number):\n",
        "    self.student_name = name \n",
        "    self.roll_number = roll_number\n",
        "\n",
        "  @ classmethod \n",
        "  def collge (cls):\n",
        "    print('college name :', cls.college_name)\n",
        "\n",
        " # we need to use decorator(@classmethod) before the class method . For ever object PVM automatically create internal object for class variables.\n",
        " # and for that class object, cls is the referance variable . so, we need to use cls to extract the data of class methods.\n",
        "\n",
        "\n",
        "  def sample (self):\n",
        "    x = 10\n",
        "\n",
        "    for i in range(x):\n",
        "      print(i)\n"
      ],
      "metadata": {
        "id": "gyHWe6JwQ0Ae"
      },
      "execution_count": null,
      "outputs": []
    },
    {
      "cell_type": "code",
      "source": [
        "t = Students1('ram',121)\n",
        "t.collge()"
      ],
      "metadata": {
        "colab": {
          "base_uri": "https://localhost:8080/"
        },
        "id": "lJKdbiJmSDHn",
        "outputId": "988b9bd5-b0b4-4890-95bd-8417e7eb4464"
      },
      "execution_count": null,
      "outputs": [
        {
          "output_type": "stream",
          "name": "stdout",
          "text": [
            "college name : sri prakash\n"
          ]
        }
      ]
    },
    {
      "cell_type": "code",
      "source": [
        "class Test :\n",
        "  @classmethod\n",
        "  def m1(cls):\n",
        "    print(id(cls))\n",
        "\n",
        "  @classmethod\n",
        "  def m2(cls):\n",
        "    print(id(cls))\n",
        "\n"
      ],
      "metadata": {
        "id": "vjNlIWUESLRf"
      },
      "execution_count": null,
      "outputs": []
    },
    {
      "cell_type": "code",
      "source": [
        "print(id(Test))"
      ],
      "metadata": {
        "colab": {
          "base_uri": "https://localhost:8080/"
        },
        "id": "33Vmyf3qSf0Z",
        "outputId": "b28aa1ec-15aa-4efc-9bfb-f16414c77324"
      },
      "execution_count": null,
      "outputs": [
        {
          "output_type": "stream",
          "name": "stdout",
          "text": [
            "44343312\n"
          ]
        }
      ]
    },
    {
      "cell_type": "code",
      "source": [
        "Test.m1()"
      ],
      "metadata": {
        "colab": {
          "base_uri": "https://localhost:8080/"
        },
        "id": "BQ8roIqiShYs",
        "outputId": "14eed6b3-24e1-46de-bf6c-8b6b748cc069"
      },
      "execution_count": null,
      "outputs": [
        {
          "output_type": "stream",
          "name": "stdout",
          "text": [
            "44343312\n"
          ]
        }
      ]
    },
    {
      "cell_type": "code",
      "source": [
        "Test.m2()"
      ],
      "metadata": {
        "colab": {
          "base_uri": "https://localhost:8080/"
        },
        "id": "y1zlV5NuSkKY",
        "outputId": "632a5ec7-d9b5-4f61-c7c6-ffe6a0855b23"
      },
      "execution_count": null,
      "outputs": [
        {
          "output_type": "stream",
          "name": "stdout",
          "text": [
            "44343312\n"
          ]
        }
      ]
    },
    {
      "cell_type": "code",
      "source": [
        "class Students2 :\n",
        "  college_name = 'sri prakash'  \n",
        "  director = 'vijaykumar'\n",
        "\n",
        "  def __init__(self,name,roll_number):\n",
        "    self.student_name = name \n",
        "    self.roll_number = roll_number\n",
        "\n",
        "  @ classmethod \n",
        "  def collge (cls):\n",
        "    print('college name :', cls.college_name)\n",
        "\n",
        "\n",
        "  @staticmethod\n",
        "  def Avarage (a,b,c):\n",
        "    return (a+b+c)/3\n",
        "\n"
      ],
      "metadata": {
        "id": "LijZO59hSmfD"
      },
      "execution_count": null,
      "outputs": []
    },
    {
      "cell_type": "code",
      "source": [
        "avg = Students2.Avarage(10,20,30)\n",
        "print(avg)"
      ],
      "metadata": {
        "colab": {
          "base_uri": "https://localhost:8080/"
        },
        "id": "s7XY8-kYYJ5c",
        "outputId": "29874cc2-20ff-4b35-cd5c-0d47ff59dfe9"
      },
      "execution_count": null,
      "outputs": [
        {
          "output_type": "stream",
          "name": "stdout",
          "text": [
            "20.0\n"
          ]
        }
      ]
    },
    {
      "cell_type": "code",
      "source": [
        "# the first argument in the instance method : self, which is pointing to current object\n",
        "# the first argument in the class method : cls, which is pointing to corresponding class object\n",
        "\n",
        "#Instance Method -----> no Decorator\n",
        "# class method -------> @classmethod\n",
        "# static method ------> @ staticmethod"
      ],
      "metadata": {
        "id": "u7oLN7sBYYJh"
      },
      "execution_count": null,
      "outputs": []
    },
    {
      "cell_type": "markdown",
      "source": [
        "# Instance Variable :\n",
        "\n",
        "1) Varied from object to object\n",
        "\n",
        "2) for every object a separate copy of instance variable will be created\n",
        "\n",
        "# Various Places to declare Instance Variable :    \n",
        "\n",
        "1) inside constructor, using self\n",
        "\n",
        "2) inside instance method , using self\n",
        "\n",
        "3) outside of the class, using object referance\n",
        "\n",
        "\n"
      ],
      "metadata": {
        "id": "JadtoqQYa83H"
      }
    },
    {
      "cell_type": "code",
      "source": [
        "class Test2 :\n",
        "  def __init__(self):\n",
        "    self.a = 10\n",
        "    self.b = 20"
      ],
      "metadata": {
        "id": "_yltEAW2a8Ce"
      },
      "execution_count": null,
      "outputs": []
    },
    {
      "cell_type": "code",
      "source": [
        "t = Test2()\n",
        "print(t.__dict__)"
      ],
      "metadata": {
        "colab": {
          "base_uri": "https://localhost:8080/"
        },
        "id": "Sidr5wNAbzQW",
        "outputId": "00420c8f-5152-401c-a3e0-5f1dc40fecb0"
      },
      "execution_count": null,
      "outputs": [
        {
          "output_type": "stream",
          "name": "stdout",
          "text": [
            "{'a': 10, 'b': 20}\n"
          ]
        }
      ]
    },
    {
      "cell_type": "code",
      "source": [
        "class Test3 :\n",
        "  def __init__(self):\n",
        "    self.a = 10\n",
        "    self.b = 20\n",
        "\n",
        "  def m1(self):\n",
        "    self.c = 30"
      ],
      "metadata": {
        "id": "RuXawMVwb4L2"
      },
      "execution_count": null,
      "outputs": []
    },
    {
      "cell_type": "code",
      "source": [
        "t = Test3()\n",
        "print(t.__dict__)\n",
        "\n",
        "# even we have 2 instance variables in constructor, 1 instance vribke in method m1.\n",
        "\n",
        "# if we didnt call the method, only constructor got excucte utomatically . So, variable in method m1 will not excecute.\n"
      ],
      "metadata": {
        "colab": {
          "base_uri": "https://localhost:8080/"
        },
        "id": "dt168YoycdKT",
        "outputId": "18810d47-3650-4079-ef4e-fbf01f93c6c7"
      },
      "execution_count": null,
      "outputs": [
        {
          "output_type": "stream",
          "name": "stdout",
          "text": [
            "{'a': 10, 'b': 20}\n"
          ]
        }
      ]
    },
    {
      "cell_type": "code",
      "source": [
        "t2 = Test3()\n",
        "t2.m1()\n",
        "\n",
        "print(t2.__dict__)"
      ],
      "metadata": {
        "colab": {
          "base_uri": "https://localhost:8080/"
        },
        "id": "SN6RlJkZcj4I",
        "outputId": "bdc131cf-79c6-47f6-e55d-a59b0553e9cc"
      },
      "execution_count": null,
      "outputs": [
        {
          "output_type": "stream",
          "name": "stdout",
          "text": [
            "{'a': 10, 'b': 20, 'c': 30}\n"
          ]
        }
      ]
    },
    {
      "cell_type": "code",
      "source": [
        "# Declaring Instance variabke outside the class :\n",
        "\n",
        "t2.d = 20\n",
        "t2.e = 40\n",
        "\n",
        "print(t2.__dict__)"
      ],
      "metadata": {
        "colab": {
          "base_uri": "https://localhost:8080/"
        },
        "id": "Fm_iNd3mcw1w",
        "outputId": "108b69cd-c32a-41b9-ebfb-c6e5cfb6bd90"
      },
      "execution_count": null,
      "outputs": [
        {
          "output_type": "stream",
          "name": "stdout",
          "text": [
            "{'a': 10, 'b': 20, 'c': 30, 'd': 20, 'e': 40}\n"
          ]
        }
      ]
    },
    {
      "cell_type": "markdown",
      "source": [
        "# How to access Instance Variables :\n",
        "\n",
        "1) within the class by using self\n",
        "\n",
        "2) outside of the class by using object referance."
      ],
      "metadata": {
        "id": "LNIj6F_Bf075"
      }
    },
    {
      "cell_type": "code",
      "source": [
        "# Deleting Instance varibles :\n",
        "'''\n",
        "\n",
        "within the class :\n",
        "  del self.vaiablenames\n",
        "\n",
        "\n",
        "outside the class :\n",
        " del objectreferance.variablename\n",
        "\n",
        " '''"
      ],
      "metadata": {
        "colab": {
          "base_uri": "https://localhost:8080/",
          "height": 35
        },
        "id": "L8uzmtxSdwKX",
        "outputId": "eecf6356-9b3d-4a5c-b8bd-ccc33dfd8e7e"
      },
      "execution_count": null,
      "outputs": [
        {
          "output_type": "execute_result",
          "data": {
            "text/plain": [
              "'\\n\\nwithin the class :\\n  del self.vaiablenames\\n\\n\\noutside the class :\\n del objectreferance.variablename\\n\\n '"
            ],
            "application/vnd.google.colaboratory.intrinsic+json": {
              "type": "string"
            }
          },
          "metadata": {},
          "execution_count": 23
        }
      ]
    },
    {
      "cell_type": "code",
      "source": [
        "class Test3 :\n",
        "  def __init__(self):\n",
        "    self.a = 10\n",
        "    self.b = 20\n",
        "    self.c =30\n",
        "    self.d = 40\n",
        "\n",
        "  def m1(self):\n",
        "    del self.a"
      ],
      "metadata": {
        "id": "dqjjRVnqhxfl"
      },
      "execution_count": null,
      "outputs": []
    },
    {
      "cell_type": "code",
      "source": [
        "t = Test3()\n",
        "print(t.__dict__)"
      ],
      "metadata": {
        "colab": {
          "base_uri": "https://localhost:8080/"
        },
        "id": "wZsGBCqZifeB",
        "outputId": "bfb9ab77-f342-4610-bd24-620ea33d7555"
      },
      "execution_count": null,
      "outputs": [
        {
          "output_type": "stream",
          "name": "stdout",
          "text": [
            "{'a': 10, 'b': 20, 'c': 30, 'd': 40}\n"
          ]
        }
      ]
    },
    {
      "cell_type": "code",
      "source": [
        "t.m1()\n",
        "print(t.__dict__)"
      ],
      "metadata": {
        "colab": {
          "base_uri": "https://localhost:8080/"
        },
        "id": "dgQYS_BYilh0",
        "outputId": "63e00960-798b-4d5a-fbde-688f265f8289"
      },
      "execution_count": null,
      "outputs": [
        {
          "output_type": "stream",
          "name": "stdout",
          "text": [
            "{'b': 20, 'c': 30, 'd': 40}\n"
          ]
        }
      ]
    },
    {
      "cell_type": "code",
      "source": [
        "del t.b"
      ],
      "metadata": {
        "id": "1Ohgew-QipQL"
      },
      "execution_count": null,
      "outputs": []
    },
    {
      "cell_type": "code",
      "source": [
        "print(t.__dict__)"
      ],
      "metadata": {
        "colab": {
          "base_uri": "https://localhost:8080/"
        },
        "id": "hkAwDw-0i18A",
        "outputId": "7585a83b-5bad-4243-f037-6ff4cc7170bc"
      },
      "execution_count": null,
      "outputs": [
        {
          "output_type": "stream",
          "name": "stdout",
          "text": [
            "{'c': 30, 'd': 40}\n"
          ]
        }
      ]
    },
    {
      "cell_type": "code",
      "source": [
        "del t.c,t.d\n",
        "\n",
        "print(t.__dict__)"
      ],
      "metadata": {
        "colab": {
          "base_uri": "https://localhost:8080/"
        },
        "id": "qcwbDbNwi3hW",
        "outputId": "42d167a9-f3b0-4dcc-a545-a810abfd624a"
      },
      "execution_count": null,
      "outputs": [
        {
          "output_type": "stream",
          "name": "stdout",
          "text": [
            "{}\n"
          ]
        }
      ]
    },
    {
      "cell_type": "code",
      "source": [
        "class Test4 :\n",
        "  def __init__(self):\n",
        "    self.a = 10\n",
        "    self.b = 20\n",
        "    self.c =30\n",
        "    self.d = 40\n",
        "\n",
        "  def m1(self):\n",
        "    del self.a"
      ],
      "metadata": {
        "id": "5UAHsHyCi9Zv"
      },
      "execution_count": null,
      "outputs": []
    },
    {
      "cell_type": "code",
      "source": [
        "t = Test4()\n",
        "t1 = Test4()"
      ],
      "metadata": {
        "id": "enWFhO9xjZMA"
      },
      "execution_count": null,
      "outputs": []
    },
    {
      "cell_type": "code",
      "source": [
        "del t.a"
      ],
      "metadata": {
        "id": "ujCM9BzMjc-D"
      },
      "execution_count": null,
      "outputs": []
    },
    {
      "cell_type": "code",
      "source": [
        "print(t.__dict__)\n",
        "print(t1.__dict__)\n",
        "\n",
        "# we are deleting avriables  in only one object"
      ],
      "metadata": {
        "colab": {
          "base_uri": "https://localhost:8080/"
        },
        "id": "9tgwDibnjgGS",
        "outputId": "f82d9103-e3ce-48d4-f220-48c910763692"
      },
      "execution_count": null,
      "outputs": [
        {
          "output_type": "stream",
          "name": "stdout",
          "text": [
            "{'b': 20, 'c': 30, 'd': 40}\n",
            "{'a': 10, 'b': 20, 'c': 30, 'd': 40}\n"
          ]
        }
      ]
    },
    {
      "cell_type": "code",
      "source": [
        "t.b =100\n",
        "t.c = 200\n",
        "t.a = 150"
      ],
      "metadata": {
        "id": "hNW4UkP6jkDg"
      },
      "execution_count": null,
      "outputs": []
    },
    {
      "cell_type": "code",
      "source": [
        "print(t.__dict__)\n",
        "print(t1.__dict__)"
      ],
      "metadata": {
        "colab": {
          "base_uri": "https://localhost:8080/"
        },
        "id": "kOcO0KbVkV7P",
        "outputId": "415650ca-1375-4774-a3de-0bd39902c34f"
      },
      "execution_count": null,
      "outputs": [
        {
          "output_type": "stream",
          "name": "stdout",
          "text": [
            "{'b': 100, 'c': 200, 'd': 40, 'a': 150}\n",
            "{'a': 10, 'b': 20, 'c': 30, 'd': 40}\n"
          ]
        }
      ]
    },
    {
      "cell_type": "markdown",
      "source": [
        "# Static Variable :\n",
        "\n",
        "if the value of the varible is not varied from object to object, we use class level variable/ static varible.\n",
        "\n",
        "# ways to decalre static variable in python :\n",
        "\n",
        "1) generally, we declare static varibles inside the class directly, but outside of the every method.\n",
        "\n",
        "2) inside the costructor, by using ( class name.variable name)\n",
        "\n",
        "3) inside the instance method, by using ( class name.variablename)\n",
        "\n",
        "4) inside the class method, by using class name or cls variable\n",
        "\n",
        "5) from outside of the class, using class name"
      ],
      "metadata": {
        "id": "jwJPmG7no7wq"
      }
    },
    {
      "cell_type": "code",
      "source": [
        "class test4:\n",
        "  a = 10\n",
        "\n",
        "  def __init__(self):\n",
        "    test4.b = 20\n",
        "    self.c = 30\n",
        "\n",
        "  def m1(self):\n",
        "    test4.d = 40\n",
        "  @classmethod\n",
        "  def m2(cls):\n",
        "    cls.e = 45"
      ],
      "metadata": {
        "id": "Z1vh0mBckYLo"
      },
      "execution_count": null,
      "outputs": []
    },
    {
      "cell_type": "code",
      "source": [
        "t = test4()\n",
        "print(test4.__dict__)"
      ],
      "metadata": {
        "colab": {
          "base_uri": "https://localhost:8080/"
        },
        "id": "blox1rgQs3zp",
        "outputId": "99fc3d77-de5c-4ccb-8a82-2e82932b90ff"
      },
      "execution_count": null,
      "outputs": [
        {
          "output_type": "stream",
          "name": "stdout",
          "text": [
            "{'__module__': '__main__', 'a': 10, '__init__': <function test4.__init__ at 0x7f561b506c10>, 'm1': <function test4.m1 at 0x7f561b506040>, 'm2': <classmethod object at 0x7f561b554940>, '__dict__': <attribute '__dict__' of 'test4' objects>, '__weakref__': <attribute '__weakref__' of 'test4' objects>, '__doc__': None, 'b': 20}\n"
          ]
        }
      ]
    },
    {
      "cell_type": "code",
      "source": [
        "t.m1()\n",
        "print(test4.__dict__)"
      ],
      "metadata": {
        "colab": {
          "base_uri": "https://localhost:8080/"
        },
        "id": "FI3NqZ3as96B",
        "outputId": "9d3eb069-6ff2-429c-86a2-92856d41c3b0"
      },
      "execution_count": null,
      "outputs": [
        {
          "output_type": "stream",
          "name": "stdout",
          "text": [
            "{'__module__': '__main__', 'a': 10, '__init__': <function test4.__init__ at 0x7f561b506c10>, 'm1': <function test4.m1 at 0x7f561b506040>, 'm2': <classmethod object at 0x7f561b554940>, '__dict__': <attribute '__dict__' of 'test4' objects>, '__weakref__': <attribute '__weakref__' of 'test4' objects>, '__doc__': None, 'b': 20, 'd': 40}\n"
          ]
        }
      ]
    },
    {
      "cell_type": "code",
      "source": [
        "t.m2()\n",
        "print(test4.__dict__)"
      ],
      "metadata": {
        "colab": {
          "base_uri": "https://localhost:8080/"
        },
        "id": "0ikNdALQtL1w",
        "outputId": "184bbffc-c85a-4e04-cffb-54beeebb7674"
      },
      "execution_count": null,
      "outputs": [
        {
          "output_type": "stream",
          "name": "stdout",
          "text": [
            "{'__module__': '__main__', 'a': 10, '__init__': <function test4.__init__ at 0x7f561b506c10>, 'm1': <function test4.m1 at 0x7f561b506040>, 'm2': <classmethod object at 0x7f561b554940>, '__dict__': <attribute '__dict__' of 'test4' objects>, '__weakref__': <attribute '__weakref__' of 'test4' objects>, '__doc__': None, 'b': 20, 'd': 40, 'e': 45}\n"
          ]
        }
      ]
    },
    {
      "cell_type": "code",
      "source": [
        "test4.f = 20\n",
        "print(test4.__dict__)"
      ],
      "metadata": {
        "colab": {
          "base_uri": "https://localhost:8080/"
        },
        "id": "_s1Q-g9ftV3t",
        "outputId": "ac20febd-59bc-452d-d0be-e119b763ebbd"
      },
      "execution_count": null,
      "outputs": [
        {
          "output_type": "stream",
          "name": "stdout",
          "text": [
            "{'__module__': '__main__', 'a': 10, '__init__': <function test4.__init__ at 0x7f561b506c10>, 'm1': <function test4.m1 at 0x7f561b506040>, 'm2': <classmethod object at 0x7f561b554940>, '__dict__': <attribute '__dict__' of 'test4' objects>, '__weakref__': <attribute '__weakref__' of 'test4' objects>, '__doc__': None, 'b': 20, 'd': 40, 'e': 45, 'f': 20}\n"
          ]
        }
      ]
    },
    {
      "cell_type": "markdown",
      "source": [
        "# How to access static Varibles :\n",
        "\n",
        "1) we can access static variable by using self, classname,cls and object refrerance.\n",
        "\n"
      ],
      "metadata": {
        "id": "lxKpGGHFu2zc"
      }
    },
    {
      "cell_type": "code",
      "source": [
        "class Test5:\n",
        "  a =10\n",
        "  def __init__(self):\n",
        "    print(self.a)\n",
        "    print(Test5.a)\n",
        "\n",
        "  def m1(self):\n",
        "    print(self.a)\n",
        "    print(Test5.a)\n",
        "\n",
        "  @classmethod\n",
        "\n",
        "  def m2(cls):\n",
        "    print(cls.a)\n",
        "    print(Test5.a)\n",
        "\n",
        "  @staticmethod \n",
        "\n",
        "  def m3():\n",
        "    print(Test5.a)"
      ],
      "metadata": {
        "id": "q2Xvta-Jt5_s"
      },
      "execution_count": null,
      "outputs": []
    },
    {
      "cell_type": "code",
      "source": [
        "t = Test5()\n",
        "print(t.__dict__) # it is giving empty dictionary because there is no instance variables."
      ],
      "metadata": {
        "colab": {
          "base_uri": "https://localhost:8080/"
        },
        "id": "Go4_TnAwvy_X",
        "outputId": "e94660dc-2132-4535-a87f-382aa1a477b6"
      },
      "execution_count": null,
      "outputs": [
        {
          "output_type": "stream",
          "name": "stdout",
          "text": [
            "10\n",
            "10\n",
            "{}\n"
          ]
        }
      ]
    },
    {
      "cell_type": "code",
      "source": [
        "t.m1()\n",
        "t.m2()\n",
        "t.m3()"
      ],
      "metadata": {
        "colab": {
          "base_uri": "https://localhost:8080/"
        },
        "id": "qzUAzi0Zv4pj",
        "outputId": "7a330830-8366-438d-ab0d-b9252c20f176"
      },
      "execution_count": null,
      "outputs": [
        {
          "output_type": "stream",
          "name": "stdout",
          "text": [
            "10\n",
            "10\n",
            "10\n",
            "10\n",
            "10\n"
          ]
        }
      ]
    },
    {
      "cell_type": "code",
      "source": [
        "print(t.a)"
      ],
      "metadata": {
        "colab": {
          "base_uri": "https://localhost:8080/"
        },
        "id": "ZjwPMRXjwi_c",
        "outputId": "71398ab8-9530-4ef2-c7c4-42129d85f867"
      },
      "execution_count": null,
      "outputs": [
        {
          "output_type": "stream",
          "name": "stdout",
          "text": [
            "10\n"
          ]
        }
      ]
    },
    {
      "cell_type": "code",
      "source": [
        "print(Test5.a)"
      ],
      "metadata": {
        "colab": {
          "base_uri": "https://localhost:8080/"
        },
        "id": "CFxDSwmgwxGd",
        "outputId": "03dd086d-f0e4-4b79-bc97-c0f07866dabd"
      },
      "execution_count": null,
      "outputs": [
        {
          "output_type": "stream",
          "name": "stdout",
          "text": [
            "10\n"
          ]
        }
      ]
    },
    {
      "cell_type": "markdown",
      "source": [
        "# Update / Modify the value of static variable :\n",
        "\n",
        "1) we should update the value of static variable either by class name or by cls variable\n",
        "\n",
        "2) we cant use object referance / self to update class varibale."
      ],
      "metadata": {
        "id": "z3fCeltO64PZ"
      }
    },
    {
      "cell_type": "code",
      "source": [
        "class Test :\n",
        "  a = 12\n",
        "\n",
        "  @ classmethod\n",
        "  def m1(cls):\n",
        "    cls.a = 20\n",
        "\n",
        "  @staticmethod\n",
        "  def m2():\n",
        "    Test.a = 30"
      ],
      "metadata": {
        "id": "dZl35dNHwyfq"
      },
      "execution_count": null,
      "outputs": []
    },
    {
      "cell_type": "code",
      "source": [
        "print(Test.a)"
      ],
      "metadata": {
        "colab": {
          "base_uri": "https://localhost:8080/"
        },
        "id": "hxFb41vh60o4",
        "outputId": "55b36d8d-e03d-49a4-8f51-cd8c8f3ed2a9"
      },
      "execution_count": null,
      "outputs": [
        {
          "output_type": "stream",
          "name": "stdout",
          "text": [
            "12\n"
          ]
        }
      ]
    },
    {
      "cell_type": "code",
      "source": [
        "Test.m1()\n",
        "print(Test.a)"
      ],
      "metadata": {
        "colab": {
          "base_uri": "https://localhost:8080/"
        },
        "id": "zHGKBw8t7o0d",
        "outputId": "c62996c8-c761-443a-8169-c9974457f3e7"
      },
      "execution_count": null,
      "outputs": [
        {
          "output_type": "stream",
          "name": "stdout",
          "text": [
            "20\n"
          ]
        }
      ]
    },
    {
      "cell_type": "code",
      "source": [
        "Test.m2()\n",
        "print(Test.a)"
      ],
      "metadata": {
        "colab": {
          "base_uri": "https://localhost:8080/"
        },
        "id": "-gxjPLva7xrj",
        "outputId": "d8d70e6c-d96e-4d56-c66f-4ede283d91c6"
      },
      "execution_count": null,
      "outputs": [
        {
          "output_type": "stream",
          "name": "stdout",
          "text": [
            "30\n"
          ]
        }
      ]
    },
    {
      "cell_type": "code",
      "source": [
        "class Test2:\n",
        " a = 10\n",
        " def m1(self):\n",
        "   self.a = 888 "
      ],
      "metadata": {
        "id": "ITlBtoEK8BV3"
      },
      "execution_count": null,
      "outputs": []
    },
    {
      "cell_type": "code",
      "source": [
        "t= Test2()\n",
        "t.m1()\n",
        "print('static variable',Test2.a)\n",
        "\n",
        "# By using self or object referance, we cant update the value of static variable . Instant variable got created to the object level.\n",
        "\n",
        "print('instant variable',t.a)"
      ],
      "metadata": {
        "colab": {
          "base_uri": "https://localhost:8080/"
        },
        "id": "WBtStTfo8dpr",
        "outputId": "f7159876-e776-44ea-f01b-046bd2396a2d"
      },
      "execution_count": null,
      "outputs": [
        {
          "output_type": "stream",
          "name": "stdout",
          "text": [
            "static variable 10\n",
            "instant variable 888\n"
          ]
        }
      ]
    },
    {
      "cell_type": "markdown",
      "source": [
        "We can declare static variable : classname, cls, variable\n",
        "\n",
        "we can access static variable : classname, cls, self, objectreferance\n",
        "\n",
        "wed can update static variable : classname, cls variable"
      ],
      "metadata": {
        "id": "fPFSXLZH9khu"
      }
    },
    {
      "cell_type": "code",
      "source": [
        "class Test6:\n",
        "  x = 10\n",
        "\n",
        "  def __init__(self):\n",
        "    self.y = 20"
      ],
      "metadata": {
        "id": "ITQa61FK8mfC"
      },
      "execution_count": null,
      "outputs": []
    },
    {
      "cell_type": "code",
      "source": [
        "t1 = Test6()\n",
        "t2 = Test6()\n",
        "\n",
        "print(t1.x,t1.y)\n",
        "print(t2.x,t2.y)"
      ],
      "metadata": {
        "colab": {
          "base_uri": "https://localhost:8080/"
        },
        "id": "5pOeG2vZAkqr",
        "outputId": "aea48435-2082-4c20-a026-691bd3298579"
      },
      "execution_count": null,
      "outputs": [
        {
          "output_type": "stream",
          "name": "stdout",
          "text": [
            "10 20\n",
            "10 20\n"
          ]
        }
      ]
    },
    {
      "cell_type": "code",
      "source": [
        "t1.x = 123 # here we are not updating static varible x, we are creating instaance varible x.\n",
        "t1.y = 345\n",
        "\n",
        "print(t1.x,t1.y)\n",
        "print(t2.x,t2.y)"
      ],
      "metadata": {
        "colab": {
          "base_uri": "https://localhost:8080/"
        },
        "id": "p8KOlqDpAqwL",
        "outputId": "886f91ae-15ba-4897-b344-3a7001561a9b"
      },
      "execution_count": null,
      "outputs": [
        {
          "output_type": "stream",
          "name": "stdout",
          "text": [
            "123 345\n",
            "10 20\n"
          ]
        }
      ]
    },
    {
      "cell_type": "code",
      "source": [
        "Test6.x = 999\n",
        "t1.y = 321\n",
        "\n",
        "print(t1.x,t1.y)\n",
        "print(t2.x,t2.y)"
      ],
      "metadata": {
        "colab": {
          "base_uri": "https://localhost:8080/"
        },
        "id": "2Loor94lA2z-",
        "outputId": "adc4af4b-f0b0-497d-bac4-16b8f0c6c12f"
      },
      "execution_count": null,
      "outputs": [
        {
          "output_type": "stream",
          "name": "stdout",
          "text": [
            "123 321\n",
            "999 20\n"
          ]
        }
      ]
    },
    {
      "cell_type": "code",
      "source": [
        "Test6.x"
      ],
      "metadata": {
        "colab": {
          "base_uri": "https://localhost:8080/"
        },
        "id": "IFwnNyMDWqeB",
        "outputId": "f5720520-38ee-49f9-c440-3d2b608ecb14"
      },
      "execution_count": null,
      "outputs": [
        {
          "output_type": "execute_result",
          "data": {
            "text/plain": [
              "999"
            ]
          },
          "metadata": {},
          "execution_count": 85
        }
      ]
    },
    {
      "cell_type": "code",
      "source": [
        "# Deleting Static Variaables :\n",
        "# classname.variablename\n",
        "#classmethod : cls.variablename"
      ],
      "metadata": {
        "id": "ul04Y0rBX74Z"
      },
      "execution_count": null,
      "outputs": []
    },
    {
      "cell_type": "code",
      "source": [
        "class Test :\n",
        "  a = 10\n",
        "\n",
        "  @classmethod\n",
        "  def m1(cls):\n",
        "    del cls.a\n",
        "\n",
        "print(Test.__dict__)"
      ],
      "metadata": {
        "colab": {
          "base_uri": "https://localhost:8080/"
        },
        "id": "w6Po3xuoa7S9",
        "outputId": "0435d3a3-75b4-415d-e46a-2f50e8f236a3"
      },
      "execution_count": null,
      "outputs": [
        {
          "output_type": "stream",
          "name": "stdout",
          "text": [
            "{'__module__': '__main__', 'a': 10, 'm1': <classmethod object at 0x7f561b55fc10>, '__dict__': <attribute '__dict__' of 'Test' objects>, '__weakref__': <attribute '__weakref__' of 'Test' objects>, '__doc__': None}\n"
          ]
        }
      ]
    },
    {
      "cell_type": "code",
      "source": [
        "Test.m1()\n",
        "print(Test.__dict__)"
      ],
      "metadata": {
        "colab": {
          "base_uri": "https://localhost:8080/"
        },
        "id": "TX0XAP4cbO7M",
        "outputId": "a047a571-24a4-49e4-ac98-c2262e54b86a"
      },
      "execution_count": null,
      "outputs": [
        {
          "output_type": "stream",
          "name": "stdout",
          "text": [
            "{'__module__': '__main__', 'm1': <classmethod object at 0x7f561b55fc10>, '__dict__': <attribute '__dict__' of 'Test' objects>, '__weakref__': <attribute '__weakref__' of 'Test' objects>, '__doc__': None}\n"
          ]
        }
      ]
    },
    {
      "cell_type": "code",
      "source": [
        "class Tests:\n",
        "  a = 10\n",
        "  def __init__(slef):\n",
        "    Tests.b = 20\n",
        "    del Tests.a\n",
        "\n",
        "  def m1(self):\n",
        "    Tests.c = 30\n",
        "    del Tests.b\n",
        "\n",
        "  @classmethod\n",
        "\n",
        "  def m2(cls):\n",
        "    cls.d = 40\n",
        "    del Tests.c\n",
        "\n",
        "  @staticmethod\n",
        "\n",
        "  def m3():\n",
        "    Tests.e = 50\n",
        "    del Tests.d "
      ],
      "metadata": {
        "id": "7BKrvctHbdQI"
      },
      "execution_count": null,
      "outputs": []
    },
    {
      "cell_type": "code",
      "source": [
        "print(Tests.__dict__)"
      ],
      "metadata": {
        "colab": {
          "base_uri": "https://localhost:8080/"
        },
        "id": "uvCzk6sHcNny",
        "outputId": "55dbd0b8-fa98-423b-d693-b0cad73c6bcc"
      },
      "execution_count": null,
      "outputs": [
        {
          "output_type": "stream",
          "name": "stdout",
          "text": [
            "{'__module__': '__main__', 'a': 10, '__init__': <function Tests.__init__ at 0x7f561b4e7310>, 'm1': <function Tests.m1 at 0x7f561b4e7280>, 'm2': <classmethod object at 0x7f561b4aff40>, 'm3': <staticmethod object at 0x7f561b4aff70>, '__dict__': <attribute '__dict__' of 'Tests' objects>, '__weakref__': <attribute '__weakref__' of 'Tests' objects>, '__doc__': None}\n"
          ]
        }
      ]
    },
    {
      "cell_type": "markdown",
      "source": [
        "# Local Variable / Method Variable/ Temperory Variable :\n",
        "\n",
        "we can declare variable inside a method directly.\n",
        "we cant use this vriable , in another method. it has a scope upto that method only.\n",
        "\n",
        "Note : if we try to local variable of one method, in another method...we will get error"
      ],
      "metadata": {
        "id": "uBhj4D-sgIxR"
      }
    },
    {
      "cell_type": "code",
      "source": [
        "class Tests:\n",
        "  def m1(self):\n",
        "    a = 100\n",
        "    print(a)\n",
        "\n",
        "  def m2(self):\n",
        "    b = 200\n",
        "    print(b)"
      ],
      "metadata": {
        "id": "EIrz4buccmf3"
      },
      "execution_count": null,
      "outputs": []
    },
    {
      "cell_type": "code",
      "source": [
        "t= Tests()\n",
        "t.m1()\n",
        "t.m2()"
      ],
      "metadata": {
        "colab": {
          "base_uri": "https://localhost:8080/"
        },
        "id": "PKwAacnKgyn1",
        "outputId": "f2aa1ccd-e9f7-42f0-e6fb-54824c0537ae"
      },
      "execution_count": null,
      "outputs": [
        {
          "output_type": "stream",
          "name": "stdout",
          "text": [
            "100\n",
            "200\n"
          ]
        }
      ]
    },
    {
      "cell_type": "code",
      "source": [
        "class Tests:\n",
        "  def m1(self):\n",
        "    a = 100\n",
        "    print(a)\n",
        "\n",
        "  def m2(self):\n",
        "    b = 200\n",
        "    print(b)\n",
        "    print(a)\n",
        "\n",
        "t = Tests()\n",
        "t.m1()\n",
        "t.m2()"
      ],
      "metadata": {
        "colab": {
          "base_uri": "https://localhost:8080/",
          "height": 357
        },
        "id": "4Q8A_P0qg4_g",
        "outputId": "241770ed-f56e-4a5e-c362-ac5d782b7080"
      },
      "execution_count": null,
      "outputs": [
        {
          "output_type": "stream",
          "name": "stdout",
          "text": [
            "100\n",
            "200\n"
          ]
        },
        {
          "output_type": "error",
          "ename": "NameError",
          "evalue": "ignored",
          "traceback": [
            "\u001b[0;31m---------------------------------------------------------------------------\u001b[0m",
            "\u001b[0;31mNameError\u001b[0m                                 Traceback (most recent call last)",
            "\u001b[0;32m<ipython-input-94-1221c71d4971>\u001b[0m in \u001b[0;36m<module>\u001b[0;34m\u001b[0m\n\u001b[1;32m     11\u001b[0m \u001b[0mt\u001b[0m \u001b[0;34m=\u001b[0m \u001b[0mTests\u001b[0m\u001b[0;34m(\u001b[0m\u001b[0;34m)\u001b[0m\u001b[0;34m\u001b[0m\u001b[0;34m\u001b[0m\u001b[0m\n\u001b[1;32m     12\u001b[0m \u001b[0mt\u001b[0m\u001b[0;34m.\u001b[0m\u001b[0mm1\u001b[0m\u001b[0;34m(\u001b[0m\u001b[0;34m)\u001b[0m\u001b[0;34m\u001b[0m\u001b[0;34m\u001b[0m\u001b[0m\n\u001b[0;32m---> 13\u001b[0;31m \u001b[0mt\u001b[0m\u001b[0;34m.\u001b[0m\u001b[0mm2\u001b[0m\u001b[0;34m(\u001b[0m\u001b[0;34m)\u001b[0m\u001b[0;34m\u001b[0m\u001b[0;34m\u001b[0m\u001b[0m\n\u001b[0m",
            "\u001b[0;32m<ipython-input-94-1221c71d4971>\u001b[0m in \u001b[0;36mm2\u001b[0;34m(self)\u001b[0m\n\u001b[1;32m      7\u001b[0m     \u001b[0mb\u001b[0m \u001b[0;34m=\u001b[0m \u001b[0;36m200\u001b[0m\u001b[0;34m\u001b[0m\u001b[0;34m\u001b[0m\u001b[0m\n\u001b[1;32m      8\u001b[0m     \u001b[0mprint\u001b[0m\u001b[0;34m(\u001b[0m\u001b[0mb\u001b[0m\u001b[0;34m)\u001b[0m\u001b[0;34m\u001b[0m\u001b[0;34m\u001b[0m\u001b[0m\n\u001b[0;32m----> 9\u001b[0;31m     \u001b[0mprint\u001b[0m\u001b[0;34m(\u001b[0m\u001b[0ma\u001b[0m\u001b[0;34m)\u001b[0m\u001b[0;34m\u001b[0m\u001b[0;34m\u001b[0m\u001b[0m\n\u001b[0m\u001b[1;32m     10\u001b[0m \u001b[0;34m\u001b[0m\u001b[0m\n\u001b[1;32m     11\u001b[0m \u001b[0mt\u001b[0m \u001b[0;34m=\u001b[0m \u001b[0mTests\u001b[0m\u001b[0;34m(\u001b[0m\u001b[0;34m)\u001b[0m\u001b[0;34m\u001b[0m\u001b[0;34m\u001b[0m\u001b[0m\n",
            "\u001b[0;31mNameError\u001b[0m: name 'a' is not defined"
          ]
        }
      ]
    },
    {
      "cell_type": "code",
      "source": [
        "# Create Bank class, Bank name is static variable, account number and name are instance variable, \n",
        "# print balance amount after deposit and withdrawl operations"
      ],
      "metadata": {
        "id": "CJittSxyhVty"
      },
      "execution_count": null,
      "outputs": []
    },
    {
      "cell_type": "code",
      "source": [
        "import sys\n",
        "\n",
        "class Bank:\n",
        "  bank_name = \"SBI\"\n",
        "\n",
        "  def __init__(self,name,balance=0):\n",
        "    self.name = name\n",
        "    self.balance = balance\n",
        "\n",
        "  def deposit(self,amount):\n",
        "    self.balance = self.balance + amount\n",
        "    print('amount after balance :', self.balance)\n",
        "\n",
        "  def withdrawl(self,amount):\n",
        "    if amount>self.balance :\n",
        "      print('Insufficient fund in your acounts')\n",
        "      sys.exit()\n",
        "      \n",
        "    self.balance = self.balance - amount\n",
        "    print(self.balance)\n",
        "\n",
        "print('Welcome to ', Bank.bank_name)\n",
        "name = input('enter a name..')\n",
        "c = Bank(name)\n",
        "\n",
        "while True :\n",
        "\n",
        "    print('d - Deposit \\nw - Withdrawl\\ne - Exit')\n",
        "    option = input('enter option..')\n",
        "\n",
        "    if option.lower() == 'd':\n",
        "      amount = float(input('enter a amount...'))\n",
        "      c.deposit(amount)\n",
        "\n",
        "    elif option.lower() == 'w' :\n",
        "      amount= float(input('enter a amount...'))\n",
        "      c.withdrawl(amount)\n",
        "\n",
        "    elif option.lower() == 'e':\n",
        "      print('Thanks for banking')\n",
        "      sys.exit()\n",
        "\n",
        "    else :\n",
        "      print('invalid option...please choose correct option')"
      ],
      "metadata": {
        "colab": {
          "base_uri": "https://localhost:8080/",
          "height": 583
        },
        "id": "5XldQEhKzq6C",
        "outputId": "dec3067c-22a1-4885-a52e-07df7764a10a"
      },
      "execution_count": null,
      "outputs": [
        {
          "output_type": "stream",
          "name": "stdout",
          "text": [
            "Welcome to  SBI\n",
            "enter a name..sunny\n",
            "d - Deposit \n",
            "w - Withdrawl\n",
            "e - Exit\n",
            "enter option..w\n",
            "enter a amount...0\n",
            "0.0\n",
            "d - Deposit \n",
            "w - Withdrawl\n",
            "e - Exit\n",
            "enter option..d\n",
            "enter a amount...10000\n",
            "amount after balance : 10000.0\n",
            "d - Deposit \n",
            "w - Withdrawl\n",
            "e - Exit\n",
            "enter option..w\n",
            "enter a amount...5000\n",
            "5000.0\n",
            "d - Deposit \n",
            "w - Withdrawl\n",
            "e - Exit\n",
            "enter option..e\n",
            "Thanks for banking\n"
          ]
        },
        {
          "output_type": "error",
          "ename": "SystemExit",
          "evalue": "ignored",
          "traceback": [
            "An exception has occurred, use %tb to see the full traceback.\n",
            "\u001b[0;31mSystemExit\u001b[0m\n"
          ]
        },
        {
          "output_type": "stream",
          "name": "stderr",
          "text": [
            "/usr/local/lib/python3.8/dist-packages/IPython/core/interactiveshell.py:3334: UserWarning: To exit: use 'exit', 'quit', or Ctrl-D.\n",
            "  warn(\"To exit: use 'exit', 'quit', or Ctrl-D.\", stacklevel=1)\n"
          ]
        }
      ]
    },
    {
      "cell_type": "code",
      "source": [],
      "metadata": {
        "id": "d7IcM8LCzriA"
      },
      "execution_count": null,
      "outputs": []
    }
  ]
}