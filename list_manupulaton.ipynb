{
  "cells": [
    {
      "cell_type": "markdown",
      "source": [
        "### Data Structures\n",
        "Sequence types\n",
        "\n",
        "1) A sequence is an ordered collection of items\n",
        "\n",
        "2) The word ordered there is important\n",
        "\n",
        "3) If a sequence was not ordered, you couldn't refer to individual items by their index position.\n",
        "\n",
        "https://docs.python.org/3/library/stdtypes.html#sequence-types-list-tuple-range\n",
        "\n",
        "*   Four common built in data structures are list, tuples, dictionary and sets\n",
        "*   Similar to file container use to store data. For example: DS ID may contain many information.\n",
        "\n",
        "*   Different files may have different way to store the data. For example: excel, csv, json\n",
        "\n"
      ],
      "metadata": {
        "id": "Z4llsu8mQkpm"
      }
    },
    {
      "cell_type": "markdown",
      "source": [
        "\n",
        "\n",
        "## List\n",
        "\n",
        "# Properties of a list\n",
        "\n",
        "Denoted by [ ] and seperated by ,\n",
        "\n",
        "Ordered data structures\n",
        "\n",
        "Allow all the data types and duplicates and can also contain other data structures also\n",
        "\n",
        "Mutable (Can we change it or not)\n",
        "\n",
        "Can be accessed by index\n",
        "\n",
        "\n",
        "\n"
      ],
      "metadata": {
        "id": "quztdLd2Rbsd"
      }
    },
    {
      "cell_type": "code",
      "source": [
        "a = [5, 7, 8, 9] # List a\n",
        "b = [5, 8, 7, 9] # List b"
      ],
      "metadata": {
        "id": "2TjMAdW-SF4a"
      },
      "execution_count": null,
      "outputs": []
    },
    {
      "cell_type": "code",
      "source": [
        "a == b # comparing a and b if they are equal or not"
      ],
      "metadata": {
        "colab": {
          "base_uri": "https://localhost:8080/"
        },
        "id": "4jbFwyWVSFl7",
        "outputId": "f95e1830-54ca-4a1f-88d6-a7c0503a4471"
      },
      "execution_count": null,
      "outputs": [
        {
          "output_type": "execute_result",
          "data": {
            "text/plain": [
              "False"
            ]
          },
          "metadata": {},
          "execution_count": 2
        }
      ]
    },
    {
      "cell_type": "markdown",
      "source": [
        "An ordered collection of objects.\n",
        "\n",
        "Order is maintained lifetime\n",
        "\n",
        "List containing same elements in different orders are not same"
      ],
      "metadata": {
        "id": "MdqdzZCWSNBr"
      }
    },
    {
      "cell_type": "code",
      "source": [
        "a is b # is and is not are identity operators\n",
        "# Returns True if both variables are the same object"
      ],
      "metadata": {
        "colab": {
          "base_uri": "https://localhost:8080/"
        },
        "id": "K-iDN1nFSK3h",
        "outputId": "cb7eab73-95fe-48e4-ff03-26895a868ed5"
      },
      "execution_count": null,
      "outputs": [
        {
          "output_type": "execute_result",
          "data": {
            "text/plain": [
              "False"
            ]
          },
          "metadata": {},
          "execution_count": 3
        }
      ]
    },
    {
      "cell_type": "code",
      "execution_count": null,
      "metadata": {
        "id": "A4G6ybqTFwfK",
        "colab": {
          "base_uri": "https://localhost:8080/"
        },
        "outputId": "cb4a6322-0dc1-4b99-9262-d62de097512c"
      },
      "outputs": [
        {
          "output_type": "execute_result",
          "data": {
            "text/plain": [
              "True"
            ]
          },
          "metadata": {},
          "execution_count": 4
        }
      ],
      "source": [
        "a is not b\n",
        "# Returns True if both variables are not the same objectl  = [\"sudh\" , 234,45.56, [45,56,6,\"c\"] , True]"
      ]
    },
    {
      "cell_type": "code",
      "source": [
        "l = ['sudh', 234, 45.56, [45, 56, 6, 'c'],3+5j]"
      ],
      "metadata": {
        "id": "YMf8MwH_UsK_"
      },
      "execution_count": null,
      "outputs": []
    },
    {
      "cell_type": "code",
      "execution_count": null,
      "metadata": {
        "id": "Peo9t-oQFwfN",
        "outputId": "1ac6ab27-7422-49cf-83a7-f5dc991b2e98",
        "colab": {
          "base_uri": "https://localhost:8080/"
        }
      },
      "outputs": [
        {
          "output_type": "stream",
          "name": "stdout",
          "text": [
            "sudh\n",
            "234\n",
            "45.56\n",
            "[45, 56, 6, 'c']\n",
            "(3+5j)\n"
          ]
        }
      ],
      "source": [
        "for i in l :\n",
        "    print(i)"
      ]
    },
    {
      "cell_type": "code",
      "execution_count": null,
      "metadata": {
        "id": "sgPpaL3-FwfO",
        "outputId": "f89b4b70-2752-4153-f4d3-0ef8a5f34cf1",
        "colab": {
          "base_uri": "https://localhost:8080/",
          "height": 35
        }
      },
      "outputs": [
        {
          "output_type": "execute_result",
          "data": {
            "text/plain": [
              "'sudh'"
            ],
            "application/vnd.google.colaboratory.intrinsic+json": {
              "type": "string"
            }
          },
          "metadata": {},
          "execution_count": 8
        }
      ],
      "source": [
        "l[0]"
      ]
    },
    {
      "cell_type": "code",
      "execution_count": null,
      "metadata": {
        "id": "7yDGPvglFwfO",
        "outputId": "71eaa675-6f99-412a-e128-14e44f02c0e4",
        "colab": {
          "base_uri": "https://localhost:8080/"
        }
      },
      "outputs": [
        {
          "output_type": "execute_result",
          "data": {
            "text/plain": [
              "[(3+5j), [45, 56, 6, 'c'], 45.56, 234, 'sudh']"
            ]
          },
          "metadata": {},
          "execution_count": 9
        }
      ],
      "source": [
        "l[::-1]"
      ]
    },
    {
      "cell_type": "code",
      "execution_count": null,
      "metadata": {
        "id": "k2LDE-TSFwfP",
        "outputId": "77810434-8f19-4e76-ae6d-1e1efd3cb5c2",
        "colab": {
          "base_uri": "https://localhost:8080/"
        }
      },
      "outputs": [
        {
          "output_type": "stream",
          "name": "stdout",
          "text": [
            "no element is not a list  sudh\n",
            "no element is not a list  234\n",
            "no element is not a list  45.56\n",
            "this is a list  [45, 56, 6, 'c']\n",
            "no element is not a list  (3+5j)\n"
          ]
        }
      ],
      "source": [
        "for i in l :\n",
        "    if type(i)== list :\n",
        "        print(\"this is a list \" ,i)\n",
        "    else :\n",
        "        print(\"no element is not a list \", i)"
      ]
    },
    {
      "cell_type": "code",
      "execution_count": null,
      "metadata": {
        "id": "mr4sLacQFwfP",
        "outputId": "ad6aa5a6-9aae-4543-c2d3-8c4ab460eb4b",
        "colab": {
          "base_uri": "https://localhost:8080/"
        }
      },
      "outputs": [
        {
          "output_type": "execute_result",
          "data": {
            "text/plain": [
              "['sudh', 234, 45.56, [45, 56, 6, 'c'], (3+5j)]"
            ]
          },
          "metadata": {},
          "execution_count": 11
        }
      ],
      "source": [
        "l "
      ]
    },
    {
      "cell_type": "code",
      "execution_count": null,
      "metadata": {
        "id": "c5b3yyHpFwfP"
      },
      "outputs": [],
      "source": [
        "l1= [345,2345, \"ineuron\" , \"tech \"]"
      ]
    },
    {
      "cell_type": "code",
      "execution_count": null,
      "metadata": {
        "id": "oly-Ov2lFwfQ",
        "outputId": "63cf97da-3f83-4d2b-f007-5dae01139ab7"
      },
      "outputs": [
        {
          "data": {
            "text/plain": [
              "['sudh', 234, 45.56, [45, 56, 6, 'c'], True, 345, 2345, 'ineuron', 'tech ']"
            ]
          },
          "execution_count": 9,
          "metadata": {},
          "output_type": "execute_result"
        }
      ],
      "source": [
        "l + l1"
      ]
    },
    {
      "cell_type": "code",
      "execution_count": null,
      "metadata": {
        "id": "CbCOrFXPFwfQ",
        "outputId": "539e859e-fe09-4755-bf6b-c6759db215e0"
      },
      "outputs": [
        {
          "data": {
            "text/plain": [
              "['sudh',\n",
              " 234,\n",
              " 45.56,\n",
              " [45, 56, 6, 'c'],\n",
              " True,\n",
              " 'sudh',\n",
              " 234,\n",
              " 45.56,\n",
              " [45, 56, 6, 'c'],\n",
              " True]"
            ]
          },
          "execution_count": 10,
          "metadata": {},
          "output_type": "execute_result"
        }
      ],
      "source": [
        "l * 2"
      ]
    },
    {
      "cell_type": "code",
      "execution_count": null,
      "metadata": {
        "id": "2H_E0IOjFwfR",
        "outputId": "da908f9b-86f1-458e-b4fb-8b5c1a369f0e"
      },
      "outputs": [
        {
          "data": {
            "text/plain": [
              "5"
            ]
          },
          "execution_count": 11,
          "metadata": {},
          "output_type": "execute_result"
        }
      ],
      "source": [
        "len(l)"
      ]
    },
    {
      "cell_type": "markdown",
      "source": [
        "### Type casting"
      ],
      "metadata": {
        "id": "p09hBYhPVVDa"
      }
    },
    {
      "cell_type": "code",
      "source": [
        "Virat_score = 52, 17, 59, 60, 32\n",
        "Virat_score"
      ],
      "metadata": {
        "colab": {
          "base_uri": "https://localhost:8080/"
        },
        "id": "x3yoRJMUVUxZ",
        "outputId": "4dada72e-0887-458e-b5cb-b8219941dca3"
      },
      "execution_count": null,
      "outputs": [
        {
          "output_type": "execute_result",
          "data": {
            "text/plain": [
              "(52, 17, 59, 60, 32)"
            ]
          },
          "metadata": {},
          "execution_count": 14
        }
      ]
    },
    {
      "cell_type": "code",
      "source": [
        "type(Virat_score)"
      ],
      "metadata": {
        "colab": {
          "base_uri": "https://localhost:8080/"
        },
        "id": "2553uMD7VUhG",
        "outputId": "98425f73-d56d-4503-8236-379d75b3f78a"
      },
      "execution_count": null,
      "outputs": [
        {
          "output_type": "execute_result",
          "data": {
            "text/plain": [
              "tuple"
            ]
          },
          "metadata": {},
          "execution_count": 15
        }
      ]
    },
    {
      "cell_type": "code",
      "source": [
        "Virat_score = list(Virat_score)\n",
        "Virat_score"
      ],
      "metadata": {
        "colab": {
          "base_uri": "https://localhost:8080/"
        },
        "id": "s95DTbzuVUSL",
        "outputId": "7f138140-2505-48c2-ca76-5a40adb27400"
      },
      "execution_count": null,
      "outputs": [
        {
          "output_type": "execute_result",
          "data": {
            "text/plain": [
              "[52, 17, 59, 60, 32]"
            ]
          },
          "metadata": {},
          "execution_count": 16
        }
      ]
    },
    {
      "cell_type": "code",
      "source": [
        "type(Virat_score)"
      ],
      "metadata": {
        "colab": {
          "base_uri": "https://localhost:8080/"
        },
        "id": "5lG7DkZJVT_o",
        "outputId": "5f75be6f-886e-4029-c5e4-312c017e9648"
      },
      "execution_count": null,
      "outputs": [
        {
          "output_type": "execute_result",
          "data": {
            "text/plain": [
              "list"
            ]
          },
          "metadata": {},
          "execution_count": 17
        }
      ]
    },
    {
      "cell_type": "code",
      "source": [],
      "metadata": {
        "id": "fornLfdQVTwV"
      },
      "execution_count": null,
      "outputs": []
    },
    {
      "cell_type": "markdown",
      "source": [
        "### Membership Operator"
      ],
      "metadata": {
        "id": "U7F3btEzUdSw"
      }
    },
    {
      "cell_type": "code",
      "execution_count": null,
      "metadata": {
        "id": "p18NkUcJFwfR",
        "outputId": "96a89dfe-945f-4d18-f227-5333a0151a97"
      },
      "outputs": [
        {
          "data": {
            "text/plain": [
              "True"
            ]
          },
          "execution_count": 14,
          "metadata": {},
          "output_type": "execute_result"
        }
      ],
      "source": [
        "234  in l"
      ]
    },
    {
      "cell_type": "code",
      "source": [
        "234 not in l"
      ],
      "metadata": {
        "colab": {
          "base_uri": "https://localhost:8080/"
        },
        "id": "rFIUZyZHU8mk",
        "outputId": "134f51b1-c9b6-4282-85e5-16f9e10e4868"
      },
      "execution_count": null,
      "outputs": [
        {
          "output_type": "execute_result",
          "data": {
            "text/plain": [
              "False"
            ]
          },
          "metadata": {},
          "execution_count": 13
        }
      ]
    },
    {
      "cell_type": "code",
      "execution_count": null,
      "metadata": {
        "id": "nHhTHflAFwfS",
        "outputId": "2e8e3401-3465-40ab-b679-c3f49d0349a5"
      },
      "outputs": [
        {
          "name": "stdout",
          "output_type": "stream",
          "text": [
            "45.56\n"
          ]
        }
      ],
      "source": [
        "print(max([2,3,4,5,45.56]))"
      ]
    },
    {
      "cell_type": "code",
      "execution_count": null,
      "metadata": {
        "id": "uEE8IZWAFwfS",
        "outputId": "d3338604-4818-4a56-eb03-278975353eb9"
      },
      "outputs": [
        {
          "ename": "TypeError",
          "evalue": "'>' not supported between instances of 'int' and 'str'",
          "output_type": "error",
          "traceback": [
            "\u001b[1;31m---------------------------------------------------------------------------\u001b[0m",
            "\u001b[1;31mTypeError\u001b[0m                                 Traceback (most recent call last)",
            "\u001b[1;32m<ipython-input-19-738f7be65a3a>\u001b[0m in \u001b[0;36m<module>\u001b[1;34m\u001b[0m\n\u001b[1;32m----> 1\u001b[1;33m \u001b[0mmax\u001b[0m\u001b[1;33m(\u001b[0m\u001b[1;33m[\u001b[0m\u001b[1;34m\"sdfs\"\u001b[0m\u001b[1;33m,\u001b[0m\u001b[1;34m\"sdfs\"\u001b[0m \u001b[1;33m,\u001b[0m \u001b[1;36m234\u001b[0m\u001b[1;33m]\u001b[0m\u001b[1;33m)\u001b[0m\u001b[1;33m\u001b[0m\u001b[1;33m\u001b[0m\u001b[0m\n\u001b[0m",
            "\u001b[1;31mTypeError\u001b[0m: '>' not supported between instances of 'int' and 'str'"
          ]
        }
      ],
      "source": [
        "max([\"sdfs\",\"sdfs\" , 234])"
      ]
    },
    {
      "cell_type": "code",
      "execution_count": null,
      "metadata": {
        "id": "DD7vkgheFwfS",
        "outputId": "def5cf49-fe58-4deb-d565-c1e5df4bd292"
      },
      "outputs": [
        {
          "data": {
            "text/plain": [
              "'z'"
            ]
          },
          "execution_count": 22,
          "metadata": {},
          "output_type": "execute_result"
        }
      ],
      "source": [
        "max([\"sudh\" , \"ineruon\" , \"AI\",\"z\"])"
      ]
    },
    {
      "cell_type": "code",
      "execution_count": null,
      "metadata": {
        "id": "M4UtBmcBFwfS",
        "outputId": "39806f1a-454a-4257-b78d-3f3ee61813a2"
      },
      "outputs": [
        {
          "data": {
            "text/plain": [
              "'A'"
            ]
          },
          "execution_count": 33,
          "metadata": {},
          "output_type": "execute_result"
        }
      ],
      "source": [
        "min([\"fsdfa3434\",\"fsd\",\"fsdfaaaaaaaaa\",\"a\" , \"A\"])"
      ]
    },
    {
      "cell_type": "code",
      "execution_count": null,
      "metadata": {
        "id": "VqvbzlDbFwfT",
        "outputId": "7378c24f-de54-400c-b6b1-317c4f25d715"
      },
      "outputs": [
        {
          "data": {
            "text/plain": [
              "0"
            ]
          },
          "execution_count": 25,
          "metadata": {},
          "output_type": "execute_result"
        }
      ],
      "source": [
        "min([2,3,4,5,0])"
      ]
    },
    {
      "cell_type": "code",
      "execution_count": null,
      "metadata": {
        "id": "LqgY1mWEFwfT",
        "outputId": "d21e9b0d-9f2b-4051-9950-b13a3fb314e3"
      },
      "outputs": [
        {
          "ename": "TypeError",
          "evalue": "'<' not supported between instances of 'int' and 'str'",
          "output_type": "error",
          "traceback": [
            "\u001b[1;31m---------------------------------------------------------------------------\u001b[0m",
            "\u001b[1;31mTypeError\u001b[0m                                 Traceback (most recent call last)",
            "\u001b[1;32m<ipython-input-27-3877a0cf8210>\u001b[0m in \u001b[0;36m<module>\u001b[1;34m\u001b[0m\n\u001b[1;32m----> 1\u001b[1;33m \u001b[0mmin\u001b[0m\u001b[1;33m(\u001b[0m\u001b[1;34m\"34345\"\u001b[0m\u001b[1;33m,\u001b[0m\u001b[1;36m234\u001b[0m\u001b[1;33m,\u001b[0m\u001b[1;36m234.345\u001b[0m\u001b[1;33m,\u001b[0m\u001b[1;34m\"344\"\u001b[0m\u001b[1;33m)\u001b[0m\u001b[1;33m\u001b[0m\u001b[1;33m\u001b[0m\u001b[0m\n\u001b[0m",
            "\u001b[1;31mTypeError\u001b[0m: '<' not supported between instances of 'int' and 'str'"
          ]
        }
      ],
      "source": [
        "min(\"34345\",234,234.345,\"344\")"
      ]
    },
    {
      "cell_type": "code",
      "source": [
        "dir(list)"
      ],
      "metadata": {
        "colab": {
          "base_uri": "https://localhost:8080/"
        },
        "id": "3kKPBJjMbTXI",
        "outputId": "cddeadb2-d2df-43be-f30b-00763901cc13"
      },
      "execution_count": null,
      "outputs": [
        {
          "output_type": "execute_result",
          "data": {
            "text/plain": [
              "['__add__',\n",
              " '__class__',\n",
              " '__contains__',\n",
              " '__delattr__',\n",
              " '__delitem__',\n",
              " '__dir__',\n",
              " '__doc__',\n",
              " '__eq__',\n",
              " '__format__',\n",
              " '__ge__',\n",
              " '__getattribute__',\n",
              " '__getitem__',\n",
              " '__gt__',\n",
              " '__hash__',\n",
              " '__iadd__',\n",
              " '__imul__',\n",
              " '__init__',\n",
              " '__init_subclass__',\n",
              " '__iter__',\n",
              " '__le__',\n",
              " '__len__',\n",
              " '__lt__',\n",
              " '__mul__',\n",
              " '__ne__',\n",
              " '__new__',\n",
              " '__reduce__',\n",
              " '__reduce_ex__',\n",
              " '__repr__',\n",
              " '__reversed__',\n",
              " '__rmul__',\n",
              " '__setattr__',\n",
              " '__setitem__',\n",
              " '__sizeof__',\n",
              " '__str__',\n",
              " '__subclasshook__',\n",
              " 'append',\n",
              " 'clear',\n",
              " 'copy',\n",
              " 'count',\n",
              " 'extend',\n",
              " 'index',\n",
              " 'insert',\n",
              " 'pop',\n",
              " 'remove',\n",
              " 'reverse',\n",
              " 'sort']"
            ]
          },
          "metadata": {},
          "execution_count": 27
        }
      ]
    },
    {
      "cell_type": "code",
      "execution_count": null,
      "metadata": {
        "id": "D2ew_gZmFwfT"
      },
      "outputs": [],
      "source": [
        "l = [1,2,3,4]"
      ]
    },
    {
      "cell_type": "code",
      "execution_count": null,
      "metadata": {
        "id": "MCEmH3I6FwfT"
      },
      "outputs": [],
      "source": [
        "l.append(6+6j)"
      ]
    },
    {
      "cell_type": "code",
      "execution_count": null,
      "metadata": {
        "id": "jNnutMfCFwfT",
        "outputId": "71e26ee2-61cc-493c-f99f-c1536a721e90"
      },
      "outputs": [
        {
          "data": {
            "text/plain": [
              "[1, 2, 3, 4, 'sudh', [1, 2, 3, 4, 4], (6+6j)]"
            ]
          },
          "execution_count": 40,
          "metadata": {},
          "output_type": "execute_result"
        }
      ],
      "source": [
        "l"
      ]
    },
    {
      "cell_type": "code",
      "execution_count": null,
      "metadata": {
        "id": "2xW0rsP7FwfU",
        "outputId": "b48b43e5-2c5a-482c-c521-0844fa993e0f"
      },
      "outputs": [
        {
          "data": {
            "text/plain": [
              "[1, 2, 3, 4, 'sudh', [1, 2, 3, 4, 4], (6+6j)]"
            ]
          },
          "execution_count": 41,
          "metadata": {},
          "output_type": "execute_result"
        }
      ],
      "source": [
        "l"
      ]
    },
    {
      "cell_type": "code",
      "execution_count": null,
      "metadata": {
        "id": "nnQ8D1GQFwfU",
        "outputId": "e442e748-121a-407b-bba5-af75118e1e68"
      },
      "outputs": [
        {
          "ename": "TypeError",
          "evalue": "can only concatenate list (not \"str\") to list",
          "output_type": "error",
          "traceback": [
            "\u001b[1;31m---------------------------------------------------------------------------\u001b[0m",
            "\u001b[1;31mTypeError\u001b[0m                                 Traceback (most recent call last)",
            "\u001b[1;32m<ipython-input-43-c2dbfee94b38>\u001b[0m in \u001b[0;36m<module>\u001b[1;34m\u001b[0m\n\u001b[1;32m----> 1\u001b[1;33m \u001b[0ml\u001b[0m \u001b[1;33m+\u001b[0m \u001b[1;34m\"sudh\"\u001b[0m\u001b[1;33m\u001b[0m\u001b[1;33m\u001b[0m\u001b[0m\n\u001b[0m",
            "\u001b[1;31mTypeError\u001b[0m: can only concatenate list (not \"str\") to list"
          ]
        }
      ],
      "source": [
        "l + \"sudh\""
      ]
    },
    {
      "cell_type": "code",
      "execution_count": null,
      "metadata": {
        "id": "kSZ0qpOzFwfU"
      },
      "outputs": [],
      "source": [
        "l.append(\"sudh\")"
      ]
    },
    {
      "cell_type": "code",
      "execution_count": null,
      "metadata": {
        "id": "aBbEaWE2FwfU",
        "outputId": "ac8b245e-54fb-4646-f716-40c66ae7ef7e"
      },
      "outputs": [
        {
          "data": {
            "text/plain": [
              "[1, 2, 3, 4, 'sudh', [1, 2, 3, 4, 4], (6+6j), 'sudh']"
            ]
          },
          "execution_count": 46,
          "metadata": {},
          "output_type": "execute_result"
        }
      ],
      "source": [
        "l"
      ]
    },
    {
      "cell_type": "code",
      "execution_count": null,
      "metadata": {
        "id": "MhsjovCMFwfU"
      },
      "outputs": [],
      "source": [
        "l = [1,2,3,4,5]"
      ]
    },
    {
      "cell_type": "code",
      "execution_count": null,
      "metadata": {
        "id": "eCO_ZPEnFwfV"
      },
      "outputs": [],
      "source": [
        "l.append(\"sudh\")"
      ]
    },
    {
      "cell_type": "code",
      "execution_count": null,
      "metadata": {
        "id": "O0R8W0ABFwfV",
        "outputId": "0339692d-4e05-431a-91f2-a3640aafa58b"
      },
      "outputs": [
        {
          "data": {
            "text/plain": [
              "[1, 2, 3, 4, 5, 'sudh']"
            ]
          },
          "execution_count": 49,
          "metadata": {},
          "output_type": "execute_result"
        }
      ],
      "source": [
        "l"
      ]
    },
    {
      "cell_type": "code",
      "execution_count": null,
      "metadata": {
        "id": "obFH3FvnFwfV"
      },
      "outputs": [],
      "source": [
        "l.insert(3,\"ineuron\")"
      ]
    },
    {
      "cell_type": "code",
      "execution_count": null,
      "metadata": {
        "id": "q-xFgtFCFwfV",
        "outputId": "99f5c678-56a4-47de-d150-b7eacfd09a5a"
      },
      "outputs": [
        {
          "data": {
            "text/plain": [
              "[1, 2, 3, 'ineuron', 4, 5, 'sudh']"
            ]
          },
          "execution_count": 51,
          "metadata": {},
          "output_type": "execute_result"
        }
      ],
      "source": [
        "l"
      ]
    },
    {
      "cell_type": "code",
      "execution_count": null,
      "metadata": {
        "id": "EpF6-lDmFwfV"
      },
      "outputs": [],
      "source": [
        "l.insert(-1 , \"test\")"
      ]
    },
    {
      "cell_type": "code",
      "source": [
        "#List insert()\n",
        "thislist = [1,2,3]\n",
        "thislist.insert(1, 7)\n",
        "print(thislist)"
      ],
      "metadata": {
        "colab": {
          "base_uri": "https://localhost:8080/"
        },
        "id": "vdcVLrfFV0L4",
        "outputId": "25e0cae3-de22-40b6-8d39-2ebbc0287d9c"
      },
      "execution_count": null,
      "outputs": [
        {
          "output_type": "stream",
          "name": "stdout",
          "text": [
            "[1, 7, 2, 3]\n"
          ]
        }
      ]
    },
    {
      "cell_type": "code",
      "execution_count": null,
      "metadata": {
        "id": "AwDJZn4zFwfV",
        "outputId": "09006200-457b-4fb2-f992-74c1d3e2e375"
      },
      "outputs": [
        {
          "data": {
            "text/plain": [
              "['test', 1, 2, 3, 'ineuron', 4, 5, 'test', 'test', 'sudh']"
            ]
          },
          "execution_count": 57,
          "metadata": {},
          "output_type": "execute_result"
        }
      ],
      "source": [
        "l"
      ]
    },
    {
      "cell_type": "code",
      "execution_count": null,
      "metadata": {
        "id": "MNXeo63mFwfV",
        "outputId": "3d916458-0080-4bec-8040-65d3afeb1242"
      },
      "outputs": [
        {
          "data": {
            "text/plain": [
              "['test', 1, 2, 3, 'ineuron', 4, 5, 'test', 'test', 'sudh']"
            ]
          },
          "execution_count": 58,
          "metadata": {},
          "output_type": "execute_result"
        }
      ],
      "source": [
        "l"
      ]
    },
    {
      "cell_type": "code",
      "execution_count": null,
      "metadata": {
        "id": "DIKgJXzlFwfW"
      },
      "outputs": [],
      "source": [
        "l.insert(-1 , \"test2\")"
      ]
    },
    {
      "cell_type": "code",
      "execution_count": null,
      "metadata": {
        "id": "LmTwEGFpFwfW",
        "outputId": "0eb74dc4-789f-4acb-f066-bf31a09765d8"
      },
      "outputs": [
        {
          "data": {
            "text/plain": [
              "['test', 1, 2, 3, 'ineuron', 4, 5, 'test', 'test', 'test2', 'sudh']"
            ]
          },
          "execution_count": 60,
          "metadata": {},
          "output_type": "execute_result"
        }
      ],
      "source": [
        "l"
      ]
    },
    {
      "cell_type": "code",
      "execution_count": null,
      "metadata": {
        "id": "B_6HD9aAFwfW",
        "outputId": "fa14c09d-a02d-468e-ae69-e930f284346b"
      },
      "outputs": [
        {
          "data": {
            "text/plain": [
              "['test', 1, 2, 3, 'ineuron', 4, 5, 'test', 'test', 'test2', 'sudh']"
            ]
          },
          "execution_count": 61,
          "metadata": {},
          "output_type": "execute_result"
        }
      ],
      "source": [
        "l"
      ]
    },
    {
      "cell_type": "code",
      "source": [
        "#list count()\n",
        "list1 = [10,20,30,40,10]\n",
        "num = 10\n",
        "res1 = list1.count(num)\n",
        "print(res1)"
      ],
      "metadata": {
        "colab": {
          "base_uri": "https://localhost:8080/"
        },
        "id": "QBvkDC2tV48b",
        "outputId": "71cef8e6-98da-4b7d-a237-c26b8f52a7eb"
      },
      "execution_count": null,
      "outputs": [
        {
          "output_type": "stream",
          "name": "stdout",
          "text": [
            "2\n"
          ]
        }
      ]
    },
    {
      "cell_type": "code",
      "execution_count": null,
      "metadata": {
        "id": "meNZA3xKFwfW",
        "outputId": "0e9d78a8-22fc-40c6-f2dc-531bb965d12d"
      },
      "outputs": [
        {
          "data": {
            "text/plain": [
              "3"
            ]
          },
          "execution_count": 63,
          "metadata": {},
          "output_type": "execute_result"
        }
      ],
      "source": [
        "l.count(\"test\")"
      ]
    },
    {
      "cell_type": "code",
      "execution_count": null,
      "metadata": {
        "id": "ZYrx2g9bFwfW"
      },
      "outputs": [],
      "source": [
        "l = [1,2,3,4]"
      ]
    },
    {
      "cell_type": "code",
      "execution_count": null,
      "metadata": {
        "id": "ZlKeAMsNFwfW"
      },
      "outputs": [],
      "source": [
        "l.append([3,4,7,89])"
      ]
    },
    {
      "cell_type": "code",
      "execution_count": null,
      "metadata": {
        "id": "Vyl7IOy8FwfW",
        "outputId": "68007258-5898-4fc8-90d6-ba3c81c1ad90"
      },
      "outputs": [
        {
          "data": {
            "text/plain": [
              "[1, 2, 3, 4, 'sudh', [1, 2, 4, 56], 't', 'e', 's', 't', '1', 67, [3, 4, 7, 89]]"
            ]
          },
          "execution_count": 76,
          "metadata": {},
          "output_type": "execute_result"
        }
      ],
      "source": [
        "l"
      ]
    },
    {
      "cell_type": "code",
      "execution_count": null,
      "metadata": {
        "id": "pMTuu4SfFwfX"
      },
      "outputs": [],
      "source": [
        "l.append([1,2,4,56])"
      ]
    },
    {
      "cell_type": "code",
      "execution_count": null,
      "metadata": {
        "id": "73yiMcdvFwfX",
        "outputId": "00328296-6e6f-4a5e-aa81-e9977ad4c4ee"
      },
      "outputs": [
        {
          "data": {
            "text/plain": [
              "[1, 2, 3, 4]"
            ]
          },
          "execution_count": 80,
          "metadata": {},
          "output_type": "execute_result"
        }
      ],
      "source": [
        "l"
      ]
    },
    {
      "cell_type": "code",
      "execution_count": null,
      "metadata": {
        "id": "RCqvTG8vFwfX"
      },
      "outputs": [],
      "source": [
        "l.extend([3,4,7,89,[\"sdfusdf\",4,5]])"
      ]
    },
    {
      "cell_type": "code",
      "execution_count": null,
      "metadata": {
        "id": "udxh1NAJFwfX",
        "outputId": "b96d5136-94b7-48ec-c26e-3bf5ac020501"
      },
      "outputs": [
        {
          "data": {
            "text/plain": [
              "[1, 2, 3, 4, 3, 4, 7, 89, 3, 4, 7, 89, ['sdfusdf', 4, 5]]"
            ]
          },
          "execution_count": 84,
          "metadata": {},
          "output_type": "execute_result"
        }
      ],
      "source": [
        "l"
      ]
    },
    {
      "cell_type": "code",
      "execution_count": null,
      "metadata": {
        "id": "Yf9a9QihFwfX",
        "outputId": "08159d9b-3479-4360-be5e-ab2469feac61"
      },
      "outputs": [
        {
          "data": {
            "text/plain": [
              "['t', 'e', 's', 't']"
            ]
          },
          "execution_count": 71,
          "metadata": {},
          "output_type": "execute_result"
        }
      ],
      "source": [
        "s = \"test\"\n",
        "list(s)"
      ]
    },
    {
      "cell_type": "code",
      "execution_count": null,
      "metadata": {
        "id": "er3a7ZEVFwfX",
        "outputId": "de1037b2-0d1b-4193-af38-c311655477fc"
      },
      "outputs": [
        {
          "data": {
            "text/plain": [
              "[1, 2, 3, 4, 3, 4, 7, 89, 3, 4, 7, 89, ['sdfusdf', 4, 5]]"
            ]
          },
          "execution_count": 85,
          "metadata": {},
          "output_type": "execute_result"
        }
      ],
      "source": [
        "l "
      ]
    },
    {
      "cell_type": "code",
      "execution_count": null,
      "metadata": {
        "id": "oLnghAqMFwfX",
        "outputId": "65a0b104-3990-49b6-e29c-094254b81fd1"
      },
      "outputs": [
        {
          "data": {
            "text/plain": [
              "2"
            ]
          },
          "execution_count": 86,
          "metadata": {},
          "output_type": "execute_result"
        }
      ],
      "source": [
        "l.index(3)"
      ]
    },
    {
      "cell_type": "code",
      "execution_count": null,
      "metadata": {
        "id": "VmNUhJCrFwfY"
      },
      "outputs": [],
      "source": [
        "l = [2,3,4,5,6,7]"
      ]
    },
    {
      "cell_type": "code",
      "execution_count": null,
      "metadata": {
        "id": "AhlUcvdNFwfY",
        "outputId": "4eace0db-e9be-40a8-da1a-14b168df37dd"
      },
      "outputs": [
        {
          "data": {
            "text/plain": [
              "2"
            ]
          },
          "execution_count": 90,
          "metadata": {},
          "output_type": "execute_result"
        }
      ],
      "source": [
        "l.pop(0)"
      ]
    },
    {
      "cell_type": "code",
      "execution_count": null,
      "metadata": {
        "id": "6HASrH-4FwfY",
        "outputId": "0fc3413c-a6b4-44ba-89f6-b7223d5dd3c7"
      },
      "outputs": [
        {
          "data": {
            "text/plain": [
              "[3, 4, 5, 6]"
            ]
          },
          "execution_count": 91,
          "metadata": {},
          "output_type": "execute_result"
        }
      ],
      "source": [
        "l"
      ]
    },
    {
      "cell_type": "code",
      "execution_count": null,
      "metadata": {
        "id": "uZgVaYjNFwfY"
      },
      "outputs": [],
      "source": [
        "l = [4,5,6,6,6,6,6,7,8,9]\n"
      ]
    },
    {
      "cell_type": "code",
      "source": [
        "#List remove()\n",
        "thislist = [7,9,10]\n",
        "thislist.remove(10)\n",
        "print(thislist)"
      ],
      "metadata": {
        "colab": {
          "base_uri": "https://localhost:8080/"
        },
        "id": "hbzDg-ynWCuh",
        "outputId": "2434514a-1c10-4c27-d540-081de07a047f"
      },
      "execution_count": null,
      "outputs": [
        {
          "output_type": "stream",
          "name": "stdout",
          "text": [
            "[7, 9]\n"
          ]
        }
      ]
    },
    {
      "cell_type": "code",
      "execution_count": null,
      "metadata": {
        "id": "auQ0wim7FwfY"
      },
      "outputs": [],
      "source": [
        "l.remove(6)"
      ]
    },
    {
      "cell_type": "code",
      "execution_count": null,
      "metadata": {
        "id": "NbGZXrs0FwfY",
        "outputId": "cd09d2db-a9a5-45c6-84c2-886a8f63c5e4"
      },
      "outputs": [
        {
          "data": {
            "text/plain": [
              "[4, 5, 7, 8, 9]"
            ]
          },
          "execution_count": 106,
          "metadata": {},
          "output_type": "execute_result"
        }
      ],
      "source": [
        "l"
      ]
    },
    {
      "cell_type": "code",
      "execution_count": null,
      "metadata": {
        "id": "h-koW0eYFwfY",
        "outputId": "87727950-0f7b-4524-ba1c-2c80f037ef02"
      },
      "outputs": [
        {
          "data": {
            "text/plain": [
              "[4, 5, 7, 8, 9]"
            ]
          },
          "execution_count": 107,
          "metadata": {},
          "output_type": "execute_result"
        }
      ],
      "source": [
        "l "
      ]
    },
    {
      "cell_type": "code",
      "execution_count": null,
      "metadata": {
        "id": "ZYJPDEW1FwfY"
      },
      "outputs": [],
      "source": [
        "l.reverse()"
      ]
    },
    {
      "cell_type": "code",
      "execution_count": null,
      "metadata": {
        "id": "coS9C_KUFwfZ",
        "outputId": "c2eb01ad-da55-408e-bf33-9f565616275d"
      },
      "outputs": [
        {
          "data": {
            "text/plain": [
              "[9, 8, 7, 5, 4]"
            ]
          },
          "execution_count": 109,
          "metadata": {},
          "output_type": "execute_result"
        }
      ],
      "source": [
        "l"
      ]
    },
    {
      "cell_type": "code",
      "source": [
        "#List sort()\n",
        "list1 = [1,5,4,7,5,9]\n",
        "list1.sort()\n",
        "print(list1)"
      ],
      "metadata": {
        "colab": {
          "base_uri": "https://localhost:8080/"
        },
        "id": "7CtF5_HHWHqd",
        "outputId": "e75c18c1-79e2-4ad1-cbd4-6543d773eea9"
      },
      "execution_count": null,
      "outputs": [
        {
          "output_type": "stream",
          "name": "stdout",
          "text": [
            "[1, 4, 5, 5, 7, 9]\n"
          ]
        }
      ]
    },
    {
      "cell_type": "code",
      "source": [
        "list1.sort(reverse = True)\n",
        "list1"
      ],
      "metadata": {
        "colab": {
          "base_uri": "https://localhost:8080/"
        },
        "id": "Qbdjt7c-M_Qr",
        "outputId": "6b3d849a-a5ec-4f73-8f39-d2b9805df529"
      },
      "execution_count": null,
      "outputs": [
        {
          "output_type": "execute_result",
          "data": {
            "text/plain": [
              "[9, 7, 5, 5, 4, 1]"
            ]
          },
          "metadata": {},
          "execution_count": 4
        }
      ]
    },
    {
      "cell_type": "code",
      "execution_count": null,
      "metadata": {
        "id": "IZ7bMOp6FwfZ"
      },
      "outputs": [],
      "source": [
        "l.sort()"
      ]
    },
    {
      "cell_type": "code",
      "execution_count": null,
      "metadata": {
        "id": "bxnaGZKmFwfZ",
        "outputId": "d8d601b7-12f4-45ca-af5e-a06270a7574b"
      },
      "outputs": [
        {
          "data": {
            "text/plain": [
              "[4, 5, 7, 8, 9]"
            ]
          },
          "execution_count": 111,
          "metadata": {},
          "output_type": "execute_result"
        }
      ],
      "source": [
        "l"
      ]
    },
    {
      "cell_type": "code",
      "execution_count": null,
      "metadata": {
        "id": "BeUOteIpFwfZ"
      },
      "outputs": [],
      "source": [
        "l = [3,4,5,6,78,\"sudh\" , \"ineuron\" , 45.67]"
      ]
    },
    {
      "cell_type": "code",
      "execution_count": null,
      "metadata": {
        "id": "MhxqwGESFwfZ",
        "outputId": "7c4c37c2-3a1f-45c9-95aa-d876e9bbac59"
      },
      "outputs": [
        {
          "ename": "TypeError",
          "evalue": "'<' not supported between instances of 'str' and 'int'",
          "output_type": "error",
          "traceback": [
            "\u001b[1;31m---------------------------------------------------------------------------\u001b[0m",
            "\u001b[1;31mTypeError\u001b[0m                                 Traceback (most recent call last)",
            "\u001b[1;32m<ipython-input-113-fb07ac7c73ab>\u001b[0m in \u001b[0;36m<module>\u001b[1;34m\u001b[0m\n\u001b[1;32m----> 1\u001b[1;33m \u001b[0ml\u001b[0m\u001b[1;33m.\u001b[0m\u001b[0msort\u001b[0m\u001b[1;33m(\u001b[0m\u001b[1;33m)\u001b[0m\u001b[1;33m\u001b[0m\u001b[1;33m\u001b[0m\u001b[0m\n\u001b[0m",
            "\u001b[1;31mTypeError\u001b[0m: '<' not supported between instances of 'str' and 'int'"
          ]
        }
      ],
      "source": [
        "l.sort()"
      ]
    },
    {
      "cell_type": "code",
      "execution_count": null,
      "metadata": {
        "id": "3jF-Oko3FwfZ"
      },
      "outputs": [],
      "source": [
        "l = [3,4,5,6,78 , 45.67]"
      ]
    },
    {
      "cell_type": "code",
      "execution_count": null,
      "metadata": {
        "id": "nkYGAZ7dFwfZ"
      },
      "outputs": [],
      "source": [
        "l.sort()"
      ]
    },
    {
      "cell_type": "code",
      "source": [
        "#List reverse() Method\n",
        "list1 = [1,2,3,4,3]\n",
        "list1.reverse()\n",
        "print(list1)"
      ],
      "metadata": {
        "colab": {
          "base_uri": "https://localhost:8080/"
        },
        "id": "6-ehpfyfWOmH",
        "outputId": "f02bc6c2-4b36-4479-e9b5-33e1e380e4a1"
      },
      "execution_count": null,
      "outputs": [
        {
          "output_type": "stream",
          "name": "stdout",
          "text": [
            "[3, 4, 3, 2, 1]\n"
          ]
        }
      ]
    },
    {
      "cell_type": "code",
      "execution_count": null,
      "metadata": {
        "id": "cegx_KbTFwfa",
        "outputId": "da595989-aca2-4ee6-8d7c-64201c43a98f"
      },
      "outputs": [
        {
          "data": {
            "text/plain": [
              "[3, 4, 5, 6, 45.67, 78]"
            ]
          },
          "execution_count": 116,
          "metadata": {},
          "output_type": "execute_result"
        }
      ],
      "source": [
        "l"
      ]
    },
    {
      "cell_type": "code",
      "source": [
        "#create list even numbers between 10 to 50\n",
        "a = []\n",
        "\n",
        "for i in range(10,51):\n",
        "  if i%2 ==0 :\n",
        "     a.append(i)\n",
        "\n",
        "print(a)"
      ],
      "metadata": {
        "colab": {
          "base_uri": "https://localhost:8080/"
        },
        "id": "DxDUbo6SNffK",
        "outputId": "3afc43ce-f6f5-4399-d3ef-226ad6e68f4a"
      },
      "execution_count": null,
      "outputs": [
        {
          "output_type": "stream",
          "name": "stdout",
          "text": [
            "[10, 12, 14, 16, 18, 20, 22, 24, 26, 28, 30, 32, 34, 36, 38, 40, 42, 44, 46, 48, 50]\n"
          ]
        }
      ]
    },
    {
      "cell_type": "markdown",
      "source": [
        "### Structural Equilance and Object Identity"
      ],
      "metadata": {
        "id": "_jOGMaVQdGDo"
      }
    },
    {
      "cell_type": "code",
      "source": [
        "a = [10, 20, 30]\n",
        "\n",
        "b = a\n",
        "\n",
        "b.append(40)\n",
        "\n",
        "# here object and structure are equal by giving '=' operator.\n",
        "# means for the value [10, 20, 30] we are storing in some area, but we are giving stored space id as both a & b.\n",
        "#so, if any changes happend in stores data by using any object a or b, it will automatically effect the other as well. \n",
        "#here structure and objects are equal.\n"
      ],
      "metadata": {
        "id": "tVBomKuOavOH"
      },
      "execution_count": null,
      "outputs": []
    },
    {
      "cell_type": "code",
      "source": [
        "print(a)\n",
        "print(b)"
      ],
      "metadata": {
        "colab": {
          "base_uri": "https://localhost:8080/"
        },
        "id": "FmrxUYANau9O",
        "outputId": "06e1252e-e144-4671-ef70-52083ba6d43c"
      },
      "execution_count": null,
      "outputs": [
        {
          "output_type": "stream",
          "name": "stdout",
          "text": [
            "[10, 20, 30, 40]\n",
            "[10, 20, 30, 40]\n"
          ]
        }
      ]
    },
    {
      "cell_type": "code",
      "source": [
        "print(id(a),id(b))"
      ],
      "metadata": {
        "colab": {
          "base_uri": "https://localhost:8080/"
        },
        "id": "Yp7SuP9ahnRH",
        "outputId": "e3f2f1aa-a6c9-483b-f681-dc65b82de262"
      },
      "execution_count": null,
      "outputs": [
        {
          "output_type": "stream",
          "name": "stdout",
          "text": [
            "140150043698240 140150043698240\n"
          ]
        }
      ]
    },
    {
      "cell_type": "code",
      "source": [
        "a = [10, 20, 30]\n",
        "b = a"
      ],
      "metadata": {
        "id": "iB-EmUw_a4FR"
      },
      "execution_count": null,
      "outputs": []
    },
    {
      "cell_type": "code",
      "source": [
        "b.append(40)\n",
        "b"
      ],
      "metadata": {
        "colab": {
          "base_uri": "https://localhost:8080/"
        },
        "id": "gwPPtJnycKSH",
        "outputId": "60cce4df-9d74-45ac-e933-95a9a1300377"
      },
      "execution_count": null,
      "outputs": [
        {
          "output_type": "execute_result",
          "data": {
            "text/plain": [
              "[10, 20, 30, 40]"
            ]
          },
          "metadata": {},
          "execution_count": 27
        }
      ]
    },
    {
      "cell_type": "code",
      "source": [
        "a"
      ],
      "metadata": {
        "colab": {
          "base_uri": "https://localhost:8080/"
        },
        "id": "C5F37zXJcJ-c",
        "outputId": "27197583-3a4b-4833-d25e-f79882bd938e"
      },
      "execution_count": null,
      "outputs": [
        {
          "output_type": "execute_result",
          "data": {
            "text/plain": [
              "[10, 20, 30, 40]"
            ]
          },
          "metadata": {},
          "execution_count": 28
        }
      ]
    },
    {
      "cell_type": "code",
      "source": [
        "a = [10, 20, 30]\n",
        "b = a.copy()\n",
        "\n",
        "b.append(40)\n",
        "\n",
        "# here we are creating another space in memory to store the data samae as object a. initially it means, the structure of the b will take the \n",
        "#structure from b but it will store the data in another space .\n",
        "# so here object is different and intially structure is same in when doing the copy operation."
      ],
      "metadata": {
        "id": "m8FzMR8GcYgx"
      },
      "execution_count": null,
      "outputs": []
    },
    {
      "cell_type": "code",
      "source": [
        "print(a)\n",
        "print(b)"
      ],
      "metadata": {
        "colab": {
          "base_uri": "https://localhost:8080/"
        },
        "id": "vXOthagIcuz4",
        "outputId": "90649765-7f6f-49a8-82be-a4e174a38efa"
      },
      "execution_count": null,
      "outputs": [
        {
          "output_type": "stream",
          "name": "stdout",
          "text": [
            "[10, 20, 30]\n",
            "[10, 20, 30, 40]\n"
          ]
        }
      ]
    },
    {
      "cell_type": "code",
      "source": [
        "print(id(a),id(b))"
      ],
      "metadata": {
        "colab": {
          "base_uri": "https://localhost:8080/"
        },
        "id": "-lY1PTeDhzMY",
        "outputId": "4e31c6e5-01ca-49b3-cc77-5550d0a2a918"
      },
      "execution_count": null,
      "outputs": [
        {
          "output_type": "stream",
          "name": "stdout",
          "text": [
            "140150044297408 140150043614336\n"
          ]
        }
      ]
    },
    {
      "cell_type": "code",
      "source": [
        "# write a python programme to count the number of strings where the strng length is 2 or more and the first and last character are the same .\n",
        "#Example :['abc','xyz','aba','1221']\n",
        "\n",
        "a = ['abc','xyz','aba','1221']\n",
        "c = 0\n",
        "for i in a:\n",
        "  if type(i) == str:\n",
        "    \n",
        "    if len(i) >= 2 :\n",
        "       \n",
        "        if i[0] == i[-1]:\n",
        "          c = c+1\n",
        "         \n",
        "\n",
        "print(c)\n",
        "        "
      ],
      "metadata": {
        "colab": {
          "base_uri": "https://localhost:8080/"
        },
        "id": "WH3urhFsNfJ0",
        "outputId": "590d1f3c-280c-44c7-8032-9d68bff62ee6"
      },
      "execution_count": null,
      "outputs": [
        {
          "output_type": "stream",
          "name": "stdout",
          "text": [
            "2\n"
          ]
        }
      ]
    },
    {
      "cell_type": "code",
      "execution_count": null,
      "metadata": {
        "id": "8AQzmlsNFwfa",
        "outputId": "af3d62cd-18dd-4312-b7e8-7012c9892597"
      },
      "outputs": [
        {
          "name": "stdout",
          "output_type": "stream",
          "text": [
            "2\n",
            "index of string:  3\n",
            "6\n",
            "7\n",
            "3\n",
            "6\n",
            "[[1, 2, 3, 4], [5, 6, 7, 'hi', 8], [8, 7, 66], 2, 6, [2, 3, 4], (8+6j), [5, 6, 7]]\n"
          ]
        }
      ],
      "source": [
        "l = [[1,2,3,4],[5,6,7,\"hello\",8],[8,7,66],2,6]\n",
        "l.append([2,3,4])\n",
        "l.append(8+6j)\n",
        "l.append([5,6,7])\n",
        "for i in l:\n",
        "\n",
        "  if type(i) == list:\n",
        "    for j,v in enumerate(i):\n",
        "      \n",
        "      if type(v) == str:\n",
        "        print(\"index of string: \",j)\n",
        "        i[j]=\"hi\"\n",
        "    print(i[1])\n",
        "print(l)\n"
      ]
    },
    {
      "cell_type": "code",
      "execution_count": null,
      "metadata": {
        "id": "Gono0UFfFwfa"
      },
      "outputs": [],
      "source": [
        "l=[[1,2,3],[4,5,6],[7,8,9,'xyz','xyz','xyz'],10, 'vishal', True]\n",
        "# part1\n",
        "l.insert(2,[11,12])\n",
        "l.insert(-1,[13,14])\n",
        "l.append(12+3j)"
      ]
    },
    {
      "cell_type": "code",
      "execution_count": null,
      "metadata": {
        "id": "Ti2zlGwqFwfa",
        "outputId": "beb7e48e-ea0f-4c7b-861a-26df6b1e7827"
      },
      "outputs": [
        {
          "name": "stdout",
          "output_type": "stream",
          "text": [
            "3\n",
            "3\n",
            "3\n"
          ]
        }
      ],
      "source": [
        "for i in l:\n",
        "    if type(i) == list:\n",
        "        for j in i:\n",
        "            if type(j) == str:\n",
        "                print(l.index(i))"
      ]
    },
    {
      "cell_type": "code",
      "execution_count": null,
      "metadata": {
        "id": "ljynIhdOFwfa",
        "outputId": "c9a3e3b5-78b2-4b54-c0f7-b4fa8269f1eb"
      },
      "outputs": [
        {
          "data": {
            "text/plain": [
              "[[1, 2, 3],\n",
              " [4, 5, 6],\n",
              " [11, 12],\n",
              " [7, 8, 9, 'xyz'],\n",
              " 10,\n",
              " 'vishal',\n",
              " [13, 14],\n",
              " True,\n",
              " (12+3j)]"
            ]
          },
          "execution_count": 122,
          "metadata": {},
          "output_type": "execute_result"
        }
      ],
      "source": [
        "l"
      ]
    },
    {
      "cell_type": "code",
      "execution_count": null,
      "metadata": {
        "colab": {
          "base_uri": "https://localhost:8080/",
          "height": 270
        },
        "id": "JY9heZNJFwfa",
        "outputId": "0e8d4c7c-db04-4767-8ce6-9c9f407f875d"
      },
      "outputs": [
        {
          "output_type": "stream",
          "name": "stdout",
          "text": [
            "[[1, 2, 3], [4, 5, 6], [11, 12], [7, 8, 9, 'xyz'], 10, 'vishal', [13, 14], True, (12+3j)]\n",
            "3\n",
            "3\n",
            "6\n"
          ]
        },
        {
          "output_type": "error",
          "ename": "IndexError",
          "evalue": "ignored",
          "traceback": [
            "\u001b[0;31m---------------------------------------------------------------------------\u001b[0m",
            "\u001b[0;31mIndexError\u001b[0m                                Traceback (most recent call last)",
            "\u001b[0;32m<ipython-input-1-5005f7fb255f>\u001b[0m in \u001b[0;36m<module>\u001b[0;34m\u001b[0m\n\u001b[1;32m     14\u001b[0m \u001b[0;32mfor\u001b[0m \u001b[0mi\u001b[0m \u001b[0;32min\u001b[0m \u001b[0ml\u001b[0m\u001b[0;34m:\u001b[0m\u001b[0;34m\u001b[0m\u001b[0;34m\u001b[0m\u001b[0m\n\u001b[1;32m     15\u001b[0m     \u001b[0;32mif\u001b[0m \u001b[0mtype\u001b[0m\u001b[0;34m(\u001b[0m\u001b[0mi\u001b[0m\u001b[0;34m)\u001b[0m\u001b[0;34m==\u001b[0m\u001b[0mlist\u001b[0m\u001b[0;34m:\u001b[0m\u001b[0;34m\u001b[0m\u001b[0;34m\u001b[0m\u001b[0m\n\u001b[0;32m---> 16\u001b[0;31m         \u001b[0mprint\u001b[0m\u001b[0;34m(\u001b[0m\u001b[0mi\u001b[0m\u001b[0;34m.\u001b[0m\u001b[0mpop\u001b[0m\u001b[0;34m(\u001b[0m\u001b[0;36m2\u001b[0m\u001b[0;34m)\u001b[0m\u001b[0;34m)\u001b[0m\u001b[0;34m\u001b[0m\u001b[0;34m\u001b[0m\u001b[0m\n\u001b[0m",
            "\u001b[0;31mIndexError\u001b[0m: pop index out of range"
          ]
        }
      ],
      "source": [
        "l=[[1,2,3],[4,5,6],[7,8,9,'xyz'],10, 'vishal', True]\n",
        "# part1\n",
        "l.insert(2,[11,12])\n",
        "l.insert(-1,[13,14])\n",
        "l.append(12+3j)\n",
        "print(l)\n",
        "# part2\n",
        "for i in l:\n",
        "    if type(i) == list:\n",
        "        for j in i:\n",
        "            if type(j) == str:\n",
        "                print(l.index(i))\n",
        "#part3\n",
        "for i in l:\n",
        "    if type(i)==list:\n",
        "        print(i.pop(2))\n"
      ]
    },
    {
      "cell_type": "code",
      "execution_count": null,
      "metadata": {
        "colab": {
          "base_uri": "https://localhost:8080/"
        },
        "id": "_1a1NJ9XFwfa",
        "outputId": "5b798cc5-8602-4a34-fa51-b794de8d9a10"
      },
      "outputs": [
        {
          "output_type": "stream",
          "name": "stdout",
          "text": [
            "[[23, 45], [6, 7, '78S', '543'], ['sdf', 'sdf'], 'ABC', 'REV']\n",
            "[[23, 45], [6, 7, '78S', '543'], ['sdf', 'sdf'], [11, 12], 'ABC', 'REV']\n",
            "After complex number-  [[23, 45], (2+3j), [6, 7, '78S', '543'], ['sdf', 'sdf'], [11, 12], 'ABC', 'REV']\n"
          ]
        },
        {
          "output_type": "execute_result",
          "data": {
            "text/plain": [
              "[[23, 45],\n",
              " (2+3j),\n",
              " [6, 7, '78S', '543'],\n",
              " ['sdf', 'sdf'],\n",
              " [11, 12],\n",
              " 'ABC',\n",
              " 'REV']"
            ]
          },
          "metadata": {},
          "execution_count": 5
        }
      ],
      "source": [
        "l = [[23,45],[6,7,'78S','543'],'ABC','REV']\n",
        "\n",
        "#Q1\n",
        "\n",
        "l.insert(2,['sdf','sdf'])\n",
        "print(l)\n",
        "l.insert(3,[11,12])\n",
        "print(l)\n",
        "l.insert(1,(2+3j))\n",
        "print('After complex number- ',l)\n",
        "l"
      ]
    },
    {
      "cell_type": "code",
      "execution_count": null,
      "metadata": {
        "colab": {
          "base_uri": "https://localhost:8080/"
        },
        "id": "kLqlgPMkFwfb",
        "outputId": "35ae1e89-25e1-4afa-f0a4-5d4027ab0d63"
      },
      "outputs": [
        {
          "output_type": "stream",
          "name": "stdout",
          "text": [
            "Found String in Neasted List at index=[6, 7, '78S', '543'] : 78S\n",
            "Removed 78S\n",
            "Found String in Neasted List at index=['sdf', 'sdf'] : sdf\n",
            "Removed sdf\n",
            "List after remove  [[23, 45], (2+3j), [6, 7, '543'], ['sdf'], [11, 12], 'ABC', 'REV']\n"
          ]
        }
      ],
      "source": [
        "#Q2\n",
        "for i in l:\n",
        "    if type(i) == list:\n",
        "        for j in i:\n",
        "            if type(j) == str:\n",
        "                print('Found String in Neasted List at index={} : {}'.format(i,j))\n",
        "                print('Removed',j)\n",
        "                i.remove(j)\n",
        "\n",
        "print('List after remove ',l)"
      ]
    },
    {
      "cell_type": "code",
      "execution_count": null,
      "metadata": {
        "colab": {
          "base_uri": "https://localhost:8080/"
        },
        "id": "zx32FGPAFwfb",
        "outputId": "f702827f-4aba-48ec-a821-b8e0beb576b3"
      },
      "outputs": [
        {
          "output_type": "stream",
          "name": "stdout",
          "text": [
            "Updated list: [[1, '2'], [(1+2j), (3+5j)], [10, 11], [20, 21], '3', 4, 5]\n",
            "\n",
            "\n"
          ]
        }
      ],
      "source": [
        "l=[[1,'2'],[10,11],[20,21],'3',4,5]\n",
        "c=[1+2j,3+5j]\n",
        "\n",
        "# question 1\n",
        "l.insert(1,c)\n",
        "print(f'Updated list: {l}')\n",
        "\n",
        "print()\n",
        "print()"
      ]
    },
    {
      "cell_type": "code",
      "execution_count": null,
      "metadata": {
        "colab": {
          "base_uri": "https://localhost:8080/"
        },
        "id": "YYAvFYQlFwfb",
        "outputId": "9f61f7e4-16e4-48b6-e7a8-2e28859aa428"
      },
      "outputs": [
        {
          "output_type": "stream",
          "name": "stdout",
          "text": [
            "Updated list: [[1, '2'], [(1+2j), (3+5j)], [10, 11], [20, 21], '3', 4, 5]\n",
            "\n",
            "\n",
            "String exist is 3\n",
            "Its position is: 4\n",
            "\n",
            "After removing 4 the new list is:\n",
            " [[1, '2'], [(1+2j), (3+5j)], [10, 11], [20, 21], 4, 5]\n",
            "\n",
            "\n",
            "The every second elemnt is:\n",
            "2\n",
            "(3+5j)\n",
            "11\n",
            "21\n"
          ]
        }
      ],
      "source": [
        "l=[[1,'2'],[10,11],[20,21],'3',4,5]\n",
        "c=[1+2j,3+5j]\n",
        "\n",
        "# question 1\n",
        "l.insert(1,c)\n",
        "print(f'Updated list: {l}')\n",
        "\n",
        "print()\n",
        "print()\n",
        "\n",
        "# question 2\n",
        "for i in l:\n",
        "    if type(i)==str:\n",
        "        print(f'String exist is {i}')\n",
        "        a=l.index(i)\n",
        "        print(f'Its position is: {a}')\n",
        "print()\n",
        "l.remove('3')\n",
        "print(f'After removing {a} the new list is:\\n {l}')\n",
        "\n",
        "print()\n",
        "print()\n",
        "\n",
        "# question 3\n",
        "print('The every second elemnt is:')\n",
        "for i in l:\n",
        "    if type(i)==list:\n",
        "        \n",
        "        print(i[1])\n"
      ]
    },
    {
      "cell_type": "code",
      "execution_count": null,
      "metadata": {
        "id": "KNktP_2mFwfb"
      },
      "outputs": [],
      "source": []
    },
    {
      "cell_type": "code",
      "execution_count": null,
      "metadata": {
        "id": "Xkef3MKZFwfb"
      },
      "outputs": [],
      "source": [
        "l = [[23,45],[6,7,'78S'],'ABC','REV']\n",
        "\n",
        "#Q1\n",
        "\n",
        "l.insert(2,['sdf','sdf'])\n",
        "print(l)\n",
        "l.insert(3,[11,12])\n",
        "print(l)\n",
        "l.insert(1,(2+3j))\n",
        "print('After complex number- ',l)\n",
        "\n",
        "#Q2\n",
        "for i in l:\n",
        "    if type(i) == list:\n",
        "        for j in i:\n",
        "            if type(j) == str:\n",
        "                print('Found String in Neasted List at index={} : {}'.format(i,j))\n",
        "                print('Removed',j)\n",
        "                i.remove(j)\n",
        "\n",
        "print('List after remove ',l)\n",
        "\n",
        "#Q3\n",
        "k=1\n",
        "for i in l:\n",
        "    if type(i) == list and len(i) >=2:\n",
        "        print('Neasted List ',k)\n",
        "        print('2nd element of it is=',i[1])\n",
        "        k+=1\n"
      ]
    },
    {
      "cell_type": "code",
      "execution_count": null,
      "metadata": {
        "colab": {
          "base_uri": "https://localhost:8080/"
        },
        "id": "_1lIqvJoFwfc",
        "outputId": "e45fba8b-1f3c-468d-8b58-8510de2a3fb5"
      },
      "outputs": [
        {
          "output_type": "stream",
          "name": "stdout",
          "text": [
            "[[1, 'a'], [3, 4], [5, 'b'], 6j, [7, 8], [9, 0], 1, 3, 4, 5, 6]\n",
            "a\n",
            "b\n"
          ]
        }
      ],
      "source": [
        "l = [[1,'a'],[3,4],[5,'b'],1,3,4,5,6]\n",
        "# Append 2 more list and 1 complex number in between\n",
        "l.insert(3,6j)\n",
        "l.insert(4,[7,8])\n",
        "l.insert(5,[9,0])\n",
        "print (l)\n",
        "for i in l:\n",
        "    if type(i) == list:\n",
        "        for t in i:\n",
        "            if type(t) == str:\n",
        "                print(t)\n"
      ]
    },
    {
      "cell_type": "code",
      "execution_count": null,
      "metadata": {
        "colab": {
          "base_uri": "https://localhost:8080/"
        },
        "id": "rr9kck6HFwfc",
        "outputId": "4b9f283c-8a8b-4a22-ba80-6a7b1d5ab72a"
      },
      "outputs": [
        {
          "output_type": "execute_result",
          "data": {
            "text/plain": [
              "[[22, 'mahendra', 55, 22.4],\n",
              " ['dhoni', 77, 11, 55, 78.9],\n",
              " [2, 5, 6],\n",
              " [77, 88, 99],\n",
              " [99, 'pravin', 88, True],\n",
              " 2,\n",
              " 5,\n",
              " (6+4j),\n",
              " 8]"
            ]
          },
          "metadata": {},
          "execution_count": 12
        }
      ],
      "source": [
        "l1 = [[22,\"mahendra\",55,22.4],[\"dhoni\",77,11,55,78.9],[77,88,99],2,5,8]\n",
        "\n",
        "l1.insert(2,[2,5,6])\n",
        "l1.insert(4,[99,\"pravin\",88,True])\n",
        "l1.insert(-1,6+4j)\n",
        "l1"
      ]
    },
    {
      "cell_type": "code",
      "source": [
        "l1"
      ],
      "metadata": {
        "colab": {
          "base_uri": "https://localhost:8080/"
        },
        "id": "a1uG6X5SJB6_",
        "outputId": "2a103c54-7809-4360-a46a-c29f0b162bf4"
      },
      "execution_count": null,
      "outputs": [
        {
          "output_type": "execute_result",
          "data": {
            "text/plain": [
              "[[22, 'mahendra', 55, 22.4],\n",
              " ['dhoni', 77, 11, 55, 78.9],\n",
              " [2, 5, 6],\n",
              " [77, 88, 99],\n",
              " [99, 'pravin', 88, True],\n",
              " 2,\n",
              " 5,\n",
              " (6+4j),\n",
              " 8]"
            ]
          },
          "metadata": {},
          "execution_count": 13
        }
      ]
    },
    {
      "cell_type": "code",
      "execution_count": null,
      "metadata": {
        "colab": {
          "base_uri": "https://localhost:8080/"
        },
        "id": "ifNw7FgKFwfd",
        "outputId": "72afd584-579d-4fd3-c815-e3f5b66f8e7f"
      },
      "outputs": [
        {
          "output_type": "stream",
          "name": "stdout",
          "text": [
            "1\n",
            "0\n",
            "1\n",
            "[[22, 55, 22.4], [77, 11, 55, 78.9], [2, 5, 6], [77, 88, 99], [99, 88, True], 2, 5, (6+4j), 8]\n"
          ]
        }
      ],
      "source": [
        "for i in l1:\n",
        "    if type(i) == list :\n",
        "        for j in i:\n",
        "            if type(j) == str :\n",
        "                print(i.index(j))\n",
        "                i.remove(j)\n",
        "\n",
        "print(l1)"
      ]
    },
    {
      "cell_type": "code",
      "execution_count": null,
      "metadata": {
        "id": "CFEg6g4TFwfd"
      },
      "outputs": [],
      "source": [
        "l=[[\"gh\",56],[89,\"yhg\"],[\"90\",98],78,90.0]"
      ]
    },
    {
      "cell_type": "code",
      "execution_count": null,
      "metadata": {
        "id": "RTvjZM7UFwfd",
        "outputId": "cb7ea6fc-61e8-4e6e-d13c-9f4209ab7655"
      },
      "outputs": [
        {
          "name": "stdout",
          "output_type": "stream",
          "text": [
            "[[56], [78, 90], [89, '90', '90', '90'], (6+7j), [78, 90], [89], (6+7j), [89], [98], 78, 90.0]\n"
          ]
        }
      ],
      "source": [
        "for e in l:\n",
        "    if type(e)==list:\n",
        "        l.insert(l.index(e)+1,[78,90])\n",
        "        l.insert(l.index(e)+2,[89,\"90\",\"90\",\"90\"])\n",
        "        l.insert(l.index(e)+3,6+7j)\n",
        "        break\n",
        "print(l)"
      ]
    },
    {
      "cell_type": "code",
      "execution_count": null,
      "metadata": {
        "id": "MulHAuAjFwfd",
        "outputId": "9d4bcfa6-e98a-4189-e274-db3fce3e8203"
      },
      "outputs": [
        {
          "name": "stdout",
          "output_type": "stream",
          "text": [
            "index of string in nested list of index number 2 is 1\n",
            "index of string in nested list of index number 2 is 1\n",
            "new list [[56], [78, 90], [89, '90'], (6+7j), [78, 90], [89], (6+7j), [89], [98], 78, 90.0]\n"
          ]
        }
      ],
      "source": [
        "for i in l:\n",
        "    if type(i)==list:\n",
        "        for e in i:\n",
        "            if type(e)==str:\n",
        "                print(f\"index of string in nested list of index number {l.index(i)} is {i.index(e)}\")\n",
        "                i.remove(e)\n",
        "print(\"new list\",l)"
      ]
    },
    {
      "cell_type": "code",
      "execution_count": null,
      "metadata": {
        "id": "Kts2RsJQFwfd"
      },
      "outputs": [],
      "source": [
        "l=[[\"gh\",56],[89,\"yhg\"],[\"90\",98],78,90.0]\n",
        "for e in l:\n",
        "    if type(e)==list:\n",
        "        l.insert(l.index(e)+1,[78,90])\n",
        "        l.insert(l.index(e)+2,[89,\"90\"])\n",
        "        l.insert(l.index(e)+3,6+7j)\n",
        "        break\n",
        "print(l)\n",
        "for i in l:\n",
        "    if type(i)==list:\n",
        "        for e in i:\n",
        "            if type(e)==str:\n",
        "                print(f\"index of string in nested list of index number {l.index(i)} is {i.index(e)}\")\n",
        "                i.remove(e)\n",
        "print(\"new list\",l)\n",
        "for i in l:\n",
        "    if type(i)==list:\n",
        "        for e in i:\n",
        "            if len(i)>1:\n",
        "                i.pop(1)\n",
        "print(\"final list\",l)\n"
      ]
    },
    {
      "cell_type": "code",
      "execution_count": null,
      "metadata": {
        "id": "pf-u4x7lFwfe"
      },
      "outputs": [],
      "source": []
    },
    {
      "cell_type": "code",
      "execution_count": null,
      "metadata": {
        "id": "8Vsoj7tRFwfe"
      },
      "outputs": [],
      "source": [
        "l1 = [[22,\"mahendra\",55,22.4],[\"dhoni\",77,11,55,78.9],[77,88,99],2,5,8]\n",
        "\n",
        "l1.insert(2,[2,5,6])\n",
        "l1.insert(4,[99,\"pravin\",88,True])\n",
        "l1.insert(-1,6+4j)\n",
        "\n",
        "print(l1)\n",
        "\n",
        "for i in l1:\n",
        "    if type(i) == list :\n",
        "        for j in i:\n",
        "            if type(j) == str :\n",
        "                print(i.index(j))\n",
        "                i.remove(j)\n",
        "\n",
        "\n",
        "print(l1)\n",
        "\n",
        "for i in l1 :\n",
        "    if type(i) == list :\n",
        "        print(i[2], end = \",\")\n"
      ]
    },
    {
      "cell_type": "code",
      "execution_count": null,
      "metadata": {
        "id": "i5X6CZDPFwfe",
        "outputId": "7ed88787-42ea-43a9-e981-c15a80c3fa87"
      },
      "outputs": [
        {
          "name": "stdout",
          "output_type": "stream",
          "text": [
            "Q1\n",
            "[(5+6j), [1, 2, 3], [4, 5, 6], [6, 5, 4], [3, 2, 1, 'test', 'test', 'test'], [7, 8, 9], 12, 'Santosh']\n"
          ]
        }
      ],
      "source": [
        "l = [[1,2,3],[4,5,6],[7,8,9],12,\"Santosh\"]\n",
        "l.insert(2,[3,2,1,\"test\",\"test\",\"test\"])\n",
        "l.insert(2,[6,5,4])\n",
        "l.insert(0, 5 + 6j)\n",
        "print(\"Q1\")\n",
        "print(l)"
      ]
    },
    {
      "cell_type": "code",
      "execution_count": null,
      "metadata": {
        "id": "6QLJZoOeFwfe",
        "outputId": "2256d271-bc56-4b44-c443-ecbb759d0eb3"
      },
      "outputs": [
        {
          "name": "stdout",
          "output_type": "stream",
          "text": [
            "3\n",
            "4\n"
          ]
        },
        {
          "ename": "IndexError",
          "evalue": "list index out of range",
          "output_type": "error",
          "traceback": [
            "\u001b[1;31m---------------------------------------------------------------------------\u001b[0m",
            "\u001b[1;31mIndexError\u001b[0m                                Traceback (most recent call last)",
            "\u001b[1;32m<ipython-input-143-d0066ee02aec>\u001b[0m in \u001b[0;36m<module>\u001b[1;34m\u001b[0m\n\u001b[0;32m      2\u001b[0m     \u001b[1;32mif\u001b[0m \u001b[0mtype\u001b[0m\u001b[1;33m(\u001b[0m\u001b[0ml\u001b[0m\u001b[1;33m[\u001b[0m\u001b[0mi\u001b[0m\u001b[1;33m]\u001b[0m\u001b[1;33m)\u001b[0m \u001b[1;33m==\u001b[0m \u001b[0mlist\u001b[0m\u001b[1;33m:\u001b[0m\u001b[1;33m\u001b[0m\u001b[1;33m\u001b[0m\u001b[0m\n\u001b[0;32m      3\u001b[0m         \u001b[1;32mfor\u001b[0m \u001b[0mj\u001b[0m \u001b[1;32min\u001b[0m \u001b[0mrange\u001b[0m\u001b[1;33m(\u001b[0m\u001b[0mlen\u001b[0m\u001b[1;33m(\u001b[0m\u001b[0ml\u001b[0m\u001b[1;33m[\u001b[0m\u001b[0mi\u001b[0m\u001b[1;33m]\u001b[0m\u001b[1;33m)\u001b[0m\u001b[1;33m)\u001b[0m\u001b[1;33m:\u001b[0m\u001b[1;33m\u001b[0m\u001b[1;33m\u001b[0m\u001b[0m\n\u001b[1;32m----> 4\u001b[1;33m             \u001b[1;32mif\u001b[0m \u001b[0mtype\u001b[0m\u001b[1;33m(\u001b[0m\u001b[0ml\u001b[0m\u001b[1;33m[\u001b[0m\u001b[0mi\u001b[0m\u001b[1;33m]\u001b[0m\u001b[1;33m[\u001b[0m\u001b[0mj\u001b[0m\u001b[1;33m]\u001b[0m\u001b[1;33m)\u001b[0m \u001b[1;33m==\u001b[0m \u001b[0mstr\u001b[0m\u001b[1;33m:\u001b[0m\u001b[1;33m\u001b[0m\u001b[1;33m\u001b[0m\u001b[0m\n\u001b[0m\u001b[0;32m      5\u001b[0m                 \u001b[0mprint\u001b[0m\u001b[1;33m(\u001b[0m\u001b[0mj\u001b[0m\u001b[1;33m)\u001b[0m\u001b[1;33m\u001b[0m\u001b[1;33m\u001b[0m\u001b[0m\n\u001b[0;32m      6\u001b[0m                 \u001b[1;32mdel\u001b[0m \u001b[0ml\u001b[0m\u001b[1;33m[\u001b[0m\u001b[0mi\u001b[0m\u001b[1;33m]\u001b[0m\u001b[1;33m[\u001b[0m\u001b[0mj\u001b[0m\u001b[1;33m]\u001b[0m\u001b[1;33m\u001b[0m\u001b[1;33m\u001b[0m\u001b[0m\n",
            "\u001b[1;31mIndexError\u001b[0m: list index out of range"
          ]
        }
      ],
      "source": [
        "for i in range(len(l)):\n",
        "    if type(l[i]) == list:\n",
        "        for j in range(len(l[i])):\n",
        "            if type(l[i][j]) == str:\n",
        "                print(j)\n",
        "                del l[i][j]\n",
        "    if(type(l[i]) == str):\n",
        "        print(j)\n",
        "        del l[i]\n",
        "print(\"Q2\")\n",
        "print(l)\n",
        "print(\"Q3\")\n",
        "for i in range(len(l)):\n",
        "    if type(l[i]) == list:\n",
        "        print(l[i][1])\n"
      ]
    },
    {
      "cell_type": "code",
      "execution_count": null,
      "metadata": {
        "id": "93issQmgFwff",
        "outputId": "984af941-207d-4f30-fe4f-373f537db932"
      },
      "outputs": [
        {
          "data": {
            "text/plain": [
              "[[4, 5, 'Sameer', 'Sameer', 'Sameer'],\n",
              " [346, 7, 3426, 76],\n",
              " [34657, 'Jadhav', 74557, 45, 6],\n",
              " (3+6j),\n",
              " 23095,\n",
              " 'ineuron',\n",
              " [67, 67],\n",
              " [55, 55]]"
            ]
          },
          "execution_count": 146,
          "metadata": {},
          "output_type": "execute_result"
        }
      ],
      "source": [
        "l=[[4,5,\"Sameer\",\"Sameer\",\"Sameer\"],[346,7,3426,76],[34657,\"Jadhav\",74557,45,6],23095,'ineuron']\n",
        "l.append([67,67])\n",
        "l.append([55,55])\n",
        "l.insert(3,3+6j)\n",
        "l"
      ]
    },
    {
      "cell_type": "code",
      "execution_count": null,
      "metadata": {
        "id": "hZlUBsX9Fwff",
        "outputId": "bdd90c2b-50d2-4e4a-8149-fec9a1e8e8a6"
      },
      "outputs": [
        {
          "name": "stdout",
          "output_type": "stream",
          "text": [
            " got Sameer string at [4, 5, 'Sameer', 'Sameer', 'Sameer'] location\n",
            "[4, 5, 'Sameer', 'Sameer']\n",
            " got Sameer string at [4, 5, 'Sameer', 'Sameer'] location\n",
            "[4, 5, 'Sameer']\n",
            " got Jadhav string at [34657, 'Jadhav', 74557, 45, 6] location\n",
            "[34657, 74557, 45, 6]\n"
          ]
        }
      ],
      "source": [
        "l=[[4,5,\"Sameer\",\"Sameer\",\"Sameer\"],[346,7,3426,76],[34657,\"Jadhav\",74557,45,6],23095,'ineuron']\n",
        "l.append([67,67])\n",
        "l.append([55,55])\n",
        "l.insert(3,3+6j)\n",
        "l\n",
        "\n",
        "for i in l:\n",
        "    if type(i)==list:\n",
        "        for j in i:\n",
        "            if type(j)== str:\n",
        "                print (\" got {} string at {} location\".format(j,i))\n",
        "                i.remove(j)\n",
        "                print(i)\n"
      ]
    },
    {
      "cell_type": "code",
      "execution_count": null,
      "metadata": {
        "id": "k5sTiaDQFwff",
        "outputId": "e69b6d82-e231-4319-a05e-0fb97cae0f8e"
      },
      "outputs": [
        {
          "name": "stdout",
          "output_type": "stream",
          "text": [
            "Main List :  [[1, 2, 3], [11, 12, 'b', 'b', 'b'], [21, 't', 223], [4, 5, 6], [7, 8, 9], 'demo', 12.5]\n",
            "Index :  2\n",
            "Index :  2\n",
            "Index :  1\n",
            "Second Element :  2\n",
            "Second Element :  12\n",
            "Second Element :  223\n",
            "Second Element :  5\n",
            "Second Element :  8\n"
          ]
        }
      ],
      "source": [
        "# This is 100% working \n",
        "\n",
        "l1 = [[1,2,3],[4,5,6],[7,8,9],'demo',12.5]\n",
        "l2 = [11,12,'b','b','b']\n",
        "l3 = [21,'t',223]\n",
        "# 1)\n",
        "l1.insert(1,l2)\n",
        "l1.insert(2,l3)\n",
        "print(\"Main List : \",l1)\n",
        "# 2)\n",
        "\n",
        "for i in l1:\n",
        "    if type(i)== list:\n",
        "        for j in i:\n",
        "            if type(j) == str:\n",
        "                print(\"Index : \",i.index(j))\n",
        "                i.remove(j)\n",
        "                \n",
        "# 3) \n",
        "for i in l1:\n",
        "    if type(i)== list:\n",
        "        print(\"Second Element : \",i[1])\n"
      ]
    },
    {
      "cell_type": "code",
      "execution_count": null,
      "metadata": {
        "id": "Vyp1R9l0Fwff",
        "outputId": "e3ad154d-d819-46be-e37c-0e32f4c1b430"
      },
      "outputs": [
        {
          "data": {
            "text/plain": [
              "[[1, 2, 3], [11, 12, 'b'], [21, 223], [4, 5, 6], [7, 8, 9], 'demo', 12.5]"
            ]
          },
          "execution_count": 149,
          "metadata": {},
          "output_type": "execute_result"
        }
      ],
      "source": [
        "l1"
      ]
    },
    {
      "cell_type": "code",
      "execution_count": null,
      "metadata": {
        "id": "GInIjnvUFwff",
        "outputId": "0466277b-0f26-4ae3-8c54-9aba0f5cc5c8"
      },
      "outputs": [
        {
          "data": {
            "text/plain": [
              "[[1, 2, 3],\n",
              " [11, 12, 'b', 'b', 'b'],\n",
              " [21, 't', 223],\n",
              " [4, 5, 6],\n",
              " [7, 8, 9],\n",
              " 'demo',\n",
              " 12.5]"
            ]
          },
          "execution_count": 150,
          "metadata": {},
          "output_type": "execute_result"
        }
      ],
      "source": [
        "\n",
        "l1 = [[1,2,3],[4,5,6],[7,8,9],'demo',12.5]\n",
        "l2 = [11,12,'b','b','b']\n",
        "l3 = [21,'t',223]\n",
        "# 1)\n",
        "l1.insert(1,l2)\n",
        "l1.insert(2,l3)\n",
        "l1"
      ]
    },
    {
      "cell_type": "code",
      "execution_count": null,
      "metadata": {
        "id": "Z7d8Mu2RFwfg"
      },
      "outputs": [],
      "source": [
        "l = [[1, 2, 3],\n",
        " [11, 12, 'b', 'b', 'b'],\n",
        " [21, 't', 223],\n",
        " [4, 5, 6],\n",
        " [7, 8, 9],\n",
        " 'demo',\n",
        " 12.5]"
      ]
    },
    {
      "cell_type": "code",
      "execution_count": null,
      "metadata": {
        "id": "KN6ccwI1Fwfg",
        "outputId": "77217df6-b389-4a34-a408-30f64e42e458"
      },
      "outputs": [
        {
          "name": "stdout",
          "output_type": "stream",
          "text": [
            "Ans 2:  5\n",
            "[[1, 2, 3], [11, 12, 'b', 'b', 'b'], [21, 't', 223], [4, 5, 6], [7, 8, 9], 12.5]\n",
            "string: demo\n"
          ]
        },
        {
          "ename": "TypeError",
          "evalue": "'float' object is not subscriptable",
          "output_type": "error",
          "traceback": [
            "\u001b[1;31m---------------------------------------------------------------------------\u001b[0m",
            "\u001b[1;31mTypeError\u001b[0m                                 Traceback (most recent call last)",
            "\u001b[1;32m<ipython-input-154-d4bc60cb68ba>\u001b[0m in \u001b[0;36m<module>\u001b[1;34m\u001b[0m\n\u001b[0;32m     16\u001b[0m \u001b[1;31m#3\u001b[0m\u001b[1;33m\u001b[0m\u001b[1;33m\u001b[0m\u001b[1;33m\u001b[0m\u001b[0m\n\u001b[0;32m     17\u001b[0m \u001b[1;33m\u001b[0m\u001b[0m\n\u001b[1;32m---> 18\u001b[1;33m \u001b[0mb\u001b[0m \u001b[1;33m=\u001b[0m \u001b[1;33m[\u001b[0m\u001b[0mel\u001b[0m\u001b[1;33m[\u001b[0m\u001b[1;36m1\u001b[0m\u001b[1;33m]\u001b[0m \u001b[1;32mfor\u001b[0m \u001b[0mel\u001b[0m \u001b[1;32min\u001b[0m \u001b[0ml\u001b[0m\u001b[1;33m]\u001b[0m\u001b[1;33m\u001b[0m\u001b[1;33m\u001b[0m\u001b[0m\n\u001b[0m\u001b[0;32m     19\u001b[0m \u001b[0mprint\u001b[0m\u001b[1;33m(\u001b[0m\u001b[0mb\u001b[0m\u001b[1;33m)\u001b[0m\u001b[1;33m\u001b[0m\u001b[1;33m\u001b[0m\u001b[0m\n",
            "\u001b[1;32m<ipython-input-154-d4bc60cb68ba>\u001b[0m in \u001b[0;36m<listcomp>\u001b[1;34m(.0)\u001b[0m\n\u001b[0;32m     16\u001b[0m \u001b[1;31m#3\u001b[0m\u001b[1;33m\u001b[0m\u001b[1;33m\u001b[0m\u001b[1;33m\u001b[0m\u001b[0m\n\u001b[0;32m     17\u001b[0m \u001b[1;33m\u001b[0m\u001b[0m\n\u001b[1;32m---> 18\u001b[1;33m \u001b[0mb\u001b[0m \u001b[1;33m=\u001b[0m \u001b[1;33m[\u001b[0m\u001b[0mel\u001b[0m\u001b[1;33m[\u001b[0m\u001b[1;36m1\u001b[0m\u001b[1;33m]\u001b[0m \u001b[1;32mfor\u001b[0m \u001b[0mel\u001b[0m \u001b[1;32min\u001b[0m \u001b[0ml\u001b[0m\u001b[1;33m]\u001b[0m\u001b[1;33m\u001b[0m\u001b[1;33m\u001b[0m\u001b[0m\n\u001b[0m\u001b[0;32m     19\u001b[0m \u001b[0mprint\u001b[0m\u001b[1;33m(\u001b[0m\u001b[0mb\u001b[0m\u001b[1;33m)\u001b[0m\u001b[1;33m\u001b[0m\u001b[1;33m\u001b[0m\u001b[0m\n",
            "\u001b[1;31mTypeError\u001b[0m: 'float' object is not subscriptable"
          ]
        }
      ],
      "source": [
        "l = [[1, 2, 3],\n",
        " [11, 12, 'b', 'b', 'b'],\n",
        " [21, 't', 223],\n",
        " [4, 5, 6],\n",
        " [7, 8, 9],\n",
        " 'demo',\n",
        " 12.5]\n",
        "\n",
        "\n",
        "for i in l:\n",
        "    if type(i)==str:\n",
        "        print(\"Ans 2: \",l.index(i))\n",
        "        l.pop(l.index(i))\n",
        "        print(l)\n",
        "        print(\"string:\",i)\n",
        "#3\n",
        "\n",
        "b = [el[1] for el in l]\n",
        "print(b)\n"
      ]
    },
    {
      "cell_type": "code",
      "execution_count": null,
      "metadata": {
        "id": "UECOjNuSFwfg",
        "outputId": "b68b3af2-f8e7-4efc-bb91-d19d4ba0472f"
      },
      "outputs": [
        {
          "name": "stdout",
          "output_type": "stream",
          "text": [
            "index of string in the list is  2\n",
            "index of string in the list is  3\n",
            "index of string in the list is  4\n",
            "index of string in the list is  1\n",
            "[[1, 2, 3], [11, 12, 'ccc', 'ccc', 'ccc'], [21, 'ccc', 223], [4, 5, 6], [7, 8, 9], 'demo', 12.5]\n"
          ]
        },
        {
          "data": {
            "text/plain": [
              "[2, 12, 'ccc', 5, 8]"
            ]
          },
          "execution_count": 155,
          "metadata": {},
          "output_type": "execute_result"
        }
      ],
      "source": [
        "l = [[1, 2, 3],\n",
        " [11, 12, 'b', 'b', 'b'],\n",
        " [21, 't', 223],\n",
        " [4, 5, 6],\n",
        " [7, 8, 9],\n",
        " 'demo',\n",
        " 12.5]\n",
        "\n",
        "li=[]\n",
        "for i,j in enumerate(l):\n",
        "    if type(j) == list:\n",
        "        for k,d in enumerate(j):\n",
        "            if type(d) == str:\n",
        "                print('index of string in the list is ',k)\n",
        "                l[i][k] = 'ccc'\n",
        "            if k == 1:\n",
        "                li.append(j[k])\n",
        "print(l)\n",
        "li\n"
      ]
    },
    {
      "cell_type": "code",
      "execution_count": null,
      "metadata": {
        "id": "TYlPiKkHFwfg",
        "outputId": "c891c2e1-27d6-40e1-9b38-3de461662fe0"
      },
      "outputs": [
        {
          "data": {
            "text/plain": [
              "[[1, 2, 3],\n",
              " [11, 12, 'ccc', 'ccc', 'ccc'],\n",
              " [21, 'ccc', 223],\n",
              " [4, 5, 6],\n",
              " [7, 8, 9],\n",
              " 'demo',\n",
              " 12.5]"
            ]
          },
          "execution_count": 156,
          "metadata": {},
          "output_type": "execute_result"
        }
      ],
      "source": [
        "l"
      ]
    },
    {
      "cell_type": "code",
      "execution_count": null,
      "metadata": {
        "id": "FXUtPyCZFwfg",
        "outputId": "18c60279-0238-43e2-a1b9-1ee2c1ba2f11"
      },
      "outputs": [
        {
          "name": "stdout",
          "output_type": "stream",
          "text": [
            "1\n"
          ]
        }
      ],
      "source": [
        "l = [[1, 2, 3],[11, 12, 'b', 'b', 'b'],[21, 't', 223],[4, 5, 6],[7, 8, 9],'demo',12.5]\n",
        "for i in l:\n",
        "    b=False\n",
        "    if type(i) == list:\n",
        "        a=False\n",
        "        for j in i:\n",
        "            if type(j)==str:\n",
        "                i.remove(j)\n",
        "                a=True\n",
        "                break\n",
        "        if a :\n",
        "            print(l.index(i))\n",
        "            l.remove(i)"
      ]
    },
    {
      "cell_type": "code",
      "execution_count": null,
      "metadata": {
        "id": "j9wOt1znFwfh",
        "outputId": "af3ea9ce-7e6a-4c5f-f66d-9501d4cdc43f"
      },
      "outputs": [
        {
          "data": {
            "text/plain": [
              "[[1, 2, 3], [21, 't', 223], [4, 5, 6], [7, 8, 9], 'demo', 12.5]"
            ]
          },
          "execution_count": 158,
          "metadata": {},
          "output_type": "execute_result"
        }
      ],
      "source": [
        "l"
      ]
    },
    {
      "cell_type": "code",
      "execution_count": null,
      "metadata": {
        "id": "vGFhzKx7Fwfh",
        "outputId": "25c5431e-7c9f-467d-a665-a21321f47832"
      },
      "outputs": [
        {
          "name": "stdout",
          "output_type": "stream",
          "text": [
            "[1, 2, 3]\n",
            "Occurance found in sublist [11, 12, 'b', 'b', 'b']  at  2\n",
            "Occurance found in sublist [11, 12, 'b', 'b']  at  2\n",
            "[11, 12, 'b']\n",
            "Occurance found in sublist [21, 't', 223, 44]  at  1\n",
            "[21, 223, 44]\n",
            "[4, 5, 6]\n",
            "[7, 8, 9]\n",
            "demo\n",
            "12.5\n",
            "3\n",
            "b\n",
            "44\n",
            "6\n",
            "9\n"
          ]
        }
      ],
      "source": [
        "\n",
        "l = [[1, 2, 3],\n",
        " [11, 12, 'b', 'b', 'b'],\n",
        " [21, 't', 223,44],\n",
        " [4, 5, 6],\n",
        " [7, 8, 9],\n",
        " 'demo',\n",
        " 12.5]\n",
        "\n",
        "#part 2\n",
        "for sublist in l:\n",
        "    if isinstance(sublist,list):\n",
        "           for obj in sublist:\n",
        "                if isinstance(obj,str):\n",
        "                    print('Occurance found in sublist',sublist ,' at ',sublist.index(obj))\n",
        "                    sublist.remove(obj)\n",
        "                 \n",
        "    print(sublist)\n",
        "\n",
        "#part 3\n",
        "\n",
        "for i in l:\n",
        "    if type(i)== list:\n",
        "        print(i[2])\n"
      ]
    },
    {
      "cell_type": "code",
      "execution_count": null,
      "metadata": {
        "id": "_iKHmm24Fwfh",
        "outputId": "945126f1-cdd7-49f6-d242-704871831601"
      },
      "outputs": [
        {
          "data": {
            "text/plain": [
              "[[1, 2, 3], [11, 12, 'b'], [21, 223, 44], [4, 5, 6], [7, 8, 9], 'demo', 12.5]"
            ]
          },
          "execution_count": 161,
          "metadata": {},
          "output_type": "execute_result"
        }
      ],
      "source": [
        "l"
      ]
    },
    {
      "cell_type": "code",
      "execution_count": null,
      "metadata": {
        "id": "x7KQmJlfFwfh",
        "outputId": "5848ecc8-2753-4ce1-cced-0f52ae53ebd0"
      },
      "outputs": [
        {
          "name": "stdout",
          "output_type": "stream",
          "text": [
            "67\n",
            "43\n",
            "3453\n",
            "5654\n",
            "6\n",
            "[67, 43, 3453, 5654, 6]\n"
          ]
        }
      ],
      "source": [
        "l = []\n",
        "for i in range(5):\n",
        "    l.append(int(input()))\n",
        "print(l)"
      ]
    },
    {
      "cell_type": "markdown",
      "metadata": {
        "id": "WKTBFRb3Fwfh"
      },
      "source": [
        "input()"
      ]
    },
    {
      "cell_type": "code",
      "execution_count": null,
      "metadata": {
        "id": "3AVvaj6NFwfk",
        "outputId": "618681a9-e376-4d42-ec3b-5ac108694aa1"
      },
      "outputs": [
        {
          "name": "stdout",
          "output_type": "stream",
          "text": [
            "[345,54,45,45]\n"
          ]
        },
        {
          "data": {
            "text/plain": [
              "'[345,54,45,45]'"
            ]
          },
          "execution_count": 164,
          "metadata": {},
          "output_type": "execute_result"
        }
      ],
      "source": [
        "input()"
      ]
    },
    {
      "cell_type": "code",
      "execution_count": null,
      "metadata": {
        "id": "6tjTufU0Fwfk",
        "outputId": "b3598cc5-7c2a-4627-844b-1a63f166ef68"
      },
      "outputs": [
        {
          "name": "stdout",
          "output_type": "stream",
          "text": [
            "[345,544,454]\n"
          ]
        },
        {
          "data": {
            "text/plain": [
              "['[', '3', '4', '5', ',', '5', '4', '4', ',', '4', '5', '4', ']']"
            ]
          },
          "execution_count": 165,
          "metadata": {},
          "output_type": "execute_result"
        }
      ],
      "source": [
        "list(input())"
      ]
    },
    {
      "cell_type": "code",
      "execution_count": null,
      "metadata": {
        "id": "_01574qHFwfk",
        "outputId": "091b2923-75b5-4d9c-b61a-9dde066c8fdd"
      },
      "outputs": [
        {
          "name": "stdout",
          "output_type": "stream",
          "text": [
            "Index of string b is : 2\n",
            "Index of string b is : 3\n",
            "Index of string b is : 4\n",
            "The string in the nested list is 'b'\n",
            "The string in the nested list is 'b'\n",
            "The string in the nested list is 'b'\n",
            "Index of string t is : 1\n",
            "The string in the nested list is 't'\n",
            " [[1, 2, 3], [11, 12], [21, 223], [4, 5, 6], [7, 8, 9], 'demo', 12.5] \n",
            "\n"
          ]
        }
      ],
      "source": [
        "\n",
        "#2. Find the index of string element in the nested list and remove the string\n",
        "l = [[1, 2, 3],\n",
        " [11, 12, 'b', 'b', 'b'],\n",
        " [21, 't', 223],\n",
        " [4, 5, 6],\n",
        " [7, 8, 9],\n",
        " 'demo',\n",
        " 12.5]\n",
        "\n",
        "for i in l:\n",
        "    if type(i) == list:\n",
        "        j=0\n",
        "        while j < len(i):\n",
        "            if type(i[j]) is str:\n",
        "                print(\"Index of string {} is :\".format(i[j]),j)\n",
        "            j = j +1\n",
        "        j=0\n",
        "        while j < len(i):\n",
        "            if type(i[j]) is str:\n",
        "                print(\"The string in the nested list is '{}'\".format(i[j]))\n",
        "                i.remove(i[j])\n",
        "                continue\n",
        "            j = j +1\n",
        "print(\"List after removal of string from nested list is\\r\",l,'\\n')\n"
      ]
    },
    {
      "cell_type": "code",
      "execution_count": null,
      "metadata": {
        "id": "K_M35NymFwfl"
      },
      "outputs": [],
      "source": [
        "l = [1,2,3,4,5]"
      ]
    },
    {
      "cell_type": "code",
      "execution_count": null,
      "metadata": {
        "id": "f7Dbdw2tFwfl"
      },
      "outputs": [],
      "source": [
        "l1 = []"
      ]
    },
    {
      "cell_type": "code",
      "execution_count": null,
      "metadata": {
        "id": "zsN2NBpAFwfl"
      },
      "outputs": [],
      "source": [
        "for i in \"sudh\":\n",
        "    l1.append(i)\n",
        "    "
      ]
    },
    {
      "cell_type": "code",
      "execution_count": null,
      "metadata": {
        "id": "GogzSMA0Fwfl",
        "outputId": "5ac1441a-eb40-442d-ab98-fe005f3423a3"
      },
      "outputs": [
        {
          "data": {
            "text/plain": [
              "['s', 'u', 'd', 'h']"
            ]
          },
          "execution_count": 171,
          "metadata": {},
          "output_type": "execute_result"
        }
      ],
      "source": [
        "l1"
      ]
    },
    {
      "cell_type": "code",
      "execution_count": null,
      "metadata": {
        "id": "jZduZY3CFwfl",
        "outputId": "f9aeea61-88d9-442a-9702-d38975ab3dbb"
      },
      "outputs": [
        {
          "data": {
            "text/plain": [
              "[['s'], ['u'], ['d'], ['h']]"
            ]
          },
          "execution_count": 173,
          "metadata": {},
          "output_type": "execute_result"
        }
      ],
      "source": [
        "[[i] for i in \"sudh\"]"
      ]
    },
    {
      "cell_type": "code",
      "execution_count": null,
      "metadata": {
        "id": "kIOD1VMCFwfl"
      },
      "outputs": [],
      "source": [
        "l = []\n",
        "for i in range(10) :\n",
        "    if i%2 ==0:\n",
        "        l.append(i)"
      ]
    },
    {
      "cell_type": "code",
      "execution_count": null,
      "metadata": {
        "id": "gUumUhObFwfl",
        "outputId": "3f9289e4-6e0f-49ab-9a01-b16b4ee5c86b"
      },
      "outputs": [
        {
          "data": {
            "text/plain": [
              "[0, 2, 4, 6, 8]"
            ]
          },
          "execution_count": 176,
          "metadata": {},
          "output_type": "execute_result"
        }
      ],
      "source": [
        "l"
      ]
    },
    {
      "cell_type": "code",
      "execution_count": null,
      "metadata": {
        "id": "vJ29nra3Fwfm",
        "outputId": "9d6b5239-9b4b-412a-e926-cb07f22ba69b"
      },
      "outputs": [
        {
          "data": {
            "text/plain": [
              "[0, 2, 4, 6, 8]"
            ]
          },
          "execution_count": 180,
          "metadata": {},
          "output_type": "execute_result"
        }
      ],
      "source": [
        "[i for i in range(10) if i %2 == 0 ]"
      ]
    },
    {
      "cell_type": "code",
      "execution_count": null,
      "metadata": {
        "id": "Dr9myKiiFwfm",
        "outputId": "4eca96ef-4c43-472a-aa35-9fc7db209cf7"
      },
      "outputs": [
        {
          "data": {
            "text/plain": [
              "2"
            ]
          },
          "execution_count": 178,
          "metadata": {},
          "output_type": "execute_result"
        }
      ],
      "source": [
        "8%3"
      ]
    },
    {
      "cell_type": "code",
      "execution_count": null,
      "metadata": {
        "id": "0DpoEodbFwfm",
        "outputId": "29a20339-fa33-4a4b-a094-9dab63feff9d"
      },
      "outputs": [
        {
          "data": {
            "text/plain": [
              "0"
            ]
          },
          "execution_count": 179,
          "metadata": {},
          "output_type": "execute_result"
        }
      ],
      "source": [
        "8%2"
      ]
    },
    {
      "cell_type": "code",
      "execution_count": null,
      "metadata": {
        "id": "w9Ni4JNDFwfm"
      },
      "outputs": [],
      "source": [
        "l = []\n",
        "for i in range(10):\n",
        "    if i % 2 != 0:\n",
        "        l.append(\"odd\")\n",
        "    else :\n",
        "        l.append(\"even\")"
      ]
    },
    {
      "cell_type": "code",
      "execution_count": null,
      "metadata": {
        "id": "6sgoCQpEFwfm",
        "outputId": "79e92afd-fab0-4210-98fe-6867ca53d095"
      },
      "outputs": [
        {
          "data": {
            "text/plain": [
              "['even', 'odd', 'even', 'odd', 'even', 'odd', 'even', 'odd', 'even', 'odd']"
            ]
          },
          "execution_count": 182,
          "metadata": {},
          "output_type": "execute_result"
        }
      ],
      "source": [
        "l"
      ]
    },
    {
      "cell_type": "code",
      "execution_count": null,
      "metadata": {
        "id": "vNtThhDYFwfm",
        "outputId": "4c366424-3c75-4c24-85b3-3c4003e8301b"
      },
      "outputs": [
        {
          "data": {
            "text/plain": [
              "['even', 'odd', 'even', 'odd', 'even', 'odd', 'even', 'odd', 'even', 'odd']"
            ]
          },
          "execution_count": 184,
          "metadata": {},
          "output_type": "execute_result"
        }
      ],
      "source": [
        "[\"odd\" if i%2 != 0 else \"even\" for i in range(10)]"
      ]
    },
    {
      "cell_type": "code",
      "execution_count": null,
      "metadata": {
        "id": "xNP5DtiAFwfn",
        "outputId": "9f57bff9-32c8-4ec0-8df8-4eb65e67b63d"
      },
      "outputs": [
        {
          "data": {
            "text/plain": [
              "[[0, 1, 2], [0, 1, 2], [0, 1, 2]]"
            ]
          },
          "execution_count": 185,
          "metadata": {},
          "output_type": "execute_result"
        }
      ],
      "source": [
        "mat = []\n",
        "for i in range(3):\n",
        "    mat.append([])\n",
        "    for j in range(3):\n",
        "        mat[i].append(j)\n",
        "mat"
      ]
    },
    {
      "cell_type": "code",
      "execution_count": null,
      "metadata": {
        "id": "ZzYEN3SmFwfn",
        "outputId": "e9ea6ee8-2b18-4407-fd19-942c58c2c3e2"
      },
      "outputs": [
        {
          "data": {
            "text/plain": [
              "[[0, 1, 2], [0, 1, 2], [0, 1, 2]]"
            ]
          },
          "execution_count": 186,
          "metadata": {},
          "output_type": "execute_result"
        }
      ],
      "source": [
        "[[j for j in range(3)]for i in range(3)]"
      ]
    },
    {
      "cell_type": "code",
      "execution_count": null,
      "metadata": {
        "id": "8lcO1zsvFwfn",
        "outputId": "c66ff7a6-9a1a-4940-8c37-1e8da7e6fa7b"
      },
      "outputs": [
        {
          "data": {
            "text/plain": [
              "[0, 6]"
            ]
          },
          "execution_count": 191,
          "metadata": {},
          "output_type": "execute_result"
        }
      ],
      "source": [
        "[i for i in range(8) if i % 2 == 0 if i % 3 == 0  ]"
      ]
    },
    {
      "cell_type": "code",
      "execution_count": null,
      "metadata": {
        "id": "5w7LSClYFwfn"
      },
      "outputs": [],
      "source": [
        "l = []\n",
        "for i in range(8):\n",
        "    if i % 2 == 0 :\n",
        "        if i % 3 == 0 :\n",
        "            l.append(i)"
      ]
    },
    {
      "cell_type": "code",
      "execution_count": null,
      "metadata": {
        "id": "hn8_8lPxFwfn",
        "outputId": "877b6d48-7ea2-4471-9aa2-50351efe0a30"
      },
      "outputs": [
        {
          "data": {
            "text/plain": [
              "[0, 6]"
            ]
          },
          "execution_count": 193,
          "metadata": {},
          "output_type": "execute_result"
        }
      ],
      "source": [
        "l"
      ]
    },
    {
      "cell_type": "code",
      "execution_count": null,
      "metadata": {
        "id": "g3ip53YRFwfn"
      },
      "outputs": [],
      "source": [
        "l = []\n",
        "for i in range(10):\n",
        "    l.append(i)"
      ]
    },
    {
      "cell_type": "code",
      "execution_count": null,
      "metadata": {
        "id": "GNlp0ze3Fwfo",
        "outputId": "5bcaa1fc-8bb7-41a1-a624-5e7fda9cf5f5"
      },
      "outputs": [
        {
          "data": {
            "text/plain": [
              "[0, 1, 2, 3, 4, 5, 6, 7, 8, 9]"
            ]
          },
          "execution_count": 195,
          "metadata": {},
          "output_type": "execute_result"
        }
      ],
      "source": [
        "l"
      ]
    },
    {
      "cell_type": "code",
      "execution_count": null,
      "metadata": {
        "id": "qsfV5sI3Fwfo",
        "outputId": "bbbacf5f-870e-42df-ad9e-432b22af2f1d"
      },
      "outputs": [
        {
          "data": {
            "text/plain": [
              "['test ',\n",
              " 'yes ',\n",
              " 'no',\n",
              " 'test ',\n",
              " 'test ',\n",
              " 'test ',\n",
              " 'test ',\n",
              " 'test ',\n",
              " 'test ',\n",
              " 'test ']"
            ]
          },
          "execution_count": 201,
          "metadata": {},
          "output_type": "execute_result"
        }
      ],
      "source": [
        "[\"yes \" if i == 1  else \"no\" if i == 2 else \"test \" for i in l]"
      ]
    },
    {
      "cell_type": "code",
      "execution_count": null,
      "metadata": {
        "id": "WkmePjCHFwfo",
        "outputId": "da9d2d94-8330-49e1-e5e1-808429f55fea"
      },
      "outputs": [
        {
          "data": {
            "text/plain": [
              "[0, 1, 2, 3, 4, 5, 6, 7, 8, 9]"
            ]
          },
          "execution_count": 197,
          "metadata": {},
          "output_type": "execute_result"
        }
      ],
      "source": [
        " l "
      ]
    },
    {
      "cell_type": "code",
      "execution_count": null,
      "metadata": {
        "id": "YHiS0nGwFwfo"
      },
      "outputs": [],
      "source": [
        "res = []\n",
        "for i in l :\n",
        "    if i == 1 :\n",
        "        res.append(\"yes\")\n",
        "    elif i ==2 :\n",
        "        res.append(\"no\")\n",
        "    else :\n",
        "        res.append(\"test\")"
      ]
    },
    {
      "cell_type": "code",
      "execution_count": null,
      "metadata": {
        "id": "2Q6T8IR7Fwfo",
        "outputId": "17a95d08-60f9-4f1b-e332-1a3fa618360d"
      },
      "outputs": [
        {
          "data": {
            "text/plain": [
              "['test', 'yes', 'no', 'test', 'test', 'test', 'test', 'test', 'test', 'test']"
            ]
          },
          "execution_count": 199,
          "metadata": {},
          "output_type": "execute_result"
        }
      ],
      "source": [
        "res"
      ]
    },
    {
      "cell_type": "code",
      "execution_count": null,
      "metadata": {
        "id": "3nMltn3wFwfo",
        "colab": {
          "base_uri": "https://localhost:8080/"
        },
        "outputId": "7eefeeba-ae2b-43ac-9786-a7227e0760eb"
      },
      "outputs": [
        {
          "output_type": "stream",
          "name": "stdout",
          "text": [
            "[1, 4, 16, 9, 36]\n"
          ]
        }
      ],
      "source": [
        "# to update list of integers with its square root\n",
        "\n",
        "a =  [1,2,4,3,6]\n",
        "\n",
        "for i in range(len(a)):\n",
        "  a[i] = a[i]**2\n",
        "\n",
        "print(a)"
      ]
    },
    {
      "cell_type": "code",
      "source": [
        "# to update a list of binary values. Repalce 0 with 1 vice versa"
      ],
      "metadata": {
        "id": "r-SYXQIHZaPv"
      },
      "execution_count": null,
      "outputs": []
    },
    {
      "cell_type": "code",
      "source": [
        "a = [1,1,0,0,0,1]\n",
        "\n",
        "for i in range(len(a)):\n",
        "  if a[i] == 0:\n",
        "    a[i] =1\n",
        "  else :\n",
        "    a[i] =0\n",
        "\n",
        "print(a)"
      ],
      "metadata": {
        "colab": {
          "base_uri": "https://localhost:8080/"
        },
        "id": "WEBaWCM-aHPD",
        "outputId": "90972b87-0755-446e-9bca-9923ecab81df"
      },
      "execution_count": null,
      "outputs": [
        {
          "output_type": "stream",
          "name": "stdout",
          "text": [
            "[0, 0, 1, 1, 1, 0]\n"
          ]
        }
      ]
    },
    {
      "cell_type": "code",
      "source": [],
      "metadata": {
        "id": "KfurDg-5abuw"
      },
      "execution_count": null,
      "outputs": []
    }
  ],
  "metadata": {
    "kernelspec": {
      "display_name": "Python 3",
      "language": "python",
      "name": "python3"
    },
    "language_info": {
      "codemirror_mode": {
        "name": "ipython",
        "version": 3
      },
      "file_extension": ".py",
      "mimetype": "text/x-python",
      "name": "python",
      "nbconvert_exporter": "python",
      "pygments_lexer": "ipython3",
      "version": "3.8.3"
    },
    "colab": {
      "provenance": [],
      "collapsed_sections": [
        "p09hBYhPVVDa"
      ]
    }
  },
  "nbformat": 4,
  "nbformat_minor": 0
}