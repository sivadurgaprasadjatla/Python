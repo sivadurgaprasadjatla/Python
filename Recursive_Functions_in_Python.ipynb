{
  "nbformat": 4,
  "nbformat_minor": 0,
  "metadata": {
    "colab": {
      "provenance": []
    },
    "kernelspec": {
      "name": "python3",
      "display_name": "Python 3"
    },
    "language_info": {
      "name": "python"
    }
  },
  "cells": [
    {
      "cell_type": "markdown",
      "source": [
        "# Recursion\n",
        "Process of defining something in terms of itself.\n",
        "##Python Recursive Function\n",
        "\n",
        "A function can call other functions.\n",
        "\n",
        "Also possible for the function to call itself. Such functions are called recursive functions.\n",
        "\n",
        "Syntax: \n",
        "     \n",
        "        \n",
        "        def functionName:\n",
        "            Statement 1\n",
        "            Statement 2\n",
        "                .\n",
        "                .\n",
        "            functionName()\n",
        "                 .\n",
        "                 .\n",
        "\n",
        "\n",
        "Note : \n",
        "1) Its mandatory to write condition to break the loop other wise it will run infinite times\n",
        "\n",
        "2) we should mention the arguments in the 2nd function is same as the first function of recursive function.\n",
        "\n",
        "3) its better to mention all arguments in function 1 &2 that to in same order.\n",
        "\n",
        "4) we should not write arguments in the form of \"i = i+1 \" or \"a = a+1\"\n",
        "in 2nd function of recursive"
      ],
      "metadata": {
        "id": "Ht_JCbpLhPOT"
      }
    },
    {
      "cell_type": "code",
      "source": [
        "#Find the Factorial of given number using for loop\n",
        "\n",
        "def  factorial(n):\n",
        "  res = 1\n",
        "  for i in range(1, n + 1):\n",
        "    res = res * i\n",
        "  return res"
      ],
      "metadata": {
        "id": "wLiA7t2jhjKR"
      },
      "execution_count": null,
      "outputs": []
    },
    {
      "cell_type": "code",
      "source": [
        "factorial(5)"
      ],
      "metadata": {
        "colab": {
          "base_uri": "https://localhost:8080/"
        },
        "id": "_Blz4j6MjMYK",
        "outputId": "179d55ef-0402-41b6-c33d-7cec3a2e89f8"
      },
      "execution_count": null,
      "outputs": [
        {
          "output_type": "execute_result",
          "data": {
            "text/plain": [
              "120"
            ]
          },
          "metadata": {},
          "execution_count": 25
        }
      ]
    },
    {
      "cell_type": "code",
      "source": [
        "# Factorial Using recursive function.\n",
        "\n",
        "def fact(n):\n",
        "  if n == 1:\n",
        "    return 1\n",
        "  else :\n",
        "    a = n*fact(n-1)\n",
        "  return a"
      ],
      "metadata": {
        "id": "LbbMSWAZip91"
      },
      "execution_count": null,
      "outputs": []
    },
    {
      "cell_type": "code",
      "source": [
        "fact(5)"
      ],
      "metadata": {
        "colab": {
          "base_uri": "https://localhost:8080/"
        },
        "id": "juNiysUHi9Xg",
        "outputId": "445b8d9d-0fde-4afb-c65c-9f9c9305a456"
      },
      "execution_count": null,
      "outputs": [
        {
          "output_type": "execute_result",
          "data": {
            "text/plain": [
              "120"
            ]
          },
          "metadata": {},
          "execution_count": 24
        }
      ]
    },
    {
      "cell_type": "code",
      "source": [
        "fact(5)"
      ],
      "metadata": {
        "colab": {
          "base_uri": "https://localhost:8080/"
        },
        "id": "C5GZ2pZ0jXQH",
        "outputId": "2a6d8103-3a63-4da8-e9e9-4bff1e1a0bb9"
      },
      "execution_count": null,
      "outputs": [
        {
          "output_type": "execute_result",
          "data": {
            "text/plain": [
              "120"
            ]
          },
          "metadata": {},
          "execution_count": 22
        }
      ]
    },
    {
      "cell_type": "code",
      "source": [
        "# 5! = 5 * 4!\n",
        "#          4 * 3!\n",
        "#              3 * 2!\n",
        "#                  2 * 1!\n",
        "#                      1 * 0!\n",
        "#                          1"
      ],
      "metadata": {
        "id": "VAqt2kTwjTjP"
      },
      "execution_count": null,
      "outputs": []
    },
    {
      "cell_type": "code",
      "source": [
        "def factorial1(n):\n",
        "  \n",
        "  if n == 0:\n",
        "    return 1\n",
        "  x = factorial(n - 1)     \n",
        "  y = n * x\n",
        "  print(f\"Factorial({n}) x = {x} y = {y}\")\n",
        "  return y"
      ],
      "metadata": {
        "id": "yYmYIsa8jnST"
      },
      "execution_count": null,
      "outputs": []
    },
    {
      "cell_type": "code",
      "source": [
        "factorial1(5)"
      ],
      "metadata": {
        "colab": {
          "base_uri": "https://localhost:8080/"
        },
        "id": "Vaf0NU0YjnHq",
        "outputId": "ba39e084-9775-41f0-c4ce-339ea2037d4f"
      },
      "execution_count": null,
      "outputs": [
        {
          "output_type": "stream",
          "name": "stdout",
          "text": [
            "Factorial(1) x = 1 y = 1\n",
            "Factorial(2) x = 1 y = 2\n",
            "Factorial(3) x = 2 y = 6\n",
            "Factorial(4) x = 6 y = 24\n",
            "Factorial(5) x = 24 y = 120\n"
          ]
        },
        {
          "output_type": "execute_result",
          "data": {
            "text/plain": [
              "120"
            ]
          },
          "metadata": {},
          "execution_count": 28
        }
      ]
    },
    {
      "cell_type": "code",
      "source": [
        "#find the sum of natural numbers  without recursive\n",
        "\n",
        "def sum_natural(n):\n",
        "  a = 0\n",
        "  for i in range(0,n+1):\n",
        "    a = a+i\n",
        "  return a\n",
        "\n",
        "\n",
        "\n"
      ],
      "metadata": {
        "id": "FXi2cRJokTcC"
      },
      "execution_count": null,
      "outputs": []
    },
    {
      "cell_type": "code",
      "source": [
        "sum_natural(5)"
      ],
      "metadata": {
        "colab": {
          "base_uri": "https://localhost:8080/"
        },
        "id": "jcpTkphbktyM",
        "outputId": "736d886d-2d72-482c-dc4b-f33f4b8d4a79"
      },
      "execution_count": null,
      "outputs": [
        {
          "output_type": "execute_result",
          "data": {
            "text/plain": [
              "15"
            ]
          },
          "metadata": {},
          "execution_count": 30
        }
      ]
    },
    {
      "cell_type": "code",
      "source": [
        "#Find the sum of natural numbers using recursive function\n",
        "\n",
        "# n = 5\n",
        "# 5 + sum(4)\n",
        "#       4 + sum(3)\n",
        "#            3 + sum(2)"
      ],
      "metadata": {
        "id": "yQzqBdZBkHBb"
      },
      "execution_count": null,
      "outputs": []
    },
    {
      "cell_type": "code",
      "source": [
        "def sum_natural1(n):\n",
        "  if n == 0:\n",
        "    return 0\n",
        "  else :\n",
        "    a = n+sum_natural1(n-1)\n",
        "  return a"
      ],
      "metadata": {
        "id": "gBjilOv2kGzq"
      },
      "execution_count": null,
      "outputs": []
    },
    {
      "cell_type": "code",
      "source": [
        "sum_natural1(5)"
      ],
      "metadata": {
        "colab": {
          "base_uri": "https://localhost:8080/"
        },
        "id": "xSoP2DeunEyB",
        "outputId": "4da495bc-cee2-4cf9-ce56-6fc1a55d301c"
      },
      "execution_count": null,
      "outputs": [
        {
          "output_type": "execute_result",
          "data": {
            "text/plain": [
              "15"
            ]
          },
          "metadata": {},
          "execution_count": 41
        }
      ]
    },
    {
      "cell_type": "code",
      "source": [
        "def sumNatural3(n):\n",
        "  if n == 0:\n",
        "    return 0\n",
        "  else:\n",
        "    x = sumNatural3(n - 1)\n",
        "    y = n + x\n",
        "  print(f\"sum({n}) = {n} + {x} = {y}\")\n",
        "  \n",
        "  return y"
      ],
      "metadata": {
        "id": "VUR7Gl8kmgAo"
      },
      "execution_count": null,
      "outputs": []
    },
    {
      "cell_type": "code",
      "source": [
        "sumNatural3(5)"
      ],
      "metadata": {
        "colab": {
          "base_uri": "https://localhost:8080/"
        },
        "id": "nYmgKF5elH97",
        "outputId": "bc126507-6d1b-4df7-e802-d583fe64b14d"
      },
      "execution_count": null,
      "outputs": [
        {
          "output_type": "stream",
          "name": "stdout",
          "text": [
            "sum(1) = 1 + 0 = 1\n",
            "sum(2) = 2 + 1 = 3\n",
            "sum(3) = 3 + 3 = 6\n",
            "sum(4) = 4 + 6 = 10\n",
            "sum(5) = 5 + 10 = 15\n"
          ]
        },
        {
          "output_type": "execute_result",
          "data": {
            "text/plain": [
              "15"
            ]
          },
          "metadata": {},
          "execution_count": 52
        }
      ]
    },
    {
      "cell_type": "code",
      "source": [
        "# find the multiplication of given two  numbers without recursive\n",
        "\n",
        "def multiple(a,b):\n",
        "  c = a*b\n",
        "  return c\n",
        "\n"
      ],
      "metadata": {
        "id": "wELcTNTQopgg"
      },
      "execution_count": null,
      "outputs": []
    },
    {
      "cell_type": "code",
      "source": [
        "multiple(3,4)"
      ],
      "metadata": {
        "colab": {
          "base_uri": "https://localhost:8080/"
        },
        "id": "RSklxAIao9oW",
        "outputId": "47cc6fe0-a43d-4724-c2f6-d0c9e9a232b7"
      },
      "execution_count": null,
      "outputs": [
        {
          "output_type": "execute_result",
          "data": {
            "text/plain": [
              "12"
            ]
          },
          "metadata": {},
          "execution_count": 54
        }
      ]
    },
    {
      "cell_type": "code",
      "source": [
        "# Multiplication of given two numbers using recursive function\n",
        "\n",
        "# 3*4 means --> 3+3+3+3 --> adding 3 to itself 4 times\n",
        "\n",
        "def multiple1(a,b):\n",
        "  if a == 0 or b == 0 :\n",
        "    return 0\n",
        "  \n",
        "  else :\n",
        "    c = a + multiple1(a,b-1)\n",
        "\n",
        "  return c\n"
      ],
      "metadata": {
        "id": "UcDCz_t2pDEZ"
      },
      "execution_count": null,
      "outputs": []
    },
    {
      "cell_type": "code",
      "source": [
        "multiple1(3,4)"
      ],
      "metadata": {
        "colab": {
          "base_uri": "https://localhost:8080/"
        },
        "id": "-eGMESA3pC2y",
        "outputId": "20e434cf-471f-4b99-ebd9-a65939de8013"
      },
      "execution_count": null,
      "outputs": [
        {
          "output_type": "execute_result",
          "data": {
            "text/plain": [
              "12"
            ]
          },
          "metadata": {},
          "execution_count": 56
        }
      ]
    },
    {
      "cell_type": "code",
      "source": [
        "# above recursive function is good but if we give b value greater than a , then funtion will call more times and takes more time.\n",
        "# So, we need to use small value in recursive function . But result will be same. \n",
        "\n",
        "def multiple3(a,b):\n",
        "  if a<b :\n",
        "    return multiple3(b,a)\n",
        "\n",
        "  elif a == 0 or b == 0 :\n",
        "    return 0\n",
        "\n",
        "  else :\n",
        "    c = a + multiple3(a,b-1)\n",
        "  \n",
        "  return c"
      ],
      "metadata": {
        "id": "J26xgA8ZqcFz"
      },
      "execution_count": null,
      "outputs": []
    },
    {
      "cell_type": "code",
      "source": [
        "multiple3(3,5)"
      ],
      "metadata": {
        "colab": {
          "base_uri": "https://localhost:8080/"
        },
        "id": "clWOMjj6rrSS",
        "outputId": "327dc02f-56ac-420d-c980-871cc52934fd"
      },
      "execution_count": null,
      "outputs": [
        {
          "output_type": "execute_result",
          "data": {
            "text/plain": [
              "15"
            ]
          },
          "metadata": {},
          "execution_count": 60
        }
      ]
    },
    {
      "cell_type": "code",
      "source": [
        "# Finding power of given two numbers without recursion\n",
        "\n",
        "def power(a,b):\n",
        "  c = a**b\n",
        "  return c\n"
      ],
      "metadata": {
        "id": "zu1UP--hr7tk"
      },
      "execution_count": null,
      "outputs": []
    },
    {
      "cell_type": "code",
      "source": [
        "power(2,3)"
      ],
      "metadata": {
        "colab": {
          "base_uri": "https://localhost:8080/"
        },
        "id": "1yz9s_qnsOHM",
        "outputId": "2ed8fed5-e0f8-4921-e242-5747d27d25f8"
      },
      "execution_count": null,
      "outputs": [
        {
          "output_type": "execute_result",
          "data": {
            "text/plain": [
              "8"
            ]
          },
          "metadata": {},
          "execution_count": 64
        }
      ]
    },
    {
      "cell_type": "code",
      "source": [
        "# finding power of given two numbers\n",
        "\n",
        "# 2^3 --> 2*2*2 \n",
        "\n",
        "#2^4 --> 2^(4-1)\n",
        "#            3(3-1)\n",
        "#              2(2-1)\n",
        "#                  1(1-1)     # so we need to provide b = 1 when it becoming 0.\n",
        "\n",
        "def power1(a,b):\n",
        "  if a==0 or b == 0:\n",
        "    return 1\n",
        "  \n",
        "  else :\n",
        "    c = a*power1(a,b-1)\n",
        "  \n",
        "  return c"
      ],
      "metadata": {
        "id": "V-EwOt_2sQqi"
      },
      "execution_count": null,
      "outputs": []
    },
    {
      "cell_type": "code",
      "source": [
        "power1(2,3)"
      ],
      "metadata": {
        "colab": {
          "base_uri": "https://localhost:8080/"
        },
        "id": "4TOsoDKTsQmi",
        "outputId": "ab779ae1-6ac2-4891-e9c6-f2d7ca830053"
      },
      "execution_count": null,
      "outputs": [
        {
          "output_type": "execute_result",
          "data": {
            "text/plain": [
              "8"
            ]
          },
          "metadata": {},
          "execution_count": 66
        }
      ]
    },
    {
      "cell_type": "code",
      "source": [
        "# finding the factors of given number without using recursive\n",
        "\n",
        "def factors(a):\n",
        "  l =[]\n",
        "  for i in range(1,a+1):\n",
        "    if a % i == 0:\n",
        "      l.append(i)\n",
        "  return l"
      ],
      "metadata": {
        "id": "GJZ9WYTOtZY-"
      },
      "execution_count": null,
      "outputs": []
    },
    {
      "cell_type": "code",
      "source": [
        "factors(10)"
      ],
      "metadata": {
        "colab": {
          "base_uri": "https://localhost:8080/"
        },
        "id": "sk69mf0-uBgn",
        "outputId": "5518d5bb-426d-4b28-de01-6d8aad5b22fb"
      },
      "execution_count": null,
      "outputs": [
        {
          "output_type": "execute_result",
          "data": {
            "text/plain": [
              "[1, 2, 5, 10]"
            ]
          },
          "metadata": {},
          "execution_count": 68
        }
      ]
    },
    {
      "cell_type": "code",
      "source": [
        "#fining factors using recursive function.\n",
        "# wrong solution. first code for this problem.i ddnt mentioned 1 and saame nuber in factors. its just for referance purpose.\n",
        "\n",
        "l = []\n",
        "def factor(a,i=2):\n",
        "\n",
        "    if a == 1 :\n",
        "        l.append(a)\n",
        "        return l\n",
        "        \n",
        "    elif a == 2:\n",
        "        l.append(a)\n",
        "        l.append(a-1)\n",
        "    elif i==a-1 :\n",
        "      return l\n",
        "            \n",
        "    else :\n",
        "        if a%i == 0 :\n",
        "            l.append(i)\n",
        "            return factor(a,i+1)\n",
        "        else :\n",
        "            return factor(a,i+1)\n",
        "    #return l"
      ],
      "metadata": {
        "id": "pMjSuM1l6AMB"
      },
      "execution_count": null,
      "outputs": []
    },
    {
      "cell_type": "code",
      "source": [
        "factor(10)"
      ],
      "metadata": {
        "colab": {
          "base_uri": "https://localhost:8080/"
        },
        "id": "JQX2VY3L6prc",
        "outputId": "d9d2c7b1-a663-4b51-b5b1-6539f176b36c"
      },
      "execution_count": null,
      "outputs": [
        {
          "output_type": "execute_result",
          "data": {
            "text/plain": [
              "[2, 5]"
            ]
          },
          "metadata": {},
          "execution_count": 165
        }
      ]
    },
    {
      "cell_type": "code",
      "source": [
        "#finding the factors of given number using recursive function.\n",
        "\n",
        "def factors1(n,i=1):\n",
        "  if i == n:\n",
        "    return n\n",
        "  \n",
        "  else :\n",
        "    if n%i == 0:\n",
        "      print(i)\n",
        "  return factors1(n,i+1)\n"
      ],
      "metadata": {
        "id": "9-QoT4NkuFqg"
      },
      "execution_count": null,
      "outputs": []
    },
    {
      "cell_type": "code",
      "source": [
        "factors1(10)"
      ],
      "metadata": {
        "colab": {
          "base_uri": "https://localhost:8080/"
        },
        "id": "DX3N29Cov6aA",
        "outputId": "ac21cd88-5f0a-41ad-a934-6526a4c9a110"
      },
      "execution_count": null,
      "outputs": [
        {
          "output_type": "stream",
          "name": "stdout",
          "text": [
            "1\n",
            "2\n",
            "5\n"
          ]
        },
        {
          "output_type": "execute_result",
          "data": {
            "text/plain": [
              "10"
            ]
          },
          "metadata": {},
          "execution_count": 70
        }
      ]
    },
    {
      "cell_type": "code",
      "source": [
        "# exact code in simple form.\n",
        "\n",
        "def factors1(n,i=1,l=[]):\n",
        "  if i == n:\n",
        "    l.append(i)\n",
        "    return l\n",
        "  \n",
        "  else :\n",
        "    if n%i == 0:\n",
        "      l.append(i)\n",
        "  return factors1(n,i+1)"
      ],
      "metadata": {
        "id": "pl_qMm7h12PI"
      },
      "execution_count": null,
      "outputs": []
    },
    {
      "cell_type": "code",
      "source": [
        "factors1(10)"
      ],
      "metadata": {
        "colab": {
          "base_uri": "https://localhost:8080/"
        },
        "id": "6njF2uP22EZO",
        "outputId": "a11e7de7-5022-4149-dc6a-9b95dcbc505c"
      },
      "execution_count": null,
      "outputs": [
        {
          "output_type": "execute_result",
          "data": {
            "text/plain": [
              "[1, 2, 5, 10]"
            ]
          },
          "metadata": {},
          "execution_count": 118
        }
      ]
    },
    {
      "cell_type": "code",
      "source": [
        "# wrong solution. Code is fine but i am not able to print the answer. didnt get the point where i am wrong.\n",
        "\n",
        "\n",
        "def factors2(n,i=1,l=[]):\n",
        "  if i == n:\n",
        "    return l.append(i)\n",
        "  \n",
        "  else :\n",
        "    if n%i == 0:\n",
        "      l.append(i)\n",
        "      return factors2(n,i+1)\n",
        "    else:\n",
        "      return factors2(n,i+1)\n",
        "\n",
        "  return l\n",
        "\n"
      ],
      "metadata": {
        "id": "rilVw1Hgv-7M"
      },
      "execution_count": null,
      "outputs": []
    },
    {
      "cell_type": "code",
      "source": [
        "factors2(10)"
      ],
      "metadata": {
        "id": "zh7u2ZMkwKt6"
      },
      "execution_count": null,
      "outputs": []
    },
    {
      "cell_type": "code",
      "source": [
        "# solution for above code not giving the outpuut\n",
        "# we should not give the return as a l.append(i) at any time.\n",
        "\n",
        "def factors2(n,i=1,l=[]):\n",
        "  if i == n:\n",
        "    l.append(i)\n",
        "    return l\n",
        "  \n",
        "  else :\n",
        "    if n%i == 0:\n",
        "      l.append(i)\n",
        "      return factors2(n,i+1)\n",
        "    else:\n",
        "      return factors2(n,i+1)\n",
        "\n",
        "  return l\n",
        "\n"
      ],
      "metadata": {
        "id": "67GVoVTo3nPn"
      },
      "execution_count": null,
      "outputs": []
    },
    {
      "cell_type": "code",
      "source": [
        "factors2(10)"
      ],
      "metadata": {
        "colab": {
          "base_uri": "https://localhost:8080/"
        },
        "id": "oNe_PkPM3tAd",
        "outputId": "15163400-a145-499f-f5de-1e4c3cdd7370"
      },
      "execution_count": null,
      "outputs": [
        {
          "output_type": "execute_result",
          "data": {
            "text/plain": [
              "[1, 2, 5, 10]"
            ]
          },
          "metadata": {},
          "execution_count": 107
        }
      ]
    },
    {
      "cell_type": "code",
      "source": [
        "# Online Answer\n",
        "\n",
        "def factors(n, i=1,l=[]):\n",
        "\n",
        "  # Checking if the number is less than N\n",
        "  if (i <= n):\n",
        "        if (n % i == 0):\n",
        "          l.append(i)\n",
        "\n",
        "          #print(l)\n",
        "            #print(i, end = \" \");\n",
        "         \n",
        "        # Calling the function recursively\n",
        "        # for the next number\n",
        "        factors(n,i + 1,l);\n",
        "\n",
        "        return(l)"
      ],
      "metadata": {
        "id": "CKK3tCKBxleH"
      },
      "execution_count": null,
      "outputs": []
    },
    {
      "cell_type": "code",
      "source": [
        "factors(10)"
      ],
      "metadata": {
        "colab": {
          "base_uri": "https://localhost:8080/"
        },
        "id": "htitVQMW08M0",
        "outputId": "73f6b72d-b278-4504-fa94-8b514ba25c2a"
      },
      "execution_count": null,
      "outputs": [
        {
          "output_type": "execute_result",
          "data": {
            "text/plain": [
              "[1, 2, 5, 10]"
            ]
          },
          "metadata": {},
          "execution_count": 162
        }
      ]
    },
    {
      "cell_type": "code",
      "source": [
        "# find factors of given number (online solution)\n",
        "\n",
        "def factr(n):\n",
        "  return factr2(1,n,[])\n",
        "\n",
        "def factr2(i,n,l):\n",
        "  if i > n :\n",
        "    return l\n",
        "  \n",
        "  if n%i == 0:\n",
        "    l.append(i)\n",
        "\n",
        "  return factr2(i+1,n,l)\n",
        "\n",
        "factr(6)\n"
      ],
      "metadata": {
        "colab": {
          "base_uri": "https://localhost:8080/"
        },
        "id": "TfwdXUE_Fhsq",
        "outputId": "4e254b3d-d8f0-43b0-ff21-f6dd8de44f7e"
      },
      "execution_count": null,
      "outputs": [
        {
          "output_type": "execute_result",
          "data": {
            "text/plain": [
              "[1, 2, 3, 6]"
            ]
          },
          "metadata": {},
          "execution_count": 163
        }
      ]
    },
    {
      "cell_type": "code",
      "source": [
        "# find the GCD (Greatest Common divisor) / Highest common factor(HCF) / Gretest Common Measure (GCM)\n",
        "\n",
        "# we have 4 methods to find GCD . one is Successive Substraction method.\n",
        "\n",
        "# 25              10\n",
        "# 1, 5, 25        1, 2, 5, 10   #Factors method. find the factors of each number and then select common factors and then find the highest one\n",
        "#         1, 5\n",
        " # GCD = Greatest of (1,5) = 5\n",
        "\n",
        " #Successive substraction method. we need to substract from higher one to lower one until both got equal.\n",
        "# a             b\n",
        "# 25            10\n",
        "# 25-10=15      10\n",
        "#15-10=5        10\n",
        "#5              10-5=5  ---> GCD for (25,10) = 5\n",
        "\n"
      ],
      "metadata": {
        "id": "58UIvuo-7NZ-"
      },
      "execution_count": null,
      "outputs": []
    },
    {
      "cell_type": "code",
      "source": [
        "# find GCD by without using recursive function.\n",
        "\n",
        "def gcd(a,b) :\n",
        "\n",
        "  if a == b :\n",
        "    return a\n",
        "\n",
        "  else :\n",
        "    if a > b:\n",
        "        a = a-b\n",
        "        return a\n",
        "    \n",
        "    else :\n",
        "        b = b-a\n",
        "        return b\n",
        "  \n",
        "# we need to use loop functions. other wise only one step of substraction will be done and then print the output."
      ],
      "metadata": {
        "id": "313D1aqD7NWi"
      },
      "execution_count": null,
      "outputs": []
    },
    {
      "cell_type": "code",
      "source": [
        "gcd(10,25)"
      ],
      "metadata": {
        "colab": {
          "base_uri": "https://localhost:8080/"
        },
        "id": "2reoEc2l_rKP",
        "outputId": "928a569d-8688-40d1-9efa-c3c3d4a4df57"
      },
      "execution_count": null,
      "outputs": [
        {
          "output_type": "execute_result",
          "data": {
            "text/plain": [
              "15"
            ]
          },
          "metadata": {},
          "execution_count": 132
        }
      ]
    },
    {
      "cell_type": "code",
      "source": [
        "def gcd1(a,b):\n",
        "  while a != b :\n",
        "    if a > b:\n",
        "      a = a-b\n",
        "    if b> a :\n",
        "      b = b-a\n",
        "  return a\n"
      ],
      "metadata": {
        "id": "6D7El1O4-x9z"
      },
      "execution_count": null,
      "outputs": []
    },
    {
      "cell_type": "code",
      "source": [
        "gcd1(10,25)"
      ],
      "metadata": {
        "colab": {
          "base_uri": "https://localhost:8080/"
        },
        "id": "_R6bZwClAely",
        "outputId": "7a869606-855d-4b62-8352-74e9396bd11b"
      },
      "execution_count": null,
      "outputs": [
        {
          "output_type": "execute_result",
          "data": {
            "text/plain": [
              "5"
            ]
          },
          "metadata": {},
          "execution_count": 139
        }
      ]
    },
    {
      "cell_type": "code",
      "source": [
        "def gcd2(a, b):\n",
        "\n",
        "  while(a != b):\n",
        "    print(f\"{a}  {b}\")\n",
        "    if a > b:\n",
        "      a = a - b\n",
        "    else:\n",
        "      b = b - a\n",
        "  \n",
        "  return a"
      ],
      "metadata": {
        "id": "Lii1Y5PgAWKG"
      },
      "execution_count": null,
      "outputs": []
    },
    {
      "cell_type": "code",
      "source": [
        "gcd2(10,25)"
      ],
      "metadata": {
        "colab": {
          "base_uri": "https://localhost:8080/"
        },
        "id": "dLrZWx7mAk3D",
        "outputId": "f169731f-1430-441a-a9fe-0817b6269dfc"
      },
      "execution_count": null,
      "outputs": [
        {
          "output_type": "stream",
          "name": "stdout",
          "text": [
            "10  25\n",
            "10  15\n",
            "10  5\n"
          ]
        },
        {
          "output_type": "execute_result",
          "data": {
            "text/plain": [
              "5"
            ]
          },
          "metadata": {},
          "execution_count": 141
        }
      ]
    },
    {
      "cell_type": "code",
      "source": [
        "# finding gcd using recursive function.\n",
        "\n",
        "def gcd3(a,b):\n",
        "  if a == b:\n",
        "    return a\n",
        "  elif a<b :\n",
        "    return gcd3(a,b-a)\n",
        "  else :\n",
        "    return gcd3(a-b,b)"
      ],
      "metadata": {
        "id": "kfooqyG-ApQY"
      },
      "execution_count": null,
      "outputs": []
    },
    {
      "cell_type": "code",
      "source": [
        "gcd3(10,25)"
      ],
      "metadata": {
        "colab": {
          "base_uri": "https://localhost:8080/"
        },
        "id": "krG-O9R2ApMw",
        "outputId": "06dc6099-f4ce-4f14-8fb8-b4fd328f80e4"
      },
      "execution_count": null,
      "outputs": [
        {
          "output_type": "stream",
          "name": "stdout",
          "text": [
            "5\n"
          ]
        }
      ]
    },
    {
      "cell_type": "code",
      "source": [
        "def gcd_rec1(a, b):\n",
        "  if a == b:\n",
        "    return a\n",
        "  if a > b:\n",
        "    return gcd(a - b , b)\n",
        "  else:\n",
        "    return gcd(a , b - a)\n",
        "\n"
      ],
      "metadata": {
        "id": "VN4xYN_KBOcd"
      },
      "execution_count": null,
      "outputs": []
    },
    {
      "cell_type": "code",
      "source": [
        "#finding GCD by factors method.\n",
        "# Given a number, find all the factors \n",
        "#15 => 1, 3, 5 , 15\n",
        "\n",
        "def findFactors(n):\n",
        "  factors = []\n",
        "  for i in range(1, n + 1):\n",
        "    if n % i == 0 :\n",
        "      #add i into factors list \n",
        "      factors.append(i)\n",
        "  return factors"
      ],
      "metadata": {
        "id": "AnzXEk0ACS2W"
      },
      "execution_count": null,
      "outputs": []
    },
    {
      "cell_type": "code",
      "source": [
        "x = findFactors(100)\n",
        "y = findFactors(55)\n",
        "\n",
        "print(x)\n",
        "print(y)\n",
        "\n",
        "common = set(x) & set(y)\n",
        "print( common )\n",
        "print(\"GCD = \" , max(common))"
      ],
      "metadata": {
        "colab": {
          "base_uri": "https://localhost:8080/"
        },
        "id": "nzlX7UDICSy3",
        "outputId": "4ad8a8e5-e009-4917-d1c7-a8ee7838ab87"
      },
      "execution_count": null,
      "outputs": [
        {
          "output_type": "stream",
          "name": "stdout",
          "text": [
            "[1, 2, 4, 5, 10, 20, 25, 50, 100]\n",
            "[1, 5, 11, 55]\n",
            "{1, 5}\n",
            "GCD =  5\n"
          ]
        }
      ]
    },
    {
      "cell_type": "code",
      "source": [
        "# Python Program to Find the LCM of Two Numbers using Recursion\n",
        "\n",
        "'''\n",
        "Method :1 \n",
        "\n",
        "gcd(a,b) * LCM(a,b) = a*b\n",
        "\n",
        "\n",
        "Method :2\n",
        "\n",
        "add the value with same vale until a and b become equal\n",
        "\n",
        "Ex :\n",
        "\n",
        "5 --->5,10,15,20,25,30,35,40,45,50,55,60\n",
        "12--->12,24,36,48,60\n",
        "\n",
        "\n",
        "lcm of (12,5) = 60\n",
        "\n",
        "means need to  add with same number until final value was devisble with another value.\n",
        "\n",
        "'''"
      ],
      "metadata": {
        "colab": {
          "base_uri": "https://localhost:8080/",
          "height": 70
        },
        "id": "7-TVi2D6q-dC",
        "outputId": "6dcfed74-ed00-41e6-db89-74f4e6bc59ad"
      },
      "execution_count": null,
      "outputs": [
        {
          "output_type": "execute_result",
          "data": {
            "text/plain": [
              "'\\nMethod :1 \\n\\ngcd(a,b) * LCM(a,b) = a*b\\n\\n\\nMethod :2\\n\\nadd the value with same vale until a and b become equal\\n\\nEx :\\n\\n5 --->5,10,15,20,25,30,35,40,45,50,55,60\\n12--->12,24,36,48,60\\n\\n\\nlcm of (12,5) = 60\\n\\nmeans need to  add with same number until final value was devisble with another value.\\n\\n'"
            ],
            "application/vnd.google.colaboratory.intrinsic+json": {
              "type": "string"
            }
          },
          "metadata": {},
          "execution_count": 150
        }
      ]
    },
    {
      "cell_type": "code",
      "source": [
        "# find the LCM By without using recursive function\n",
        "\n",
        "def n_lcm(a,b):\n",
        "  if a>b:\n",
        "    high = a\n",
        "    \n",
        "  else :\n",
        "    high = b\n",
        "  val = high\n",
        "\n",
        "  while True :\n",
        "        if high %b == 0 and high %a == 0:\n",
        "          return high\n",
        "          break\n",
        "        else :\n",
        "          high = high + val\n",
        "\n"
      ],
      "metadata": {
        "id": "kprjxGdURpXG"
      },
      "execution_count": null,
      "outputs": []
    },
    {
      "cell_type": "code",
      "source": [
        "n_lcm(12,5)"
      ],
      "metadata": {
        "colab": {
          "base_uri": "https://localhost:8080/"
        },
        "id": "q0eo7mVNVIRz",
        "outputId": "ab07af53-fa25-4180-9db7-22ff5c8ce7a2"
      },
      "execution_count": null,
      "outputs": [
        {
          "output_type": "execute_result",
          "data": {
            "text/plain": [
              "60"
            ]
          },
          "metadata": {},
          "execution_count": 169
        }
      ]
    },
    {
      "cell_type": "code",
      "source": [
        "#wrong solution.recursion going to infinite\n",
        "\n",
        "def lcm(a,b,c=0):\n",
        "\n",
        "  if a<b :\n",
        "    return lcm(b,a)\n",
        "\n",
        "  elif a == b:\n",
        "    return a\n",
        "  else:\n",
        "    if a>b:\n",
        "      b = b+b\n",
        "  return lcm(a,b)"
      ],
      "metadata": {
        "id": "JgvMCFcUEe-S"
      },
      "execution_count": null,
      "outputs": []
    },
    {
      "cell_type": "code",
      "source": [
        "lcm(12,5)"
      ],
      "metadata": {
        "colab": {
          "base_uri": "https://localhost:8080/",
          "height": 346
        },
        "id": "UxW6UVpZD7d0",
        "outputId": "89b40672-0aab-4ed3-8bb9-b04f78061754"
      },
      "execution_count": null,
      "outputs": [
        {
          "output_type": "error",
          "ename": "RecursionError",
          "evalue": "ignored",
          "traceback": [
            "\u001b[0;31m---------------------------------------------------------------------------\u001b[0m",
            "\u001b[0;31mRecursionError\u001b[0m                            Traceback (most recent call last)",
            "\u001b[0;32m<ipython-input-153-bf3a5b07a0d3>\u001b[0m in \u001b[0;36m<module>\u001b[0;34m\u001b[0m\n\u001b[0;32m----> 1\u001b[0;31m \u001b[0mlcm\u001b[0m\u001b[0;34m(\u001b[0m\u001b[0;36m12\u001b[0m\u001b[0;34m,\u001b[0m\u001b[0;36m5\u001b[0m\u001b[0;34m)\u001b[0m\u001b[0;34m\u001b[0m\u001b[0;34m\u001b[0m\u001b[0m\n\u001b[0m",
            "\u001b[0;32m<ipython-input-152-d22915c6c267>\u001b[0m in \u001b[0;36mlcm\u001b[0;34m(a, b, c)\u001b[0m\n\u001b[1;32m      9\u001b[0m     \u001b[0;32mif\u001b[0m \u001b[0ma\u001b[0m\u001b[0;34m>\u001b[0m\u001b[0mb\u001b[0m\u001b[0;34m:\u001b[0m\u001b[0;34m\u001b[0m\u001b[0;34m\u001b[0m\u001b[0m\n\u001b[1;32m     10\u001b[0m       \u001b[0mb\u001b[0m \u001b[0;34m=\u001b[0m \u001b[0mb\u001b[0m\u001b[0;34m+\u001b[0m\u001b[0mb\u001b[0m\u001b[0;34m\u001b[0m\u001b[0;34m\u001b[0m\u001b[0m\n\u001b[0;32m---> 11\u001b[0;31m   \u001b[0;32mreturn\u001b[0m \u001b[0mlcm\u001b[0m\u001b[0;34m(\u001b[0m\u001b[0ma\u001b[0m\u001b[0;34m,\u001b[0m\u001b[0mb\u001b[0m\u001b[0;34m)\u001b[0m\u001b[0;34m\u001b[0m\u001b[0;34m\u001b[0m\u001b[0m\n\u001b[0m",
            "\u001b[0;32m<ipython-input-152-d22915c6c267>\u001b[0m in \u001b[0;36mlcm\u001b[0;34m(a, b, c)\u001b[0m\n\u001b[1;32m      9\u001b[0m     \u001b[0;32mif\u001b[0m \u001b[0ma\u001b[0m\u001b[0;34m>\u001b[0m\u001b[0mb\u001b[0m\u001b[0;34m:\u001b[0m\u001b[0;34m\u001b[0m\u001b[0;34m\u001b[0m\u001b[0m\n\u001b[1;32m     10\u001b[0m       \u001b[0mb\u001b[0m \u001b[0;34m=\u001b[0m \u001b[0mb\u001b[0m\u001b[0;34m+\u001b[0m\u001b[0mb\u001b[0m\u001b[0;34m\u001b[0m\u001b[0;34m\u001b[0m\u001b[0m\n\u001b[0;32m---> 11\u001b[0;31m   \u001b[0;32mreturn\u001b[0m \u001b[0mlcm\u001b[0m\u001b[0;34m(\u001b[0m\u001b[0ma\u001b[0m\u001b[0;34m,\u001b[0m\u001b[0mb\u001b[0m\u001b[0;34m)\u001b[0m\u001b[0;34m\u001b[0m\u001b[0;34m\u001b[0m\u001b[0m\n\u001b[0m",
            "... last 2 frames repeated, from the frame below ...\n",
            "\u001b[0;32m<ipython-input-152-d22915c6c267>\u001b[0m in \u001b[0;36mlcm\u001b[0;34m(a, b, c)\u001b[0m\n\u001b[1;32m      2\u001b[0m \u001b[0;34m\u001b[0m\u001b[0m\n\u001b[1;32m      3\u001b[0m   \u001b[0;32mif\u001b[0m \u001b[0ma\u001b[0m\u001b[0;34m<\u001b[0m\u001b[0mb\u001b[0m \u001b[0;34m:\u001b[0m\u001b[0;34m\u001b[0m\u001b[0;34m\u001b[0m\u001b[0m\n\u001b[0;32m----> 4\u001b[0;31m     \u001b[0;32mreturn\u001b[0m \u001b[0mlcm\u001b[0m\u001b[0;34m(\u001b[0m\u001b[0mb\u001b[0m\u001b[0;34m,\u001b[0m\u001b[0ma\u001b[0m\u001b[0;34m)\u001b[0m\u001b[0;34m\u001b[0m\u001b[0;34m\u001b[0m\u001b[0m\n\u001b[0m\u001b[1;32m      5\u001b[0m \u001b[0;34m\u001b[0m\u001b[0m\n\u001b[1;32m      6\u001b[0m   \u001b[0;32melif\u001b[0m \u001b[0ma\u001b[0m \u001b[0;34m==\u001b[0m \u001b[0mb\u001b[0m\u001b[0;34m:\u001b[0m\u001b[0;34m\u001b[0m\u001b[0;34m\u001b[0m\u001b[0m\n",
            "\u001b[0;31mRecursionError\u001b[0m: maximum recursion depth exceeded in comparison"
          ]
        }
      ]
    },
    {
      "cell_type": "code",
      "source": [
        "# Solution in internet\n",
        "\n",
        "def lcm1(a,b):\n",
        "    lcm.multiple=lcm.multiple+b\n",
        "    if((lcm.multiple % a == 0) and (lcm.multiple % b == 0)):\n",
        "        return lcm.multiple;\n",
        "    else:\n",
        "        lcm1(a, b)\n",
        "    return lcm.multiple\n",
        "lcm.multiple=0\n",
        "a=int(input(\"Enter first number:\"))\n",
        "b=int(input(\"Enter second number:\"))\n",
        "if(a>b):\n",
        "  LCM = lcm1(b,a)\n",
        "else:\n",
        "  LCM = lcm1(a,b)\n",
        "\n",
        "print(lcm1)\n",
        "\n",
        "#while trying to call this function , i am not able to get the exact result"
      ],
      "metadata": {
        "colab": {
          "base_uri": "https://localhost:8080/"
        },
        "id": "diO-jkuHXJ7k",
        "outputId": "9e68e355-e196-4e81-fb30-d083a92bc93d"
      },
      "execution_count": null,
      "outputs": [
        {
          "output_type": "stream",
          "name": "stdout",
          "text": [
            "Enter first number:12\n",
            "Enter second number:5\n",
            "<function lcm1 at 0x7f4016fe7e50>\n"
          ]
        }
      ]
    },
    {
      "cell_type": "code",
      "source": [
        "# LCM by mentor\n",
        "\n",
        "def lcm(a, b):\n",
        "  t = a % b\n",
        "  if t == 0:\n",
        "     return a\n",
        "  return a * lcm(b, t) / t\n",
        "lcm(5,3)"
      ],
      "metadata": {
        "colab": {
          "base_uri": "https://localhost:8080/"
        },
        "id": "sLmwm74J10fF",
        "outputId": "3fda668a-0320-44af-ae05-e8f7f3b95918"
      },
      "execution_count": null,
      "outputs": [
        {
          "output_type": "execute_result",
          "data": {
            "text/plain": [
              "15.0"
            ]
          },
          "metadata": {},
          "execution_count": 77
        }
      ]
    },
    {
      "cell_type": "code",
      "source": [
        "def lcm5(a,b,m=0):\n",
        "\n",
        "  if a == b:\n",
        "    return a\n",
        "\n",
        "  elif a>b :\n",
        "    h1 = a\n",
        "    \n",
        "  else :\n",
        "    h1 = b\n",
        "  \n",
        "  if m%a != 0 and m%b != 0: \n",
        "    m = h1 + m\n",
        "    return lcm5(a,b)\n",
        "\n",
        "  else :\n",
        "    return lcm5(a,b)\n",
        "\n",
        " # wrong condion we use . there are 4 conditions 1) both numbers devisble, 2) both numbers not devisible 3)one can divisible "
      ],
      "metadata": {
        "id": "JCHkEkSgaUWE"
      },
      "execution_count": null,
      "outputs": []
    },
    {
      "cell_type": "code",
      "source": [
        "lcm5(12,5)"
      ],
      "metadata": {
        "colab": {
          "base_uri": "https://localhost:8080/",
          "height": 346
        },
        "id": "UYBsSLnFO45V",
        "outputId": "83d79955-7fe8-4ccc-dafd-096585550805"
      },
      "execution_count": null,
      "outputs": [
        {
          "output_type": "error",
          "ename": "RecursionError",
          "evalue": "ignored",
          "traceback": [
            "\u001b[0;31m---------------------------------------------------------------------------\u001b[0m",
            "\u001b[0;31mRecursionError\u001b[0m                            Traceback (most recent call last)",
            "\u001b[0;32m<ipython-input-104-0c12d24c6988>\u001b[0m in \u001b[0;36m<module>\u001b[0;34m\u001b[0m\n\u001b[0;32m----> 1\u001b[0;31m \u001b[0mlcm5\u001b[0m\u001b[0;34m(\u001b[0m\u001b[0;36m12\u001b[0m\u001b[0;34m,\u001b[0m\u001b[0;36m5\u001b[0m\u001b[0;34m)\u001b[0m\u001b[0;34m\u001b[0m\u001b[0;34m\u001b[0m\u001b[0m\n\u001b[0m",
            "\u001b[0;32m<ipython-input-103-1b36a4a5a888>\u001b[0m in \u001b[0;36mlcm5\u001b[0;34m(a, b, m)\u001b[0m\n\u001b[1;32m     16\u001b[0m \u001b[0;34m\u001b[0m\u001b[0m\n\u001b[1;32m     17\u001b[0m   \u001b[0;32melse\u001b[0m \u001b[0;34m:\u001b[0m\u001b[0;34m\u001b[0m\u001b[0;34m\u001b[0m\u001b[0m\n\u001b[0;32m---> 18\u001b[0;31m     \u001b[0;32mreturn\u001b[0m \u001b[0mlcm5\u001b[0m\u001b[0;34m(\u001b[0m\u001b[0ma\u001b[0m\u001b[0;34m,\u001b[0m\u001b[0mb\u001b[0m\u001b[0;34m)\u001b[0m\u001b[0;34m\u001b[0m\u001b[0;34m\u001b[0m\u001b[0m\n\u001b[0m\u001b[1;32m     19\u001b[0m \u001b[0;34m\u001b[0m\u001b[0m\n\u001b[1;32m     20\u001b[0m \u001b[0;34m\u001b[0m\u001b[0m\n",
            "... last 1 frames repeated, from the frame below ...\n",
            "\u001b[0;32m<ipython-input-103-1b36a4a5a888>\u001b[0m in \u001b[0;36mlcm5\u001b[0;34m(a, b, m)\u001b[0m\n\u001b[1;32m     16\u001b[0m \u001b[0;34m\u001b[0m\u001b[0m\n\u001b[1;32m     17\u001b[0m   \u001b[0;32melse\u001b[0m \u001b[0;34m:\u001b[0m\u001b[0;34m\u001b[0m\u001b[0;34m\u001b[0m\u001b[0m\n\u001b[0;32m---> 18\u001b[0;31m     \u001b[0;32mreturn\u001b[0m \u001b[0mlcm5\u001b[0m\u001b[0;34m(\u001b[0m\u001b[0ma\u001b[0m\u001b[0;34m,\u001b[0m\u001b[0mb\u001b[0m\u001b[0;34m)\u001b[0m\u001b[0;34m\u001b[0m\u001b[0;34m\u001b[0m\u001b[0m\n\u001b[0m\u001b[1;32m     19\u001b[0m \u001b[0;34m\u001b[0m\u001b[0m\n\u001b[1;32m     20\u001b[0m \u001b[0;34m\u001b[0m\u001b[0m\n",
            "\u001b[0;31mRecursionError\u001b[0m: maximum recursion depth exceeded in comparison"
          ]
        }
      ]
    },
    {
      "cell_type": "code",
      "source": [
        "def LCM123(a,b,m=0):\n",
        "    m=m+b\n",
        "    if(m % a == 0) and (m % b == 0):\n",
        "      n = m\n",
        "      return n\n",
        "    else:\n",
        "      return LCM123(a,b,m)\n",
        "\n",
        "    #return  n\n"
      ],
      "metadata": {
        "id": "rMHfeHCBf9pb"
      },
      "execution_count": null,
      "outputs": []
    },
    {
      "cell_type": "code",
      "source": [
        "LCM123(45,67)"
      ],
      "metadata": {
        "colab": {
          "base_uri": "https://localhost:8080/"
        },
        "id": "FHU3FODnfoUr",
        "outputId": "08eaaed9-f747-4e0f-ae17-120299c5da44"
      },
      "execution_count": null,
      "outputs": [
        {
          "output_type": "execute_result",
          "data": {
            "text/plain": [
              "3015"
            ]
          },
          "metadata": {},
          "execution_count": 122
        }
      ]
    },
    {
      "cell_type": "code",
      "source": [
        "print(res)"
      ],
      "metadata": {
        "colab": {
          "base_uri": "https://localhost:8080/"
        },
        "id": "dWmCqjV5QTAL",
        "outputId": "95c64cf6-963a-438e-9845-46626b129061"
      },
      "execution_count": null,
      "outputs": [
        {
          "output_type": "stream",
          "name": "stdout",
          "text": [
            "None\n"
          ]
        }
      ]
    },
    {
      "cell_type": "code",
      "source": [
        "lcm5(12,5)"
      ],
      "metadata": {
        "colab": {
          "base_uri": "https://localhost:8080/",
          "height": 346
        },
        "id": "bPhZJthTb4q-",
        "outputId": "cdd1fee9-8dff-40a9-bbd0-12ae20c091ff"
      },
      "execution_count": null,
      "outputs": [
        {
          "output_type": "error",
          "ename": "RecursionError",
          "evalue": "ignored",
          "traceback": [
            "\u001b[0;31m---------------------------------------------------------------------------\u001b[0m",
            "\u001b[0;31mRecursionError\u001b[0m                            Traceback (most recent call last)",
            "\u001b[0;32m<ipython-input-188-0c12d24c6988>\u001b[0m in \u001b[0;36m<module>\u001b[0;34m\u001b[0m\n\u001b[0;32m----> 1\u001b[0;31m \u001b[0mlcm5\u001b[0m\u001b[0;34m(\u001b[0m\u001b[0;36m12\u001b[0m\u001b[0;34m,\u001b[0m\u001b[0;36m5\u001b[0m\u001b[0;34m)\u001b[0m\u001b[0;34m\u001b[0m\u001b[0;34m\u001b[0m\u001b[0m\n\u001b[0m",
            "\u001b[0;32m<ipython-input-187-ddab9974d66d>\u001b[0m in \u001b[0;36mlcm5\u001b[0;34m(a, b, m)\u001b[0m\n\u001b[1;32m     17\u001b[0m \u001b[0;34m\u001b[0m\u001b[0m\n\u001b[1;32m     18\u001b[0m   \u001b[0;32melse\u001b[0m \u001b[0;34m:\u001b[0m\u001b[0;34m\u001b[0m\u001b[0;34m\u001b[0m\u001b[0m\n\u001b[0;32m---> 19\u001b[0;31m     \u001b[0;32mreturn\u001b[0m \u001b[0mlcm5\u001b[0m\u001b[0;34m(\u001b[0m\u001b[0ma\u001b[0m\u001b[0;34m,\u001b[0m\u001b[0mb\u001b[0m\u001b[0;34m)\u001b[0m\u001b[0;34m\u001b[0m\u001b[0;34m\u001b[0m\u001b[0m\n\u001b[0m\u001b[1;32m     20\u001b[0m \u001b[0;34m\u001b[0m\u001b[0m\n\u001b[1;32m     21\u001b[0m \u001b[0;34m\u001b[0m\u001b[0m\n",
            "... last 1 frames repeated, from the frame below ...\n",
            "\u001b[0;32m<ipython-input-187-ddab9974d66d>\u001b[0m in \u001b[0;36mlcm5\u001b[0;34m(a, b, m)\u001b[0m\n\u001b[1;32m     17\u001b[0m \u001b[0;34m\u001b[0m\u001b[0m\n\u001b[1;32m     18\u001b[0m   \u001b[0;32melse\u001b[0m \u001b[0;34m:\u001b[0m\u001b[0;34m\u001b[0m\u001b[0;34m\u001b[0m\u001b[0m\n\u001b[0;32m---> 19\u001b[0;31m     \u001b[0;32mreturn\u001b[0m \u001b[0mlcm5\u001b[0m\u001b[0;34m(\u001b[0m\u001b[0ma\u001b[0m\u001b[0;34m,\u001b[0m\u001b[0mb\u001b[0m\u001b[0;34m)\u001b[0m\u001b[0;34m\u001b[0m\u001b[0;34m\u001b[0m\u001b[0m\n\u001b[0m\u001b[1;32m     20\u001b[0m \u001b[0;34m\u001b[0m\u001b[0m\n\u001b[1;32m     21\u001b[0m \u001b[0;34m\u001b[0m\u001b[0m\n",
            "\u001b[0;31mRecursionError\u001b[0m: maximum recursion depth exceeded in comparison"
          ]
        }
      ]
    },
    {
      "cell_type": "code",
      "source": [
        "print(lcm1(12,5))"
      ],
      "metadata": {
        "colab": {
          "base_uri": "https://localhost:8080/"
        },
        "id": "45iMsXExbvsj",
        "outputId": "8f64fdd9-2a83-4a07-cbb2-25ac8bdf1e5b"
      },
      "execution_count": null,
      "outputs": [
        {
          "output_type": "stream",
          "name": "stdout",
          "text": [
            "120\n"
          ]
        }
      ]
    },
    {
      "cell_type": "code",
      "source": [
        "\n",
        "\n",
        "def lcm(a,b,c=0):\n",
        "  if a == b :\n",
        "    return a\n",
        "  \n",
        "  else :\n",
        "    c = c+b\n",
        "    if c % a == 0 and c%b == 0:\n",
        "      return c\n",
        "    \n",
        "    else:\n",
        "      lcm(a,b,c)\n",
        "    \n",
        "  return c"
      ],
      "metadata": {
        "id": "Bxh3m57QFIAE"
      },
      "execution_count": null,
      "outputs": []
    },
    {
      "cell_type": "code",
      "source": [
        "def lcm(a,b, c=0):\n",
        "  if a == b :\n",
        "    return a\n",
        "  \n",
        "  else :\n",
        "    c = c+b\n",
        "    if c % a == 0 and c%b == 0:\n",
        "      return c\n",
        "      \n",
        "    else:\n",
        "      lcm(a,b,c)"
      ],
      "metadata": {
        "id": "b2vJnWzEMFXv"
      },
      "execution_count": null,
      "outputs": []
    },
    {
      "cell_type": "code",
      "source": [
        "lcm(12,5)"
      ],
      "metadata": {
        "id": "8pZSYVJiouzl"
      },
      "execution_count": null,
      "outputs": []
    },
    {
      "cell_type": "code",
      "source": [
        "\n",
        "def lcma(a,b):\n",
        "    lcma.multiple=lcm.multiple+b\n",
        "    if((lcma.multiple % a == 0) and (lcma.multiple % b == 0)):\n",
        "        return lcma.multiple;\n",
        "    else:\n",
        "        lcma(a, b)\n",
        "    return lcma.multiple\n",
        "lcma.multiple=0\n",
        "#a=int(input(\"Enter first number:\"))\n",
        "#b=int(input(\"Enter second number:\"))\n",
        "if(a>b):\n",
        "    LCM=lcma(b,a)\n",
        "else:\n",
        "    LCM=lcma(a,b)\n",
        "print(LCM)\n"
      ],
      "metadata": {
        "colab": {
          "base_uri": "https://localhost:8080/",
          "height": 416
        },
        "id": "4q0jVC1fMl2R",
        "outputId": "7a4a1f0a-49ce-473d-b605-a029aef597b6"
      },
      "execution_count": null,
      "outputs": [
        {
          "output_type": "error",
          "ename": "RecursionError",
          "evalue": "ignored",
          "traceback": [
            "\u001b[0;31m---------------------------------------------------------------------------\u001b[0m",
            "\u001b[0;31mRecursionError\u001b[0m                            Traceback (most recent call last)",
            "\u001b[0;32m<ipython-input-166-056b2a7f17c0>\u001b[0m in \u001b[0;36m<module>\u001b[0;34m\u001b[0m\n\u001b[1;32m     10\u001b[0m \u001b[0;31m#b=int(input(\"Enter second number:\"))\u001b[0m\u001b[0;34m\u001b[0m\u001b[0;34m\u001b[0m\u001b[0;34m\u001b[0m\u001b[0m\n\u001b[1;32m     11\u001b[0m \u001b[0;32mif\u001b[0m\u001b[0;34m(\u001b[0m\u001b[0ma\u001b[0m\u001b[0;34m>\u001b[0m\u001b[0mb\u001b[0m\u001b[0;34m)\u001b[0m\u001b[0;34m:\u001b[0m\u001b[0;34m\u001b[0m\u001b[0;34m\u001b[0m\u001b[0m\n\u001b[0;32m---> 12\u001b[0;31m     \u001b[0mLCM\u001b[0m\u001b[0;34m=\u001b[0m\u001b[0mlcma\u001b[0m\u001b[0;34m(\u001b[0m\u001b[0mb\u001b[0m\u001b[0;34m,\u001b[0m\u001b[0ma\u001b[0m\u001b[0;34m)\u001b[0m\u001b[0;34m\u001b[0m\u001b[0;34m\u001b[0m\u001b[0m\n\u001b[0m\u001b[1;32m     13\u001b[0m \u001b[0;32melse\u001b[0m\u001b[0;34m:\u001b[0m\u001b[0;34m\u001b[0m\u001b[0;34m\u001b[0m\u001b[0m\n\u001b[1;32m     14\u001b[0m     \u001b[0mLCM\u001b[0m\u001b[0;34m=\u001b[0m\u001b[0mlcma\u001b[0m\u001b[0;34m(\u001b[0m\u001b[0ma\u001b[0m\u001b[0;34m,\u001b[0m\u001b[0mb\u001b[0m\u001b[0;34m)\u001b[0m\u001b[0;34m\u001b[0m\u001b[0;34m\u001b[0m\u001b[0m\n",
            "\u001b[0;32m<ipython-input-166-056b2a7f17c0>\u001b[0m in \u001b[0;36mlcma\u001b[0;34m(a, b)\u001b[0m\n\u001b[1;32m      4\u001b[0m         \u001b[0;32mreturn\u001b[0m \u001b[0mlcma\u001b[0m\u001b[0;34m.\u001b[0m\u001b[0mmultiple\u001b[0m\u001b[0;34m;\u001b[0m\u001b[0;34m\u001b[0m\u001b[0;34m\u001b[0m\u001b[0m\n\u001b[1;32m      5\u001b[0m     \u001b[0;32melse\u001b[0m\u001b[0;34m:\u001b[0m\u001b[0;34m\u001b[0m\u001b[0;34m\u001b[0m\u001b[0m\n\u001b[0;32m----> 6\u001b[0;31m         \u001b[0mlcma\u001b[0m\u001b[0;34m(\u001b[0m\u001b[0ma\u001b[0m\u001b[0;34m,\u001b[0m \u001b[0mb\u001b[0m\u001b[0;34m)\u001b[0m\u001b[0;34m\u001b[0m\u001b[0;34m\u001b[0m\u001b[0m\n\u001b[0m\u001b[1;32m      7\u001b[0m     \u001b[0;32mreturn\u001b[0m \u001b[0mlcma\u001b[0m\u001b[0;34m.\u001b[0m\u001b[0mmultiple\u001b[0m\u001b[0;34m\u001b[0m\u001b[0;34m\u001b[0m\u001b[0m\n\u001b[1;32m      8\u001b[0m \u001b[0mlcma\u001b[0m\u001b[0;34m.\u001b[0m\u001b[0mmultiple\u001b[0m\u001b[0;34m=\u001b[0m\u001b[0;36m0\u001b[0m\u001b[0;34m\u001b[0m\u001b[0;34m\u001b[0m\u001b[0m\n",
            "... last 1 frames repeated, from the frame below ...\n",
            "\u001b[0;32m<ipython-input-166-056b2a7f17c0>\u001b[0m in \u001b[0;36mlcma\u001b[0;34m(a, b)\u001b[0m\n\u001b[1;32m      4\u001b[0m         \u001b[0;32mreturn\u001b[0m \u001b[0mlcma\u001b[0m\u001b[0;34m.\u001b[0m\u001b[0mmultiple\u001b[0m\u001b[0;34m;\u001b[0m\u001b[0;34m\u001b[0m\u001b[0;34m\u001b[0m\u001b[0m\n\u001b[1;32m      5\u001b[0m     \u001b[0;32melse\u001b[0m\u001b[0;34m:\u001b[0m\u001b[0;34m\u001b[0m\u001b[0;34m\u001b[0m\u001b[0m\n\u001b[0;32m----> 6\u001b[0;31m         \u001b[0mlcma\u001b[0m\u001b[0;34m(\u001b[0m\u001b[0ma\u001b[0m\u001b[0;34m,\u001b[0m \u001b[0mb\u001b[0m\u001b[0;34m)\u001b[0m\u001b[0;34m\u001b[0m\u001b[0;34m\u001b[0m\u001b[0m\n\u001b[0m\u001b[1;32m      7\u001b[0m     \u001b[0;32mreturn\u001b[0m \u001b[0mlcma\u001b[0m\u001b[0;34m.\u001b[0m\u001b[0mmultiple\u001b[0m\u001b[0;34m\u001b[0m\u001b[0;34m\u001b[0m\u001b[0m\n\u001b[1;32m      8\u001b[0m \u001b[0mlcma\u001b[0m\u001b[0;34m.\u001b[0m\u001b[0mmultiple\u001b[0m\u001b[0;34m=\u001b[0m\u001b[0;36m0\u001b[0m\u001b[0;34m\u001b[0m\u001b[0;34m\u001b[0m\u001b[0m\n",
            "\u001b[0;31mRecursionError\u001b[0m: maximum recursion depth exceeded in comparison"
          ]
        }
      ]
    },
    {
      "cell_type": "code",
      "source": [
        "def lcm(a,b):\n",
        "  t = a%b\n",
        "  if t == 0:\n",
        "    return a\n",
        "  else:\n",
        "    return a*lcm(b,t)/t\n",
        "  print(lcm(12,5))"
      ],
      "metadata": {
        "id": "ZEDIbISKZMlU"
      },
      "execution_count": null,
      "outputs": []
    },
    {
      "cell_type": "code",
      "source": [
        "def lcm(a,b):\n",
        "  if a>b :\n",
        "    greater = a\n",
        "  else :\n",
        "    greater = b\n",
        "\n",
        "  while (True):\n",
        "    if((greater % a == 0) and (greater % b == 0)):\n",
        "      lcm = greater\n",
        "      break\n",
        "    greater = greater + 1"
      ],
      "metadata": {
        "id": "H_RQpZZr_BuD"
      },
      "execution_count": null,
      "outputs": []
    },
    {
      "cell_type": "code",
      "source": [
        "# Finding LCM by GCD and multiplication of two numbers.  LCM(a*b) * GCD(a*b) = (a*b)\n",
        "\n",
        "def gcd1(a,b):\n",
        "  while a != b:\n",
        "    if a>b :\n",
        "      a = a-b\n",
        "    else :\n",
        "      b = b-a\n",
        "  return a\n",
        "\n",
        "def lcm1(a,b):\n",
        "  c = gcd(a,b)\n",
        "  d = (a*b)/c\n",
        "  return d"
      ],
      "metadata": {
        "id": "bvPsdsmx8XfX"
      },
      "execution_count": null,
      "outputs": []
    },
    {
      "cell_type": "code",
      "source": [
        "lcm1(12,5)"
      ],
      "metadata": {
        "colab": {
          "base_uri": "https://localhost:8080/"
        },
        "id": "lVNtBSdSYHyW",
        "outputId": "680407c8-c685-49bf-ae69-aa195b099413"
      },
      "execution_count": null,
      "outputs": [
        {
          "output_type": "execute_result",
          "data": {
            "text/plain": [
              "60.0"
            ]
          },
          "metadata": {},
          "execution_count": 177
        }
      ]
    },
    {
      "cell_type": "code",
      "source": [
        "# finding lcm by using recursive gcd function.\n",
        "\n",
        "def gcd2(a,b):\n",
        "  if a == b:\n",
        "    return a\n",
        "  elif a>b:\n",
        "    return gcd2(a-b,b)\n",
        "  else:\n",
        "    return gcd2(a,b-a)\n",
        "  return a\n",
        "\n",
        "def lcm2(a,b):\n",
        "  c = gcd(a,b)\n",
        "  d = (a*b)/ c\n",
        "  return d"
      ],
      "metadata": {
        "id": "B7iWofN4YosM"
      },
      "execution_count": null,
      "outputs": []
    },
    {
      "cell_type": "code",
      "source": [
        "lcm2(12,5)"
      ],
      "metadata": {
        "colab": {
          "base_uri": "https://localhost:8080/"
        },
        "id": "IC50v2sBZjPH",
        "outputId": "4310ce73-08a3-49ce-a130-e557725012be"
      },
      "execution_count": null,
      "outputs": [
        {
          "output_type": "execute_result",
          "data": {
            "text/plain": [
              "60.0"
            ]
          },
          "metadata": {},
          "execution_count": 182
        }
      ]
    },
    {
      "cell_type": "code",
      "source": [
        "#write a programme to reverse a string using recursion\n",
        "\n",
        "def reverse(a,s = ''):\n",
        "  b = len(a)\n",
        "\n",
        "  if b == 1 :\n",
        "    s = s+a\n",
        "    print(s)\n",
        "\n",
        "  else :\n",
        "    s = s + a[b-1]\n",
        "    \n",
        "    return reverse(a[:b-1],s)\n",
        "\n",
        "\n"
      ],
      "metadata": {
        "id": "u6Xdzfy0ZlVH"
      },
      "execution_count": null,
      "outputs": []
    },
    {
      "cell_type": "code",
      "source": [
        "reverse('siva')"
      ],
      "metadata": {
        "colab": {
          "base_uri": "https://localhost:8080/"
        },
        "id": "5OK8U7NHwC0s",
        "outputId": "aab4d6e0-7634-4530-b527-2ece76390997"
      },
      "execution_count": null,
      "outputs": [
        {
          "output_type": "stream",
          "name": "stdout",
          "text": [
            "avis\n"
          ]
        }
      ]
    },
    {
      "cell_type": "code",
      "source": [
        "def revstr(a):\n",
        "  if len(a) == 1:\n",
        "    return a\n",
        "  \n",
        "  else :\n",
        "    return  revstr(a[1:]) +  a[0] "
      ],
      "metadata": {
        "id": "vr1UP0TvwFYY"
      },
      "execution_count": null,
      "outputs": []
    },
    {
      "cell_type": "code",
      "source": [
        "revstr('siva')"
      ],
      "metadata": {
        "colab": {
          "base_uri": "https://localhost:8080/",
          "height": 35
        },
        "id": "0eHmpa0wz07d",
        "outputId": "70fb4271-72e2-4efb-ab1c-4b48def089bb"
      },
      "execution_count": null,
      "outputs": [
        {
          "output_type": "execute_result",
          "data": {
            "text/plain": [
              "'avis'"
            ],
            "application/vnd.google.colaboratory.intrinsic+json": {
              "type": "string"
            }
          },
          "metadata": {},
          "execution_count": 30
        }
      ]
    },
    {
      "cell_type": "code",
      "source": [
        "#find the length of the string using recursion\n",
        "\n",
        "def strlen(a,b = 0):\n",
        "\n",
        "\n",
        "  if a == '' :\n",
        "    return b+1\n",
        "\n",
        "  else :\n",
        "    b = b+1\n",
        "    return strlen(a[b:],b)\n"
      ],
      "metadata": {
        "id": "RhQJ0e5ez24P"
      },
      "execution_count": null,
      "outputs": []
    },
    {
      "cell_type": "code",
      "source": [
        "strlen('siva')"
      ],
      "metadata": {
        "colab": {
          "base_uri": "https://localhost:8080/"
        },
        "id": "eMkXpsCC3u8n",
        "outputId": "536e09dc-97c8-45f4-a75a-940afe49d9d2"
      },
      "execution_count": null,
      "outputs": [
        {
          "output_type": "execute_result",
          "data": {
            "text/plain": [
              "4"
            ]
          },
          "metadata": {},
          "execution_count": 58
        }
      ]
    },
    {
      "cell_type": "code",
      "source": [
        "\n",
        "def listlengthRecursion(given_list):\n",
        "\n",
        "    if not given_list:\n",
        "        return 0\n",
        "   \n",
        "    return 1 + listlengthRecursion(given_list[1::2]) + listlengthRecursion(given_list[2::2])\n",
        "\n",
        "given_list = [929, 138, 3, 193, 11, 1, 2, 3, 41,\n",
        "              132, 56, 11, 917, 212, 455, 2235, 1, 1, 2, 3]\n"
      ],
      "metadata": {
        "id": "TH6ImQ-f7glK"
      },
      "execution_count": null,
      "outputs": []
    },
    {
      "cell_type": "code",
      "source": [
        "listlengthRecursion('siva')"
      ],
      "metadata": {
        "colab": {
          "base_uri": "https://localhost:8080/"
        },
        "id": "LWqcl9xq3wyL",
        "outputId": "65efc39f-9a9b-456a-efcc-01fa956a0190"
      },
      "execution_count": null,
      "outputs": [
        {
          "output_type": "execute_result",
          "data": {
            "text/plain": [
              "4"
            ]
          },
          "metadata": {},
          "execution_count": 61
        }
      ]
    },
    {
      "cell_type": "code",
      "source": [
        "# to check the string whether it is palindrome or not\n",
        "\n",
        "def rec_pal(a,i = 0):\n",
        "  b = len(a)\n",
        "\n",
        "  if not a:\n",
        "    print('pelindrome')\n",
        "\n",
        "  else :\n",
        "    if a[i] == a[b-1]:\n",
        "      b = b-1\n",
        "      i = i+1\n",
        "      return rec_pal(a[i:b-1])\n",
        "\n",
        "    else :\n",
        "      print('not palindrome')\n",
        "\n"
      ],
      "metadata": {
        "id": "-0uYpFjN4qQ5"
      },
      "execution_count": null,
      "outputs": []
    },
    {
      "cell_type": "code",
      "source": [
        "rec_pal('siva')"
      ],
      "metadata": {
        "id": "ZP_n9moN4yJN",
        "colab": {
          "base_uri": "https://localhost:8080/"
        },
        "outputId": "41cb25ee-2deb-4d3b-d4e5-5d7f2c5757a7"
      },
      "execution_count": null,
      "outputs": [
        {
          "output_type": "stream",
          "name": "stdout",
          "text": [
            "not palindrome\n"
          ]
        }
      ]
    },
    {
      "cell_type": "code",
      "source": [
        "# check palindrome by taking another string into it.\n",
        "\n",
        "def rec_pelin(a,s='',i=0):\n",
        "  if  len(a) == 1:\n",
        "    return True\n",
        "\n",
        "  else :\n",
        "    if a[0] == a[-1]:\n",
        "      return rec_pelin(a[1:-1])\n",
        "\n",
        "    else :\n",
        "      return False\n",
        " "
      ],
      "metadata": {
        "id": "SZMyjlvr4zfF"
      },
      "execution_count": null,
      "outputs": []
    },
    {
      "cell_type": "code",
      "source": [
        "rec_pelin('abcdcba')"
      ],
      "metadata": {
        "colab": {
          "base_uri": "https://localhost:8080/"
        },
        "id": "a4vNWzCD4_gq",
        "outputId": "e0801a77-6816-47ef-c9af-6ca383a985f0"
      },
      "execution_count": null,
      "outputs": [
        {
          "output_type": "execute_result",
          "data": {
            "text/plain": [
              "True"
            ]
          },
          "metadata": {},
          "execution_count": 67
        }
      ]
    },
    {
      "cell_type": "code",
      "source": [
        "l = [10,20,10,10,30,40,50]\n",
        "\n",
        "j = 0 \n",
        "\n",
        "while j < len(l):\n",
        "  if l[j]==10:\n",
        "    l.pop(j)\n",
        "\n",
        "  j = j+1\n",
        "\n",
        "print(l)\n",
        "  \n",
        "    "
      ],
      "metadata": {
        "id": "Y00QKQjI5A4O",
        "colab": {
          "base_uri": "https://localhost:8080/"
        },
        "outputId": "caab3918-701d-492d-b589-9b3b500b19b0"
      },
      "execution_count": null,
      "outputs": [
        {
          "output_type": "stream",
          "name": "stdout",
          "text": [
            "[20, 10, 30, 40, 50]\n"
          ]
        }
      ]
    },
    {
      "cell_type": "code",
      "source": [
        "def all_f(a,b):\n",
        "  x = a+b\n",
        "  if b!= 0 :\n",
        "    y = a/b\n",
        "  z = a*b\n",
        "\n",
        "  if a>b :\n",
        "    m = a-b\n",
        "  else :\n",
        "    m = b-a\n",
        "\n",
        "  print(f'the sum is {x},subtraction is {m}, multiplication is {z},division is {y}')\n",
        "\n",
        "  return x,y,z,m\n"
      ],
      "metadata": {
        "id": "1Vh8MysosO-H"
      },
      "execution_count": null,
      "outputs": []
    },
    {
      "cell_type": "code",
      "source": [
        "all_f(10,12)"
      ],
      "metadata": {
        "colab": {
          "base_uri": "https://localhost:8080/"
        },
        "id": "AADbVTvWFdPf",
        "outputId": "f282fd3d-061e-4724-e762-e0dc2ddc4fec"
      },
      "execution_count": null,
      "outputs": [
        {
          "output_type": "stream",
          "name": "stdout",
          "text": [
            "the sum is 22,subtraction is 2, multiplication is 120,division is 0.8333333333333334\n"
          ]
        },
        {
          "output_type": "execute_result",
          "data": {
            "text/plain": [
              "(22, 0.8333333333333334, 120, 2)"
            ]
          },
          "metadata": {},
          "execution_count": 85
        }
      ]
    },
    {
      "cell_type": "code",
      "source": [
        "items = {\n",
        "\"tv\": 30,\n",
        "\"timmy\": 20,\n",
        "\"stereo\": 50\n",
        "}"
      ],
      "metadata": {
        "id": "PD02qu67IJ9B"
      },
      "execution_count": null,
      "outputs": []
    },
    {
      "cell_type": "code",
      "source": [
        "def check(a):\n",
        "  items = {\"tv\": 30,\"timmy\": 20,\"stereo\": 50}\n",
        "\n",
        "  if a in items.keys():\n",
        "    return a 'is avaailable in given '\n",
        "\n",
        "  else :\n",
        "    print('wedwec')\n"
      ],
      "metadata": {
        "id": "MumbHZFYFgwl"
      },
      "execution_count": null,
      "outputs": []
    },
    {
      "cell_type": "code",
      "source": [
        "check('timmy')"
      ],
      "metadata": {
        "colab": {
          "base_uri": "https://localhost:8080/"
        },
        "id": "y4ocb5tfI8MA",
        "outputId": "f9142011-cfa6-4452-d08e-3a29c74608b1"
      },
      "execution_count": null,
      "outputs": [
        {
          "output_type": "stream",
          "name": "stdout",
          "text": [
            "nohsdc\n"
          ]
        }
      ]
    },
    {
      "cell_type": "code",
      "source": [
        "# Answer by mentor Akash\n",
        "\n",
        "def ans(dict1,value):\n",
        "  ispresent = dict1.__contains__(value)\n",
        "  if(ispresent==True):\n",
        "    return value + \" is present\"\n",
        "  else:\n",
        "    return value + \" is not present\"\n",
        "\n",
        "dict1 = items = {\n",
        "\"tv\": 30,\n",
        "\"timmy\": 20,\n",
        "\"stereo\": 50\n",
        "}\n",
        "\n",
        "ans(dict1,\"hello\")"
      ],
      "metadata": {
        "colab": {
          "base_uri": "https://localhost:8080/",
          "height": 35
        },
        "id": "8VKNMTbLI-by",
        "outputId": "859fb374-53f2-44d6-9108-af0655f85c99"
      },
      "execution_count": null,
      "outputs": [
        {
          "output_type": "execute_result",
          "data": {
            "text/plain": [
              "'hello is not present'"
            ],
            "application/vnd.google.colaboratory.intrinsic+json": {
              "type": "string"
            }
          },
          "metadata": {},
          "execution_count": 100
        }
      ]
    },
    {
      "cell_type": "code",
      "source": [
        "'''Create a function that takes a number as an argument and returns \"Fizz\", \"Buzz\" or \"FizzBuzz\".\n",
        "\n",
        "If the number is a multiple of 3 the output should be \"Fizz\".\n",
        "If the number given is a multiple of 5, the output should be \"Buzz\".\n",
        "If the number given is a multiple of both 3 and 5, the output should be \"FizzBuzz\".\n",
        "If the number is not a multiple of either 3 or 5, the number should be output on its own as shown in the examples below.'''"
      ],
      "metadata": {
        "id": "WwddYljFKdqH"
      },
      "execution_count": null,
      "outputs": []
    }
  ]
}