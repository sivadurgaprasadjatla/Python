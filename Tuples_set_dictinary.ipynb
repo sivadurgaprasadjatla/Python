{
  "nbformat": 4,
  "nbformat_minor": 0,
  "metadata": {
    "colab": {
      "provenance": []
    },
    "kernelspec": {
      "name": "python3",
      "display_name": "Python 3"
    },
    "language_info": {
      "name": "python"
    }
  },
  "cells": [
    {
      "cell_type": "markdown",
      "source": [
        "## Tuples\n",
        "\n",
        "1.ordered (indexing)\n",
        "\n",
        "\n",
        "2.immutable"
      ],
      "metadata": {
        "id": "QCEnLs6ZyoB6"
      }
    },
    {
      "cell_type": "code",
      "execution_count": null,
      "metadata": {
        "id": "ZPlefW2Ee2tQ"
      },
      "outputs": [],
      "source": [
        "t = ()"
      ]
    },
    {
      "cell_type": "code",
      "source": [
        "type (t)"
      ],
      "metadata": {
        "colab": {
          "base_uri": "https://localhost:8080/"
        },
        "id": "RwvbMCUOfDDP",
        "outputId": "23078507-efb8-4314-b6e4-bb4bf9eabda2"
      },
      "execution_count": null,
      "outputs": [
        {
          "output_type": "execute_result",
          "data": {
            "text/plain": [
              "tuple"
            ]
          },
          "metadata": {},
          "execution_count": 2
        }
      ]
    },
    {
      "cell_type": "code",
      "source": [
        "t1 = (234,'sudh',3.45,True)"
      ],
      "metadata": {
        "id": "ft8ER5y9fDxP"
      },
      "execution_count": null,
      "outputs": []
    },
    {
      "cell_type": "code",
      "source": [
        "l = [234,'sudh',3.45,True]"
      ],
      "metadata": {
        "id": "_ANmNKtRfUMo"
      },
      "execution_count": null,
      "outputs": []
    },
    {
      "cell_type": "code",
      "source": [
        "type(t1)"
      ],
      "metadata": {
        "colab": {
          "base_uri": "https://localhost:8080/"
        },
        "id": "ZG9IwHaLfZPr",
        "outputId": "4aadaa13-92b2-4d20-f395-6aa594e020eb"
      },
      "execution_count": null,
      "outputs": [
        {
          "output_type": "execute_result",
          "data": {
            "text/plain": [
              "tuple"
            ]
          },
          "metadata": {},
          "execution_count": 5
        }
      ]
    },
    {
      "cell_type": "code",
      "source": [
        "type(l)"
      ],
      "metadata": {
        "colab": {
          "base_uri": "https://localhost:8080/"
        },
        "id": "rXFo1LOLfaE-",
        "outputId": "242d6518-a061-4beb-e3c6-08c2bce3d592"
      },
      "execution_count": null,
      "outputs": [
        {
          "output_type": "execute_result",
          "data": {
            "text/plain": [
              "list"
            ]
          },
          "metadata": {},
          "execution_count": 6
        }
      ]
    },
    {
      "cell_type": "code",
      "source": [
        "dir(tuple)"
      ],
      "metadata": {
        "colab": {
          "base_uri": "https://localhost:8080/"
        },
        "id": "ktyCTk77y-4h",
        "outputId": "3e10f146-b8b3-44ac-f6f3-b9c045191f5c"
      },
      "execution_count": null,
      "outputs": [
        {
          "output_type": "execute_result",
          "data": {
            "text/plain": [
              "['__add__',\n",
              " '__class__',\n",
              " '__contains__',\n",
              " '__delattr__',\n",
              " '__dir__',\n",
              " '__doc__',\n",
              " '__eq__',\n",
              " '__format__',\n",
              " '__ge__',\n",
              " '__getattribute__',\n",
              " '__getitem__',\n",
              " '__getnewargs__',\n",
              " '__gt__',\n",
              " '__hash__',\n",
              " '__init__',\n",
              " '__init_subclass__',\n",
              " '__iter__',\n",
              " '__le__',\n",
              " '__len__',\n",
              " '__lt__',\n",
              " '__mul__',\n",
              " '__ne__',\n",
              " '__new__',\n",
              " '__reduce__',\n",
              " '__reduce_ex__',\n",
              " '__repr__',\n",
              " '__rmul__',\n",
              " '__setattr__',\n",
              " '__sizeof__',\n",
              " '__str__',\n",
              " '__subclasshook__',\n",
              " 'count',\n",
              " 'index']"
            ]
          },
          "metadata": {},
          "execution_count": 91
        }
      ]
    },
    {
      "cell_type": "code",
      "source": [
        "t1[2]"
      ],
      "metadata": {
        "colab": {
          "base_uri": "https://localhost:8080/"
        },
        "id": "RkY9STACfayT",
        "outputId": "35e7a148-90c4-421c-b158-4584aa71bcef"
      },
      "execution_count": null,
      "outputs": [
        {
          "output_type": "execute_result",
          "data": {
            "text/plain": [
              "3.45"
            ]
          },
          "metadata": {},
          "execution_count": 8
        }
      ]
    },
    {
      "cell_type": "code",
      "source": [
        "t1[0:4]"
      ],
      "metadata": {
        "colab": {
          "base_uri": "https://localhost:8080/"
        },
        "id": "0UJgz05tflm3",
        "outputId": "b36f206b-c583-49a4-e427-ab3f3f03c546"
      },
      "execution_count": null,
      "outputs": [
        {
          "output_type": "execute_result",
          "data": {
            "text/plain": [
              "(234, 'sudh', 3.45, True)"
            ]
          },
          "metadata": {},
          "execution_count": 9
        }
      ]
    },
    {
      "cell_type": "code",
      "source": [
        "t1[::-1]"
      ],
      "metadata": {
        "colab": {
          "base_uri": "https://localhost:8080/"
        },
        "id": "vDg1LEw8f08z",
        "outputId": "858a38fa-fd40-4c42-f25e-b6b41a36bcb0"
      },
      "execution_count": null,
      "outputs": [
        {
          "output_type": "execute_result",
          "data": {
            "text/plain": [
              "(True, 3.45, 'sudh', 234)"
            ]
          },
          "metadata": {},
          "execution_count": 10
        }
      ]
    },
    {
      "cell_type": "code",
      "source": [
        "l[0]"
      ],
      "metadata": {
        "colab": {
          "base_uri": "https://localhost:8080/"
        },
        "id": "TYGE_SKzf3OZ",
        "outputId": "b9611e22-edda-4c53-8194-1328fee4defd"
      },
      "execution_count": null,
      "outputs": [
        {
          "output_type": "execute_result",
          "data": {
            "text/plain": [
              "234"
            ]
          },
          "metadata": {},
          "execution_count": 11
        }
      ]
    },
    {
      "cell_type": "code",
      "source": [
        "l[0] = 'kumar'"
      ],
      "metadata": {
        "id": "xvLhRPi-gH7Y"
      },
      "execution_count": null,
      "outputs": []
    },
    {
      "cell_type": "code",
      "source": [
        "l"
      ],
      "metadata": {
        "colab": {
          "base_uri": "https://localhost:8080/"
        },
        "id": "apriz0g3gPVx",
        "outputId": "92b5e63a-060a-4703-c4aa-77334b36b517"
      },
      "execution_count": null,
      "outputs": [
        {
          "output_type": "execute_result",
          "data": {
            "text/plain": [
              "['kumar', 'sudh', 3.45, True]"
            ]
          },
          "metadata": {},
          "execution_count": 16
        }
      ]
    },
    {
      "cell_type": "code",
      "source": [
        "t1[0]"
      ],
      "metadata": {
        "colab": {
          "base_uri": "https://localhost:8080/"
        },
        "id": "LUAhzhSMgPw7",
        "outputId": "e52e2932-9403-4652-87b5-e05e63acc111"
      },
      "execution_count": null,
      "outputs": [
        {
          "output_type": "execute_result",
          "data": {
            "text/plain": [
              "234"
            ]
          },
          "metadata": {},
          "execution_count": 17
        }
      ]
    },
    {
      "cell_type": "code",
      "source": [
        "t1[0] = 'siva'"
      ],
      "metadata": {
        "colab": {
          "base_uri": "https://localhost:8080/",
          "height": 166
        },
        "id": "g_yBnsTkgj59",
        "outputId": "32e238f8-4401-432b-a7ad-d5e5d684f2ad"
      },
      "execution_count": null,
      "outputs": [
        {
          "output_type": "error",
          "ename": "TypeError",
          "evalue": "ignored",
          "traceback": [
            "\u001b[0;31m---------------------------------------------------------------------------\u001b[0m",
            "\u001b[0;31mTypeError\u001b[0m                                 Traceback (most recent call last)",
            "\u001b[0;32m<ipython-input-18-80212b9d2419>\u001b[0m in \u001b[0;36m<module>\u001b[0;34m\u001b[0m\n\u001b[0;32m----> 1\u001b[0;31m \u001b[0mt1\u001b[0m\u001b[0;34m[\u001b[0m\u001b[0;36m0\u001b[0m\u001b[0;34m]\u001b[0m \u001b[0;34m=\u001b[0m \u001b[0;34m'siva'\u001b[0m\u001b[0;34m\u001b[0m\u001b[0;34m\u001b[0m\u001b[0m\n\u001b[0m",
            "\u001b[0;31mTypeError\u001b[0m: 'tuple' object does not support item assignment"
          ]
        }
      ]
    },
    {
      "cell_type": "code",
      "source": [
        "t2 = (56,78,89,90)"
      ],
      "metadata": {
        "id": "t43uBvK-gmXJ"
      },
      "execution_count": null,
      "outputs": []
    },
    {
      "cell_type": "code",
      "source": [
        "t1 + t2"
      ],
      "metadata": {
        "colab": {
          "base_uri": "https://localhost:8080/"
        },
        "id": "LdSWijvnhIq2",
        "outputId": "984bc0c1-4917-4e09-c0df-8892ce70663a"
      },
      "execution_count": null,
      "outputs": [
        {
          "output_type": "execute_result",
          "data": {
            "text/plain": [
              "(234, 'sudh', 3.45, True, 56, 78, 89, 90)"
            ]
          },
          "metadata": {},
          "execution_count": 20
        }
      ]
    },
    {
      "cell_type": "code",
      "source": [
        "t1 * 2"
      ],
      "metadata": {
        "colab": {
          "base_uri": "https://localhost:8080/"
        },
        "id": "BsWm0fIMhJmz",
        "outputId": "3e289e74-61a1-4037-ad1b-6c60f90dc976"
      },
      "execution_count": null,
      "outputs": [
        {
          "output_type": "execute_result",
          "data": {
            "text/plain": [
              "(234, 'sudh', 3.45, True, 234, 'sudh', 3.45, True)"
            ]
          },
          "metadata": {},
          "execution_count": 22
        }
      ]
    },
    {
      "cell_type": "code",
      "source": [
        "t1"
      ],
      "metadata": {
        "colab": {
          "base_uri": "https://localhost:8080/"
        },
        "id": "xHXGA-QUh2YX",
        "outputId": "f034031d-0bb5-44e9-bee3-012716d751d6"
      },
      "execution_count": null,
      "outputs": [
        {
          "output_type": "execute_result",
          "data": {
            "text/plain": [
              "(234, 'sudh', 3.45, True)"
            ]
          },
          "metadata": {},
          "execution_count": 23
        }
      ]
    },
    {
      "cell_type": "code",
      "source": [
        "'sudh' in t1"
      ],
      "metadata": {
        "colab": {
          "base_uri": "https://localhost:8080/"
        },
        "id": "0Nefb9rch5EE",
        "outputId": "4c443dd4-c664-40fe-bc15-852168ca0a67"
      },
      "execution_count": null,
      "outputs": [
        {
          "output_type": "execute_result",
          "data": {
            "text/plain": [
              "True"
            ]
          },
          "metadata": {},
          "execution_count": 24
        }
      ]
    },
    {
      "cell_type": "code",
      "source": [
        "3.45 in t1"
      ],
      "metadata": {
        "colab": {
          "base_uri": "https://localhost:8080/"
        },
        "id": "GULgsLeDiNbu",
        "outputId": "0956e8a6-6166-4720-e524-a7ac7ac0b89c"
      },
      "execution_count": null,
      "outputs": [
        {
          "output_type": "execute_result",
          "data": {
            "text/plain": [
              "True"
            ]
          },
          "metadata": {},
          "execution_count": 25
        }
      ]
    },
    {
      "cell_type": "code",
      "source": [
        "t3 = (23,45,67,89,12,677,23)"
      ],
      "metadata": {
        "id": "-OySwEXniQjw"
      },
      "execution_count": null,
      "outputs": []
    },
    {
      "cell_type": "code",
      "source": [
        "max(t3)"
      ],
      "metadata": {
        "colab": {
          "base_uri": "https://localhost:8080/"
        },
        "id": "dmJO_iqdiYLy",
        "outputId": "99f73c7a-1135-422d-94f7-77a453f36269"
      },
      "execution_count": null,
      "outputs": [
        {
          "output_type": "execute_result",
          "data": {
            "text/plain": [
              "677"
            ]
          },
          "metadata": {},
          "execution_count": 27
        }
      ]
    },
    {
      "cell_type": "code",
      "source": [
        "t4 = ('adc','awf','rtyh')"
      ],
      "metadata": {
        "id": "srJbzbysiZHl"
      },
      "execution_count": null,
      "outputs": []
    },
    {
      "cell_type": "code",
      "source": [
        "max(t4)"
      ],
      "metadata": {
        "colab": {
          "base_uri": "https://localhost:8080/",
          "height": 35
        },
        "id": "Jr4aK2x1ifLC",
        "outputId": "acb137fd-8873-4b8a-e0d2-11acebca74f1"
      },
      "execution_count": null,
      "outputs": [
        {
          "output_type": "execute_result",
          "data": {
            "text/plain": [
              "'rtyh'"
            ],
            "application/vnd.google.colaboratory.intrinsic+json": {
              "type": "string"
            }
          },
          "metadata": {},
          "execution_count": 29
        }
      ]
    },
    {
      "cell_type": "code",
      "source": [
        "t1"
      ],
      "metadata": {
        "colab": {
          "base_uri": "https://localhost:8080/"
        },
        "id": "BHGXF8M_if1e",
        "outputId": "b2774254-436a-49b0-eb49-d8f95c6043ce"
      },
      "execution_count": null,
      "outputs": [
        {
          "output_type": "execute_result",
          "data": {
            "text/plain": [
              "(234, 'sudh', 3.45, True)"
            ]
          },
          "metadata": {},
          "execution_count": 30
        }
      ]
    },
    {
      "cell_type": "code",
      "source": [
        "t1.index(3.45)"
      ],
      "metadata": {
        "colab": {
          "base_uri": "https://localhost:8080/"
        },
        "id": "6ZhH3pb_i42F",
        "outputId": "a5c1064a-7d91-4ab4-cc7b-803ac68e4d13"
      },
      "execution_count": null,
      "outputs": [
        {
          "output_type": "execute_result",
          "data": {
            "text/plain": [
              "2"
            ]
          },
          "metadata": {},
          "execution_count": 31
        }
      ]
    },
    {
      "cell_type": "code",
      "source": [
        "l"
      ],
      "metadata": {
        "colab": {
          "base_uri": "https://localhost:8080/"
        },
        "id": "OZT_-D5Ei-Xk",
        "outputId": "df4055bd-cc34-4ce0-f780-5337aaf77f8b"
      },
      "execution_count": null,
      "outputs": [
        {
          "output_type": "execute_result",
          "data": {
            "text/plain": [
              "['kumar', 'sudh', 3.45, True]"
            ]
          },
          "metadata": {},
          "execution_count": 33
        }
      ]
    },
    {
      "cell_type": "code",
      "source": [
        "t1.count(3.45)"
      ],
      "metadata": {
        "colab": {
          "base_uri": "https://localhost:8080/"
        },
        "id": "JHK4IF7gi_hn",
        "outputId": "09505441-3ccf-44c0-aa91-c714564ae297"
      },
      "execution_count": null,
      "outputs": [
        {
          "output_type": "execute_result",
          "data": {
            "text/plain": [
              "1"
            ]
          },
          "metadata": {},
          "execution_count": 35
        }
      ]
    },
    {
      "cell_type": "code",
      "source": [
        "l2 = list(t1)"
      ],
      "metadata": {
        "id": "TH0AuWcSjPP8"
      },
      "execution_count": null,
      "outputs": []
    },
    {
      "cell_type": "code",
      "source": [
        "type (l2)"
      ],
      "metadata": {
        "colab": {
          "base_uri": "https://localhost:8080/"
        },
        "id": "q_15PdANjr28",
        "outputId": "371a1cfd-6372-4fbc-a498-b406a15aad05"
      },
      "execution_count": null,
      "outputs": [
        {
          "output_type": "execute_result",
          "data": {
            "text/plain": [
              "list"
            ]
          },
          "metadata": {},
          "execution_count": 38
        }
      ]
    },
    {
      "cell_type": "code",
      "source": [
        "l2.append(34)"
      ],
      "metadata": {
        "id": "GwWlckLEjwk3"
      },
      "execution_count": null,
      "outputs": []
    },
    {
      "cell_type": "code",
      "source": [
        "l2.insert(2,76)"
      ],
      "metadata": {
        "id": "q_80HYTYj6r7"
      },
      "execution_count": null,
      "outputs": []
    },
    {
      "cell_type": "code",
      "source": [
        "l2"
      ],
      "metadata": {
        "colab": {
          "base_uri": "https://localhost:8080/"
        },
        "id": "VS7GI3vBj91s",
        "outputId": "5b593764-f62a-4a7a-c6ed-3f32afdb57c4"
      },
      "execution_count": null,
      "outputs": [
        {
          "output_type": "execute_result",
          "data": {
            "text/plain": [
              "[234, 'sudh', 76, 3.45, True, 34]"
            ]
          },
          "metadata": {},
          "execution_count": 41
        }
      ]
    },
    {
      "cell_type": "code",
      "source": [
        "t = tuple(l2)"
      ],
      "metadata": {
        "id": "_r6zUzJtj-g3"
      },
      "execution_count": null,
      "outputs": []
    },
    {
      "cell_type": "code",
      "source": [
        "t"
      ],
      "metadata": {
        "colab": {
          "base_uri": "https://localhost:8080/"
        },
        "id": "UXX827MekEUq",
        "outputId": "6d273e2f-c3bc-4969-b818-88d49fa6364d"
      },
      "execution_count": null,
      "outputs": [
        {
          "output_type": "execute_result",
          "data": {
            "text/plain": [
              "(234, 'sudh', 76, 3.45, True, 34)"
            ]
          },
          "metadata": {},
          "execution_count": 43
        }
      ]
    },
    {
      "cell_type": "code",
      "source": [
        "t5 =  ((3,4,5),('ssde',45,45),('45',54),67,89,90)"
      ],
      "metadata": {
        "id": "U-tOjZ5jkFTx"
      },
      "execution_count": null,
      "outputs": []
    },
    {
      "cell_type": "code",
      "source": [
        "t5 =  ((3,4,5),('ssde',45,45),('45',54),67,89,90,[2,3,4,6])"
      ],
      "metadata": {
        "id": "DmsYx-awlSLX"
      },
      "execution_count": null,
      "outputs": []
    },
    {
      "cell_type": "code",
      "source": [
        "t5[6]"
      ],
      "metadata": {
        "colab": {
          "base_uri": "https://localhost:8080/"
        },
        "id": "jhuGcxDvlbv5",
        "outputId": "ab8473a0-87ba-483f-914f-67ba04528ed1"
      },
      "execution_count": null,
      "outputs": [
        {
          "output_type": "execute_result",
          "data": {
            "text/plain": [
              "[2, 3, 4, 6]"
            ]
          },
          "metadata": {},
          "execution_count": 46
        }
      ]
    },
    {
      "cell_type": "code",
      "source": [
        "t5[6][2]"
      ],
      "metadata": {
        "colab": {
          "base_uri": "https://localhost:8080/"
        },
        "id": "KYKXd9kmlghW",
        "outputId": "fe43a1fd-d42c-450c-89e4-48ffbe8a0556"
      },
      "execution_count": null,
      "outputs": [
        {
          "output_type": "execute_result",
          "data": {
            "text/plain": [
              "4"
            ]
          },
          "metadata": {},
          "execution_count": 47
        }
      ]
    },
    {
      "cell_type": "code",
      "source": [
        "t5[6][1:4]"
      ],
      "metadata": {
        "colab": {
          "base_uri": "https://localhost:8080/"
        },
        "id": "6KjfvbvPloaf",
        "outputId": "1d003aeb-449d-497f-c295-bf752301771c"
      },
      "execution_count": null,
      "outputs": [
        {
          "output_type": "execute_result",
          "data": {
            "text/plain": [
              "[3, 4, 6]"
            ]
          },
          "metadata": {},
          "execution_count": 48
        }
      ]
    },
    {
      "cell_type": "code",
      "source": [
        " # write a programme to print the 1st index data in each nested tuple.\n",
        "\n",
        "for i in t5:\n",
        "   if type(i) == tuple:\n",
        "     print(i[0])"
      ],
      "metadata": {
        "colab": {
          "base_uri": "https://localhost:8080/"
        },
        "id": "uZAZBwhyltnT",
        "outputId": "de1da825-8372-4517-ef3b-53ea89941d15"
      },
      "execution_count": null,
      "outputs": [
        {
          "output_type": "stream",
          "name": "stdout",
          "text": [
            "3\n",
            "ssde\n",
            "45\n"
          ]
        }
      ]
    },
    {
      "cell_type": "code",
      "source": [
        "if len(t1) == len(t2):\n",
        "  print('its same length')\n",
        "else :\n",
        "  print('its not same length')"
      ],
      "metadata": {
        "colab": {
          "base_uri": "https://localhost:8080/"
        },
        "id": "OQytuwZCl-7E",
        "outputId": "56dce520-85eb-4f54-d514-27767a75ae64"
      },
      "execution_count": null,
      "outputs": [
        {
          "output_type": "stream",
          "name": "stdout",
          "text": [
            "its same length\n"
          ]
        }
      ]
    },
    {
      "cell_type": "code",
      "source": [
        "t6 = ((3,4,5),('ssde',45,45),('45',54),67,89,90,[2,3,4,6],'siva','durga','prasad')"
      ],
      "metadata": {
        "id": "L4164UZByGqK"
      },
      "execution_count": null,
      "outputs": []
    },
    {
      "cell_type": "code",
      "source": [
        "i = input()\n",
        "\n",
        "if i in t6 :\n",
        "  print('yes , your input is availbaale')\n",
        "else :\n",
        "  print('no, your input is not avaible')"
      ],
      "metadata": {
        "colab": {
          "base_uri": "https://localhost:8080/"
        },
        "id": "qNfGA4eZyfgL",
        "outputId": "865585a8-6a44-464a-86d7-c878b650a8c6"
      },
      "execution_count": null,
      "outputs": [
        {
          "output_type": "stream",
          "name": "stdout",
          "text": [
            "siva\n",
            "yes , your input is availbaale\n"
          ]
        }
      ]
    },
    {
      "cell_type": "code",
      "source": [
        "l = [23,23,23,45,45,67,78,89,89,78,78,67]"
      ],
      "metadata": {
        "id": "PTbTn_nDywIl"
      },
      "execution_count": null,
      "outputs": []
    },
    {
      "cell_type": "markdown",
      "source": [
        "### Sets \n",
        "\n",
        "1. unordered\n",
        "\n",
        "2. mutable\n",
        "\n",
        "3. no-repeated items"
      ],
      "metadata": {
        "id": "0CABptVksFwm"
      }
    },
    {
      "cell_type": "code",
      "source": [
        "set(l)"
      ],
      "metadata": {
        "colab": {
          "base_uri": "https://localhost:8080/"
        },
        "id": "6F7rUSnU1IhR",
        "outputId": "74e764d2-acc3-482d-f95a-e4eb9d3e19c2"
      },
      "execution_count": null,
      "outputs": [
        {
          "output_type": "execute_result",
          "data": {
            "text/plain": [
              "{23, 45, 67, 78, 89}"
            ]
          },
          "metadata": {},
          "execution_count": 57
        }
      ]
    },
    {
      "cell_type": "code",
      "source": [
        "x = set()"
      ],
      "metadata": {
        "id": "iDPUssyj1KQY"
      },
      "execution_count": null,
      "outputs": []
    },
    {
      "cell_type": "code",
      "source": [
        "type(x)"
      ],
      "metadata": {
        "colab": {
          "base_uri": "https://localhost:8080/"
        },
        "id": "tONRkpS61OmA",
        "outputId": "6d3f2673-c0f0-4393-856f-ca5233527c35"
      },
      "execution_count": null,
      "outputs": [
        {
          "output_type": "execute_result",
          "data": {
            "text/plain": [
              "set"
            ]
          },
          "metadata": {},
          "execution_count": 59
        }
      ]
    },
    {
      "cell_type": "code",
      "source": [
        "s = set(l)"
      ],
      "metadata": {
        "id": "WGSPAnGp1PW2"
      },
      "execution_count": null,
      "outputs": []
    },
    {
      "cell_type": "code",
      "source": [
        "23 in s"
      ],
      "metadata": {
        "colab": {
          "base_uri": "https://localhost:8080/"
        },
        "id": "SkezeZLy1w22",
        "outputId": "7112e428-5b0a-4e18-f3aa-ddebda0f4478"
      },
      "execution_count": null,
      "outputs": [
        {
          "output_type": "execute_result",
          "data": {
            "text/plain": [
              "True"
            ]
          },
          "metadata": {},
          "execution_count": 62
        }
      ]
    },
    {
      "cell_type": "code",
      "source": [
        "for i in s:\n",
        "  print(i)"
      ],
      "metadata": {
        "colab": {
          "base_uri": "https://localhost:8080/"
        },
        "id": "ERwXxgb617lo",
        "outputId": "342134dd-4bdf-447d-82c4-2b2f1bf54ea5"
      },
      "execution_count": null,
      "outputs": [
        {
          "output_type": "stream",
          "name": "stdout",
          "text": [
            "67\n",
            "45\n",
            "78\n",
            "23\n",
            "89\n"
          ]
        }
      ]
    },
    {
      "cell_type": "code",
      "source": [
        "s[0]"
      ],
      "metadata": {
        "colab": {
          "base_uri": "https://localhost:8080/",
          "height": 166
        },
        "id": "vEGKScF91982",
        "outputId": "0133cf14-0133-4ccc-d243-1fec75063381"
      },
      "execution_count": null,
      "outputs": [
        {
          "output_type": "error",
          "ename": "TypeError",
          "evalue": "ignored",
          "traceback": [
            "\u001b[0;31m---------------------------------------------------------------------------\u001b[0m",
            "\u001b[0;31mTypeError\u001b[0m                                 Traceback (most recent call last)",
            "\u001b[0;32m<ipython-input-64-c9c96910e542>\u001b[0m in \u001b[0;36m<module>\u001b[0;34m\u001b[0m\n\u001b[0;32m----> 1\u001b[0;31m \u001b[0ms\u001b[0m\u001b[0;34m[\u001b[0m\u001b[0;36m0\u001b[0m\u001b[0;34m]\u001b[0m\u001b[0;34m\u001b[0m\u001b[0;34m\u001b[0m\u001b[0m\n\u001b[0m",
            "\u001b[0;31mTypeError\u001b[0m: 'set' object is not subscriptable"
          ]
        }
      ]
    },
    {
      "cell_type": "code",
      "source": [
        "s"
      ],
      "metadata": {
        "colab": {
          "base_uri": "https://localhost:8080/"
        },
        "id": "zIICompP2Gt5",
        "outputId": "11be18e1-77b9-4ef0-9f1e-83a7e5a9eae3"
      },
      "execution_count": null,
      "outputs": [
        {
          "output_type": "execute_result",
          "data": {
            "text/plain": [
              "set()"
            ]
          },
          "metadata": {},
          "execution_count": 81
        }
      ]
    },
    {
      "cell_type": "code",
      "source": [
        "s = set()"
      ],
      "metadata": {
        "id": "GkTsU71e2guS"
      },
      "execution_count": null,
      "outputs": []
    },
    {
      "cell_type": "markdown",
      "source": [
        "### Adding and deleting elements\n",
        "1.add()\n",
        "\n",
        "2.remove()\n",
        "\n",
        "3.discrad()"
      ],
      "metadata": {
        "id": "a2pidXELsoRH"
      }
    },
    {
      "cell_type": "code",
      "source": [],
      "metadata": {
        "id": "98mDBgmQsnWl"
      },
      "execution_count": null,
      "outputs": []
    },
    {
      "cell_type": "code",
      "source": [
        "s.add(45)"
      ],
      "metadata": {
        "id": "QVrFZWHG2_q_"
      },
      "execution_count": null,
      "outputs": []
    },
    {
      "cell_type": "code",
      "source": [
        "s.add(34)"
      ],
      "metadata": {
        "id": "HK5xiNBd3CkV"
      },
      "execution_count": null,
      "outputs": []
    },
    {
      "cell_type": "code",
      "source": [
        "s.add('siva')"
      ],
      "metadata": {
        "id": "R4xmMMiO3V3P"
      },
      "execution_count": null,
      "outputs": []
    },
    {
      "cell_type": "code",
      "source": [
        "s.add('durga')"
      ],
      "metadata": {
        "id": "nXCmw-ek3Yff"
      },
      "execution_count": null,
      "outputs": []
    },
    {
      "cell_type": "code",
      "source": [
        "s.add([1,2,3])"
      ],
      "metadata": {
        "colab": {
          "base_uri": "https://localhost:8080/",
          "height": 166
        },
        "id": "wATDhHPX3Zui",
        "outputId": "cc7481c1-7491-4c0a-aa92-cf4dd42f87b9"
      },
      "execution_count": null,
      "outputs": [
        {
          "output_type": "error",
          "ename": "TypeError",
          "evalue": "ignored",
          "traceback": [
            "\u001b[0;31m---------------------------------------------------------------------------\u001b[0m",
            "\u001b[0;31mTypeError\u001b[0m                                 Traceback (most recent call last)",
            "\u001b[0;32m<ipython-input-73-34448ddb2cf0>\u001b[0m in \u001b[0;36m<module>\u001b[0;34m\u001b[0m\n\u001b[0;32m----> 1\u001b[0;31m \u001b[0ms\u001b[0m\u001b[0;34m.\u001b[0m\u001b[0madd\u001b[0m\u001b[0;34m(\u001b[0m\u001b[0;34m[\u001b[0m\u001b[0;36m1\u001b[0m\u001b[0;34m,\u001b[0m\u001b[0;36m2\u001b[0m\u001b[0;34m,\u001b[0m\u001b[0;36m3\u001b[0m\u001b[0;34m]\u001b[0m\u001b[0;34m)\u001b[0m\u001b[0;34m\u001b[0m\u001b[0;34m\u001b[0m\u001b[0m\n\u001b[0m",
            "\u001b[0;31mTypeError\u001b[0m: unhashable type: 'list'"
          ]
        }
      ]
    },
    {
      "cell_type": "code",
      "source": [
        "s"
      ],
      "metadata": {
        "colab": {
          "base_uri": "https://localhost:8080/"
        },
        "id": "_zlUSN4l3bVT",
        "outputId": "ebff6fbe-cf78-421a-e00f-7c05d6764f32"
      },
      "execution_count": null,
      "outputs": [
        {
          "output_type": "execute_result",
          "data": {
            "text/plain": [
              "{34, 45, 'durga', 'siva'}"
            ]
          },
          "metadata": {},
          "execution_count": 87
        }
      ]
    },
    {
      "cell_type": "code",
      "source": [
        "s.remove(45)"
      ],
      "metadata": {
        "id": "IdLUvmES3b6S"
      },
      "execution_count": null,
      "outputs": []
    },
    {
      "cell_type": "code",
      "source": [
        "s"
      ],
      "metadata": {
        "colab": {
          "base_uri": "https://localhost:8080/"
        },
        "id": "VsvXo0hX4EOT",
        "outputId": "874013cd-b3f4-4dd2-8432-3d5508000539"
      },
      "execution_count": null,
      "outputs": [
        {
          "output_type": "execute_result",
          "data": {
            "text/plain": [
              "{34, 'durga', 'siva'}"
            ]
          },
          "metadata": {},
          "execution_count": 89
        }
      ]
    },
    {
      "cell_type": "code",
      "source": [
        "s.remove(100)"
      ],
      "metadata": {
        "colab": {
          "base_uri": "https://localhost:8080/",
          "height": 166
        },
        "id": "loVJNPSl3xGt",
        "outputId": "ade2fa50-2043-4020-a974-1c856dea5fd1"
      },
      "execution_count": null,
      "outputs": [
        {
          "output_type": "error",
          "ename": "KeyError",
          "evalue": "ignored",
          "traceback": [
            "\u001b[0;31m---------------------------------------------------------------------------\u001b[0m",
            "\u001b[0;31mKeyError\u001b[0m                                  Traceback (most recent call last)",
            "\u001b[0;32m<ipython-input-77-d197555c5fbf>\u001b[0m in \u001b[0;36m<module>\u001b[0;34m\u001b[0m\n\u001b[0;32m----> 1\u001b[0;31m \u001b[0ms\u001b[0m\u001b[0;34m.\u001b[0m\u001b[0mremove\u001b[0m\u001b[0;34m(\u001b[0m\u001b[0;36m100\u001b[0m\u001b[0;34m)\u001b[0m\u001b[0;34m\u001b[0m\u001b[0;34m\u001b[0m\u001b[0m\n\u001b[0m",
            "\u001b[0;31mKeyError\u001b[0m: 100"
          ]
        }
      ]
    },
    {
      "cell_type": "code",
      "source": [
        "45 in s"
      ],
      "metadata": {
        "colab": {
          "base_uri": "https://localhost:8080/"
        },
        "id": "_L9Yglud30av",
        "outputId": "3d43d286-699e-459d-8fed-0d8ce0342d30"
      },
      "execution_count": null,
      "outputs": [
        {
          "output_type": "execute_result",
          "data": {
            "text/plain": [
              "False"
            ]
          },
          "metadata": {},
          "execution_count": 90
        }
      ]
    },
    {
      "cell_type": "code",
      "source": [
        "s.clear()"
      ],
      "metadata": {
        "id": "WWsc8u0734ef"
      },
      "execution_count": null,
      "outputs": []
    },
    {
      "cell_type": "code",
      "source": [
        "s"
      ],
      "metadata": {
        "colab": {
          "base_uri": "https://localhost:8080/"
        },
        "id": "kAUqqUJO36o4",
        "outputId": "2fca9291-bfe1-428a-f3c5-1951d38aa4a9"
      },
      "execution_count": null,
      "outputs": [
        {
          "output_type": "execute_result",
          "data": {
            "text/plain": [
              "set()"
            ]
          },
          "metadata": {},
          "execution_count": 92
        }
      ]
    },
    {
      "cell_type": "code",
      "source": [
        "s.add('dcae')"
      ],
      "metadata": {
        "id": "w-6Cx2Aw37Ob"
      },
      "execution_count": null,
      "outputs": []
    },
    {
      "cell_type": "code",
      "source": [
        "s.add(234)"
      ],
      "metadata": {
        "id": "t6j6o7A64aSJ"
      },
      "execution_count": null,
      "outputs": []
    },
    {
      "cell_type": "code",
      "source": [
        "s.add(345)"
      ],
      "metadata": {
        "id": "t4LUtXNL4bcn"
      },
      "execution_count": null,
      "outputs": []
    },
    {
      "cell_type": "code",
      "source": [
        "s.add('wer')"
      ],
      "metadata": {
        "id": "sy8AYPv_4diQ"
      },
      "execution_count": null,
      "outputs": []
    },
    {
      "cell_type": "code",
      "source": [
        "s"
      ],
      "metadata": {
        "colab": {
          "base_uri": "https://localhost:8080/"
        },
        "id": "-l5EGwqo4fMo",
        "outputId": "d9f7082b-798d-4c18-a375-88b692c86679"
      },
      "execution_count": null,
      "outputs": [
        {
          "output_type": "execute_result",
          "data": {
            "text/plain": [
              "{234, 345, 'dcae', 'wer'}"
            ]
          },
          "metadata": {},
          "execution_count": 97
        }
      ]
    },
    {
      "cell_type": "markdown",
      "source": [
        "SET Operations \n",
        "\n",
        "1.Union\n",
        "\n",
        "2.Intersection\n",
        "\n",
        "3.Difference\n",
        "\n",
        "4.issubset\n",
        "\n",
        "5.issuperset"
      ],
      "metadata": {
        "id": "oERDGR4as43m"
      }
    },
    {
      "cell_type": "code",
      "source": [
        "a = {1,2,3}\n",
        "b = {3,4,5}\n",
        "\n",
        "a.union(b)"
      ],
      "metadata": {
        "colab": {
          "base_uri": "https://localhost:8080/"
        },
        "id": "vndW3z56t1VZ",
        "outputId": "24b0fb3a-a17c-407c-b838-a443c84bc390"
      },
      "execution_count": null,
      "outputs": [
        {
          "output_type": "execute_result",
          "data": {
            "text/plain": [
              "{1, 2, 3, 4, 5}"
            ]
          },
          "metadata": {},
          "execution_count": 73
        }
      ]
    },
    {
      "cell_type": "code",
      "source": [
        "a.intersection(b)"
      ],
      "metadata": {
        "colab": {
          "base_uri": "https://localhost:8080/"
        },
        "id": "07vacy2et1Ot",
        "outputId": "2800b983-94b8-4079-fb25-4e21af9950c9"
      },
      "execution_count": null,
      "outputs": [
        {
          "output_type": "execute_result",
          "data": {
            "text/plain": [
              "{3}"
            ]
          },
          "metadata": {},
          "execution_count": 63
        }
      ]
    },
    {
      "cell_type": "code",
      "source": [
        "a.difference(b)"
      ],
      "metadata": {
        "colab": {
          "base_uri": "https://localhost:8080/"
        },
        "id": "y0KAQonNt1Kv",
        "outputId": "44eb8331-1999-433b-8a56-6b649d7c69cd"
      },
      "execution_count": null,
      "outputs": [
        {
          "output_type": "execute_result",
          "data": {
            "text/plain": [
              "{1, 2}"
            ]
          },
          "metadata": {},
          "execution_count": 74
        }
      ]
    },
    {
      "cell_type": "code",
      "source": [
        "a"
      ],
      "metadata": {
        "colab": {
          "base_uri": "https://localhost:8080/"
        },
        "id": "-pKazuaZvKv_",
        "outputId": "7a505eb6-5c5c-489f-aa40-fbfebb093c54"
      },
      "execution_count": null,
      "outputs": [
        {
          "output_type": "execute_result",
          "data": {
            "text/plain": [
              "{1, 2, 3}"
            ]
          },
          "metadata": {},
          "execution_count": 75
        }
      ]
    },
    {
      "cell_type": "code",
      "source": [
        "a.difference_update(b)"
      ],
      "metadata": {
        "id": "gZIFzNsLvMD1"
      },
      "execution_count": null,
      "outputs": []
    },
    {
      "cell_type": "code",
      "source": [
        "a"
      ],
      "metadata": {
        "colab": {
          "base_uri": "https://localhost:8080/"
        },
        "id": "CIUR9MkMvdPa",
        "outputId": "caf2caa0-f7f4-4ab2-842a-9507d651f310"
      },
      "execution_count": null,
      "outputs": [
        {
          "output_type": "execute_result",
          "data": {
            "text/plain": [
              "{1, 2}"
            ]
          },
          "metadata": {},
          "execution_count": 78
        }
      ]
    },
    {
      "cell_type": "code",
      "source": [
        "a = {1,2,3}\n",
        "b = {3,4,5}\n",
        "\n",
        "b.difference(a)"
      ],
      "metadata": {
        "colab": {
          "base_uri": "https://localhost:8080/"
        },
        "id": "ACL4lM36uJ20",
        "outputId": "f03fec5c-3e8c-4af3-dcf7-46183cf44f97"
      },
      "execution_count": null,
      "outputs": [
        {
          "output_type": "execute_result",
          "data": {
            "text/plain": [
              "{4, 5}"
            ]
          },
          "metadata": {},
          "execution_count": 79
        }
      ]
    },
    {
      "cell_type": "code",
      "source": [
        "a.issubset(b)"
      ],
      "metadata": {
        "colab": {
          "base_uri": "https://localhost:8080/"
        },
        "id": "-kxi2gZmuM5k",
        "outputId": "18144f06-d4a4-42bd-9891-c06d214a6796"
      },
      "execution_count": null,
      "outputs": [
        {
          "output_type": "execute_result",
          "data": {
            "text/plain": [
              "False"
            ]
          },
          "metadata": {},
          "execution_count": 66
        }
      ]
    },
    {
      "cell_type": "code",
      "source": [
        "b.issubset(a)"
      ],
      "metadata": {
        "colab": {
          "base_uri": "https://localhost:8080/"
        },
        "id": "JOCEMtffuNJD",
        "outputId": "e3994c39-99c6-4b4b-a97a-3136b72f0408"
      },
      "execution_count": null,
      "outputs": [
        {
          "output_type": "execute_result",
          "data": {
            "text/plain": [
              "False"
            ]
          },
          "metadata": {},
          "execution_count": 68
        }
      ]
    },
    {
      "cell_type": "code",
      "source": [
        "c = {1,2,3}\n",
        "d = {1,2,3,4,5,6}\n",
        "\n",
        "c.issubset(d)"
      ],
      "metadata": {
        "colab": {
          "base_uri": "https://localhost:8080/"
        },
        "id": "upgSyUrCuc3k",
        "outputId": "4d549327-f79a-48bd-d80a-96f8ffa08b88"
      },
      "execution_count": null,
      "outputs": [
        {
          "output_type": "execute_result",
          "data": {
            "text/plain": [
              "True"
            ]
          },
          "metadata": {},
          "execution_count": 70
        }
      ]
    },
    {
      "cell_type": "code",
      "source": [
        "d.issubset(c)"
      ],
      "metadata": {
        "colab": {
          "base_uri": "https://localhost:8080/"
        },
        "id": "cq8Ouu_eucCe",
        "outputId": "8c3c22bc-3056-42e0-9506-88e38bf54227"
      },
      "execution_count": null,
      "outputs": [
        {
          "output_type": "execute_result",
          "data": {
            "text/plain": [
              "False"
            ]
          },
          "metadata": {},
          "execution_count": 71
        }
      ]
    },
    {
      "cell_type": "code",
      "source": [
        "d.issuperset(c)"
      ],
      "metadata": {
        "colab": {
          "base_uri": "https://localhost:8080/"
        },
        "id": "kgY7vXKnusNO",
        "outputId": "8a08335b-cc9e-4226-ee95-981210d0e462"
      },
      "execution_count": null,
      "outputs": [
        {
          "output_type": "execute_result",
          "data": {
            "text/plain": [
              "True"
            ]
          },
          "metadata": {},
          "execution_count": 72
        }
      ]
    },
    {
      "cell_type": "code",
      "source": [
        "l = [345,5464566,54645,6546,4654,654,6]"
      ],
      "metadata": {
        "id": "XiY4mCWJ4gWd"
      },
      "execution_count": null,
      "outputs": []
    },
    {
      "cell_type": "code",
      "source": [
        "s1 = set(l)"
      ],
      "metadata": {
        "id": "xNhShXSE4v2w"
      },
      "execution_count": null,
      "outputs": []
    },
    {
      "cell_type": "code",
      "source": [
        "s1"
      ],
      "metadata": {
        "colab": {
          "base_uri": "https://localhost:8080/"
        },
        "id": "iwCJ2Hzx4xr-",
        "outputId": "47458a5f-4c4c-4a5c-8617-aa662e8b8798"
      },
      "execution_count": null,
      "outputs": [
        {
          "output_type": "execute_result",
          "data": {
            "text/plain": [
              "{6, 345, 654, 4654, 6546, 54645, 5464566}"
            ]
          },
          "metadata": {},
          "execution_count": 100
        }
      ]
    },
    {
      "cell_type": "code",
      "source": [
        "type(s)"
      ],
      "metadata": {
        "colab": {
          "base_uri": "https://localhost:8080/"
        },
        "id": "Z0oa5Fwx4ycn",
        "outputId": "5b69a451-a8e1-4bcb-a350-bb7213a82036"
      },
      "execution_count": null,
      "outputs": [
        {
          "output_type": "execute_result",
          "data": {
            "text/plain": [
              "set"
            ]
          },
          "metadata": {},
          "execution_count": 101
        }
      ]
    },
    {
      "cell_type": "code",
      "source": [
        "type(s1)"
      ],
      "metadata": {
        "colab": {
          "base_uri": "https://localhost:8080/"
        },
        "id": "nEwKBtvY45P1",
        "outputId": "2fe77955-cef9-4a5d-c5bb-5eaf18980791"
      },
      "execution_count": null,
      "outputs": [
        {
          "output_type": "execute_result",
          "data": {
            "text/plain": [
              "set"
            ]
          },
          "metadata": {},
          "execution_count": 102
        }
      ]
    },
    {
      "cell_type": "code",
      "source": [
        "s1 + s"
      ],
      "metadata": {
        "colab": {
          "base_uri": "https://localhost:8080/",
          "height": 166
        },
        "id": "A_cHnCp346SL",
        "outputId": "a0848d86-3b7e-4dbc-e267-d58092249210"
      },
      "execution_count": null,
      "outputs": [
        {
          "output_type": "error",
          "ename": "TypeError",
          "evalue": "ignored",
          "traceback": [
            "\u001b[0;31m---------------------------------------------------------------------------\u001b[0m",
            "\u001b[0;31mTypeError\u001b[0m                                 Traceback (most recent call last)",
            "\u001b[0;32m<ipython-input-103-ad43f6863d4c>\u001b[0m in \u001b[0;36m<module>\u001b[0;34m\u001b[0m\n\u001b[0;32m----> 1\u001b[0;31m \u001b[0ms1\u001b[0m \u001b[0;34m+\u001b[0m \u001b[0ms\u001b[0m\u001b[0;34m\u001b[0m\u001b[0;34m\u001b[0m\u001b[0m\n\u001b[0m",
            "\u001b[0;31mTypeError\u001b[0m: unsupported operand type(s) for +: 'set' and 'set'"
          ]
        }
      ]
    },
    {
      "cell_type": "code",
      "source": [
        "s*3"
      ],
      "metadata": {
        "colab": {
          "base_uri": "https://localhost:8080/",
          "height": 166
        },
        "id": "zzd_sgqM485o",
        "outputId": "477ac6a4-2623-48e3-96e9-bab9a484b65d"
      },
      "execution_count": null,
      "outputs": [
        {
          "output_type": "error",
          "ename": "TypeError",
          "evalue": "ignored",
          "traceback": [
            "\u001b[0;31m---------------------------------------------------------------------------\u001b[0m",
            "\u001b[0;31mTypeError\u001b[0m                                 Traceback (most recent call last)",
            "\u001b[0;32m<ipython-input-104-b2afc011409f>\u001b[0m in \u001b[0;36m<module>\u001b[0;34m\u001b[0m\n\u001b[0;32m----> 1\u001b[0;31m \u001b[0ms\u001b[0m\u001b[0;34m*\u001b[0m\u001b[0;36m3\u001b[0m\u001b[0;34m\u001b[0m\u001b[0;34m\u001b[0m\u001b[0m\n\u001b[0m",
            "\u001b[0;31mTypeError\u001b[0m: unsupported operand type(s) for *: 'set' and 'int'"
          ]
        }
      ]
    },
    {
      "cell_type": "code",
      "source": [
        "l4 = list(s)"
      ],
      "metadata": {
        "id": "yejgDRtx4_rF"
      },
      "execution_count": null,
      "outputs": []
    },
    {
      "cell_type": "code",
      "source": [
        "l4.append(345)"
      ],
      "metadata": {
        "id": "NbNYrU6h5O8N"
      },
      "execution_count": null,
      "outputs": []
    },
    {
      "cell_type": "code",
      "source": [
        "l4"
      ],
      "metadata": {
        "colab": {
          "base_uri": "https://localhost:8080/"
        },
        "id": "S05a9Kz35R2d",
        "outputId": "3719f5c2-e3bb-4d08-a15b-26f6a878de11"
      },
      "execution_count": null,
      "outputs": [
        {
          "output_type": "execute_result",
          "data": {
            "text/plain": [
              "['wer', 345, 234, 'dcae', 345]"
            ]
          },
          "metadata": {},
          "execution_count": 107
        }
      ]
    },
    {
      "cell_type": "code",
      "source": [
        "t4 = tuple(s)"
      ],
      "metadata": {
        "id": "aLFOpgUw5TTC"
      },
      "execution_count": null,
      "outputs": []
    },
    {
      "cell_type": "code",
      "source": [
        "set(t4)"
      ],
      "metadata": {
        "colab": {
          "base_uri": "https://localhost:8080/"
        },
        "id": "DjjOmJdJ5YmN",
        "outputId": "b18fbc03-8665-4500-c85e-077f3079f04b"
      },
      "execution_count": null,
      "outputs": [
        {
          "output_type": "execute_result",
          "data": {
            "text/plain": [
              "{234, 345, 'dcae', 'wer'}"
            ]
          },
          "metadata": {},
          "execution_count": 109
        }
      ]
    },
    {
      "cell_type": "code",
      "source": [
        "fruits = ['apple','banana','cherry']\n",
        "price = [20,30,40]"
      ],
      "metadata": {
        "id": "tv7PEidzfavT"
      },
      "execution_count": null,
      "outputs": []
    },
    {
      "cell_type": "code",
      "source": [
        "data = {'apple':20,'banana':30 ,'cherry':40}"
      ],
      "metadata": {
        "id": "nrFrx-pzf6CG"
      },
      "execution_count": null,
      "outputs": []
    },
    {
      "cell_type": "code",
      "source": [
        "x = {}"
      ],
      "metadata": {
        "id": "atHT6oy25bj5"
      },
      "execution_count": null,
      "outputs": []
    },
    {
      "cell_type": "code",
      "source": [
        "type(x)"
      ],
      "metadata": {
        "colab": {
          "base_uri": "https://localhost:8080/"
        },
        "id": "V5LX05Mc6g4m",
        "outputId": "e298f081-7fa3-4baf-efed-8ec26a3621d8"
      },
      "execution_count": null,
      "outputs": [
        {
          "output_type": "execute_result",
          "data": {
            "text/plain": [
              "dict"
            ]
          },
          "metadata": {},
          "execution_count": 111
        }
      ]
    },
    {
      "cell_type": "code",
      "source": [
        "x1 = {23,54}"
      ],
      "metadata": {
        "id": "-lfdtv3g6iBz"
      },
      "execution_count": null,
      "outputs": []
    },
    {
      "cell_type": "code",
      "source": [
        "type(x1)"
      ],
      "metadata": {
        "colab": {
          "base_uri": "https://localhost:8080/"
        },
        "id": "6F0wKdOe6lKu",
        "outputId": "2d9efadc-bbb6-4d11-b65e-e028cb6f3d91"
      },
      "execution_count": null,
      "outputs": [
        {
          "output_type": "execute_result",
          "data": {
            "text/plain": [
              "set"
            ]
          },
          "metadata": {},
          "execution_count": 113
        }
      ]
    },
    {
      "cell_type": "code",
      "source": [
        "x = {'name':'siva', 'age': 45}"
      ],
      "metadata": {
        "id": "ZvBIFWkm6mE0"
      },
      "execution_count": null,
      "outputs": []
    },
    {
      "cell_type": "code",
      "source": [
        "x"
      ],
      "metadata": {
        "colab": {
          "base_uri": "https://localhost:8080/"
        },
        "id": "wIlhHP6-7mXn",
        "outputId": "a008110c-9775-461a-a912-a8f8c56aa9d6"
      },
      "execution_count": null,
      "outputs": [
        {
          "output_type": "execute_result",
          "data": {
            "text/plain": [
              "{'name': 'siva', 'age': 45}"
            ]
          },
          "metadata": {},
          "execution_count": 115
        }
      ]
    },
    {
      "cell_type": "code",
      "source": [
        "# write a python programe to count the unique vowels using sets in given string\n",
        "\n",
        "a = 'this is my first class'\n",
        "\n",
        "s = set(a)\n",
        "\n",
        "b = str(s)\n",
        "c = 0\n",
        "\n",
        "\n",
        "for i in b:\n",
        "  if i in ('A','a','E','e','I','i','O','o','U','u'):\n",
        "    c = c+1\n",
        "\n",
        "print(c)"
      ],
      "metadata": {
        "colab": {
          "base_uri": "https://localhost:8080/"
        },
        "id": "xX_Y3TUuv8HY",
        "outputId": "ccad84db-cbb6-4a82-cbc0-76ad3283dbd4"
      },
      "execution_count": null,
      "outputs": [
        {
          "output_type": "stream",
          "name": "stdout",
          "text": [
            "2\n"
          ]
        }
      ]
    },
    {
      "cell_type": "code",
      "source": [
        "a=\"elephant\"\n",
        "b=set()\n",
        "for i in a:\n",
        "  if i in \"aeiou\":\n",
        "    b.add(i)\n",
        "print(b)\n",
        "print(len(b))"
      ],
      "metadata": {
        "colab": {
          "base_uri": "https://localhost:8080/"
        },
        "id": "UVMDnjW3xVmT",
        "outputId": "bcd7b9e5-be01-464d-dd90-4d7f178f821f"
      },
      "execution_count": null,
      "outputs": [
        {
          "output_type": "stream",
          "name": "stdout",
          "text": [
            "{'a', 'e'}\n",
            "2\n"
          ]
        }
      ]
    },
    {
      "cell_type": "code",
      "source": [
        "# {} --> it will be used to determine set and dictionary as well. \n",
        "# If we are giving the data inside the curly brasis in key and value format it wil be dictinary.\n",
        "# other wise it will be set."
      ],
      "metadata": {
        "id": "bDz3RuEGgQzb"
      },
      "execution_count": null,
      "outputs": []
    },
    {
      "cell_type": "markdown",
      "source": [
        "## Disctionary\n",
        "1. unorderd collection means no index in ditnary\n",
        "2.key-value pair\n",
        "3.use to store the data based on some associations\n",
        "4.mutable"
      ],
      "metadata": {
        "id": "vwoAfTKTg18Y"
      }
    },
    {
      "cell_type": "code",
      "source": [
        "x1 = {'name':'siva', 'age': 45, 'name':'durga',True : 'ram', 'key': False,34566:456}"
      ],
      "metadata": {
        "id": "A_KqTlu17nFs"
      },
      "execution_count": null,
      "outputs": []
    },
    {
      "cell_type": "code",
      "source": [
        "x1"
      ],
      "metadata": {
        "colab": {
          "base_uri": "https://localhost:8080/"
        },
        "id": "z2xrr9UB8LWg",
        "outputId": "a31e7f4c-928b-47eb-83be-4ed286e043c1"
      },
      "execution_count": null,
      "outputs": [
        {
          "output_type": "execute_result",
          "data": {
            "text/plain": [
              "{'name': 'durga', 'age': 45, True: 'ram', 'key': False, 34566: 456}"
            ]
          },
          "metadata": {},
          "execution_count": 9
        }
      ]
    },
    {
      "cell_type": "code",
      "source": [
        "x2 = {'name':'siva', 'age': 45, 'name':'durga',True : 'ram', 'key': False,34566:456, % : 'ert'}"
      ],
      "metadata": {
        "colab": {
          "base_uri": "https://localhost:8080/",
          "height": 131
        },
        "id": "rD_fXwil8ZXy",
        "outputId": "ce2ab59a-d7cb-4a56-d773-ac31917a09b7"
      },
      "execution_count": null,
      "outputs": [
        {
          "output_type": "error",
          "ename": "SyntaxError",
          "evalue": "ignored",
          "traceback": [
            "\u001b[0;36m  File \u001b[0;32m\"<ipython-input-10-239422c5aec1>\"\u001b[0;36m, line \u001b[0;32m1\u001b[0m\n\u001b[0;31m    x2 = {'name':'siva', 'age': 45, 'name':'durga',True : 'ram', 'key': False,34566:456, % : 'ert'}\u001b[0m\n\u001b[0m                                                                                         ^\u001b[0m\n\u001b[0;31mSyntaxError\u001b[0m\u001b[0;31m:\u001b[0m invalid syntax\n"
          ]
        }
      ]
    },
    {
      "cell_type": "code",
      "source": [
        "x2 = {'name':'siva', 'age': 45, 'name':'durga', 'key': [3,45,67],34566:(23,56,'dt')}"
      ],
      "metadata": {
        "id": "_UuNv4s-8skj"
      },
      "execution_count": null,
      "outputs": []
    },
    {
      "cell_type": "code",
      "source": [
        "x3 = {'name':'siva', 'age': 45, 'category':{'R':34,\"m\":34,'y':[1,2,3,5]}, 'key': [3,45,67],34566:(23,56,'dt')}"
      ],
      "metadata": {
        "id": "JiN9ilR_9KCB"
      },
      "execution_count": null,
      "outputs": []
    },
    {
      "cell_type": "code",
      "source": [
        "x1"
      ],
      "metadata": {
        "colab": {
          "base_uri": "https://localhost:8080/"
        },
        "id": "g84-r7Y59kV1",
        "outputId": "81704246-2ea2-4fa8-d7fa-902b4a32848b"
      },
      "execution_count": null,
      "outputs": [
        {
          "output_type": "execute_result",
          "data": {
            "text/plain": [
              "{'name': 'durga', 'age': 45, True: 'ram', 'key': False, 34566: 456}"
            ]
          },
          "metadata": {},
          "execution_count": 13
        }
      ]
    },
    {
      "cell_type": "code",
      "source": [
        "# to extract the value 'False' of the 'Key' pair in X1 dictionary.\n",
        "x1['key']"
      ],
      "metadata": {
        "colab": {
          "base_uri": "https://localhost:8080/"
        },
        "id": "lUX3JjLZ-Jtg",
        "outputId": "12795a5e-2514-403b-c4d5-72ebe264fc34"
      },
      "execution_count": null,
      "outputs": [
        {
          "output_type": "execute_result",
          "data": {
            "text/plain": [
              "False"
            ]
          },
          "metadata": {},
          "execution_count": 14
        }
      ]
    },
    {
      "cell_type": "code",
      "source": [
        "l = [2,34,56]"
      ],
      "metadata": {
        "id": "znQxT1bC-S2e"
      },
      "execution_count": null,
      "outputs": []
    },
    {
      "cell_type": "code",
      "source": [
        "l[2]"
      ],
      "metadata": {
        "colab": {
          "base_uri": "https://localhost:8080/"
        },
        "id": "yIFryqky-Ykd",
        "outputId": "67180d50-0cdd-43b5-e62c-c27995cb445d"
      },
      "execution_count": null,
      "outputs": [
        {
          "output_type": "execute_result",
          "data": {
            "text/plain": [
              "56"
            ]
          },
          "metadata": {},
          "execution_count": 16
        }
      ]
    },
    {
      "cell_type": "markdown",
      "source": [
        "## Dictionary Methods :\n",
        "\n",
        "\n",
        "1.Keys() \n",
        "\n",
        "2.values()\n",
        "\n",
        "3.items()\n",
        "\n",
        "4.get()\n",
        "\n",
        "5.pop()\n",
        "\n",
        "6.update()"
      ],
      "metadata": {
        "id": "KmapSqJzj45A"
      }
    },
    {
      "cell_type": "code",
      "source": [
        "x1['age']"
      ],
      "metadata": {
        "colab": {
          "base_uri": "https://localhost:8080/"
        },
        "id": "fPqzydMA-Zh3",
        "outputId": "c3ad7a8c-5847-4ccf-b314-144368bec1b4"
      },
      "execution_count": null,
      "outputs": [
        {
          "output_type": "execute_result",
          "data": {
            "text/plain": [
              "45"
            ]
          },
          "metadata": {},
          "execution_count": 17
        }
      ]
    },
    {
      "cell_type": "code",
      "source": [
        "x2"
      ],
      "metadata": {
        "colab": {
          "base_uri": "https://localhost:8080/"
        },
        "id": "0gfkVLPv-lc6",
        "outputId": "37468d53-0497-42e2-d999-ae4a2c4eb5b4"
      },
      "execution_count": null,
      "outputs": [
        {
          "output_type": "execute_result",
          "data": {
            "text/plain": [
              "{'name': 'durga', 'age': 45, 'key': [3, 45, 67], 34566: (23, 56, 'dt')}"
            ]
          },
          "metadata": {},
          "execution_count": 18
        }
      ]
    },
    {
      "cell_type": "code",
      "source": [
        "x2['key']"
      ],
      "metadata": {
        "colab": {
          "base_uri": "https://localhost:8080/"
        },
        "id": "XwtXtbZB-2lZ",
        "outputId": "8f910984-69d3-47f2-ac1f-75d833d7a482"
      },
      "execution_count": null,
      "outputs": [
        {
          "output_type": "execute_result",
          "data": {
            "text/plain": [
              "[3, 45, 67]"
            ]
          },
          "metadata": {},
          "execution_count": 19
        }
      ]
    },
    {
      "cell_type": "code",
      "source": [
        "x2.get('key')"
      ],
      "metadata": {
        "colab": {
          "base_uri": "https://localhost:8080/"
        },
        "id": "kjYuRDx5kJhY",
        "outputId": "7bac1eb2-5bb3-4638-eede-8c277efb2921"
      },
      "execution_count": null,
      "outputs": [
        {
          "output_type": "execute_result",
          "data": {
            "text/plain": [
              "[3, 45, 67]"
            ]
          },
          "metadata": {},
          "execution_count": 55
        }
      ]
    },
    {
      "cell_type": "code",
      "source": [
        "x2['key'][1]"
      ],
      "metadata": {
        "colab": {
          "base_uri": "https://localhost:8080/"
        },
        "id": "xJMuHVRF-5fD",
        "outputId": "3fa3686c-00b6-4f6f-9e8f-d3bf6f0ebe8c"
      },
      "execution_count": null,
      "outputs": [
        {
          "output_type": "execute_result",
          "data": {
            "text/plain": [
              "45"
            ]
          },
          "metadata": {},
          "execution_count": 20
        }
      ]
    },
    {
      "cell_type": "code",
      "source": [
        "x = {5 : 'wer', 'k4' : [34,45,67]}"
      ],
      "metadata": {
        "id": "ov3g2Wgs-8ES"
      },
      "execution_count": null,
      "outputs": []
    },
    {
      "cell_type": "code",
      "source": [
        "x4 = {'k4': 'ahsdgdv'}"
      ],
      "metadata": {
        "id": "Yfk1MbDc_PPz"
      },
      "execution_count": null,
      "outputs": []
    },
    {
      "cell_type": "code",
      "source": [
        "x=x4"
      ],
      "metadata": {
        "id": "Li6dO7Nx_YFt"
      },
      "execution_count": null,
      "outputs": []
    },
    {
      "cell_type": "code",
      "source": [
        "x"
      ],
      "metadata": {
        "colab": {
          "base_uri": "https://localhost:8080/"
        },
        "id": "car12spE_ZQ3",
        "outputId": "3acf008f-7bad-4eb5-b8d4-ce75be96496f"
      },
      "execution_count": null,
      "outputs": [
        {
          "output_type": "execute_result",
          "data": {
            "text/plain": [
              "{'k4': 'ahsdgdv'}"
            ]
          },
          "metadata": {},
          "execution_count": 24
        }
      ]
    },
    {
      "cell_type": "code",
      "source": [
        "x5 = {'k4' : 'asdf'}"
      ],
      "metadata": {
        "id": "CqDFBiAa_aoP"
      },
      "execution_count": null,
      "outputs": []
    },
    {
      "cell_type": "code",
      "source": [
        "x4 + x5"
      ],
      "metadata": {
        "colab": {
          "base_uri": "https://localhost:8080/",
          "height": 166
        },
        "id": "RMijb_CR_hRt",
        "outputId": "fbd00ae1-6bba-4788-a2b1-ab547cbe4fa0"
      },
      "execution_count": null,
      "outputs": [
        {
          "output_type": "error",
          "ename": "TypeError",
          "evalue": "ignored",
          "traceback": [
            "\u001b[0;31m---------------------------------------------------------------------------\u001b[0m",
            "\u001b[0;31mTypeError\u001b[0m                                 Traceback (most recent call last)",
            "\u001b[0;32m<ipython-input-26-dbeeca08e165>\u001b[0m in \u001b[0;36m<module>\u001b[0;34m\u001b[0m\n\u001b[0;32m----> 1\u001b[0;31m \u001b[0mx4\u001b[0m \u001b[0;34m+\u001b[0m \u001b[0mx5\u001b[0m\u001b[0;34m\u001b[0m\u001b[0;34m\u001b[0m\u001b[0m\n\u001b[0m",
            "\u001b[0;31mTypeError\u001b[0m: unsupported operand type(s) for +: 'dict' and 'dict'"
          ]
        }
      ]
    },
    {
      "cell_type": "code",
      "source": [
        "x = {5 : 'wer', 'k4' : [34,45,67]}"
      ],
      "metadata": {
        "id": "49k6vj2-_iXK"
      },
      "execution_count": null,
      "outputs": []
    },
    {
      "cell_type": "code",
      "source": [
        "x['k4'] "
      ],
      "metadata": {
        "colab": {
          "base_uri": "https://localhost:8080/"
        },
        "id": "cHZe9wBo_tVZ",
        "outputId": "881f6ea6-30fe-48b2-e95f-211f52ff6b5a"
      },
      "execution_count": null,
      "outputs": [
        {
          "output_type": "execute_result",
          "data": {
            "text/plain": [
              "[34, 45, 67]"
            ]
          },
          "metadata": {},
          "execution_count": 28
        }
      ]
    },
    {
      "cell_type": "code",
      "source": [
        "x['k4'] = 345"
      ],
      "metadata": {
        "id": "7JtmJp3z_4Iw"
      },
      "execution_count": null,
      "outputs": []
    },
    {
      "cell_type": "code",
      "source": [
        "x"
      ],
      "metadata": {
        "colab": {
          "base_uri": "https://localhost:8080/"
        },
        "id": "cEEE3KTp_-fM",
        "outputId": "783eb893-0596-4e46-aea5-94aa467f1aa7"
      },
      "execution_count": null,
      "outputs": [
        {
          "output_type": "execute_result",
          "data": {
            "text/plain": [
              "{5: 'wer', 'k4': 345}"
            ]
          },
          "metadata": {},
          "execution_count": 30
        }
      ]
    },
    {
      "cell_type": "code",
      "source": [
        "x[32] = 234\n",
        "\n",
        "# if we write same manner in dictionary, if the key availble in dictioanry then it will update the value of the key.\n",
        "# if the key not availble, the data will be append in that dictioanry\n"
      ],
      "metadata": {
        "id": "FV5ahZt9qiJb"
      },
      "execution_count": null,
      "outputs": []
    },
    {
      "cell_type": "code",
      "source": [
        "x"
      ],
      "metadata": {
        "colab": {
          "base_uri": "https://localhost:8080/"
        },
        "id": "8cNhLW5fqpg8",
        "outputId": "3cb11490-da19-49e7-c738-7f341c67c9f3"
      },
      "execution_count": null,
      "outputs": [
        {
          "output_type": "execute_result",
          "data": {
            "text/plain": [
              "{5: 'wer', 'k4': 345, 32: 234}"
            ]
          },
          "metadata": {},
          "execution_count": 32
        }
      ]
    },
    {
      "cell_type": "code",
      "source": [
        "345 in x"
      ],
      "metadata": {
        "colab": {
          "base_uri": "https://localhost:8080/"
        },
        "id": "8ESLRV7dnfE0",
        "outputId": "2a8a5bdc-5e1e-48f5-99e7-a0038b4847d8"
      },
      "execution_count": null,
      "outputs": [
        {
          "output_type": "execute_result",
          "data": {
            "text/plain": [
              "False"
            ]
          },
          "metadata": {},
          "execution_count": 33
        }
      ]
    },
    {
      "cell_type": "code",
      "source": [
        "x.keys()"
      ],
      "metadata": {
        "colab": {
          "base_uri": "https://localhost:8080/"
        },
        "id": "Si5XtDVx_-2C",
        "outputId": "9f78f005-c72f-47bc-a6f1-276487b94acb"
      },
      "execution_count": null,
      "outputs": [
        {
          "output_type": "execute_result",
          "data": {
            "text/plain": [
              "dict_keys([5, 'k4', 32])"
            ]
          },
          "metadata": {},
          "execution_count": 34
        }
      ]
    },
    {
      "cell_type": "code",
      "source": [
        "5 in x.keys()"
      ],
      "metadata": {
        "colab": {
          "base_uri": "https://localhost:8080/"
        },
        "id": "nsXe6AMTATGI",
        "outputId": "f6aac4dc-c3e3-489f-f5ed-55502d51012c"
      },
      "execution_count": null,
      "outputs": [
        {
          "output_type": "execute_result",
          "data": {
            "text/plain": [
              "True"
            ]
          },
          "metadata": {},
          "execution_count": 35
        }
      ]
    },
    {
      "cell_type": "code",
      "source": [
        "5 in x"
      ],
      "metadata": {
        "colab": {
          "base_uri": "https://localhost:8080/"
        },
        "id": "JESNMOnqjQC6",
        "outputId": "151e930a-31ba-43b7-bfd9-077bcf4f2ffc"
      },
      "execution_count": null,
      "outputs": [
        {
          "output_type": "execute_result",
          "data": {
            "text/plain": [
              "True"
            ]
          },
          "metadata": {},
          "execution_count": 36
        }
      ]
    },
    {
      "cell_type": "code",
      "source": [
        "for i in x :\n",
        "  print(i)"
      ],
      "metadata": {
        "colab": {
          "base_uri": "https://localhost:8080/"
        },
        "id": "5qnbV4txAWmN",
        "outputId": "9e6d8e1c-a899-4b45-95de-43e67265c1ae"
      },
      "execution_count": null,
      "outputs": [
        {
          "output_type": "stream",
          "name": "stdout",
          "text": [
            "5\n",
            "k4\n",
            "32\n"
          ]
        }
      ]
    },
    {
      "cell_type": "code",
      "source": [
        "for i in x.keys():\n",
        "  print (i)"
      ],
      "metadata": {
        "colab": {
          "base_uri": "https://localhost:8080/"
        },
        "id": "jDACvmwoAdYo",
        "outputId": "64066db4-4e16-4aab-b22c-72fe8019daf4"
      },
      "execution_count": null,
      "outputs": [
        {
          "output_type": "stream",
          "name": "stdout",
          "text": [
            "5\n",
            "k4\n",
            "32\n"
          ]
        }
      ]
    },
    {
      "cell_type": "code",
      "source": [
        "for i in x.values():\n",
        "  print (i)"
      ],
      "metadata": {
        "colab": {
          "base_uri": "https://localhost:8080/"
        },
        "id": "nXpN-DiKjZf4",
        "outputId": "424f2f85-cc1e-4c88-ca64-bdd7a1c70eab"
      },
      "execution_count": null,
      "outputs": [
        {
          "output_type": "stream",
          "name": "stdout",
          "text": [
            "wer\n",
            "345\n",
            "234\n"
          ]
        }
      ]
    },
    {
      "cell_type": "code",
      "source": [
        "for i in x.keys():\n",
        "  print (x[i])"
      ],
      "metadata": {
        "colab": {
          "base_uri": "https://localhost:8080/"
        },
        "id": "Lq6mkqmhAvMe",
        "outputId": "34b1d50c-4da0-40fd-aa7f-d3c62d37c0a0"
      },
      "execution_count": null,
      "outputs": [
        {
          "output_type": "stream",
          "name": "stdout",
          "text": [
            "wer\n",
            "345\n",
            "234\n"
          ]
        }
      ]
    },
    {
      "cell_type": "code",
      "source": [
        "x2"
      ],
      "metadata": {
        "colab": {
          "base_uri": "https://localhost:8080/"
        },
        "id": "BTSppx8nA1_0",
        "outputId": "0f421195-4cb4-4de2-edfc-863c609b27fe"
      },
      "execution_count": null,
      "outputs": [
        {
          "output_type": "execute_result",
          "data": {
            "text/plain": [
              "{'name': 'durga', 'age': 45, 'key': [3, 45, 67], 34566: (23, 56, 'dt')}"
            ]
          },
          "metadata": {},
          "execution_count": 42
        }
      ]
    },
    {
      "cell_type": "code",
      "source": [
        "x2.keys()"
      ],
      "metadata": {
        "colab": {
          "base_uri": "https://localhost:8080/"
        },
        "id": "IfRQ1kS3BHNk",
        "outputId": "ad2a63ef-0325-449b-cdc6-51772c2c10ec"
      },
      "execution_count": null,
      "outputs": [
        {
          "output_type": "execute_result",
          "data": {
            "text/plain": [
              "dict_keys(['name', 'age', 'key', 34566])"
            ]
          },
          "metadata": {},
          "execution_count": 43
        }
      ]
    },
    {
      "cell_type": "code",
      "source": [
        "for i in x2 :\n",
        "  print(type(x2[i]))"
      ],
      "metadata": {
        "colab": {
          "base_uri": "https://localhost:8080/"
        },
        "id": "Smcij7HvBKsG",
        "outputId": "16f1654a-902b-42fd-a22d-1d306501196f"
      },
      "execution_count": null,
      "outputs": [
        {
          "output_type": "stream",
          "name": "stdout",
          "text": [
            "<class 'str'>\n",
            "<class 'int'>\n",
            "<class 'list'>\n",
            "<class 'tuple'>\n"
          ]
        }
      ]
    },
    {
      "cell_type": "code",
      "source": [
        "x2"
      ],
      "metadata": {
        "colab": {
          "base_uri": "https://localhost:8080/"
        },
        "id": "wyJ_Ib5YBS2G",
        "outputId": "bf9c1836-8099-48ce-aaa7-a71467520b45"
      },
      "execution_count": null,
      "outputs": [
        {
          "output_type": "execute_result",
          "data": {
            "text/plain": [
              "{'name': 'durga', 'age': 45, 'key': [3, 45, 67], 34566: (23, 56, 'dt')}"
            ]
          },
          "metadata": {},
          "execution_count": 45
        }
      ]
    },
    {
      "cell_type": "code",
      "source": [
        "x2.items()"
      ],
      "metadata": {
        "colab": {
          "base_uri": "https://localhost:8080/"
        },
        "id": "xOddImZZBif4",
        "outputId": "4b57442c-aebc-4d30-988b-66f1864b4efe"
      },
      "execution_count": null,
      "outputs": [
        {
          "output_type": "execute_result",
          "data": {
            "text/plain": [
              "dict_items([('name', 'durga'), ('age', 45), ('key', [3, 45, 67]), (34566, (23, 56, 'dt'))])"
            ]
          },
          "metadata": {},
          "execution_count": 46
        }
      ]
    },
    {
      "cell_type": "code",
      "source": [
        "for i in x2.items():\n",
        "  print(i)"
      ],
      "metadata": {
        "colab": {
          "base_uri": "https://localhost:8080/"
        },
        "id": "UW8mCvayBj0f",
        "outputId": "3877a444-e930-41b0-bd3a-929efce9bc7a"
      },
      "execution_count": null,
      "outputs": [
        {
          "output_type": "stream",
          "name": "stdout",
          "text": [
            "('name', 'durga')\n",
            "('age', 45)\n",
            "('key', [3, 45, 67])\n",
            "(34566, (23, 56, 'dt'))\n"
          ]
        }
      ]
    },
    {
      "cell_type": "code",
      "source": [
        "for i in x2.items() :\n",
        "  print(i[0])"
      ],
      "metadata": {
        "colab": {
          "base_uri": "https://localhost:8080/"
        },
        "id": "TRxsBQLlCFdy",
        "outputId": "21d093c8-707b-4291-fe0f-6daa30710054"
      },
      "execution_count": null,
      "outputs": [
        {
          "output_type": "stream",
          "name": "stdout",
          "text": [
            "name\n",
            "age\n",
            "key\n",
            "34566\n"
          ]
        }
      ]
    },
    {
      "cell_type": "code",
      "source": [
        "for i in x2.items() :\n",
        "  print(i[1])"
      ],
      "metadata": {
        "colab": {
          "base_uri": "https://localhost:8080/"
        },
        "id": "9TYC7EXZCOPg",
        "outputId": "098da2de-6577-464a-9f31-6a76b600e201"
      },
      "execution_count": null,
      "outputs": [
        {
          "output_type": "stream",
          "name": "stdout",
          "text": [
            "durga\n",
            "45\n",
            "[3, 45, 67]\n",
            "(23, 56, 'dt')\n"
          ]
        }
      ]
    },
    {
      "cell_type": "code",
      "source": [
        "x5 = {(23,45,56) : 'sefero'}"
      ],
      "metadata": {
        "id": "n5IrebOSCqAy"
      },
      "execution_count": null,
      "outputs": []
    },
    {
      "cell_type": "code",
      "source": [
        "x5[(23,45,56)]"
      ],
      "metadata": {
        "colab": {
          "base_uri": "https://localhost:8080/",
          "height": 35
        },
        "id": "IiKV4uHkCzxJ",
        "outputId": "2661481d-b348-4896-e93b-cc2b8682c309"
      },
      "execution_count": null,
      "outputs": [
        {
          "output_type": "execute_result",
          "data": {
            "text/plain": [
              "'sefero'"
            ],
            "application/vnd.google.colaboratory.intrinsic+json": {
              "type": "string"
            }
          },
          "metadata": {},
          "execution_count": 51
        }
      ]
    },
    {
      "cell_type": "code",
      "source": [
        "len(x2)"
      ],
      "metadata": {
        "colab": {
          "base_uri": "https://localhost:8080/"
        },
        "id": "S2TUecVmC-Wd",
        "outputId": "ebcaa639-235c-4104-98a6-4c3257487b6c"
      },
      "execution_count": null,
      "outputs": [
        {
          "output_type": "execute_result",
          "data": {
            "text/plain": [
              "4"
            ]
          },
          "metadata": {},
          "execution_count": 52
        }
      ]
    },
    {
      "cell_type": "code",
      "source": [
        "x2"
      ],
      "metadata": {
        "colab": {
          "base_uri": "https://localhost:8080/"
        },
        "id": "mdsxwOPtC_0G",
        "outputId": "e8cf765b-1c4e-4002-b1a2-81445dabbadd"
      },
      "execution_count": null,
      "outputs": [
        {
          "output_type": "execute_result",
          "data": {
            "text/plain": [
              "{'name': 'durga', 'age': 45, 'key': [3, 45, 67], 34566: (23, 56, 'dt')}"
            ]
          },
          "metadata": {},
          "execution_count": 53
        }
      ]
    },
    {
      "cell_type": "code",
      "source": [
        "len(x5)"
      ],
      "metadata": {
        "colab": {
          "base_uri": "https://localhost:8080/"
        },
        "id": "VwYZjWowDBXP",
        "outputId": "bdd10cc8-1858-4023-83b8-08601cc577f3"
      },
      "execution_count": null,
      "outputs": [
        {
          "output_type": "execute_result",
          "data": {
            "text/plain": [
              "1"
            ]
          },
          "metadata": {},
          "execution_count": 54
        }
      ]
    },
    {
      "cell_type": "code",
      "source": [
        "# count the number of occurances of the character in a string  and create  a dictioanry of that.\n",
        "a ='aweafcwe'\n",
        "dt = dict() # empty dictinary\n",
        "\n",
        "for i in a :\n",
        "  if i not in dt:    #aslo we can write dt.keys() instead dt\n",
        "    dt[i] = 1\n",
        "  else :\n",
        "    dt[i] = dt[i]+1\n",
        "\n",
        "print(dt)\n",
        "\n"
      ],
      "metadata": {
        "colab": {
          "base_uri": "https://localhost:8080/"
        },
        "id": "bfmJ3kO5mImH",
        "outputId": "fb11f688-e88f-4cd4-fa4f-1793990aa211"
      },
      "execution_count": null,
      "outputs": [
        {
          "output_type": "stream",
          "name": "stdout",
          "text": [
            "{'a': 2, 'w': 2, 'e': 2, 'f': 1, 'c': 1}\n"
          ]
        }
      ]
    },
    {
      "cell_type": "code",
      "source": [
        "# find the sum of the values in dictionary\n",
        "\n",
        "b = {'a': 2, 'w': 2, 'e': 2, 'f': 1, 'c': 1}\n",
        "c = 0\n",
        "\n",
        "for i in b.values() :\n",
        "  c = c+i\n",
        "\n",
        "print(c)\n"
      ],
      "metadata": {
        "colab": {
          "base_uri": "https://localhost:8080/"
        },
        "id": "JBOO_sripr9j",
        "outputId": "c11ebc2e-9686-4647-b798-8e657673979d"
      },
      "execution_count": null,
      "outputs": [
        {
          "output_type": "stream",
          "name": "stdout",
          "text": [
            "8\n"
          ]
        }
      ]
    },
    {
      "cell_type": "code",
      "source": [
        "# find the count of characters in given string\n",
        "\n",
        "a = input('give the sentence...')\n",
        "d = {}\n",
        "\n",
        "for i in a :\n",
        "  if i in d.keys():\n",
        "    d[i] = d[i] + 1\n",
        "\n",
        "  else :\n",
        "    d[i] = 1\n",
        "\n",
        "print(d)\n"
      ],
      "metadata": {
        "colab": {
          "base_uri": "https://localhost:8080/"
        },
        "id": "e5CFrbY3I_ia",
        "outputId": "658af2c4-3721-40d8-e19d-e53592feb05d"
      },
      "execution_count": null,
      "outputs": [
        {
          "output_type": "stream",
          "name": "stdout",
          "text": [
            "give the sentence...siva dura prasad\n",
            "{'s': 2, 'i': 1, 'v': 1, 'a': 4, ' ': 2, 'd': 2, 'u': 1, 'r': 2, 'p': 1}\n"
          ]
        }
      ]
    },
    {
      "cell_type": "code",
      "source": [
        "# find the duplicate characters in string\n",
        "a = 'siva durga prasad'\n",
        "b = ''\n",
        "\n",
        "for i in a :\n",
        "  if a.count(i) >1 :\n",
        "    if i not in b:\n",
        "      b = b+i\n",
        "\n",
        "print(b)\n",
        "\n",
        "  \n",
        "\n"
      ],
      "metadata": {
        "id": "-EOMd8lCmIZD",
        "colab": {
          "base_uri": "https://localhost:8080/"
        },
        "outputId": "2fbeb2d8-5f22-454a-e62a-7913918246a0"
      },
      "execution_count": null,
      "outputs": [
        {
          "output_type": "stream",
          "name": "stdout",
          "text": [
            "sa dr\n"
          ]
        }
      ]
    },
    {
      "cell_type": "code",
      "source": [
        "# write a programme to input string and display count of all  permutations of string.\n",
        "\n",
        "'''\n",
        "example : \n",
        "input : abc\n",
        "output :6\n",
        "\n",
        "input : eye\n",
        "output: 6\n",
        "\n",
        "input:abbca\n",
        "output :30\n",
        "\n",
        "'''"
      ],
      "metadata": {
        "colab": {
          "base_uri": "https://localhost:8080/",
          "height": 35
        },
        "id": "bo7GmfqeqhIT",
        "outputId": "4f60ac3f-88db-4898-c862-dfb6420ddb7e"
      },
      "execution_count": null,
      "outputs": [
        {
          "output_type": "execute_result",
          "data": {
            "text/plain": [
              "'\\nexample : \\ninput : abc\\noutput :6\\n\\ninput : eye\\noutput: 6\\n\\ninput:abbca\\noutput :30\\n\\n'"
            ],
            "application/vnd.google.colaboratory.intrinsic+json": {
              "type": "string"
            }
          },
          "metadata": {},
          "execution_count": 61
        }
      ]
    },
    {
      "cell_type": "code",
      "source": [
        "'''\n",
        "1) take input paragraph from user as a input \n",
        "2)convert all those into list of words\n",
        "3)remove all the duplicate elments from your list\n",
        "4) use above distinct elements as a key for dictionary and assisgn your name as a value for all the keys\n",
        "5)try to prnt all the tuples of values\n",
        "6)try to print all the list of keys\n",
        "'''"
      ],
      "metadata": {
        "id": "GMsMbdx6DChX"
      },
      "execution_count": null,
      "outputs": []
    },
    {
      "cell_type": "code",
      "source": [
        "a = input('the paragrap is..')\n",
        "\n",
        "b = a.split(' ')\n",
        "print('the string after split into words', b)\n",
        "\n",
        "c= set(b)\n",
        "d = {}\n",
        "\n",
        "for i in c :\n",
        "   d[i] = 'siva'\n",
        "\n",
        "print('the dictinalry is ', d)\n",
        "\n",
        "\n",
        "e =list(d.keys())\n",
        "print('list of dictoanry values', e)\n",
        "\n",
        "f = tuple(d.values())\n",
        "\n",
        "print(f)"
      ],
      "metadata": {
        "id": "b-vX8tUnFNez"
      },
      "execution_count": null,
      "outputs": []
    },
    {
      "cell_type": "code",
      "source": [
        "d = {'comapany': 'ineauron', 'course' :'full stack datascience', 'year' : 2021}\n"
      ],
      "metadata": {
        "id": "rIJqzPMbFYEa"
      },
      "execution_count": null,
      "outputs": []
    },
    {
      "cell_type": "code",
      "source": [
        "for i in d :\n",
        "  print('the key is ', i, 'the value is ', d[i])"
      ],
      "metadata": {
        "id": "pwIGytBUFbKX"
      },
      "execution_count": null,
      "outputs": []
    },
    {
      "cell_type": "code",
      "source": [
        "for i in d :\n",
        "  if  i == 'year' :\n",
        "    if d[i]  > 2021 :\n",
        "      print('this is fine')\n",
        "    else :\n",
        "      d[i] = 2022"
      ],
      "metadata": {
        "id": "whWaSFCnFfGH"
      },
      "execution_count": null,
      "outputs": []
    },
    {
      "cell_type": "code",
      "source": [
        "d"
      ],
      "metadata": {
        "id": "DGbYv1xTKzVX"
      },
      "execution_count": null,
      "outputs": []
    },
    {
      "cell_type": "code",
      "source": [
        "d = {}\n",
        "\n",
        "for i in range(5) :\n",
        "  if i in d:\n",
        "    d[i].append(i*i)\n",
        "  else :\n",
        "    d[i] = i\n",
        "\n",
        "print(d)"
      ],
      "metadata": {
        "id": "F3P8ZV-DKz-k"
      },
      "execution_count": null,
      "outputs": []
    },
    {
      "cell_type": "code",
      "source": [
        "d = {}\n",
        "\n",
        "for i in range(10) :\n",
        "  if i%2 == 0:\n",
        "    d[i] = i*i\n",
        "\n",
        "print(d)"
      ],
      "metadata": {
        "id": "XuO0wfqbLfp_"
      },
      "execution_count": null,
      "outputs": []
    },
    {
      "cell_type": "code",
      "source": [
        "def number(a):\n",
        "  l = []\n",
        "\n",
        "  for i in range(31):\n",
        "    l.append(i**2)\n",
        "\n",
        "  return  l"
      ],
      "metadata": {
        "id": "hpiglENvL2qA"
      },
      "execution_count": null,
      "outputs": []
    },
    {
      "cell_type": "code",
      "source": [
        "number(9)"
      ],
      "metadata": {
        "id": "lhmTbnoNkjP4"
      },
      "execution_count": null,
      "outputs": []
    },
    {
      "cell_type": "code",
      "source": [
        "s = {1,2,3,45,567,68}\n",
        "\n",
        "len(s)\n"
      ],
      "metadata": {
        "id": "GIT8paoCkmut"
      },
      "execution_count": null,
      "outputs": []
    },
    {
      "cell_type": "code",
      "source": [
        "l = list(s)"
      ],
      "metadata": {
        "id": "Us3qVlNbo6Ed"
      },
      "execution_count": null,
      "outputs": []
    },
    {
      "cell_type": "code",
      "source": [
        "l.minimum()"
      ],
      "metadata": {
        "id": "hvu7CJalo8Fp"
      },
      "execution_count": null,
      "outputs": []
    },
    {
      "cell_type": "code",
      "source": [
        "#\"Write a Python script to concatenate following dictionaries to create a new one.\n",
        "#Sample Dictionary :\n",
        "dic1={1:10, 2:20}\n",
        "dic2={3:30, 4:40}\n",
        "dic3={5:50,6:60}\n",
        "#Expected Result : {1: 10, 2: 20, 3: 30, 4: 40, 5: 50, 6: 60}\""
      ],
      "metadata": {
        "id": "NbcSTTRspDW3"
      },
      "execution_count": null,
      "outputs": []
    },
    {
      "cell_type": "code",
      "source": [
        "d ={}\n",
        "\n",
        "for i in (dic1,dic2,dic3) :\n",
        "  d.update(i)\n",
        "\n",
        "print(d)"
      ],
      "metadata": {
        "colab": {
          "base_uri": "https://localhost:8080/"
        },
        "id": "BrSApJ3XqhzF",
        "outputId": "738d4944-e0a1-42a7-f235-dffdbdb9c7a5"
      },
      "execution_count": null,
      "outputs": [
        {
          "output_type": "stream",
          "name": "stdout",
          "text": [
            "{1: 10, 2: 20, 3: 30, 4: 40, 5: 50, 6: 60}\n"
          ]
        }
      ]
    },
    {
      "cell_type": "code",
      "source": [
        "a = 'aefena qeoisd '\n",
        "b = []\n",
        "f = ''\n",
        "for i in a:\n",
        "  b.append(i)\n",
        "\n",
        "c = set(b)\n",
        "d = list(c)\n",
        "\n",
        "for i in c :\n",
        "  f = f+i"
      ],
      "metadata": {
        "id": "_YTIMSelqmln"
      },
      "execution_count": null,
      "outputs": []
    },
    {
      "cell_type": "code",
      "source": [
        "f"
      ],
      "metadata": {
        "id": "sai32VMlCnQE"
      },
      "execution_count": null,
      "outputs": []
    },
    {
      "cell_type": "code",
      "source": [
        "e = str(d)"
      ],
      "metadata": {
        "id": "wAEFSJVsCoD8"
      },
      "execution_count": null,
      "outputs": []
    },
    {
      "cell_type": "code",
      "source": [
        "e"
      ],
      "metadata": {
        "id": "ILA0HGziE3-Q"
      },
      "execution_count": null,
      "outputs": []
    },
    {
      "cell_type": "code",
      "source": [
        "def test1 (*args) :\n",
        "  s = ''\n",
        "  l =\n",
        "  for i in args :\n",
        "    if type(i) == string :\n",
        "      s = s + i"
      ],
      "metadata": {
        "id": "vJVomtaSE46b"
      },
      "execution_count": null,
      "outputs": []
    },
    {
      "cell_type": "code",
      "source": [
        "# write a programme to  create a dictionary where the keys are numbers from 1 to 10 and   values are square of the keys\n",
        "d ={}\n",
        "\n",
        "for i in range(1,11):\n",
        "  d[i] = i**2\n",
        "\n",
        "print(d)\n"
      ],
      "metadata": {
        "colab": {
          "base_uri": "https://localhost:8080/"
        },
        "id": "lNcAAHEm0Iru",
        "outputId": "afb9e972-a4cc-45f5-ac9d-faff95d91f4e"
      },
      "execution_count": null,
      "outputs": [
        {
          "output_type": "stream",
          "name": "stdout",
          "text": [
            "{1: 1, 2: 4, 3: 9, 4: 16, 5: 25, 6: 36, 7: 49, 8: 64, 9: 81, 10: 100}\n"
          ]
        }
      ]
    },
    {
      "cell_type": "code",
      "source": [
        "# write a cummulative list\n",
        "'''sample input = [1,2,3,4,5]\n",
        " sample output = [1,3,6,10,15] '''\n",
        "\n",
        "a = [1,2,3,4,5]\n",
        "b = []\n",
        "\n",
        "for i in range(len(a)):\n",
        "  if i == 0 :\n",
        "    b.append(a[i])\n",
        "  else :\n",
        "    b.append(a[i]+b[i-1])\n",
        "  \n",
        "print(b)"
      ],
      "metadata": {
        "colab": {
          "base_uri": "https://localhost:8080/"
        },
        "id": "jgcZch3c0Ift",
        "outputId": "85833057-6814-4ddc-d77d-4ae2e7105ea1"
      },
      "execution_count": null,
      "outputs": [
        {
          "output_type": "stream",
          "name": "stdout",
          "text": [
            "[1, 3, 6, 10, 15]\n"
          ]
        }
      ]
    },
    {
      "cell_type": "code",
      "source": [
        "#Data encryption"
      ],
      "metadata": {
        "id": "UdBpnDn10-Hr"
      },
      "execution_count": null,
      "outputs": []
    }
  ]
}