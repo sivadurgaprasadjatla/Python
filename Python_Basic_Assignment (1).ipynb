{
  "nbformat": 4,
  "nbformat_minor": 0,
  "metadata": {
    "colab": {
      "provenance": []
    },
    "kernelspec": {
      "name": "python3",
      "display_name": "Python 3"
    },
    "language_info": {
      "name": "python"
    }
  },
  "cells": [
    {
      "cell_type": "code",
      "execution_count": null,
      "metadata": {
        "id": "ESdJLcbLISq1"
      },
      "outputs": [],
      "source": [
        "# Q1. Why do we call Python as a general purpose and high-level programming language?"
      ]
    },
    {
      "cell_type": "markdown",
      "source": [
        "It is simple with an easily readable syntax and that makes it well-loved by both seasoned developers and experimental students.For newcomers and beginners, Python is incredibly easy to learn and use. In fact, it’s one of the most accessible programming languages availableIt provides large standard libraries that include the areas like string operations, Internet, web accommodation implements, operating system interfaces, and protocols. Most of the highly used programming tasks are already scripted into it that constrains the length of the codes to be inscribed in Python."
      ],
      "metadata": {
        "id": "E5G-wJuzIegf"
      }
    },
    {
      "cell_type": "code",
      "source": [
        "# Q2. Why is Python called a dynamically typed language?"
      ],
      "metadata": {
        "id": "ejJeLHeAJpJM"
      },
      "execution_count": null,
      "outputs": []
    },
    {
      "cell_type": "markdown",
      "source": [
        "When we declare a variable in C or alike languages, this sets aside an area of memory for holding values allowed by the data type of the variable. The memory allocated will be interpreted as the data type suggests. If it’s an integer variable the memory allocated will be read as an integer and so on. When we assign or initialize it with some value, that value will get stored at that memory location. At compile time, initial value or assigned value will be checked. So we cannot mix types. Example: initializing a string value to an int variable is not allowed and the program will not compile.\n",
        "\n",
        "But Python is a dynamically typed language. It doesn’t know about the type of the variable until the code is run. So declaration is of no use. What it does is, It stores that value at some memory location and then binds that variable name to that memory container. And makes the contents of the container accessible through that variable name. So the data type does not matter. As it will get to know the type of the value at run-time."
      ],
      "metadata": {
        "id": "E_xIW9-KY3ZZ"
      }
    },
    {
      "cell_type": "code",
      "source": [
        "# Q3. List some pros and cons of Python programming language?"
      ],
      "metadata": {
        "id": "r4or-ukeJvEf"
      },
      "execution_count": null,
      "outputs": []
    },
    {
      "cell_type": "markdown",
      "source": [
        "Pros-\n",
        "\n",
        "* Beginner-friendly\n",
        "* Python has Extensive Libraries\n",
        "* It is highly scalable\n",
        "* Python code is portable accross multiple type of systems\n",
        "* Python has Large Community support\n",
        "\n",
        "\n",
        "Cons-\n",
        "\n",
        "* Python is slower than compiled languages like JAVA or Scala\n",
        "* It has high memory consumption\n",
        "* Python has Complex multithreading ie The multithreading model in Python * does not have threads that run at the same time. where, one thread can hold the GIL at one time\n",
        "* In python, Garbage collection leads to potential memory losses\n"
      ],
      "metadata": {
        "id": "B-lKeO-klnxH"
      }
    },
    {
      "cell_type": "code",
      "source": [
        "# Q4. In what all domains can we use Python?"
      ],
      "metadata": {
        "id": "8F2oKswWJy_D"
      },
      "execution_count": null,
      "outputs": []
    },
    {
      "cell_type": "markdown",
      "source": [
        "- Back end web development\n",
        "- Data Science\n",
        "- Machine Learning\n",
        "- Artificial Intelligence\n",
        "- network and internent development"
      ],
      "metadata": {
        "id": "wOQLaTnIaCei"
      }
    },
    {
      "cell_type": "code",
      "source": [
        "# Q5. What are variable and how can we declare them?"
      ],
      "metadata": {
        "id": "Sstl7WR9J1Mi"
      },
      "execution_count": null,
      "outputs": []
    },
    {
      "cell_type": "markdown",
      "source": [
        "Variable is containers which store values. Python is not “statically typed”. We do not need to declare variables before using them or declare their type. A variable is created the moment we first assign a value to it. A Python variable is a name given to a memory location. It is the basic unit of storage in a program.\n",
        "\n",
        "## Rules for creating variables in Python\n",
        "\n",
        "A variable name must start with a letter or the underscore character.\n",
        "A variable name cannot start with a number.\n",
        "A variable name can only contain alpha-numeric characters and underscores (A-z, 0-9, and _ ).\n",
        "Variable names are case-sensitive (name, Name and NAME are three different variables).\n",
        "The reserved words(keywords) cannot be used naming the variable."
      ],
      "metadata": {
        "id": "gJ6Q4x15a3Fb"
      }
    },
    {
      "cell_type": "code",
      "source": [
        "# Q6. How can we take an input from the user in Python?"
      ],
      "metadata": {
        "id": "yxIUVc3yJ3m0"
      },
      "execution_count": null,
      "outputs": []
    },
    {
      "cell_type": "markdown",
      "source": [
        "Python provides a built-in function called input which takes the input from the user. When the input function is called it stops the program and waits for the user’s input. When the user presses enter, the program resumes and returns what the user typed. "
      ],
      "metadata": {
        "id": "HdHzfjQRbpDF"
      }
    },
    {
      "cell_type": "code",
      "source": [
        "# Q7. What is the default datatype of the value that has been taken as an input using input() function?"
      ],
      "metadata": {
        "id": "btVWy1WtJ7JM"
      },
      "execution_count": null,
      "outputs": []
    },
    {
      "cell_type": "markdown",
      "source": [
        "String"
      ],
      "metadata": {
        "id": "oOSfcvsobrlR"
      }
    },
    {
      "cell_type": "code",
      "source": [
        "# Q8. What is type casting?"
      ],
      "metadata": {
        "id": "5Fe7FKuYJ9b3"
      },
      "execution_count": null,
      "outputs": []
    },
    {
      "cell_type": "markdown",
      "source": [
        "Type Casting is the method to convert the variable data type into a certain data type in order to the operation required to be performed by users\n",
        "\n",
        "\n",
        "# Implicit Type Conversion\n",
        "\n",
        "In this,  methods, Python converts data type into another data type automatically. In this process, users don’t have to involve in this process\n",
        "\n",
        "# Explicit Type Casting\n",
        "\n",
        "In this method, Python need user involvement to convert the variable data type into certain data type in order to the operation required."
      ],
      "metadata": {
        "id": "bho30vwjb6xs"
      }
    },
    {
      "cell_type": "code",
      "source": [
        "# Q9. Can we take more than one input from the user using single input() function? If yes, how? If no, why?"
      ],
      "metadata": {
        "id": "BykRoqhZJ_fY"
      },
      "execution_count": null,
      "outputs": []
    },
    {
      "cell_type": "markdown",
      "source": [
        "In Python user can take multiple values or inputs in one line by two methods.\n",
        "\n",
        "* Using split() method\n",
        "\n",
        "* Using List comprehension\n",
        "\n",
        "* Using split() method\n",
        "\n",
        "taking three inputs at a time\n",
        "\n",
        "total, passed, failed = input(\"Enter three values: \").split()\n",
        "\n",
        "print(\"Total number of students: \", total) print(\"Number of passed students is : \", passed) print(\"Number of failed students is : \", failed)\n",
        "\n",
        "Using List comprehension\n",
        "taking three input at a time\n",
        "\n",
        "x, y, z = [int(x) for x in input(\"Enter three values: \").split()] print(\"First Number is: \", x) print(\"Second Number is: \", y) print(\"Third Number is: \", z) print()"
      ],
      "metadata": {
        "id": "z98SMKFpmdAe"
      }
    },
    {
      "cell_type": "code",
      "source": [
        "# Q10. What are keywords?"
      ],
      "metadata": {
        "id": "WLsY4GFnKBkc"
      },
      "execution_count": null,
      "outputs": []
    },
    {
      "cell_type": "markdown",
      "source": [
        "Keywords in Python are reserved words that can not be used as a variable name, function name, or any other identifier."
      ],
      "metadata": {
        "id": "zynA8LHidWwH"
      }
    },
    {
      "cell_type": "markdown",
      "source": [
        "Key words in Python :\n",
        "\n",
        "and,\tas,\tassert,\tbreak,\n",
        "class,\tcontinue,\tdef\t,del,\n",
        "elif,\telse,\texcept,\tFalse,\n",
        "finally,\tfor\t,from\t,global,\n",
        "if,\timport,\tin,\tis ,\n",
        "lambda,\tNone,\tnonlocal,\tnot,\n",
        "or,\tpass,\traise,\treturn,\n",
        "True,\ttry,\twhile,\twith,\n",
        "yield\t"
      ],
      "metadata": {
        "id": "pm8B5Wqmd-9Y"
      }
    },
    {
      "cell_type": "code",
      "source": [
        "# Q11. Can we use keywords as a variable? Support your answer with reason."
      ],
      "metadata": {
        "id": "gwmQx0mVKDSd"
      },
      "execution_count": null,
      "outputs": []
    },
    {
      "cell_type": "markdown",
      "source": [
        "We cant use keyword as variable because keywords are the reserved words for specific operations . if we try to give the keyword as a variable the output will throw some error"
      ],
      "metadata": {
        "id": "a9PcjmStADUj"
      }
    },
    {
      "cell_type": "code",
      "source": [
        "# Q12. What is indentation? What's the use of indentaion in Python?"
      ],
      "metadata": {
        "id": "x0WgRc1jKFtn"
      },
      "execution_count": null,
      "outputs": []
    },
    {
      "cell_type": "markdown",
      "source": [
        "Indentation refers to the spaces at the beginning of a code line. Where in other programming languages the indentation in code is for readability only, the indentation in Python is very important. Python uses indentation to indicate a block of code.\n",
        "\n",
        "Python will give you an error if you skip the indentation.\n",
        "\n",
        "The number of spaces is up to you as a programmer, but it has to be at least one."
      ],
      "metadata": {
        "id": "dXuM8LoCfcDi"
      }
    },
    {
      "cell_type": "code",
      "source": [
        "# Q13. How can we throw some output in Python?"
      ],
      "metadata": {
        "id": "Lr7R09hMKIJ_"
      },
      "execution_count": null,
      "outputs": []
    },
    {
      "cell_type": "markdown",
      "source": [
        "we can use print function to throw output"
      ],
      "metadata": {
        "id": "QRRGZ6pSAdWc"
      }
    },
    {
      "cell_type": "code",
      "source": [
        "# Q14. What are operators in Python?"
      ],
      "metadata": {
        "id": "WY_d3bcVKKml"
      },
      "execution_count": null,
      "outputs": []
    },
    {
      "cell_type": "markdown",
      "source": [
        "Operators in Python are used to perform a specific operation on variables and values. Python has a lot of operators that are either keywords or special characters. The values or variables on which these operators work are called operands.\n",
        "\n",
        "Types of Operators :\n",
        "\n",
        "Arithmetic Operators\n",
        "\n",
        "Logical Operators\n",
        "\n",
        "Comparison Operators\n",
        "\n",
        "Bitwise Operators\n",
        "\n",
        "Assignment Operators\n",
        "\n",
        "Membership Operators\n",
        "\n",
        "Identity Operators"
      ],
      "metadata": {
        "id": "8zjtFV49tRuo"
      }
    },
    {
      "cell_type": "code",
      "source": [
        "# Q15. What is difference between / and // operators?"
      ],
      "metadata": {
        "id": "4btDgeorKMW2"
      },
      "execution_count": null,
      "outputs": []
    },
    {
      "cell_type": "markdown",
      "source": [
        "In Python 3.x, 5 / 2 will return 2.5 and 5 // 2 will return 2. The former is floating point division, and the latter is floor division, sometimes also called integer division.\n",
        "\n",
        "5.0 // 2 will return 2.0 since that's the floor division result of the operation."
      ],
      "metadata": {
        "id": "-nbfJoh1t2YJ"
      }
    },
    {
      "cell_type": "code",
      "source": [
        "# Q16. Write a code that gives following as an output. Output :- \"iNeuroniNeuroniNeuroniNeuron \"\"\n",
        "\n",
        "print(\"iNeuroniNeuroniNeuroniNeuron \")"
      ],
      "metadata": {
        "id": "6QwWRcfbKOho",
        "colab": {
          "base_uri": "https://localhost:8080/"
        },
        "outputId": "03e97273-4abb-4a19-fcd5-af489fc88ab4"
      },
      "execution_count": null,
      "outputs": [
        {
          "output_type": "stream",
          "name": "stdout",
          "text": [
            "iNeuroniNeuroniNeuroniNeuron \n"
          ]
        }
      ]
    },
    {
      "cell_type": "code",
      "source": [
        "# Q17. Write a code to take a number as an input from the user and check if the number is odd or even.\n",
        "\n",
        "a = int(input('enter a number to check...'))\n",
        "\n",
        "if a % 2 == 0 :\n",
        "  print('its even number')\n",
        "\n",
        "else :\n",
        "  print('its odd number')\n",
        "  "
      ],
      "metadata": {
        "id": "L4j9bP9NKZj2",
        "colab": {
          "base_uri": "https://localhost:8080/"
        },
        "outputId": "fc280c99-a8b9-432e-d0a0-26e83fcd2127"
      },
      "execution_count": null,
      "outputs": [
        {
          "output_type": "stream",
          "name": "stdout",
          "text": [
            "enter a number to check...34\n",
            "its even number\n"
          ]
        }
      ]
    },
    {
      "cell_type": "code",
      "source": [
        "# Q18. What are boolean operator?"
      ],
      "metadata": {
        "id": "mH3VXUklKRFL"
      },
      "execution_count": null,
      "outputs": []
    },
    {
      "cell_type": "markdown",
      "source": [
        "Boolean Operators are simple words (AND, OR, NOT or AND NOT) used as\n",
        "conjunctions to combine or exclude keywords in a search, resulting in more focused and\n",
        "productive results. This should save time and effort by eliminating inappropriate hits that\n",
        "must be scanned before discarding.\n",
        "\n",
        "\n",
        "Using these operators can greatly reduce or expand the amount of records returned.\n",
        "Boolean operators are useful in saving time by focusing searches for more 'on-target'\n",
        "results that are more appropriate to your needs, eliminating unsuitable or inappropriate.\n",
        "Each search engine or database collection uses Boolean operators in a slightly different\n",
        "way or may require the operator be typed in capitals or have special punctuation. The\n",
        "specific phrasing will be found in either the guide to the specific database found in\n",
        "Research Resources or the search engine's help screens. \n",
        "\n",
        "\n",
        "Example : And,or , not / and not"
      ],
      "metadata": {
        "id": "BAcEnmglvPbj"
      }
    },
    {
      "cell_type": "code",
      "source": [
        "# Q19. What will the output of the following? 1 or 0 ,0 and 0, True and False and True, 1 or 0 or 0\n",
        "#Answer :\n",
        "1 or 0  = True\n",
        "0 and 0 = False\n",
        "True and False and True = False\n",
        "1 or 0 or 0 = True\n"
      ],
      "metadata": {
        "id": "208YtEXHKggY"
      },
      "execution_count": null,
      "outputs": []
    },
    {
      "cell_type": "code",
      "source": [
        "1 or 0 or 0 "
      ],
      "metadata": {
        "colab": {
          "base_uri": "https://localhost:8080/"
        },
        "id": "1V4RZ08JwDku",
        "outputId": "377846e6-49c5-48e4-b40f-9346b6f6c51d"
      },
      "execution_count": null,
      "outputs": [
        {
          "output_type": "execute_result",
          "data": {
            "text/plain": [
              "1"
            ]
          },
          "metadata": {},
          "execution_count": 29
        }
      ]
    },
    {
      "cell_type": "code",
      "source": [
        "# Q20. What are conditional statements in Python?"
      ],
      "metadata": {
        "id": "kNvG44-GKi0P"
      },
      "execution_count": null,
      "outputs": []
    },
    {
      "cell_type": "markdown",
      "source": [
        "A conditional statement in python, also called a condition constructs, is a statement that accommodates a condition inside itself. This condition is constructed using the bitwise, boolean, and comparison operators in Python.\n",
        "A conditional statement always generates a boolean output that is either true or false.After generating the output, the statement decides whether to move inside the conditional block or leave it as it is. The code inside the conditional block is executed if and only if the conditional statement returns true"
      ],
      "metadata": {
        "id": "2bSI_Wn6BHOD"
      }
    },
    {
      "cell_type": "code",
      "source": [
        "# Q21. What is use of 'if', 'elif' and 'else' keywords?"
      ],
      "metadata": {
        "id": "fWPO6HqxKxQs"
      },
      "execution_count": null,
      "outputs": []
    },
    {
      "cell_type": "markdown",
      "source": [
        "# IF Condition :\n",
        "If the condition following the keyword if evaluates as true, the block of code will execute. Note that parentheses are not used before and after the condition check as in other languages.\n",
        "if True:\n",
        "  print('If block will execute!')\n",
        "\n",
        "# else Condition :\n",
        "You can optionally add an else response that will execute if the condition is false:\n",
        "\n",
        "#elif Condition :\n",
        "Multiple conditions can be checked by including one or more elif checks after your initial if statement. Just keep in mind that only one condition will execute:"
      ],
      "metadata": {
        "id": "tLwOZVtmxndV"
      }
    },
    {
      "cell_type": "code",
      "source": [
        "# Q22. Write a code to take the age of person as an input and if age >= 18 display \"I can vote\". If age is < 18 display \"I can't vote\".\n",
        "\n",
        "# Answer\n",
        "\n",
        "a = int(input('enter a age of the candidate to check'))\n",
        "\n",
        "if a > 18 :\n",
        "  print('I can Vote') \n",
        "\n",
        "else :\n",
        "  print(\"I can't vote\")"
      ],
      "metadata": {
        "id": "vAwjJxYJK3AJ",
        "colab": {
          "base_uri": "https://localhost:8080/"
        },
        "outputId": "2d5f0cd9-8d08-4a4d-938a-eb8d8af3d934"
      },
      "execution_count": null,
      "outputs": [
        {
          "output_type": "stream",
          "name": "stdout",
          "text": [
            "enter a age of the candidate to check31\n",
            "I can Vote\n"
          ]
        }
      ]
    },
    {
      "cell_type": "code",
      "source": [
        "# Q23. Write a code that displays the sum of all the even numbers from the given list. numbers = [12, 75, 150, 180, 145, 525, 50]\n",
        "\n",
        "# Answer\n",
        "\n",
        "a = [12, 75, 150, 180, 145, 525, 50]\n",
        "b = 0\n",
        "\n",
        "for i in a :\n",
        "  if i % 2 == 0 :\n",
        "    b = b + i\n",
        "\n",
        "print('the sum of even numbers in given list :', b)\n"
      ],
      "metadata": {
        "id": "JMvNmC5fK5e3",
        "colab": {
          "base_uri": "https://localhost:8080/"
        },
        "outputId": "25d26bdb-a9e8-4548-ea62-e7953f0111ea"
      },
      "execution_count": null,
      "outputs": [
        {
          "output_type": "stream",
          "name": "stdout",
          "text": [
            "the sum of even numbers in given list : 392\n"
          ]
        }
      ]
    },
    {
      "cell_type": "code",
      "source": [
        "# Q24. Write a code to take 3 numbers as an input from the user and display the greatest no as output.\n",
        "\n",
        "# Answer\n",
        "\n",
        "l = []\n",
        "\n",
        "for i in range(3):\n",
        "  a = int(input())\n",
        "  l.append(a)\n",
        "\n",
        "\n",
        "print('the maximum number in given numbers ', max(l) )\n",
        "\n"
      ],
      "metadata": {
        "id": "N6kx0E4sK72A",
        "colab": {
          "base_uri": "https://localhost:8080/"
        },
        "outputId": "42796839-82dd-47c5-c136-0d2cb327d25b"
      },
      "execution_count": null,
      "outputs": [
        {
          "output_type": "stream",
          "name": "stdout",
          "text": [
            "1\n",
            "2\n",
            "3\n",
            "the maximum number in given numbers  3\n"
          ]
        }
      ]
    },
    {
      "cell_type": "code",
      "source": [
        "''' Q25. Write a program to display only those numbers from a list that satisfy the following conditions\n",
        "- The number must be divisible by five\n",
        "\n",
        "- If the number is greater than 150, then skip it and move to the next number\n",
        "\n",
        "- If the number is greater than 500, then stop the loop\n",
        "\n",
        "numbers = [12, 75, 150, 180, 145, 525, 50] '''\n",
        "\n",
        "# Answer\n",
        "\n",
        "a = [12, 75, 150, 180, 145, 525, 50]\n",
        "\n",
        "for i in a :\n",
        "  if i > 500 :\n",
        "    break\n",
        "  if i > 150 :\n",
        "    continue\n",
        "  if i % 5 == 0 :\n",
        "    print(i)\n"
      ],
      "metadata": {
        "id": "iOGj9AdaLBCl",
        "colab": {
          "base_uri": "https://localhost:8080/"
        },
        "outputId": "2c18d9a9-14bc-4f6d-e9b7-9f8b62f2bdea"
      },
      "execution_count": null,
      "outputs": [
        {
          "output_type": "stream",
          "name": "stdout",
          "text": [
            "75\n",
            "150\n",
            "145\n"
          ]
        }
      ]
    },
    {
      "cell_type": "code",
      "source": [
        "# Q26. What is a string? How can we declare string in Python?"
      ],
      "metadata": {
        "id": "7R0-nX7FLDXB"
      },
      "execution_count": null,
      "outputs": []
    },
    {
      "cell_type": "markdown",
      "source": [
        "A string (str) in Python is a single character or a collection of characters. When we create a string, this internally converts into a combination of 1s and 0s for the computer to handle. This conversion of string to binary numbers is called encoding and is done using Unicode in Python.\n",
        "\n",
        "In Python, a string can be created by enclosing it with either single or double quotes (‘’ or “”)\n",
        "\n",
        "You cannot use a single quote at one end and a double quote at the other end."
      ],
      "metadata": {
        "id": "BYLIXyXw18wJ"
      }
    },
    {
      "cell_type": "code",
      "source": [
        "# Q27. How can we access the string using its index?"
      ],
      "metadata": {
        "id": "_JGLt8oLLSoO"
      },
      "execution_count": null,
      "outputs": []
    },
    {
      "cell_type": "markdown",
      "source": [
        "Accessing the character or a set of continuous characters in Python:\n",
        "A string is like a list of characters. Any of the characters can be accessed using the index. An important thing to remember is that the indexing starts from 0.\n",
        "\n",
        "## a. Accessing a single character in Python:\n",
        "To access a character we can use the string name followed by the index of that character in the square brackets. We can access from the right side also using negative indexing, where the rightmost character has ‘-1’ as the index.\n",
        "An important note to remember is that a space is also a character in Python.\n",
        "\n",
        "# b. Accessing multiple characters between two indexes :\n",
        "To get a substring from ‘i’th index character to ‘jth’ index character(jth index character excluded), we can give indexing as ‘i:j’. This is called slicing. Here indexing starts from 0!. The values of i and j can be negative.\n",
        "\n",
        "# c. Accessing multiple characters before or after an index:\n",
        "To get all the characters till the ‘ith’ index character (itself excluded), we give ‘ :i’. Similarly, to get all characters from ith character (itself included), we give ‘i:’.\n",
        "\n",
        "# d. Getting an error on wrong indexing:\n",
        "However, if the index exceeds the limit, then we get an error. Here the limit is one less than the length of the string ( number of characters in a string-1)."
      ],
      "metadata": {
        "id": "ZF5j_MaX3AgI"
      }
    },
    {
      "cell_type": "code",
      "source": [
        "# Q28. Write a code to get the desired output of the following ...string = \"Big Data iNeuron\", desired_output = \"iNeuron\"\n",
        "\n",
        "\n",
        "string = \"Big Data iNeuron\"\n",
        "b = 'iNeuron'\n",
        "c = string.find(b)\n",
        "\n",
        "for i in range(c,c+len(b)) :\n",
        "  print(string[i], end = '')"
      ],
      "metadata": {
        "id": "zOkPVef-LVWD",
        "colab": {
          "base_uri": "https://localhost:8080/"
        },
        "outputId": "939eeeee-7c06-482b-fbe9-27088e0120ea"
      },
      "execution_count": null,
      "outputs": [
        {
          "output_type": "stream",
          "name": "stdout",
          "text": [
            "iNeuron"
          ]
        }
      ]
    },
    {
      "cell_type": "code",
      "source": [
        "''' Q29. Write a code to get the desired output of the following\n",
        "\n",
        "string = \"Big Data iNeuron\"\n",
        "desired_output = \"norueNi\"\n",
        "\n",
        "'''\n",
        "\n",
        "a = \"Big Data iNeuron\"\n",
        "b = \"norueNi\"\n",
        "\n",
        "if b in a :\n",
        "  c = a.find(b)\n",
        "  for i in range(c,c+len(b)) :\n",
        "     print(string[i], end = '')\n",
        "\n",
        "\n",
        "if b[::-1] in a :  \n",
        "  d = a.find(b[::-1])\n",
        "  for i in range(d+len(b)-1,d-1,-1) :\n",
        "     print(a[i], end = '')\n"
      ],
      "metadata": {
        "id": "hzGOWtEULXYU",
        "colab": {
          "base_uri": "https://localhost:8080/"
        },
        "outputId": "5caa9eeb-8554-4fd9-c958-029f9b5cd90d"
      },
      "execution_count": null,
      "outputs": [
        {
          "output_type": "stream",
          "name": "stdout",
          "text": [
            "norueNi"
          ]
        }
      ]
    },
    {
      "cell_type": "code",
      "source": [
        "# Q30. Resverse the string given in the above question.\n",
        "\n",
        "# Answer \n",
        "\n",
        "string = \"Big Data iNeuron\"\n",
        "\n",
        "string[::-1]"
      ],
      "metadata": {
        "id": "cPZCS-99LkUq",
        "colab": {
          "base_uri": "https://localhost:8080/",
          "height": 35
        },
        "outputId": "8ebecf74-e7db-4755-fa73-78092eb9009d"
      },
      "execution_count": null,
      "outputs": [
        {
          "output_type": "execute_result",
          "data": {
            "text/plain": [
              "'norueNi ataD giB'"
            ],
            "application/vnd.google.colaboratory.intrinsic+json": {
              "type": "string"
            }
          },
          "metadata": {},
          "execution_count": 69
        }
      ]
    },
    {
      "cell_type": "code",
      "source": [
        "# Q31. How can you delete entire string at once?\n",
        "a = 'stinrg'\n",
        "c = a.format()\n",
        "\n",
        "print(c)"
      ],
      "metadata": {
        "id": "IM7fDJ9lLmkX",
        "colab": {
          "base_uri": "https://localhost:8080/"
        },
        "outputId": "a8da3eac-f2e9-441f-f0f1-cf64026dfd32"
      },
      "execution_count": null,
      "outputs": [
        {
          "output_type": "stream",
          "name": "stdout",
          "text": [
            "stinrg\n"
          ]
        }
      ]
    },
    {
      "cell_type": "code",
      "source": [
        "dir(str)"
      ],
      "metadata": {
        "colab": {
          "base_uri": "https://localhost:8080/"
        },
        "id": "lxm27J7q92ui",
        "outputId": "bbd76101-9e34-47d3-d739-17310664bed0"
      },
      "execution_count": null,
      "outputs": [
        {
          "output_type": "execute_result",
          "data": {
            "text/plain": [
              "['__add__',\n",
              " '__class__',\n",
              " '__contains__',\n",
              " '__delattr__',\n",
              " '__dir__',\n",
              " '__doc__',\n",
              " '__eq__',\n",
              " '__format__',\n",
              " '__ge__',\n",
              " '__getattribute__',\n",
              " '__getitem__',\n",
              " '__getnewargs__',\n",
              " '__gt__',\n",
              " '__hash__',\n",
              " '__init__',\n",
              " '__init_subclass__',\n",
              " '__iter__',\n",
              " '__le__',\n",
              " '__len__',\n",
              " '__lt__',\n",
              " '__mod__',\n",
              " '__mul__',\n",
              " '__ne__',\n",
              " '__new__',\n",
              " '__reduce__',\n",
              " '__reduce_ex__',\n",
              " '__repr__',\n",
              " '__rmod__',\n",
              " '__rmul__',\n",
              " '__setattr__',\n",
              " '__sizeof__',\n",
              " '__str__',\n",
              " '__subclasshook__',\n",
              " 'capitalize',\n",
              " 'casefold',\n",
              " 'center',\n",
              " 'count',\n",
              " 'encode',\n",
              " 'endswith',\n",
              " 'expandtabs',\n",
              " 'find',\n",
              " 'format',\n",
              " 'format_map',\n",
              " 'index',\n",
              " 'isalnum',\n",
              " 'isalpha',\n",
              " 'isascii',\n",
              " 'isdecimal',\n",
              " 'isdigit',\n",
              " 'isidentifier',\n",
              " 'islower',\n",
              " 'isnumeric',\n",
              " 'isprintable',\n",
              " 'isspace',\n",
              " 'istitle',\n",
              " 'isupper',\n",
              " 'join',\n",
              " 'ljust',\n",
              " 'lower',\n",
              " 'lstrip',\n",
              " 'maketrans',\n",
              " 'partition',\n",
              " 'replace',\n",
              " 'rfind',\n",
              " 'rindex',\n",
              " 'rjust',\n",
              " 'rpartition',\n",
              " 'rsplit',\n",
              " 'rstrip',\n",
              " 'split',\n",
              " 'splitlines',\n",
              " 'startswith',\n",
              " 'strip',\n",
              " 'swapcase',\n",
              " 'title',\n",
              " 'translate',\n",
              " 'upper',\n",
              " 'zfill']"
            ]
          },
          "metadata": {},
          "execution_count": 72
        }
      ]
    },
    {
      "cell_type": "code",
      "source": [
        "# Q32. What is escape sequence?"
      ],
      "metadata": {
        "id": "St2URi4WLpkH"
      },
      "execution_count": null,
      "outputs": []
    },
    {
      "cell_type": "markdown",
      "source": [
        "An escape sequence is a special character used in the form of backslash(\\) followed by a character that is required.\n",
        "\n",
        "These characters are used to represent whitespace.\n",
        "\n",
        "Whitespace gives characters like space, tab, formfeed, vertical tab.\n",
        "\n",
        "\\’ - \tThis represents a single quote\n",
        "\n",
        "\\n - \tThis represents a newline\n",
        "\n",
        "\\r This represents a carriage return\n",
        "\n",
        "\\t  -\tThis represents a tab\n",
        "\n",
        "\\b\t- This represents a backspace\n",
        "\n",
        "\\f\t-This represents a formfeed\n",
        "\n",
        "\\ooo -\tThis represents an octal value\n",
        "\n",
        "\\xhh\t - This represents a hex value\n",
        "\n",
        "\\\\\t  - This represents a backslash\n",
        "\n",
        "\\uxxxx -\tThis represents 16 bits hex value\n",
        "\n",
        "\\uxxxxxxxx\t - This represents 32 bits hex value"
      ],
      "metadata": {
        "id": "icpLMoYFR_e_"
      }
    },
    {
      "cell_type": "code",
      "source": [
        "# Q33. How can you print the below string? 'iNeuron's Big Data Course'\n",
        "\n",
        "print(\"iNeuron's Big Data Course\")\n",
        "\n",
        "# we need to use double codes at ends and single code in between string"
      ],
      "metadata": {
        "id": "NPMoy_aiLr8J",
        "colab": {
          "base_uri": "https://localhost:8080/"
        },
        "outputId": "6872a007-5c26-49b6-91a0-603f6bd763a3"
      },
      "execution_count": null,
      "outputs": [
        {
          "output_type": "stream",
          "name": "stdout",
          "text": [
            "iNeuron's Big Data Course\n"
          ]
        }
      ]
    },
    {
      "cell_type": "code",
      "source": [
        "# Q34. What is a list in Python?"
      ],
      "metadata": {
        "id": "ksu_dQ_YLuAt"
      },
      "execution_count": null,
      "outputs": []
    },
    {
      "cell_type": "markdown",
      "source": [
        "Lists are used to store multiple items in a single variable.\n",
        "\n",
        "List is a collection which is ordered and changeable. Allows duplicate members.\n",
        "\n",
        "List items are ordered, changeable, and allow duplicate values.\n",
        "\n",
        "List items are indexed, the first item has index [0], the second item has index [1] etc.\n",
        "\n",
        "list is mutable entity"
      ],
      "metadata": {
        "id": "pt0Nx-BcTPaj"
      }
    },
    {
      "cell_type": "code",
      "source": [
        "# Q35. How can you create a list in Python?"
      ],
      "metadata": {
        "id": "t4z7YdtSL2Mx"
      },
      "execution_count": null,
      "outputs": []
    },
    {
      "cell_type": "markdown",
      "source": [
        "Lists are created using square brackets:\n",
        "thislist = [\"apple\", \"banana\", \"cherry\"]\n",
        "\n",
        "Type casting to list :\n",
        "\n",
        "It is also possible to use the list() constructor when creating a new list.\n",
        "\n",
        "thislist = list((\"apple\", \"banana\", \"cherry\")) # note the double round-brackets\n",
        "print(thislist)"
      ],
      "metadata": {
        "id": "bAuDkbL6TrJj"
      }
    },
    {
      "cell_type": "code",
      "source": [
        "# Q36. How can we access the elements in a list?"
      ],
      "metadata": {
        "id": "9Ba-28IRL4dn"
      },
      "execution_count": null,
      "outputs": []
    },
    {
      "cell_type": "markdown",
      "source": [
        "List items are indexed and you can access them by referring to the index number:\n",
        "\n",
        "Negative indexing : means start from the end\n",
        "\n",
        "-1 refers to the last item, -2 refers to the second last item etc.\n",
        "\n",
        "Range of Indexes :\n",
        "\n",
        "You can specify a range of indexes by specifying where to start and where to end the range.\n",
        "\n",
        "When specifying a range, the return value will be a new list with the specified items.\n",
        "\n",
        "By leaving out the start value, the range will start at the first item:\n",
        "thislist = [\"apple\", \"banana\", \"cherry\", \"orange\", \"kiwi\", \"melon\", \"mango\"]\n",
        "print(thislist[:4])\n",
        "\n",
        "By leaving out the end value, the range will go on to the end of the list:\n",
        "thislist = [\"apple\", \"banana\", \"cherry\", \"orange\", \"kiwi\", \"melon\", \"mango\"]\n",
        "print(thislist[2:])"
      ],
      "metadata": {
        "id": "tyS_AS1mUJcY"
      }
    },
    {
      "cell_type": "code",
      "source": [
        "''' \n",
        "Q37. Write a code to access the word \"iNeuron\" from the given list.\n",
        "lst = [1,2,3,\"Hi\",[45,54, \"iNeuron\"], \"Big Data\"]\n",
        "\n",
        "'''\n",
        "\n",
        "l = [1,2,3,\"Hi\",[45,54, \"iNeuron\"], \"Big Data\"]\n",
        "\n",
        "l[4][2]"
      ],
      "metadata": {
        "id": "5vd4FodbL60a",
        "colab": {
          "base_uri": "https://localhost:8080/",
          "height": 35
        },
        "outputId": "458aabc2-f51d-4a72-b152-9e1ce92f0832"
      },
      "execution_count": null,
      "outputs": [
        {
          "output_type": "execute_result",
          "data": {
            "text/plain": [
              "'iNeuron'"
            ],
            "application/vnd.google.colaboratory.intrinsic+json": {
              "type": "string"
            }
          },
          "metadata": {},
          "execution_count": 1
        }
      ]
    },
    {
      "cell_type": "code",
      "source": [
        "# Q38. Take a list as an input from the user and find the length of the list.\n",
        "\n",
        "a = input()\n",
        "\n",
        "b = a.split(',')\n",
        "\n",
        "print('lenght of the given input',len(b))"
      ],
      "metadata": {
        "id": "wHLTHydBMBzF",
        "colab": {
          "base_uri": "https://localhost:8080/"
        },
        "outputId": "38e86114-9832-4460-8790-4612eae42c83"
      },
      "execution_count": null,
      "outputs": [
        {
          "output_type": "stream",
          "name": "stdout",
          "text": [
            "1,2,3,4,2\n",
            "lenght of the given input 5\n"
          ]
        }
      ]
    },
    {
      "cell_type": "code",
      "source": [
        "lst = [ ]\n",
        "n = int(input(\"Enter number of elements : \"))\n",
        "  \n",
        "for i in range(0, n):\n",
        "    ele = [input(), int(input())]\n",
        "    lst.append(ele)\n",
        "      \n",
        "print(lst)"
      ],
      "metadata": {
        "colab": {
          "base_uri": "https://localhost:8080/"
        },
        "id": "lWYcf8bMV660",
        "outputId": "086ff9e8-25e5-439c-e7c7-c873f92129ee"
      },
      "execution_count": null,
      "outputs": [
        {
          "output_type": "stream",
          "name": "stdout",
          "text": [
            "Enter number of elements : 3\n",
            "1\n",
            "2\n",
            "3\n",
            "4\n",
            "4\n",
            "5\n",
            "[['1', 2], ['3', 4], ['4', 5]]\n"
          ]
        }
      ]
    },
    {
      "cell_type": "code",
      "source": [
        "4\n"
      ],
      "metadata": {
        "id": "E2TuQEkIU48A"
      },
      "execution_count": null,
      "outputs": []
    },
    {
      "cell_type": "code",
      "source": [
        "# Q39. Add the word \"Big\" in the 3rd index of the given list. lst = [\"Welcome\", \"to\", \"Data\", \"course\"]\n",
        "\n",
        "\n",
        "l = [\"Welcome\", \"to\", \"Data\", \"course\"]\n",
        "\n",
        "l.insert(3,\"Big\")\n",
        "\n",
        "print(l)"
      ],
      "metadata": {
        "id": "5_o58kOnME01",
        "colab": {
          "base_uri": "https://localhost:8080/"
        },
        "outputId": "370af50d-f5fb-44bd-95c5-279c6a94f463"
      },
      "execution_count": null,
      "outputs": [
        {
          "output_type": "stream",
          "name": "stdout",
          "text": [
            "['Welcome', 'to', 'Data', 'Big', 'course']\n"
          ]
        }
      ]
    },
    {
      "cell_type": "code",
      "source": [
        "# Q40. What is a tuple? How is it different from list?"
      ],
      "metadata": {
        "id": "IZacUoT9MG_r"
      },
      "execution_count": null,
      "outputs": []
    },
    {
      "cell_type": "markdown",
      "source": [
        "Tuple : its is the one of the data set present in the 4 python data sets.\n",
        "it will denoted by round brackets.\n",
        "\n",
        "![image.png](data:image/png;base64,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)"
      ],
      "metadata": {
        "id": "E5wywWTVZOza"
      }
    },
    {
      "cell_type": "code",
      "source": [
        "# List Vs Tuple (time consuming in iteration)\n",
        "\n",
        "import time\n",
        "l = [\"Welcome\", \"to\", \"Data\", \"course\"]\n",
        "start = time.time_ns()\n",
        "for i in l :\n",
        "  continue\n",
        "end = time.time_ns()\n",
        "\n",
        "print('iteration time for list in nano seconds',end-start)\n",
        "\n",
        "\n",
        "t = (\"Welcome\", \"to\", \"Data\", \"course\")\n",
        "start1 = time.time_ns()\n",
        "for i in t :\n",
        "  continue\n",
        "end1 = time.time_ns()\n",
        "\n",
        "print('iteration time for tuple in nano seconds',end1-start1)"
      ],
      "metadata": {
        "colab": {
          "base_uri": "https://localhost:8080/"
        },
        "id": "kH12H5MYaQXX",
        "outputId": "1c1151c0-5463-432f-97f8-5cd771abbae2"
      },
      "execution_count": null,
      "outputs": [
        {
          "output_type": "stream",
          "name": "stdout",
          "text": [
            "iteration time for list in nano seconds 70478\n",
            "iteration time for tuple in nano seconds 68060\n"
          ]
        }
      ]
    },
    {
      "cell_type": "code",
      "source": [
        "# list vs tuple (memory consuming)\n",
        "\n",
        "\n",
        "import sys\n",
        "\n",
        "l = [\"Welcome\", \"to\", \"Data\", \"course\"]\n",
        "\n",
        "print('memory consumed by list in btes',sys.getsizeof(l) )\n",
        "\n",
        "t = (\"Welcome\", \"to\", \"Data\", \"course\")\n",
        "\n",
        "print('memory located by tuple',sys.getsizeof(t) )"
      ],
      "metadata": {
        "colab": {
          "base_uri": "https://localhost:8080/"
        },
        "id": "7xd3nYDTXiUI",
        "outputId": "07578ead-2de1-4503-b293-49ae8684100c"
      },
      "execution_count": null,
      "outputs": [
        {
          "output_type": "stream",
          "name": "stdout",
          "text": [
            "memory consumed by list in btes 88\n",
            "memory located by tuple 72\n"
          ]
        }
      ]
    },
    {
      "cell_type": "code",
      "source": [
        "# Q41. How can you create a tuple in Python?"
      ],
      "metadata": {
        "id": "tUE7ParMMLgF"
      },
      "execution_count": null,
      "outputs": []
    },
    {
      "cell_type": "markdown",
      "source": [
        "we can create tuple by suing round brackets.\n",
        "\n",
        "Typecasting into tuple :\n",
        "\n",
        "we can convert data set from any other to tuple by sing \"tuple()\" keyword"
      ],
      "metadata": {
        "id": "ZiyNj0gQbnaI"
      }
    },
    {
      "cell_type": "code",
      "source": [
        "# Q42. Create a tuple and try to add your name in the tuple. Are you able to do it? Support your answer with reason."
      ],
      "metadata": {
        "id": "RaLqjE9sMNq0"
      },
      "execution_count": null,
      "outputs": []
    },
    {
      "cell_type": "markdown",
      "source": [
        "as tuples are immutable, we cant do this operation. we need to create list first and then add my name then need to type cast into tuple."
      ],
      "metadata": {
        "id": "ThlgD6VXfL41"
      }
    },
    {
      "cell_type": "code",
      "source": [
        "# Q43. Can two tuple be appended. If yes, write a code for it. If not, why?"
      ],
      "metadata": {
        "id": "a3aOm4EqMQE3"
      },
      "execution_count": null,
      "outputs": []
    },
    {
      "cell_type": "markdown",
      "source": [
        "as tuple is immutable object we cant do append operation in tuple. for that we need to type cast tuple into list."
      ],
      "metadata": {
        "id": "VffPhgERcFy3"
      }
    },
    {
      "cell_type": "code",
      "source": [
        "# Q44. Take a tuple as an input and print the count of elements in it.\n",
        "\n",
        "a = input('enter the values')\n",
        "\n",
        "b = a.split(',')\n",
        "\n",
        "t = tuple(b)\n",
        "\n",
        "print(len(t))"
      ],
      "metadata": {
        "id": "nV0CNFFvMSpZ",
        "colab": {
          "base_uri": "https://localhost:8080/"
        },
        "outputId": "e8057a12-1232-4715-86f6-ebf8b0d4f0a7"
      },
      "execution_count": null,
      "outputs": [
        {
          "output_type": "stream",
          "name": "stdout",
          "text": [
            "enter the values1,2,3,5,23\n",
            "5\n"
          ]
        }
      ]
    },
    {
      "cell_type": "code",
      "source": [
        "# Q45. What are sets in Python?"
      ],
      "metadata": {
        "id": "nkAdRJCKMVuK"
      },
      "execution_count": null,
      "outputs": []
    },
    {
      "cell_type": "markdown",
      "source": [
        "Set is the one of the 4 data sets in python .\n",
        "it was denoted by curly brackets .\n",
        "it will not allow duplicate values."
      ],
      "metadata": {
        "id": "HljwpgIGcivn"
      }
    },
    {
      "cell_type": "code",
      "source": [
        "# Q46. How can you create a set?"
      ],
      "metadata": {
        "id": "yNiktCWFMXv3"
      },
      "execution_count": null,
      "outputs": []
    },
    {
      "cell_type": "markdown",
      "source": [
        "we can create set by using curly brackets. \n",
        "s = {}\n",
        "\n",
        "type casting from other data set to set : we can tyoe cast by using 'set()' key word\n",
        "\n",
        "s1 = set()"
      ],
      "metadata": {
        "id": "kZPIzezRc6ri"
      }
    },
    {
      "cell_type": "code",
      "source": [
        "# Q47. Create a set and add \"iNeuron\" in your set.\n",
        "\n",
        "s = {1,2,3}\n",
        "\n",
        "s.add(\"iNeuron\")\n",
        "\n",
        "print(s)"
      ],
      "metadata": {
        "id": "Dg_PR7WcMaNs",
        "colab": {
          "base_uri": "https://localhost:8080/"
        },
        "outputId": "92ba7341-03dd-4e39-9cde-61826c669010"
      },
      "execution_count": null,
      "outputs": [
        {
          "output_type": "stream",
          "name": "stdout",
          "text": [
            "{1, 2, 3, 'iNeuron'}\n"
          ]
        }
      ]
    },
    {
      "cell_type": "code",
      "source": [
        "# Q48. Try to add multiple values using add() function.\n",
        "\n",
        "s.add(56,343,678,23)\n"
      ],
      "metadata": {
        "id": "SUmABbxdMdXi",
        "colab": {
          "base_uri": "https://localhost:8080/",
          "height": 201
        },
        "outputId": "955f571b-b544-4374-ec2b-d0a4398c3a10"
      },
      "execution_count": null,
      "outputs": [
        {
          "output_type": "error",
          "ename": "TypeError",
          "evalue": "ignored",
          "traceback": [
            "\u001b[0;31m---------------------------------------------------------------------------\u001b[0m",
            "\u001b[0;31mTypeError\u001b[0m                                 Traceback (most recent call last)",
            "\u001b[0;32m<ipython-input-37-0b528104aa77>\u001b[0m in \u001b[0;36m<module>\u001b[0;34m\u001b[0m\n\u001b[1;32m      1\u001b[0m \u001b[0;31m# Q48. Try to add multiple values using add() function.\u001b[0m\u001b[0;34m\u001b[0m\u001b[0;34m\u001b[0m\u001b[0;34m\u001b[0m\u001b[0m\n\u001b[1;32m      2\u001b[0m \u001b[0;34m\u001b[0m\u001b[0m\n\u001b[0;32m----> 3\u001b[0;31m \u001b[0ms\u001b[0m\u001b[0;34m.\u001b[0m\u001b[0madd\u001b[0m\u001b[0;34m(\u001b[0m\u001b[0;36m56\u001b[0m\u001b[0;34m,\u001b[0m\u001b[0;36m343\u001b[0m\u001b[0;34m,\u001b[0m\u001b[0;36m678\u001b[0m\u001b[0;34m,\u001b[0m\u001b[0;36m23\u001b[0m\u001b[0;34m)\u001b[0m\u001b[0;34m\u001b[0m\u001b[0;34m\u001b[0m\u001b[0m\n\u001b[0m",
            "\u001b[0;31mTypeError\u001b[0m: add() takes exactly one argument (4 given)"
          ]
        }
      ]
    },
    {
      "cell_type": "code",
      "source": [
        "s.update((56,343,678,23))"
      ],
      "metadata": {
        "id": "lnFnaF7vhWaB"
      },
      "execution_count": null,
      "outputs": []
    },
    {
      "cell_type": "code",
      "source": [
        "# Q49. How is update() different from add()?"
      ],
      "metadata": {
        "id": "I_BRyELtMfUB"
      },
      "execution_count": null,
      "outputs": []
    },
    {
      "cell_type": "markdown",
      "source": [
        "add adds an element, update \"adds\" another iterable set, list or tuple i.e. multiple elements"
      ],
      "metadata": {
        "id": "dzPmzxeshegt"
      }
    },
    {
      "cell_type": "code",
      "source": [
        "# Q50. What is clear() in sets?\n",
        "\n",
        "#Answer \n",
        "#The clear() method removes all items from the set.\n",
        "\n",
        "s = {1, 2, 23, 3, 343, 56, 678, 'iNeuron'}\n",
        "\n",
        "s.clear()\n",
        "\n",
        "print(s)"
      ],
      "metadata": {
        "id": "2fmb9Yf0MhhV",
        "colab": {
          "base_uri": "https://localhost:8080/"
        },
        "outputId": "1aebee56-6f74-4615-a525-da5790bc95ab"
      },
      "execution_count": null,
      "outputs": [
        {
          "output_type": "stream",
          "name": "stdout",
          "text": [
            "set()\n"
          ]
        }
      ]
    },
    {
      "cell_type": "code",
      "source": [
        "# Q51. What is frozen set?"
      ],
      "metadata": {
        "id": "SDe4x787MjmH"
      },
      "execution_count": null,
      "outputs": []
    },
    {
      "cell_type": "markdown",
      "source": [
        "As the name indicates that its like set but it will freeze the elements.\n",
        "\n",
        "its immutable. so we cant do insertion and deletion of elements from this frozen set"
      ],
      "metadata": {
        "id": "eBc155Lkifr_"
      }
    },
    {
      "cell_type": "code",
      "source": [
        "# Q52. How is frozen set different from set?"
      ],
      "metadata": {
        "id": "6ldOgzTEMl2R"
      },
      "execution_count": null,
      "outputs": []
    },
    {
      "cell_type": "code",
      "source": [
        "# Q53. What is union() in sets? Explain via code.\n",
        "\n",
        "a = {1,2,3,4,5,6,7}\n",
        "b = {3,4,1,6,7,12,34,56}\n",
        "\n",
        "a.union(b)\n",
        "\n",
        "# union wil give the all the elements from both sets without duplicates. "
      ],
      "metadata": {
        "id": "xRXfbxFhMoar",
        "colab": {
          "base_uri": "https://localhost:8080/"
        },
        "outputId": "dfa19311-849f-4563-e728-06abac22225e"
      },
      "execution_count": null,
      "outputs": [
        {
          "output_type": "execute_result",
          "data": {
            "text/plain": [
              "{1, 2, 3, 4, 5, 6, 7, 12, 34, 56}"
            ]
          },
          "metadata": {},
          "execution_count": 43
        }
      ]
    },
    {
      "cell_type": "code",
      "source": [
        "# Q54. What is intersection() in sets? Explain via code.\n",
        "\n",
        "a = {1,2,3,4,5,6,7}\n",
        "b = {3,4,1,6,7,12,34,56}\n",
        "\n",
        "a.intersection(b)\n",
        "\n",
        "# intersection only give the common values in both sets"
      ],
      "metadata": {
        "id": "16Dw5zLEMqr3",
        "colab": {
          "base_uri": "https://localhost:8080/"
        },
        "outputId": "9ae8d4e9-445b-4310-d299-063931b65072"
      },
      "execution_count": null,
      "outputs": [
        {
          "output_type": "execute_result",
          "data": {
            "text/plain": [
              "{1, 3, 4, 6, 7}"
            ]
          },
          "metadata": {},
          "execution_count": 44
        }
      ]
    },
    {
      "cell_type": "code",
      "source": [
        "# Q55. What is dictionary in Python?"
      ],
      "metadata": {
        "id": "4HKKg-KiMs4f"
      },
      "execution_count": null,
      "outputs": []
    },
    {
      "cell_type": "markdown",
      "source": [
        "Dictionary is a map data structure consisting of key-value pairs, with unique set of keys.\n",
        "\n",
        "A dictionary is a collection which is ordered*, changeable and do not allow duplicates.\n",
        "\n",
        "Duplicates are not allowed in keys\n",
        "\n",
        "denoted by curly braces as set but the inside values are in key-value pair"
      ],
      "metadata": {
        "id": "FEly9Q6elqqq"
      }
    },
    {
      "cell_type": "code",
      "source": [
        "# Q56. How is dictionary different from all other data structures."
      ],
      "metadata": {
        "id": "GFv5u_zMMve0"
      },
      "execution_count": null,
      "outputs": []
    },
    {
      "cell_type": "markdown",
      "source": [
        "A dictionary represents the relationship between pair of objects instead of just a set of objects like list, tuple, sets, etc\n",
        "\n",
        "Elements may or may not be stored at a contagious memory location.\n",
        "\n",
        "Items are ordered, changeable, and do not allow duplicates\n",
        "\n",
        "The values in dictionary items can be of any data type\n",
        "To access a value the key is required"
      ],
      "metadata": {
        "id": "TqeEPUlvmogN"
      }
    },
    {
      "cell_type": "code",
      "source": [
        "# Q57. How can we delare a dictionary in Python?"
      ],
      "metadata": {
        "id": "JJjhUpI4MxrW"
      },
      "execution_count": null,
      "outputs": []
    },
    {
      "cell_type": "markdown",
      "source": [
        "A dictionary can be declared using a set of curly braces, {} my_dict = { \"name\" : \"kalpesh\", \"age\" : 25, \"skills\" : [\"Python\", \"scala\", \"bigdata\"] }\n",
        "\n",
        "Another way could be using dict() function\n",
        "\n",
        "my_dict = dict({ \"name\" : \"kalpesh\", \"age\" : 25, \"skills\" : [\"Python\", \"scala\", \"bigdata\"] })"
      ],
      "metadata": {
        "id": "0HkATTQSmd7z"
      }
    },
    {
      "cell_type": "code",
      "source": [
        "''' \n",
        "Q58. What will the output of the following?\n",
        "\n",
        "var = {}\n",
        "print(type(var))\n",
        "\n",
        "'''\n",
        "\n",
        "# Dictionary"
      ],
      "metadata": {
        "id": "4ciEKUyrMzvN"
      },
      "execution_count": null,
      "outputs": []
    },
    {
      "cell_type": "code",
      "source": [
        "# Q59. How can we add an element in a dictionary?\n",
        "\n",
        "# Answer\n",
        "\n",
        "# we can add elemets in dictionary by giving key value pair\n",
        "\n",
        "marks = {'english' :89, 'Hindi' : 90, 'maths': 75}\n",
        "\n",
        "# addding physics subject marks into marks dictionary\n",
        "\n",
        "marks['physics'] = 78\n",
        "\n",
        "print(marks)"
      ],
      "metadata": {
        "id": "1QpAmyUlM46C",
        "colab": {
          "base_uri": "https://localhost:8080/"
        },
        "outputId": "c493f53a-ed27-461b-b1cf-e08ab514d9b2"
      },
      "execution_count": null,
      "outputs": [
        {
          "output_type": "stream",
          "name": "stdout",
          "text": [
            "{'english': 89, 'Hindi': 90, 'maths': 75, 'physics': 78}\n"
          ]
        }
      ]
    },
    {
      "cell_type": "code",
      "source": [
        "# Q60. Create a dictionary and access all the values in that dictionary.\n",
        "marks = {'english': 89, 'Hindi': 90, 'maths': 75, 'physics': 78}\n",
        "\n",
        "marks.values()"
      ],
      "metadata": {
        "id": "D_R6OzO-M7cl",
        "colab": {
          "base_uri": "https://localhost:8080/"
        },
        "outputId": "45c08309-35ee-41cf-a5dc-412b213c96af"
      },
      "execution_count": null,
      "outputs": [
        {
          "output_type": "execute_result",
          "data": {
            "text/plain": [
              "dict_values([89, 90, 75, 78])"
            ]
          },
          "metadata": {},
          "execution_count": 47
        }
      ]
    },
    {
      "cell_type": "code",
      "source": [
        "# Q61. Create a nested dictionary and access all the element in the inner dictionary.\n",
        "\n",
        "marks = {'english': 89, 'Hindi': 90, 'maths': 75, 'physics': 78 , 'chemistry' :{'ram':78,'prasad':87,'kishore':97}}\n",
        "\n",
        "\n",
        "for i in marks.items() :\n",
        "  if i == dict :\n",
        "    print(marks[i].key())"
      ],
      "metadata": {
        "id": "N5rOwnj2M9ZX"
      },
      "execution_count": null,
      "outputs": []
    },
    {
      "cell_type": "code",
      "source": [
        "# Q62. What is the use of get() function?"
      ],
      "metadata": {
        "id": "2v9_PlecNA23"
      },
      "execution_count": null,
      "outputs": []
    },
    {
      "cell_type": "markdown",
      "source": [
        "The get() method returns the value of the item with the specified key.\n",
        "\n",
        "marks = {'english' :89, 'Hindi' : 90, 'maths': 75}\n",
        "\n",
        "marks.get('english') ---> 89"
      ],
      "metadata": {
        "id": "XP0agjBFs6kA"
      }
    },
    {
      "cell_type": "code",
      "source": [
        "# Q63. What is the use of items() function?"
      ],
      "metadata": {
        "id": "yS3jQee3NEPw"
      },
      "execution_count": null,
      "outputs": []
    },
    {
      "cell_type": "code",
      "source": [
        "marks.items()"
      ],
      "metadata": {
        "colab": {
          "base_uri": "https://localhost:8080/"
        },
        "id": "ptT6RyMltuG9",
        "outputId": "559b3303-7307-4ee7-aedd-67ff6e1c3141"
      },
      "execution_count": null,
      "outputs": [
        {
          "output_type": "execute_result",
          "data": {
            "text/plain": [
              "dict_items([('english', 89), ('Hindi', 90), ('maths', 75), ('physics', 78)])"
            ]
          },
          "metadata": {},
          "execution_count": 59
        }
      ]
    },
    {
      "cell_type": "markdown",
      "source": [
        "The items() method returns a view object. The view object contains the key-value pairs of the dictionary, as tuples in a list.\n",
        "\n",
        "marks = {'english' :89, 'Hindi' : 90, 'maths': 75}\n",
        "\n",
        "marks.items() --->dict_items([('english', 89), ('Hindi', 90), ('maths', 75)])"
      ],
      "metadata": {
        "id": "DK8vYF5PtjUU"
      }
    },
    {
      "cell_type": "code",
      "source": [
        "# Q64. What is the use of pop() function?"
      ],
      "metadata": {
        "id": "lPp-iRPENGZY"
      },
      "execution_count": null,
      "outputs": []
    },
    {
      "cell_type": "markdown",
      "source": [
        "pop function removes the elements from data structures based on index or keys\n",
        "\n",
        "Ex; In following code we removed value for \"email\" key from dict2 as well as value at index 4 of a list lst3\n",
        "\n",
        "List& Dictionary- for a list by default the last value in the list is removed if no index is specified, but for dictionary a key has to be specified\n",
        "\n",
        "Set- When pop operation is done on set, it can only remove last value of set, it does not take any index as arguments.\n",
        "\n",
        "Tuple- pop operation on tuple is not supported"
      ],
      "metadata": {
        "id": "W2JEGG5kvBj6"
      }
    },
    {
      "cell_type": "code",
      "source": [
        "# POP from dictionary\n",
        "\n",
        "dict2 = {\n",
        "    \"name\" : \"kalpesh\",\n",
        "    \"age\" : 25,\n",
        "    \"skills\" : [\"Python\", \"scala\", \"bigdata\"],\n",
        "    \"number\" : 12334567890,\n",
        "    \"email\" : \"abc@mail.com\",\n",
        "}\n",
        "\n",
        "dict2.pop(\"email\")\n",
        "\n",
        "for k, v in dict2.items():\n",
        "    print(\"key: \", k, \" value: \", v)\n",
        "    \n",
        "    \n",
        "# pop from list \n",
        "lst3 = [1,2,3,4,5,6]\n",
        "lst3.pop(4)\n",
        "\n",
        "print(lst3)\n",
        "\n",
        "# pop from set\n",
        "set3 = {1,2,3,4,5,6,7}\n",
        "set3.pop()\n",
        "\n",
        "print(set3)\n",
        "\n",
        "# pop from tuple \n",
        "t3 = (3,4,5,6,7,8,9)\n",
        "t3.pop()\n",
        "Q"
      ],
      "metadata": {
        "colab": {
          "base_uri": "https://localhost:8080/",
          "height": 322
        },
        "id": "J5ZQY74Lvj1B",
        "outputId": "997d2a78-25b5-453b-9a52-609d6a32cd3b"
      },
      "execution_count": null,
      "outputs": [
        {
          "output_type": "stream",
          "name": "stdout",
          "text": [
            "key:  name  value:  kalpesh\n",
            "key:  age  value:  25\n",
            "key:  skills  value:  ['Python', 'scala', 'bigdata']\n",
            "key:  number  value:  12334567890\n",
            "[1, 2, 3, 4, 6]\n",
            "{2, 3, 4, 5, 6, 7}\n"
          ]
        },
        {
          "output_type": "error",
          "ename": "AttributeError",
          "evalue": "ignored",
          "traceback": [
            "\u001b[0;31m---------------------------------------------------------------------------\u001b[0m",
            "\u001b[0;31mAttributeError\u001b[0m                            Traceback (most recent call last)",
            "\u001b[0;32m<ipython-input-64-d5c082634fdb>\u001b[0m in \u001b[0;36m<module>\u001b[0;34m\u001b[0m\n\u001b[1;32m     29\u001b[0m \u001b[0;31m# pop from tuple\u001b[0m\u001b[0;34m\u001b[0m\u001b[0;34m\u001b[0m\u001b[0;34m\u001b[0m\u001b[0m\n\u001b[1;32m     30\u001b[0m \u001b[0mt3\u001b[0m \u001b[0;34m=\u001b[0m \u001b[0;34m(\u001b[0m\u001b[0;36m3\u001b[0m\u001b[0;34m,\u001b[0m\u001b[0;36m4\u001b[0m\u001b[0;34m,\u001b[0m\u001b[0;36m5\u001b[0m\u001b[0;34m,\u001b[0m\u001b[0;36m6\u001b[0m\u001b[0;34m,\u001b[0m\u001b[0;36m7\u001b[0m\u001b[0;34m,\u001b[0m\u001b[0;36m8\u001b[0m\u001b[0;34m,\u001b[0m\u001b[0;36m9\u001b[0m\u001b[0;34m)\u001b[0m\u001b[0;34m\u001b[0m\u001b[0;34m\u001b[0m\u001b[0m\n\u001b[0;32m---> 31\u001b[0;31m \u001b[0mt3\u001b[0m\u001b[0;34m.\u001b[0m\u001b[0mpop\u001b[0m\u001b[0;34m(\u001b[0m\u001b[0;34m)\u001b[0m\u001b[0;34m\u001b[0m\u001b[0;34m\u001b[0m\u001b[0m\n\u001b[0m\u001b[1;32m     32\u001b[0m \u001b[0mQ\u001b[0m\u001b[0;34m\u001b[0m\u001b[0;34m\u001b[0m\u001b[0m\n",
            "\u001b[0;31mAttributeError\u001b[0m: 'tuple' object has no attribute 'pop'"
          ]
        }
      ]
    },
    {
      "cell_type": "code",
      "source": [
        "# Q65. What is the use of popitems() function?\n",
        "\n",
        "# Python dictionary popitem() method removes the last inserted key-value pair from the dictionary and returns it as a tuple.\n",
        "\n",
        "d = {1: '001', 2: '010', 3: '011'}\n",
        "\n",
        "poped_item = d.popitem()\n",
        "print(poped_item)\n",
        "print(d)"
      ],
      "metadata": {
        "id": "jIWfJpxsNInO",
        "colab": {
          "base_uri": "https://localhost:8080/"
        },
        "outputId": "db06c556-40e4-41c6-f61b-a74513284270"
      },
      "execution_count": null,
      "outputs": [
        {
          "output_type": "stream",
          "name": "stdout",
          "text": [
            "(3, '011')\n",
            "{1: '001', 2: '010'}\n"
          ]
        }
      ]
    },
    {
      "cell_type": "code",
      "source": [
        "# Q66. What is the use of keys() function?"
      ],
      "metadata": {
        "id": "U2bMGsPJNK7j"
      },
      "execution_count": null,
      "outputs": []
    },
    {
      "cell_type": "markdown",
      "source": [
        "keys() function returns the list of keys in a wrapped format.\n",
        "\n",
        "Ex; d = {1: '001', 2: '010', 3: '011'} print(d.keys())\n",
        "\n",
        "To get this list of keys in proper format, the result has to be typecasted to list print(list(d.keys()))"
      ],
      "metadata": {
        "id": "e1np87LYwNiB"
      }
    },
    {
      "cell_type": "code",
      "source": [
        "d = {1: '001', 2: '010', 3: '011'}\n",
        "\n",
        "print(d.keys())\n",
        "print(list(d.keys()))"
      ],
      "metadata": {
        "colab": {
          "base_uri": "https://localhost:8080/"
        },
        "id": "8bn-IBw1wOwS",
        "outputId": "1745acb6-e228-4d7a-b530-7c9c9a07a45e"
      },
      "execution_count": null,
      "outputs": [
        {
          "output_type": "stream",
          "name": "stdout",
          "text": [
            "dict_keys([1, 2, 3])\n",
            "[1, 2, 3]\n"
          ]
        }
      ]
    },
    {
      "cell_type": "code",
      "source": [
        "# Q67. What is the use of values() function?"
      ],
      "metadata": {
        "id": "tXK7V5chNNLC"
      },
      "execution_count": null,
      "outputs": []
    },
    {
      "cell_type": "markdown",
      "source": [
        "values() function returns the list of values in a wrapped format.\n",
        "\n",
        "Ex; d = {1: '001', 2: '010', 3: '011'} print(d.values())\n",
        "\n",
        "To get this list of values in proper format, the result has to be typecasted to list print(list(d.values()))"
      ],
      "metadata": {
        "id": "Bu8tffwWwU5l"
      }
    },
    {
      "cell_type": "code",
      "source": [
        "d = {1: '001', 2: '010', 3: '011'}\n",
        "print(d.values())\n",
        "\n",
        "print(list(d.values()))"
      ],
      "metadata": {
        "colab": {
          "base_uri": "https://localhost:8080/"
        },
        "id": "jRoj7irNwV6V",
        "outputId": "f0fa4a6f-1718-4ae3-948d-4678a7fe8152"
      },
      "execution_count": null,
      "outputs": [
        {
          "output_type": "stream",
          "name": "stdout",
          "text": [
            "dict_values(['001', '010', '011'])\n",
            "['001', '010', '011']\n"
          ]
        }
      ]
    },
    {
      "cell_type": "code",
      "source": [
        "# Q68. What are loops in Python?"
      ],
      "metadata": {
        "id": "Fzj2diEDNPYs"
      },
      "execution_count": null,
      "outputs": []
    },
    {
      "cell_type": "markdown",
      "source": [
        "loops are the statements that allows us to execute certain statements multiple times based on certain conditions"
      ],
      "metadata": {
        "id": "4oHxF7dawdAV"
      }
    },
    {
      "cell_type": "code",
      "source": [
        "# Q69. How many type of loop are there in Python?"
      ],
      "metadata": {
        "id": "WTBJtpXRNRaH"
      },
      "execution_count": null,
      "outputs": []
    },
    {
      "cell_type": "markdown",
      "source": [
        "There are 2 types of loops in python\n",
        "\n",
        "While loop\n",
        "\n",
        "In python, a while loop is used to execute a block of statements repeatedly until a given condition is satisfied.\n",
        "For loop\n",
        "\n",
        "For loops are used for sequential traversal. For example: traversing a list or string or array etc."
      ],
      "metadata": {
        "id": "g1BLD57gwh3u"
      }
    },
    {
      "cell_type": "code",
      "source": [
        "# Q70. What is the difference between for and while loops?"
      ],
      "metadata": {
        "id": "NTMSyK4ANT-M"
      },
      "execution_count": null,
      "outputs": []
    },
    {
      "cell_type": "markdown",
      "source": [
        "for loop is suitable when the number of iterations are fixed also counter variable get incremented automatically without any increment statement in the loop body.\n",
        "\n",
        "while loop is suitable when only the exit condition is known also counter variable has to be incremented by an increment statement in the loop body."
      ],
      "metadata": {
        "id": "6Cr1ZYlowrlM"
      }
    },
    {
      "cell_type": "code",
      "source": [
        "# Q71. What is the use of continue statement?"
      ],
      "metadata": {
        "id": "Xx1JSE0_NWSC"
      },
      "execution_count": null,
      "outputs": []
    },
    {
      "cell_type": "markdown",
      "source": [
        "Continue Statement skips the execution of the program block from after the continue statement and forces the control to start the next iteration."
      ],
      "metadata": {
        "id": "CfSGqBCowyw5"
      }
    },
    {
      "cell_type": "code",
      "source": [
        "# Q72. What is the use of break statement?"
      ],
      "metadata": {
        "id": "fBwT9uxrNYTB"
      },
      "execution_count": null,
      "outputs": []
    },
    {
      "cell_type": "markdown",
      "source": [
        "break is used to terminate the execution of the loop."
      ],
      "metadata": {
        "id": "xaU_DmZ8w2LE"
      }
    },
    {
      "cell_type": "code",
      "source": [
        "# Q73. What is the use of pass statement?"
      ],
      "metadata": {
        "id": "6x_gJFuBNarB"
      },
      "execution_count": null,
      "outputs": []
    },
    {
      "cell_type": "markdown",
      "source": [
        "The pass statement is a null statement and it does nothing. But the difference between pass and comment is that comment is ignored by the interpreter whereas pass is not ignored."
      ],
      "metadata": {
        "id": "uGNAmDeFw4XJ"
      }
    },
    {
      "cell_type": "code",
      "source": [
        "# Q74. What is the use of range() function?"
      ],
      "metadata": {
        "id": "BUDqK7kmNcw7"
      },
      "execution_count": null,
      "outputs": []
    },
    {
      "cell_type": "markdown",
      "source": [
        "The range() function returns a sequence of numbers, starting from 0 by default, and increments by 1 (by default), and stops before a specified number.\n",
        "\n",
        "range(start, stop, step)"
      ],
      "metadata": {
        "id": "BvsboUmFxD6_"
      }
    },
    {
      "cell_type": "code",
      "source": [
        "# Q75. How can you loop over a dictionary?"
      ],
      "metadata": {
        "id": "vKISo8hsNewD"
      },
      "execution_count": null,
      "outputs": []
    },
    {
      "cell_type": "markdown",
      "source": [
        "You can loop through a dictionary by using a for loop.\n",
        "\n",
        "When looping through a dictionary, the return value are the keys of the dictionary, but there are methods to return the values as well.\n"
      ],
      "metadata": {
        "id": "bYwh_-6ZxhW1"
      }
    },
    {
      "cell_type": "code",
      "source": [
        "dict2 = {\n",
        "    \"name\" : \"kalpesh\",\n",
        "    \"age\" : 25,\n",
        "    \"skills\" : [\"Python\", \"scala\", \"bigdata\"],\n",
        "    \"number\" : 12334567890,\n",
        "    \"email\" : \"abc@mail.com\",\n",
        "    \"experience\" : {\n",
        "        \"internship\" : \"PQR\",\n",
        "        \"YOE\" : 4.5,\n",
        "        \"company\" : \"ABC\"\n",
        "    }\n",
        "}\n",
        "\n",
        "# Using keys() function\n",
        "print(\"Using keys() function\")\n",
        "for key in list(dict2.keys()):\n",
        "    print(\"Key: \", key, \" value: \", dict2[key])\n",
        "\n",
        "\n",
        "# Using items() function\n",
        "print(\"\\nUsing items() function\")\n",
        "for k, v in dict2.items():\n",
        "    print(\"key: \", k, \" value: \", v)"
      ],
      "metadata": {
        "colab": {
          "base_uri": "https://localhost:8080/"
        },
        "id": "RKZWwFJAxt-H",
        "outputId": "365252d5-8ecd-4008-b21c-386c9ff1c450"
      },
      "execution_count": null,
      "outputs": [
        {
          "output_type": "stream",
          "name": "stdout",
          "text": [
            "Using keys() function\n",
            "Key:  name  value:  kalpesh\n",
            "Key:  age  value:  25\n",
            "Key:  skills  value:  ['Python', 'scala', 'bigdata']\n",
            "Key:  number  value:  12334567890\n",
            "Key:  email  value:  abc@mail.com\n",
            "Key:  experience  value:  {'internship': 'PQR', 'YOE': 4.5, 'company': 'ABC'}\n",
            "\n",
            "Using items() function\n",
            "key:  name  value:  kalpesh\n",
            "key:  age  value:  25\n",
            "key:  skills  value:  ['Python', 'scala', 'bigdata']\n",
            "key:  number  value:  12334567890\n",
            "key:  email  value:  abc@mail.com\n",
            "key:  experience  value:  {'internship': 'PQR', 'YOE': 4.5, 'company': 'ABC'}\n"
          ]
        }
      ]
    },
    {
      "cell_type": "code",
      "source": [
        "# Q76. Write a Python program to find the factorial of a given number.\n",
        "\n",
        "a = int(input('give a number to find the factorial'))\n",
        "\n",
        "b = 1\n",
        "c = 1\n",
        "while b <= a :\n",
        "  c = c *b\n",
        "  b = b+1\n",
        "  \n",
        "\n",
        "print (c)"
      ],
      "metadata": {
        "colab": {
          "base_uri": "https://localhost:8080/"
        },
        "id": "notgFx9CNhw-",
        "outputId": "a8693d73-40fe-435a-e33d-572c8b77377b"
      },
      "execution_count": null,
      "outputs": [
        {
          "output_type": "stream",
          "name": "stdout",
          "text": [
            "give a number to find the factorial5\n",
            "120\n"
          ]
        }
      ]
    },
    {
      "cell_type": "code",
      "source": [
        "# Q77. Write a Python program to calculate the simple interest. Formula to calculate simple interest is SI = (P*R*T)/100\n",
        "\n",
        "p = int(input('enter a value'))\n",
        "r = int(input('enter a value'))\n",
        "t = int(input('enter a value'))\n",
        "\n",
        "simple_intrest = (p*r*t) / 100\n",
        "\n",
        "print(simple_intrest)\n",
        "\n"
      ],
      "metadata": {
        "colab": {
          "base_uri": "https://localhost:8080/"
        },
        "id": "v-bgJ-kZNkDP",
        "outputId": "9343d2bc-a5bc-4177-96ef-b270b1ba5e3e"
      },
      "execution_count": null,
      "outputs": [
        {
          "output_type": "stream",
          "name": "stdout",
          "text": [
            "enter a value100\n",
            "enter a value10\n",
            "enter a value2\n",
            "20.0\n"
          ]
        }
      ]
    },
    {
      "cell_type": "code",
      "source": [
        "# Q78. Write a Python program to calculate the compound interest. Formula of compound interest is A = P(1+ R/100)^t.\n",
        "p = int(input('enter a principle amount'))\n",
        "r = float(input('enter a rate of intrest value'))\n",
        "t = int(input('enter a time '))\n",
        "\n",
        "a = (p*(1+r/100)**t)\n",
        "\n",
        "print(a)"
      ],
      "metadata": {
        "colab": {
          "base_uri": "https://localhost:8080/"
        },
        "id": "EV8LOwqiNmtK",
        "outputId": "c33512c4-8c16-4952-d507-91a1f13ba26c"
      },
      "execution_count": null,
      "outputs": [
        {
          "output_type": "stream",
          "name": "stdout",
          "text": [
            "enter a principle amount1200\n",
            "enter a rate of intrest value5.4\n",
            "enter a time 2\n",
            "1333.0992\n"
          ]
        }
      ]
    },
    {
      "cell_type": "code",
      "source": [
        "# Q79. Write a Python program to check if a number is prime or not.\n",
        "\n",
        "a = int(input('enter a number to check'))\n",
        "\n",
        "for i in range(2,a):\n",
        "  if a%i == 0 :\n",
        "    print('its not prime')\n",
        "    break\n",
        "\n",
        "else :\n",
        "  print('its prime')"
      ],
      "metadata": {
        "colab": {
          "base_uri": "https://localhost:8080/"
        },
        "id": "2fnT16jCNo2L",
        "outputId": "cbeb572a-dbf9-4752-de62-61d3244effd5"
      },
      "execution_count": null,
      "outputs": [
        {
          "output_type": "stream",
          "name": "stdout",
          "text": [
            "enter a number to check23\n",
            "its prime\n"
          ]
        }
      ]
    },
    {
      "cell_type": "code",
      "source": [
        "a = int(input('enter a number'))\n",
        "b = 2\n",
        "while b < a:\n",
        "  \n",
        "  if a%b == 0 :\n",
        "    print('its not prime')\n",
        "    break\n",
        "  b = b+1\n",
        "\n",
        "else :\n",
        "  print('its prime')\n",
        "\n",
        "  \n"
      ],
      "metadata": {
        "colab": {
          "base_uri": "https://localhost:8080/"
        },
        "id": "-zLenhewVGqq",
        "outputId": "28531366-0e59-45a7-d058-70f96c50869c"
      },
      "execution_count": null,
      "outputs": [
        {
          "output_type": "stream",
          "name": "stdout",
          "text": [
            "enter a number7\n",
            "its prime\n"
          ]
        }
      ]
    },
    {
      "cell_type": "code",
      "source": [
        "# Q80. Write a Python program to check Armstrong Number.\n",
        "\n",
        "a = int(input('enter a number'))\n",
        "\n",
        "b = str(a)\n",
        "\n",
        "c = len(b)\n",
        "d = []\n",
        "for i in b :\n",
        "  d.append(int(i)**c)\n",
        "\n",
        "if a == sum(d) :\n",
        "  print('its a armstrong number')\n",
        "\n",
        "else :\n",
        "  print('its not armstrong number')"
      ],
      "metadata": {
        "colab": {
          "base_uri": "https://localhost:8080/"
        },
        "id": "G-Te7f3cNrNw",
        "outputId": "bf78e6fd-18ec-4afa-d707-e61ccb6efbcd"
      },
      "execution_count": null,
      "outputs": [
        {
          "output_type": "stream",
          "name": "stdout",
          "text": [
            "enter a number23\n",
            "its not armstrong number\n"
          ]
        }
      ]
    },
    {
      "cell_type": "code",
      "source": [
        "# Q81. Write a Python program to find the n-th Fibonacci Number.\n",
        "\n",
        "a = int(input('the number'))\n",
        "\n",
        "b = []\n",
        "\n",
        "c = 1\n",
        "d = 1\n",
        "\n",
        "for i in range(a):\n",
        "  b.append(c)\n",
        "  c,d = d, d+c\n",
        "\n",
        "print(b[a-1])\n",
        "\n"
      ],
      "metadata": {
        "colab": {
          "base_uri": "https://localhost:8080/"
        },
        "id": "glYIcUCWNtW5",
        "outputId": "555edb83-035b-409e-aece-c4290af8f69e"
      },
      "execution_count": null,
      "outputs": [
        {
          "output_type": "stream",
          "name": "stdout",
          "text": [
            "the number5\n",
            "5\n"
          ]
        }
      ]
    },
    {
      "cell_type": "code",
      "source": [
        "# Q82. Write a Python program to interchange the first and last element in a list.\n",
        "\n",
        "l = [1,2,3,4,5,6,7,8]\n",
        "\n",
        "b = len(l)\n",
        "\n",
        "a = l[0]\n",
        "c = l[b-1]\n",
        "l[b-1] = a\n",
        "l[0] = c\n",
        "\n",
        "print(l)\n",
        "\n",
        "\n",
        "\n"
      ],
      "metadata": {
        "id": "55VQGF9mNwNt",
        "colab": {
          "base_uri": "https://localhost:8080/"
        },
        "outputId": "11a7a723-4050-4b85-c36e-fe28f1b26cb0"
      },
      "execution_count": null,
      "outputs": [
        {
          "output_type": "stream",
          "name": "stdout",
          "text": [
            "[8, 2, 3, 4, 5, 6, 7, 1]\n"
          ]
        }
      ]
    },
    {
      "cell_type": "code",
      "source": [
        "# Q82. Write a Python program to interchange the first and last element in a list.\n",
        "\n",
        "l = [1,2,3,4,5,6,7,8]\n",
        "\n",
        "b = len(l)\n",
        "\n",
        "a = l[0]\n",
        "l[0] = l[b-1]\n",
        "l[b-1] = a\n",
        "\n",
        "\n",
        "print(l)"
      ],
      "metadata": {
        "colab": {
          "base_uri": "https://localhost:8080/"
        },
        "id": "8QzoW6wouVWu",
        "outputId": "609afd6f-ee1e-4966-b5ad-9ed331f96360"
      },
      "execution_count": null,
      "outputs": [
        {
          "output_type": "stream",
          "name": "stdout",
          "text": [
            "[8, 2, 3, 4, 5, 6, 7, 1]\n"
          ]
        }
      ]
    },
    {
      "cell_type": "code",
      "source": [
        "# Q83. Write a Python program to swap two elements in a list."
      ],
      "metadata": {
        "id": "R1aR__pEN09e"
      },
      "execution_count": null,
      "outputs": []
    },
    {
      "cell_type": "code",
      "source": [
        "# Q84. Write a Python program to find N largest element from a list.\n",
        "\n",
        "l = [2,1,324,451,34,65]\n",
        "\n",
        "\n",
        "a = int(input('give us the nth value to find the max..'))\n",
        "\n",
        "l.sort(reverse = True)\n",
        "\n",
        "l.insert(0, 0)\n",
        "\n",
        "print(l)\n",
        "\n",
        "print(l[a])"
      ],
      "metadata": {
        "id": "pamzzhWUN4JN",
        "colab": {
          "base_uri": "https://localhost:8080/"
        },
        "outputId": "e1ff7989-8537-402a-cafd-084189f5cfc0"
      },
      "execution_count": null,
      "outputs": [
        {
          "output_type": "stream",
          "name": "stdout",
          "text": [
            "[2, 1, 324, 451, 34, 65]\n",
            "give us the nth value to find the max..1\n",
            "[0, 451, 324, 65, 34, 2, 1]\n",
            "451\n"
          ]
        }
      ]
    },
    {
      "cell_type": "code",
      "source": [
        "# Q85. Write a Python program to find cumulative sum of a list.\n",
        "\n",
        "l = [1,24,1,13,12,34,133,423]\n",
        "a = 0\n",
        "\n",
        "for i in l:\n",
        "  a = a + i\n",
        "\n",
        "print(a)\n"
      ],
      "metadata": {
        "id": "19bNNRnQN7zp",
        "colab": {
          "base_uri": "https://localhost:8080/"
        },
        "outputId": "739d8fc4-493b-4309-91ae-1c15ccbd359d"
      },
      "execution_count": null,
      "outputs": [
        {
          "output_type": "stream",
          "name": "stdout",
          "text": [
            "641\n"
          ]
        }
      ]
    },
    {
      "cell_type": "code",
      "source": [
        "# Q86. Write a Python program to check if a string is palindrome or not.\n",
        "\n",
        "a = input('enter the word to find pelindrome..')\n",
        "\n",
        "if a == a[::-1]:\n",
        "  print('its pelindrome')\n",
        "else :\n",
        "  print('its not a pelindrome')"
      ],
      "metadata": {
        "id": "XAKe2B5kN-rr",
        "colab": {
          "base_uri": "https://localhost:8080/"
        },
        "outputId": "9e8313c7-f4b4-4584-f4fa-5736fdfa908f"
      },
      "execution_count": null,
      "outputs": [
        {
          "output_type": "stream",
          "name": "stdout",
          "text": [
            "enter the word to find pelindrome..ram\n",
            "its not a pelindrome\n"
          ]
        }
      ]
    },
    {
      "cell_type": "code",
      "source": [
        "# Q87. Write a Python program to remove i'th element from a string.\n",
        "c = int(input('enter a index number to delete'))\n",
        "a = 'durgaprasad'\n",
        "b = list(a)\n",
        "d = ''\n",
        "\n",
        "for i in range(len(b)) :\n",
        "  if i == c:\n",
        "    b.remove(b[i])\n",
        "\n",
        "for i in b:\n",
        "  d = d + i\n",
        "\n",
        "\n",
        "print(d)\n"
      ],
      "metadata": {
        "id": "mw36o7QxOA8J",
        "colab": {
          "base_uri": "https://localhost:8080/"
        },
        "outputId": "3f2ae13f-bc7f-4bad-d93c-d9c9530b2870"
      },
      "execution_count": null,
      "outputs": [
        {
          "output_type": "stream",
          "name": "stdout",
          "text": [
            "enter a index number to delete1\n",
            "drgaprasad\n"
          ]
        }
      ]
    },
    {
      "cell_type": "code",
      "source": [
        "# Q88. Write a Python program to check if a substring is present in a given string.\n",
        "\n",
        "a = 'i am manoj kumar ravat'\n",
        "b = 'kumar'\n",
        "c = a.find(b)\n",
        "\n",
        "if c >= 0 :\n",
        "  print('yes')\n",
        "else :\n",
        "  print('No')\n",
        "\n"
      ],
      "metadata": {
        "id": "A6NMbVs7OC3V",
        "colab": {
          "base_uri": "https://localhost:8080/"
        },
        "outputId": "854e0703-f704-4568-f045-04794f7040e9"
      },
      "execution_count": null,
      "outputs": [
        {
          "output_type": "stream",
          "name": "stdout",
          "text": [
            "yes\n"
          ]
        }
      ]
    },
    {
      "cell_type": "code",
      "source": [
        "# Q89. Write a Python program to find words which are greater than given length k.\n",
        "a = 'this is my first python programme and i would like to master in the python programming langauge'\n",
        "b = 4\n",
        "c = a.split()\n",
        "\n",
        "for i in c :\n",
        "  if len(i) >= b :\n",
        "    print(i)"
      ],
      "metadata": {
        "id": "BrUV90M6OF_N",
        "colab": {
          "base_uri": "https://localhost:8080/"
        },
        "outputId": "75cd07ec-5331-4db2-8f10-fc336886bb9d"
      },
      "execution_count": null,
      "outputs": [
        {
          "output_type": "stream",
          "name": "stdout",
          "text": [
            "this\n",
            "first\n",
            "python\n",
            "programme\n",
            "would\n",
            "like\n",
            "master\n",
            "python\n",
            "programming\n",
            "langauge\n"
          ]
        }
      ]
    },
    {
      "cell_type": "code",
      "source": [
        "# Q90. Write a Python program to extract unquire dictionary values.\n",
        "\n",
        "a = {'hi' : [5,3,8, 0],'there' : [22, 51, 63, 77],'how' : [7, 0, 22],'are' : [12, 11, 45],'you' : [56, 31, 89, 90]}\n",
        "l = []\n",
        "m = []\n",
        "\n",
        "for i in a.values() :\n",
        "  l.append(i)\n",
        "\n",
        "for i in l :\n",
        "  if type(i) == list:\n",
        "    for j in i :\n",
        "      m.append(j)\n",
        "  else :\n",
        "    m.append(i)\n",
        "\n",
        "n = set(m)\n",
        "o = list(n)\n",
        "o.sort()\n",
        "print(o)\n"
      ],
      "metadata": {
        "id": "9g_Heg1bOIFX",
        "colab": {
          "base_uri": "https://localhost:8080/"
        },
        "outputId": "a688120b-c0d6-4d8b-b8f6-b92d065a3e89"
      },
      "execution_count": null,
      "outputs": [
        {
          "output_type": "stream",
          "name": "stdout",
          "text": [
            "[0, 3, 5, 7, 8, 11, 12, 22, 31, 45, 51, 56, 63, 77, 89, 90]\n",
            "[[5, 3, 8, 0], [22, 51, 63, 77], [7, 0, 22], [12, 11, 45], [56, 31, 89, 90]]\n"
          ]
        }
      ]
    },
    {
      "cell_type": "code",
      "source": [
        "for i in l :\n",
        "  if type(i) == list:\n",
        "    for j in i :\n",
        "      m.append(j)\n",
        "  else :\n",
        "    m.append(i)\n",
        "print(m)"
      ],
      "metadata": {
        "colab": {
          "base_uri": "https://localhost:8080/"
        },
        "id": "LG2HDWLTd4hI",
        "outputId": "c1885274-4695-4b8d-b42f-3b44f867f470"
      },
      "execution_count": null,
      "outputs": [
        {
          "output_type": "stream",
          "name": "stdout",
          "text": [
            "[5, 3, 8, 0, 22, 51, 63, 77, 7, 0, 22, 12, 11, 45, 56, 31, 89, 90]\n"
          ]
        }
      ]
    },
    {
      "cell_type": "code",
      "source": [
        "# Q91. Write a Python program to merge two dictionary.\n",
        "\n",
        "a = {'x' : 2, 'y' :3}\n",
        "b = {'c' : 4, 'd' :5}\n",
        "\n",
        "a.update(b)\n",
        "\n",
        "print(a)"
      ],
      "metadata": {
        "id": "hEu-pj0JOKwj",
        "colab": {
          "base_uri": "https://localhost:8080/"
        },
        "outputId": "38ce06e1-4566-45c9-c880-f933b00b1c76"
      },
      "execution_count": null,
      "outputs": [
        {
          "output_type": "stream",
          "name": "stdout",
          "text": [
            "{'x': 2, 'y': 3, 'c': 4, 'd': 5}\n"
          ]
        }
      ]
    },
    {
      "cell_type": "code",
      "source": [
        "# Q92. Write a Python program to convert a list of tuples into dictionary.\n",
        "\n",
        "input = [('Sachin', 10), ('MSD', 7), ('Kohli', 18), ('Rohit', 45)]\n",
        "Output = {'Sachin': 10, 'MSD': 7, 'Kohli': 18, 'Rohit': 45}\n",
        "\n",
        "a = dict(input)\n",
        "\n",
        "print(a)\n",
        "\n"
      ],
      "metadata": {
        "id": "GAX0uvKVONIn",
        "colab": {
          "base_uri": "https://localhost:8080/"
        },
        "outputId": "95b07df6-3e4c-4eaf-b755-aa08ba97f104"
      },
      "execution_count": null,
      "outputs": [
        {
          "output_type": "stream",
          "name": "stdout",
          "text": [
            "{'Sachin': 10, 'MSD': 7, 'Kohli': 18, 'Rohit': 45}\n"
          ]
        }
      ]
    },
    {
      "cell_type": "code",
      "source": [
        "'''\n",
        "Q93. Write a Python program to create a list of tuples from given list having number and its cube in each tuple.\n",
        "\n",
        "Input: list = [9, 5, 6]\n",
        "Output: [(9, 729), (5, 125), (6, 216)]\n",
        "'''\n",
        "\n",
        "a = [9,5,2]\n",
        "b = []\n",
        "\n",
        "for i in range(len(a)) :\n",
        "  b.append((a[i], a[i]**3))\n",
        " \n",
        "\n",
        "print(b)\n"
      ],
      "metadata": {
        "id": "KrjtJAr2OPMl",
        "colab": {
          "base_uri": "https://localhost:8080/"
        },
        "outputId": "0db12f5d-2e96-4352-fb34-ea0d32e372d3"
      },
      "execution_count": null,
      "outputs": [
        {
          "output_type": "stream",
          "name": "stdout",
          "text": [
            "[(9, 729), (5, 125), (2, 8)]\n"
          ]
        }
      ]
    },
    {
      "cell_type": "code",
      "source": [
        "'''\n",
        "Q94. Write a Python program to get all combinations of 2 tuples.\n",
        "\n",
        "Input : test_tuple1 = (7, 2), test_tuple2 = (7, 8)\n",
        "Output : [(7, 7), (7, 8), (2, 7), (2, 8), (7, 7), (7, 2), (8, 7), (8, 2)]\n",
        "'''\n",
        "\n",
        "a = (7,2)\n",
        "b = (7,8)\n",
        "c = []\n",
        "\n",
        "for i in a :\n",
        "  for j in b :\n",
        "    c.append((i,j))\n",
        "    c.append((j,i))\n",
        "\n",
        "\n",
        "\n",
        "print(c)\n",
        "\n"
      ],
      "metadata": {
        "id": "3e-Yd_jaOW0X",
        "colab": {
          "base_uri": "https://localhost:8080/"
        },
        "outputId": "453be427-4761-42b4-e5f1-3b023c072450"
      },
      "execution_count": null,
      "outputs": [
        {
          "output_type": "stream",
          "name": "stdout",
          "text": [
            "[(7, 7), (7, 7), (7, 8), (8, 7), (2, 7), (7, 2), (2, 8), (8, 2)]\n"
          ]
        }
      ]
    },
    {
      "cell_type": "code",
      "source": [
        "'''\n",
        "\n",
        "Q95. Write a Python program to sort a list of tuples by second item.\n",
        "\n",
        "Input : [('for', 24), ('Geeks', 8), ('Geeks', 30)] \n",
        "Output : [('Geeks', 8), ('for', 24), ('Geeks', 30)]\n",
        "\n",
        "'''\n",
        "l = [('for', 8), ('Geeks', 9), ('Geeks', 20), ('siva',2),('ram', 5),('prasad',18)] \n",
        "\n",
        "for i in range(2) :\n",
        "  for j in range(len(l)-1) :   \n",
        "    if(l[j][1] > l[j+1][1]):\n",
        "            temp = l[j]\n",
        "            l[j] = l[j+1]\n",
        "            l[j+1] = temp\n",
        "\n",
        "print(\"Sorted List : \", l) "
      ],
      "metadata": {
        "id": "7WOdvvThOb8T",
        "colab": {
          "base_uri": "https://localhost:8080/"
        },
        "outputId": "511ae906-8cb6-47ac-aafc-d21f1410932d"
      },
      "execution_count": null,
      "outputs": [
        {
          "output_type": "stream",
          "name": "stdout",
          "text": [
            "Sorted List :  [('for', 8), ('siva', 2), ('ram', 5), ('Geeks', 9), ('prasad', 18), ('Geeks', 20)]\n"
          ]
        }
      ]
    },
    {
      "cell_type": "code",
      "source": [
        "l = [('for', 24), ('Geeks', 8), ('Geeks', 30), ('siva',23),('ram', 34)] \n",
        "\n",
        "\n",
        "def second_element (element) :\n",
        "  return element[1]\n",
        "\n",
        "c = sorted(l, key = second_element)\n",
        "\n",
        "print(c)"
      ],
      "metadata": {
        "colab": {
          "base_uri": "https://localhost:8080/"
        },
        "id": "taQ01OzOR8r6",
        "outputId": "fa06f234-5ffa-40f0-be06-136ea6560295"
      },
      "execution_count": null,
      "outputs": [
        {
          "output_type": "stream",
          "name": "stdout",
          "text": [
            "[('Geeks', 8), ('siva', 23), ('for', 24), ('Geeks', 30), ('ram', 34)]\n"
          ]
        }
      ]
    },
    {
      "cell_type": "code",
      "source": [
        "l = [('for', 24), ('Geeks', 8), ('Geeks', 30), ('siva',23),('ram', 34)] \n",
        "\n",
        "\n",
        "c = sorted(l,key = lambda x : x[1])\n",
        "\n",
        "print(c)"
      ],
      "metadata": {
        "colab": {
          "base_uri": "https://localhost:8080/"
        },
        "id": "RWyp5Ln8JB6J",
        "outputId": "e57d7662-a23c-477a-b8b8-4dbdf50643e4"
      },
      "execution_count": null,
      "outputs": [
        {
          "output_type": "stream",
          "name": "stdout",
          "text": [
            "[('Geeks', 8), ('siva', 23), ('for', 24), ('Geeks', 30), ('ram', 34)]\n"
          ]
        }
      ]
    },
    {
      "cell_type": "code",
      "source": [
        "l = [('for', 24), ('Geeks', 8), ('Geeks', 30), ('siva',23),('ram', 34)] \n",
        "\n",
        "b = dict(l)\n",
        "\n",
        "print(b)\n",
        "\n",
        "c = sorted(l,key = lambda x : x[1])\n",
        "\n",
        "print(c)"
      ],
      "metadata": {
        "colab": {
          "base_uri": "https://localhost:8080/"
        },
        "id": "xL0CH96dcsUw",
        "outputId": "00054c73-df9e-48ee-cd07-c8bf8eb45f1b"
      },
      "execution_count": null,
      "outputs": [
        {
          "output_type": "stream",
          "name": "stdout",
          "text": [
            "{'for': 24, 'Geeks': 30, 'siva': 23, 'ram': 34}\n",
            "[('Geeks', 8), ('siva', 23), ('for', 24), ('Geeks', 30), ('ram', 34)]\n"
          ]
        }
      ]
    },
    {
      "cell_type": "code",
      "source": [
        "'''Q96. Write a python program to print below pattern.\n",
        "\n",
        "* \n",
        "* * \n",
        "* * * \n",
        "* * * * \n",
        "* * * * *  '''\n",
        "\n",
        "n= 5\n",
        "\n",
        "for i in range(n) :\n",
        "  for j in range(0,i+1):\n",
        "    print('*',end = ' ')\n",
        "  print()\n",
        "\n",
        "\n"
      ],
      "metadata": {
        "id": "fOpzY-tBOf8Z",
        "colab": {
          "base_uri": "https://localhost:8080/"
        },
        "outputId": "8c6db8c5-76d3-40e0-fd4e-9c8ab882b0bb"
      },
      "execution_count": null,
      "outputs": [
        {
          "output_type": "stream",
          "name": "stdout",
          "text": [
            "* \n",
            "* * \n",
            "* * * \n",
            "* * * * \n",
            "* * * * * \n"
          ]
        }
      ]
    },
    {
      "cell_type": "code",
      "source": [
        "'''Q97. Write a python program to print below pattern.\n",
        "\n",
        "    *\n",
        "   **\n",
        "  ***\n",
        " ****\n",
        "***** '''\n",
        "\n",
        "n = 5\n",
        "\n",
        "for i in range(n):\n",
        "  for j in range(n-i-1) :\n",
        "    print(' ',end ='')\n",
        "    \n",
        "  \n",
        "  for k in range(i+1):\n",
        "    print('*', end ='')\n",
        "  print()\n"
      ],
      "metadata": {
        "id": "N1SEP4GMOhvo",
        "colab": {
          "base_uri": "https://localhost:8080/"
        },
        "outputId": "99db2e5a-e30a-4863-82d6-45783ab0faff"
      },
      "execution_count": null,
      "outputs": [
        {
          "output_type": "stream",
          "name": "stdout",
          "text": [
            "    *\n",
            "   **\n",
            "  ***\n",
            " ****\n",
            "*****\n"
          ]
        }
      ]
    },
    {
      "cell_type": "code",
      "source": [
        "\n",
        "'''Q98. Write a python program to print below pattern.\n",
        "\n",
        "    * \n",
        "   * * \n",
        "  * * * \n",
        " * * * * \n",
        "* * * * *   ''' \n",
        "\n",
        "\n",
        "\n",
        "n = 5\n",
        "\n",
        "for i in range(n):\n",
        "  for j in range(n-i-1) :\n",
        "    print(' ',end ='')\n",
        "    \n",
        "  \n",
        "  for k in range(i+1):\n",
        "    print('*', end =' ')\n",
        "  print()"
      ],
      "metadata": {
        "id": "52KHXbvPOmt_",
        "colab": {
          "base_uri": "https://localhost:8080/"
        },
        "outputId": "c8524e52-1d79-4fa6-f7f0-5f933a89817e"
      },
      "execution_count": null,
      "outputs": [
        {
          "output_type": "stream",
          "name": "stdout",
          "text": [
            "    * \n",
            "   * * \n",
            "  * * * \n",
            " * * * * \n",
            "* * * * * \n"
          ]
        }
      ]
    },
    {
      "cell_type": "code",
      "source": [
        "'''Q99. Write a python program to print below pattern.\n",
        "\n",
        "1 \n",
        "1 2 \n",
        "1 2 3 \n",
        "1 2 3 4 \n",
        "1 2 3 4 5 '''\n",
        "\n",
        "n = 5\n",
        "\n",
        "for i in range(0,n):\n",
        "  for j in range(1,i+2):\n",
        "    print(j, end = ' ')\n",
        "  print()\n"
      ],
      "metadata": {
        "id": "zL3BDd2TOof4",
        "colab": {
          "base_uri": "https://localhost:8080/"
        },
        "outputId": "1ecc866d-7ce7-493a-9af3-ae578ec9bbd2"
      },
      "execution_count": null,
      "outputs": [
        {
          "output_type": "stream",
          "name": "stdout",
          "text": [
            "1 \n",
            "1 2 \n",
            "1 2 3 \n",
            "1 2 3 4 \n",
            "1 2 3 4 5 \n"
          ]
        }
      ]
    },
    {
      "cell_type": "code",
      "source": [
        "'''Q100. Write a python program to print below pattern.\n",
        "\n",
        "A \n",
        "B B \n",
        "C C C \n",
        "D D D D \n",
        "E E E E E '''\n",
        "\n",
        "n = 'ABCDE'\n",
        "\n",
        "for i in range(len(n)) :\n",
        "  for j in range(i+1) :\n",
        "    print(n[j], end = ' ')\n",
        "  print()\n"
      ],
      "metadata": {
        "id": "Za0bf8H4Oric",
        "colab": {
          "base_uri": "https://localhost:8080/"
        },
        "outputId": "659250c9-0275-4c67-8777-4bcc819eb966"
      },
      "execution_count": null,
      "outputs": [
        {
          "output_type": "stream",
          "name": "stdout",
          "text": [
            "A \n",
            "A B \n",
            "A B C \n",
            "A B C D \n",
            "A B C D E \n"
          ]
        }
      ]
    },
    {
      "cell_type": "code",
      "source": [],
      "metadata": {
        "id": "6w2RWzXx_qT0"
      },
      "execution_count": null,
      "outputs": []
    }
  ]
}