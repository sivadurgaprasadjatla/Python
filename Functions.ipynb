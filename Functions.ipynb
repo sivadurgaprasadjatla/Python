{
  "nbformat": 4,
  "nbformat_minor": 0,
  "metadata": {
    "colab": {
      "provenance": []
    },
    "kernelspec": {
      "name": "python3",
      "display_name": "Python 3"
    },
    "language_info": {
      "name": "python"
    }
  },
  "cells": [
    {
      "cell_type": "markdown",
      "source": [
        "# Python Functions"
      ],
      "metadata": {
        "id": "JYSdPUmeztfX"
      }
    },
    {
      "cell_type": "markdown",
      "source": [
        "Functions in general are reusable codes organized in a block.\n",
        "\n",
        "There are types of functions in python\n",
        "\n",
        "User-define functions\n",
        "\n",
        "Builtin functions https://docs.python.org/3/library/functions.html"
      ],
      "metadata": {
        "id": "x3YB6xk3ztVs"
      }
    },
    {
      "cell_type": "markdown",
      "source": [
        "\n",
        "# Advantage of Functions in Python\n",
        "\n",
        "There are the following advantages of Python functions.\n",
        "\n",
        "  1) Using functions, we can avoid rewriting the same logic/code again and again in a program.\n",
        "\n",
        "  2) We can call Python functions multiple times in a program and anywhere in a program.\n",
        "\n",
        "  3) We can track a large Python program easily when it is divided into multiple functions.\n",
        "\n",
        "  4)Reusability is the main achievement of Python functions.\n",
        "However, Function calling is always overhead in a Python program.\n",
        "\n",
        "Ref: https://www.javatpoint.com/python-functions"
      ],
      "metadata": {
        "id": "XSFl7sFrztSO"
      }
    },
    {
      "cell_type": "markdown",
      "source": [
        "# Disadvantages of writing a code without functions\n",
        "\n",
        "- No Abstraction : we cant hide anything in code for everyone.\n",
        "\n",
        "- in efficint to reuse :    \n",
        "          - Redundant Code : if we use same code multiple times \n",
        "          - long Code      \n",
        "          - Difficult to Maintain\n",
        "\n",
        "- No Generalization : if we used some sort of code multiple places, if we found any change or mistake in that logic, we need to change the code everywhere the same code we have used.\n"
      ],
      "metadata": {
        "id": "LSWyVVnvEELR"
      }
    },
    {
      "cell_type": "markdown",
      "source": [
        "### Creating a Function\n",
        "- should be executed first before calling the function\n",
        "- **def** keyword is used to define the function.\n",
        "- **return** is used to give the output from the function"
      ],
      "metadata": {
        "id": "4NS1hzm0ztPv"
      }
    },
    {
      "cell_type": "markdown",
      "source": [
        "# Basic syntax for function creation\n",
        "\n",
        "def function_name (parameters):\n",
        "\n",
        "  satement 1\n",
        "\n",
        "  statement 2\n",
        "\n",
        "  statement 3\n",
        "  .\n",
        "  .\n",
        "  .\n",
        "  statement n\n",
        "\n",
        "\n",
        "  return\n",
        "\n",
        "\n",
        "\n",
        "Note : return and paramenters are optional. we can use function without using\n",
        "  return and paramenters "
      ],
      "metadata": {
        "id": "UK2svUBVztNJ"
      }
    },
    {
      "cell_type": "markdown",
      "source": [
        "- The def keyword, along with the function name is used to define the function.\n",
        "- The identifier rule must follow the function name.\n",
        "- A function accepts the parameter (argument), and they can be optional.\n",
        "- The function block is started with the colon (:), and block statements must be at the same indentation.\n",
        "- The return statement is used to return the value. A function can have only one return"
      ],
      "metadata": {
        "id": "f8G2UAp3zk8C"
      }
    },
    {
      "cell_type": "markdown",
      "source": [
        "## Function Calling\n",
        "\n",
        "syntax : function_name(values)\n",
        "\n",
        "- should use same function name while calling "
      ],
      "metadata": {
        "id": "KK6C6Ux1H3V-"
      }
    },
    {
      "cell_type": "code",
      "source": [
        "def first_function():\n",
        "    print(\"My name is Sandeep\")"
      ],
      "metadata": {
        "id": "ILPW9iJ80wcW"
      },
      "execution_count": null,
      "outputs": []
    },
    {
      "cell_type": "code",
      "source": [
        "first_function()"
      ],
      "metadata": {
        "colab": {
          "base_uri": "https://localhost:8080/"
        },
        "id": "ViyeDdfr0yZy",
        "outputId": "6eb0aa7e-a55f-4673-f85a-c1376d029234"
      },
      "execution_count": null,
      "outputs": [
        {
          "output_type": "stream",
          "name": "stdout",
          "text": [
            "My name is Sandeep\n"
          ]
        }
      ]
    },
    {
      "cell_type": "code",
      "source": [
        "a = 10\n",
        "b = 20\n",
        "a+b"
      ],
      "metadata": {
        "colab": {
          "base_uri": "https://localhost:8080/"
        },
        "id": "EVBo2atkMtpR",
        "outputId": "36c9fc89-9648-459c-9bd4-bd5d8aec6030"
      },
      "execution_count": null,
      "outputs": [
        {
          "output_type": "execute_result",
          "data": {
            "text/plain": [
              "30"
            ]
          },
          "metadata": {},
          "execution_count": 3
        }
      ]
    },
    {
      "cell_type": "code",
      "source": [
        "a = 1\n",
        "b = 2\n",
        "\n",
        "a+b"
      ],
      "metadata": {
        "id": "ZlVwLPWZzpbx"
      },
      "execution_count": null,
      "outputs": []
    },
    {
      "cell_type": "code",
      "source": [
        "def test (x,y):\n",
        "  pass"
      ],
      "metadata": {
        "id": "bZr1gVVcM1CE"
      },
      "execution_count": null,
      "outputs": []
    },
    {
      "cell_type": "code",
      "source": [
        "test"
      ],
      "metadata": {
        "colab": {
          "base_uri": "https://localhost:8080/"
        },
        "id": "ubxi4jNMOvAG",
        "outputId": "5569b85e-d13e-4af9-b304-cc45f39a660c"
      },
      "execution_count": null,
      "outputs": [
        {
          "output_type": "execute_result",
          "data": {
            "text/plain": [
              "<function __main__.test(x, y)>"
            ]
          },
          "metadata": {},
          "execution_count": 5
        }
      ]
    },
    {
      "cell_type": "code",
      "source": [
        "test()"
      ],
      "metadata": {
        "colab": {
          "base_uri": "https://localhost:8080/",
          "height": 166
        },
        "id": "pB6PAmegOwEk",
        "outputId": "f48b2dc6-6890-49d5-a615-1fc9d7e2e9b7"
      },
      "execution_count": null,
      "outputs": [
        {
          "output_type": "error",
          "ename": "TypeError",
          "evalue": "ignored",
          "traceback": [
            "\u001b[0;31m---------------------------------------------------------------------------\u001b[0m",
            "\u001b[0;31mTypeError\u001b[0m                                 Traceback (most recent call last)",
            "\u001b[0;32m<ipython-input-6-fbd55f77ab7c>\u001b[0m in \u001b[0;36m<module>\u001b[0;34m\u001b[0m\n\u001b[0;32m----> 1\u001b[0;31m \u001b[0mtest\u001b[0m\u001b[0;34m(\u001b[0m\u001b[0;34m)\u001b[0m\u001b[0;34m\u001b[0m\u001b[0;34m\u001b[0m\u001b[0m\n\u001b[0m",
            "\u001b[0;31mTypeError\u001b[0m: test() missing 2 required positional arguments: 'x' and 'y'"
          ]
        }
      ]
    },
    {
      "cell_type": "code",
      "source": [
        "test(23,45)"
      ],
      "metadata": {
        "id": "5-jFQCcKOyI6"
      },
      "execution_count": null,
      "outputs": []
    },
    {
      "cell_type": "code",
      "source": [
        "# create a function is_even to check whether the given number is even or odd.\n",
        "\n",
        "def is_even(x) :\n",
        "  if x %2 == 0 :\n",
        "    return True\n",
        "  \n",
        "  else :\n",
        "    return False"
      ],
      "metadata": {
        "id": "B-DM8rnvI517"
      },
      "execution_count": null,
      "outputs": []
    },
    {
      "cell_type": "code",
      "source": [
        "is_even(5)"
      ],
      "metadata": {
        "colab": {
          "base_uri": "https://localhost:8080/"
        },
        "id": "ob7q0Z0oJckx",
        "outputId": "a2f96c77-52af-4231-aa10-a8e45b928ab4"
      },
      "execution_count": null,
      "outputs": [
        {
          "output_type": "execute_result",
          "data": {
            "text/plain": [
              "False"
            ]
          },
          "metadata": {},
          "execution_count": 21
        }
      ]
    },
    {
      "cell_type": "code",
      "source": [
        "# Adding two numbers\n",
        "def add(x, y): # x and y are arguments to pass value to a function\n",
        "    sum = x + y\n",
        "    return sum # here return is basically used to exit a function"
      ],
      "metadata": {
        "id": "j1nC1FfwO7pk"
      },
      "execution_count": null,
      "outputs": []
    },
    {
      "cell_type": "code",
      "source": [
        "add(2, 5)"
      ],
      "metadata": {
        "colab": {
          "base_uri": "https://localhost:8080/"
        },
        "id": "5uX7WnKw1Bns",
        "outputId": "2ea32913-c687-4424-aaeb-81469f31601c"
      },
      "execution_count": null,
      "outputs": [
        {
          "output_type": "execute_result",
          "data": {
            "text/plain": [
              "7"
            ]
          },
          "metadata": {},
          "execution_count": 6
        }
      ]
    },
    {
      "cell_type": "code",
      "source": [
        "# Adding two numbers\n",
        "def add(x, y): # x and y are arguments to pass value to a function\n",
        "    return x + y # here return is basically used to exit a function"
      ],
      "metadata": {
        "id": "GE6cajiL1Bxs"
      },
      "execution_count": null,
      "outputs": []
    },
    {
      "cell_type": "code",
      "source": [
        "def test1 (x,y):\n",
        "  print(x+y)"
      ],
      "metadata": {
        "id": "oSsXhGFB1B7N"
      },
      "execution_count": null,
      "outputs": []
    },
    {
      "cell_type": "code",
      "source": [
        "add(4, 4)"
      ],
      "metadata": {
        "colab": {
          "base_uri": "https://localhost:8080/"
        },
        "id": "A4V7TkTO1Naw",
        "outputId": "c8e470f2-a373-4e96-f830-e12d05a515ab"
      },
      "execution_count": null,
      "outputs": [
        {
          "output_type": "execute_result",
          "data": {
            "text/plain": [
              "8"
            ]
          },
          "metadata": {},
          "execution_count": 9
        }
      ]
    },
    {
      "cell_type": "code",
      "source": [
        "def checking_data_type(a) :\n",
        "  return type(a)"
      ],
      "metadata": {
        "id": "AOoxvp-bMZVv"
      },
      "execution_count": null,
      "outputs": []
    },
    {
      "cell_type": "code",
      "source": [
        "checking_data_type(12)"
      ],
      "metadata": {
        "colab": {
          "base_uri": "https://localhost:8080/"
        },
        "id": "bscXV78WMjKT",
        "outputId": "ef025446-776b-41f1-a5f8-60e78a8e0b3d"
      },
      "execution_count": null,
      "outputs": [
        {
          "output_type": "execute_result",
          "data": {
            "text/plain": [
              "int"
            ]
          },
          "metadata": {},
          "execution_count": 24
        }
      ]
    },
    {
      "cell_type": "code",
      "source": [
        "checking_data_type('ram')"
      ],
      "metadata": {
        "colab": {
          "base_uri": "https://localhost:8080/"
        },
        "id": "Cuep08zKMqek",
        "outputId": "8f8b277e-fd9f-4164-aba7-07defc3b5401"
      },
      "execution_count": null,
      "outputs": [
        {
          "output_type": "execute_result",
          "data": {
            "text/plain": [
              "str"
            ]
          },
          "metadata": {},
          "execution_count": 26
        }
      ]
    },
    {
      "cell_type": "code",
      "source": [
        "# to check the string whether it is palindrome or not\n",
        "\n",
        "def is_pelindrome(a):\n",
        "\n",
        "  b = str(a)\n",
        "\n",
        "  for i in b:\n",
        "    if b == b[::-1]:\n",
        "      return True\n",
        "    \n",
        "    else :\n",
        "      return False"
      ],
      "metadata": {
        "id": "E_V4A1eTMziV"
      },
      "execution_count": null,
      "outputs": []
    },
    {
      "cell_type": "code",
      "source": [
        "is_pelindrome(121)"
      ],
      "metadata": {
        "colab": {
          "base_uri": "https://localhost:8080/"
        },
        "id": "bb8Xpt9gMzU5",
        "outputId": "3d10c367-6e7b-459e-8e96-3688e95d5ae7"
      },
      "execution_count": null,
      "outputs": [
        {
          "output_type": "execute_result",
          "data": {
            "text/plain": [
              "True"
            ]
          },
          "metadata": {},
          "execution_count": 30
        }
      ]
    },
    {
      "cell_type": "code",
      "source": [
        "is_pelindrome('good')"
      ],
      "metadata": {
        "colab": {
          "base_uri": "https://localhost:8080/"
        },
        "id": "Ofrd7RdaNajs",
        "outputId": "3f07dd8f-828e-44be-c52e-5655933b05e3"
      },
      "execution_count": null,
      "outputs": [
        {
          "output_type": "execute_result",
          "data": {
            "text/plain": [
              "False"
            ]
          },
          "metadata": {},
          "execution_count": 31
        }
      ]
    },
    {
      "cell_type": "code",
      "source": [
        "# code to check the number whether it is prime or not\n",
        "\n",
        "a = int(input('the number is..'))\n",
        "\n",
        "for i in range(2,a):\n",
        "  if a % i == 0 :\n",
        "    print('its not prime')\n",
        "    break\n",
        "else :\n",
        "  print('its prime')"
      ],
      "metadata": {
        "colab": {
          "base_uri": "https://localhost:8080/"
        },
        "id": "bmfA83tbUZic",
        "outputId": "c5aef2df-c037-412c-b970-0a3179ac5e40"
      },
      "execution_count": null,
      "outputs": [
        {
          "output_type": "stream",
          "name": "stdout",
          "text": [
            "the number is..23\n",
            "its prime\n"
          ]
        }
      ]
    },
    {
      "cell_type": "code",
      "source": [
        "# function to check the number whther it is prime or not\n",
        "\n",
        "def is_prime(a) :\n",
        "  for i in range(2,a):\n",
        "    if a % i == 0:\n",
        "      return 'not prime'\n",
        "  else :\n",
        "    return 'prime'"
      ],
      "metadata": {
        "id": "bFKHyMW2OjkJ"
      },
      "execution_count": null,
      "outputs": []
    },
    {
      "cell_type": "markdown",
      "source": [
        "## Return : \n",
        "it will also works as break function itself.So, that we need to use at the end of the total code / sub loop in function"
      ],
      "metadata": {
        "id": "GGqb2ssTU9KA"
      }
    },
    {
      "cell_type": "code",
      "source": [
        "is_prime(23)"
      ],
      "metadata": {
        "colab": {
          "base_uri": "https://localhost:8080/",
          "height": 35
        },
        "id": "jhzaX3qWOitx",
        "outputId": "8dc13a70-c426-4c5d-a4be-fdfff70aa689"
      },
      "execution_count": null,
      "outputs": [
        {
          "output_type": "execute_result",
          "data": {
            "text/plain": [
              "'prime'"
            ],
            "application/vnd.google.colaboratory.intrinsic+json": {
              "type": "string"
            }
          },
          "metadata": {},
          "execution_count": 35
        }
      ]
    },
    {
      "cell_type": "code",
      "source": [
        "is_prime(21)"
      ],
      "metadata": {
        "colab": {
          "base_uri": "https://localhost:8080/",
          "height": 35
        },
        "id": "Q9-XsWL0PY-j",
        "outputId": "1e5674e2-d6bc-47c1-a3de-fc0fcf9d7873"
      },
      "execution_count": null,
      "outputs": [
        {
          "output_type": "execute_result",
          "data": {
            "text/plain": [
              "'not prime'"
            ],
            "application/vnd.google.colaboratory.intrinsic+json": {
              "type": "string"
            }
          },
          "metadata": {},
          "execution_count": 36
        }
      ]
    },
    {
      "cell_type": "code",
      "source": [
        "# funtion to get the prime numbers in between 100 and 200\n",
        "\n",
        "def prime_numbers():\n",
        "\n",
        "  l = []\n",
        "\n",
        "  for i in range(100,201):\n",
        "    if is_prime(i) == 'prime' :\n",
        "      l.append(i)\n",
        "\n",
        "  return l"
      ],
      "metadata": {
        "id": "kdynLnpbPwbo"
      },
      "execution_count": null,
      "outputs": []
    },
    {
      "cell_type": "code",
      "source": [
        "prime_numbers()"
      ],
      "metadata": {
        "colab": {
          "base_uri": "https://localhost:8080/"
        },
        "id": "IzY1GOQePwMh",
        "outputId": "3d05edf3-b457-4f4d-ce23-77df3d36d55b"
      },
      "execution_count": null,
      "outputs": [
        {
          "output_type": "execute_result",
          "data": {
            "text/plain": [
              "[101,\n",
              " 103,\n",
              " 107,\n",
              " 109,\n",
              " 113,\n",
              " 127,\n",
              " 131,\n",
              " 137,\n",
              " 139,\n",
              " 149,\n",
              " 151,\n",
              " 157,\n",
              " 163,\n",
              " 167,\n",
              " 173,\n",
              " 179,\n",
              " 181,\n",
              " 191,\n",
              " 193,\n",
              " 197,\n",
              " 199]"
            ]
          },
          "metadata": {},
          "execution_count": 47
        }
      ]
    },
    {
      "cell_type": "code",
      "source": [
        "# to get the list of pelindrome in between 1000 and 2000.\n",
        "\n",
        "def pelindrome_numbers():\n",
        "  l = []\n",
        "  for i in range(1000,2001):\n",
        "    s = str(i)\n",
        "    if s == s[::-1] :\n",
        "      l.append(s)\n",
        "\n",
        "  return l\n",
        "\n",
        "\n"
      ],
      "metadata": {
        "id": "gerhBdLlRp8M"
      },
      "execution_count": null,
      "outputs": []
    },
    {
      "cell_type": "code",
      "source": [
        "pelindrome_numbers()"
      ],
      "metadata": {
        "colab": {
          "base_uri": "https://localhost:8080/"
        },
        "id": "xMu86tjGRpvF",
        "outputId": "0b825cc9-c125-4d2c-c100-ff10621c258d"
      },
      "execution_count": null,
      "outputs": [
        {
          "output_type": "execute_result",
          "data": {
            "text/plain": [
              "['1001',\n",
              " '1111',\n",
              " '1221',\n",
              " '1331',\n",
              " '1441',\n",
              " '1551',\n",
              " '1661',\n",
              " '1771',\n",
              " '1881',\n",
              " '1991']"
            ]
          },
          "metadata": {},
          "execution_count": 49
        }
      ]
    },
    {
      "cell_type": "code",
      "source": [
        "# to check the string whether it is palindrome or not\n",
        "\n",
        "def is_pelindrome(a):\n",
        "\n",
        "  b = str(a)\n",
        "\n",
        "  for i in b:\n",
        "    if b == b[::-1]:\n",
        "      return True\n",
        "    \n",
        "    else :\n",
        "      return False"
      ],
      "metadata": {
        "id": "3Q9m3euqTLM7"
      },
      "execution_count": null,
      "outputs": []
    },
    {
      "cell_type": "code",
      "source": [
        "def pelindrome_numbers2():\n",
        "  l = []\n",
        "  for i in range(1000,2001):\n",
        "    s = str(i)\n",
        "    if is_pelindrome(s) == True :\n",
        "      l.append(s)\n",
        "\n",
        "  return l"
      ],
      "metadata": {
        "id": "Y7T3fYYPS2tE"
      },
      "execution_count": null,
      "outputs": []
    },
    {
      "cell_type": "code",
      "source": [
        "pelindrome_numbers2()"
      ],
      "metadata": {
        "colab": {
          "base_uri": "https://localhost:8080/"
        },
        "id": "zAEIsXBeTFcy",
        "outputId": "cb7d8d67-ca28-4ede-8cf6-ff32db910871"
      },
      "execution_count": null,
      "outputs": [
        {
          "output_type": "execute_result",
          "data": {
            "text/plain": [
              "['1001',\n",
              " '1111',\n",
              " '1221',\n",
              " '1331',\n",
              " '1441',\n",
              " '1551',\n",
              " '1661',\n",
              " '1771',\n",
              " '1881',\n",
              " '1991']"
            ]
          },
          "metadata": {},
          "execution_count": 52
        }
      ]
    },
    {
      "cell_type": "code",
      "source": [
        "# Print if a number is even or odd in a given list\n",
        "\n",
        "def oddeven(y):\n",
        "  for i in y:\n",
        "    if i % 2 == 0:\n",
        "      print(\"EVEN\")\n",
        "    else:\n",
        "      print(\"ODD\")"
      ],
      "metadata": {
        "id": "hWweM9UT1Qr7"
      },
      "execution_count": null,
      "outputs": []
    },
    {
      "cell_type": "code",
      "source": [
        "oddeven('23')"
      ],
      "metadata": {
        "colab": {
          "base_uri": "https://localhost:8080/",
          "height": 288
        },
        "id": "CZuIkLvf1Q4R",
        "outputId": "22bdfe76-2655-4675-ef30-057343fdc83e"
      },
      "execution_count": null,
      "outputs": [
        {
          "output_type": "error",
          "ename": "TypeError",
          "evalue": "ignored",
          "traceback": [
            "\u001b[0;31m---------------------------------------------------------------------------\u001b[0m",
            "\u001b[0;31mTypeError\u001b[0m                                 Traceback (most recent call last)",
            "\u001b[0;32m<ipython-input-19-bddd1e6dc397>\u001b[0m in \u001b[0;36m<module>\u001b[0;34m\u001b[0m\n\u001b[0;32m----> 1\u001b[0;31m \u001b[0moddeven\u001b[0m\u001b[0;34m(\u001b[0m\u001b[0;34m'23'\u001b[0m\u001b[0;34m)\u001b[0m\u001b[0;34m\u001b[0m\u001b[0;34m\u001b[0m\u001b[0m\n\u001b[0m",
            "\u001b[0;32m<ipython-input-17-b0dcb66ac097>\u001b[0m in \u001b[0;36moddeven\u001b[0;34m(y)\u001b[0m\n\u001b[1;32m      4\u001b[0m \u001b[0;32mdef\u001b[0m \u001b[0moddeven\u001b[0m\u001b[0;34m(\u001b[0m\u001b[0my\u001b[0m\u001b[0;34m)\u001b[0m\u001b[0;34m:\u001b[0m\u001b[0;34m\u001b[0m\u001b[0;34m\u001b[0m\u001b[0m\n\u001b[1;32m      5\u001b[0m   \u001b[0;32mfor\u001b[0m \u001b[0mi\u001b[0m \u001b[0;32min\u001b[0m \u001b[0my\u001b[0m\u001b[0;34m:\u001b[0m\u001b[0;34m\u001b[0m\u001b[0;34m\u001b[0m\u001b[0m\n\u001b[0;32m----> 6\u001b[0;31m     \u001b[0;32mif\u001b[0m \u001b[0mi\u001b[0m \u001b[0;34m%\u001b[0m \u001b[0;36m2\u001b[0m \u001b[0;34m==\u001b[0m \u001b[0;36m0\u001b[0m\u001b[0;34m:\u001b[0m\u001b[0;34m\u001b[0m\u001b[0;34m\u001b[0m\u001b[0m\n\u001b[0m\u001b[1;32m      7\u001b[0m       \u001b[0mprint\u001b[0m\u001b[0;34m(\u001b[0m\u001b[0;34m\"EVEN\"\u001b[0m\u001b[0;34m)\u001b[0m\u001b[0;34m\u001b[0m\u001b[0;34m\u001b[0m\u001b[0m\n\u001b[1;32m      8\u001b[0m     \u001b[0;32melse\u001b[0m\u001b[0;34m:\u001b[0m\u001b[0;34m\u001b[0m\u001b[0;34m\u001b[0m\u001b[0m\n",
            "\u001b[0;31mTypeError\u001b[0m: not all arguments converted during string formatting"
          ]
        }
      ]
    },
    {
      "cell_type": "code",
      "source": [
        "test1(30,40)"
      ],
      "metadata": {
        "colab": {
          "base_uri": "https://localhost:8080/"
        },
        "id": "y0fJo06QPTHY",
        "outputId": "34eb7ba3-6e37-4501-c3c8-d630577a00fb"
      },
      "execution_count": null,
      "outputs": [
        {
          "output_type": "stream",
          "name": "stdout",
          "text": [
            "70\n"
          ]
        }
      ]
    },
    {
      "cell_type": "code",
      "source": [
        "test1(34,12)"
      ],
      "metadata": {
        "colab": {
          "base_uri": "https://localhost:8080/"
        },
        "id": "uRApKCipPVOO",
        "outputId": "6489fdbc-5b25-4385-e4b1-981d677577c8"
      },
      "execution_count": null,
      "outputs": [
        {
          "output_type": "stream",
          "name": "stdout",
          "text": [
            "46\n"
          ]
        }
      ]
    },
    {
      "cell_type": "code",
      "source": [
        "test1(23,32)"
      ],
      "metadata": {
        "colab": {
          "base_uri": "https://localhost:8080/"
        },
        "id": "24Uwn3kvPj9X",
        "outputId": "1755d27e-4a70-48fa-d5fb-fc0ef30238cf"
      },
      "execution_count": null,
      "outputs": [
        {
          "output_type": "stream",
          "name": "stdout",
          "text": [
            "55\n"
          ]
        }
      ]
    },
    {
      "cell_type": "markdown",
      "source": [
        "# SCOPE \n",
        "\n",
        "- Types of varialble :        \n",
        "     - local\n",
        "     - Globle"
      ],
      "metadata": {
        "id": "b4KEVRfRYHjd"
      }
    },
    {
      "cell_type": "markdown",
      "source": [
        "Local Variable :              \n",
        "   the scope of the local variable will be within the limit of function only. we cant get the variable value out side the function\n",
        "   "
      ],
      "metadata": {
        "id": "4Z9UlVfYYHL-"
      }
    },
    {
      "cell_type": "code",
      "source": [
        "def demo():\n",
        "  z = 5\n",
        "\n",
        "  return z"
      ],
      "metadata": {
        "id": "XlnwicxmYpGa"
      },
      "execution_count": null,
      "outputs": []
    },
    {
      "cell_type": "code",
      "source": [
        "demo()"
      ],
      "metadata": {
        "colab": {
          "base_uri": "https://localhost:8080/"
        },
        "id": "zy_9LEOtYpAc",
        "outputId": "10cf4d98-9ccf-4c77-c785-11a22e64fa22"
      },
      "execution_count": null,
      "outputs": [
        {
          "output_type": "execute_result",
          "data": {
            "text/plain": [
              "5"
            ]
          },
          "metadata": {},
          "execution_count": 59
        }
      ]
    },
    {
      "cell_type": "code",
      "source": [
        "z "
      ],
      "metadata": {
        "colab": {
          "base_uri": "https://localhost:8080/",
          "height": 166
        },
        "id": "kWH9C9apY0VW",
        "outputId": "0c3bb18f-f3e0-46a5-d0c6-e60fcaa164fb"
      },
      "execution_count": null,
      "outputs": [
        {
          "output_type": "error",
          "ename": "NameError",
          "evalue": "ignored",
          "traceback": [
            "\u001b[0;31m---------------------------------------------------------------------------\u001b[0m",
            "\u001b[0;31mNameError\u001b[0m                                 Traceback (most recent call last)",
            "\u001b[0;32m<ipython-input-60-e4bd3e6dacee>\u001b[0m in \u001b[0;36m<module>\u001b[0;34m\u001b[0m\n\u001b[0;32m----> 1\u001b[0;31m \u001b[0mz\u001b[0m\u001b[0;34m\u001b[0m\u001b[0;34m\u001b[0m\u001b[0m\n\u001b[0m",
            "\u001b[0;31mNameError\u001b[0m: name 'z' is not defined"
          ]
        }
      ]
    },
    {
      "cell_type": "markdown",
      "source": [
        "here varible Z values we cant find out side the function called demo()"
      ],
      "metadata": {
        "id": "AFt0TLSEZFQO"
      }
    },
    {
      "cell_type": "code",
      "source": [
        " m = 15\n",
        "\n",
        " def demo1():\n",
        "\n",
        "   return 'the value is',m"
      ],
      "metadata": {
        "id": "9LmFQHYvZTSM"
      },
      "execution_count": null,
      "outputs": []
    },
    {
      "cell_type": "code",
      "source": [
        "demo1()"
      ],
      "metadata": {
        "colab": {
          "base_uri": "https://localhost:8080/"
        },
        "id": "9MtzH2wWZTOp",
        "outputId": "67fc1691-95dc-48ed-eb94-c622c89e3680"
      },
      "execution_count": null,
      "outputs": [
        {
          "output_type": "execute_result",
          "data": {
            "text/plain": [
              "('the value is', 15)"
            ]
          },
          "metadata": {},
          "execution_count": 63
        }
      ]
    },
    {
      "cell_type": "code",
      "source": [
        "m"
      ],
      "metadata": {
        "colab": {
          "base_uri": "https://localhost:8080/"
        },
        "id": "kjDpJr0_Zgmw",
        "outputId": "f7012208-f0fa-49ac-9e37-8eb8e3ffb133"
      },
      "execution_count": null,
      "outputs": [
        {
          "output_type": "execute_result",
          "data": {
            "text/plain": [
              "15"
            ]
          },
          "metadata": {},
          "execution_count": 64
        }
      ]
    },
    {
      "cell_type": "markdown",
      "source": [
        "Here we are creating m variable out side the function. But we are using in function as well.So variable m is worling as gloable variable"
      ],
      "metadata": {
        "id": "nEfyFkz0Zib8"
      }
    },
    {
      "cell_type": "code",
      "source": [
        "r = 10\n",
        "\n",
        "def test_1(a,b):\n",
        "  r = a/b\n",
        "  print(r)"
      ],
      "metadata": {
        "id": "80ptpYm54sV-"
      },
      "execution_count": null,
      "outputs": []
    },
    {
      "cell_type": "code",
      "source": [
        "test_1(10,10)"
      ],
      "metadata": {
        "colab": {
          "base_uri": "https://localhost:8080/"
        },
        "id": "MIfGp1qf4088",
        "outputId": "09540606-63c5-4f68-f181-344dd6c5d481"
      },
      "execution_count": null,
      "outputs": [
        {
          "output_type": "stream",
          "name": "stdout",
          "text": [
            "1.0\n"
          ]
        }
      ]
    },
    {
      "cell_type": "code",
      "source": [
        "x = 5\n",
        "y = 10\n",
        "\n",
        "def demo2() :\n",
        "  x = 50 \n",
        "\n",
        "  print('the value of X inside the function', x)\n",
        "  print('the value of y inside the function', y)"
      ],
      "metadata": {
        "id": "0ybMFeXjZxj7"
      },
      "execution_count": null,
      "outputs": []
    },
    {
      "cell_type": "code",
      "source": [
        "demo2()"
      ],
      "metadata": {
        "colab": {
          "base_uri": "https://localhost:8080/"
        },
        "id": "9vxs2EG_aQl1",
        "outputId": "22704f5b-84be-45b4-d53c-5f516b2d91c9"
      },
      "execution_count": null,
      "outputs": [
        {
          "output_type": "stream",
          "name": "stdout",
          "text": [
            "the value of X inside the function 50\n",
            "the value of y inside the function 10\n"
          ]
        }
      ]
    },
    {
      "cell_type": "code",
      "source": [
        "print(x)\n",
        "print(y)"
      ],
      "metadata": {
        "colab": {
          "base_uri": "https://localhost:8080/"
        },
        "id": "kfQvwtVXaVHQ",
        "outputId": "85149350-40e0-4f88-e12f-a9de68a8761f"
      },
      "execution_count": null,
      "outputs": [
        {
          "output_type": "stream",
          "name": "stdout",
          "text": [
            "5\n",
            "10\n"
          ]
        }
      ]
    },
    {
      "cell_type": "markdown",
      "source": [
        "Here x value was determined before the function and inside the function.So, it will take local value inside the function ."
      ],
      "metadata": {
        "id": "q3DkIX8kaZ7P"
      }
    },
    {
      "cell_type": "code",
      "source": [
        "demo()"
      ],
      "metadata": {
        "colab": {
          "base_uri": "https://localhost:8080/"
        },
        "id": "2VgBsWZEaGWT",
        "outputId": "60be5b62-39c8-4824-c206-e76b5be66416"
      },
      "execution_count": null,
      "outputs": [
        {
          "output_type": "execute_result",
          "data": {
            "text/plain": [
              "5"
            ]
          },
          "metadata": {},
          "execution_count": 66
        }
      ]
    },
    {
      "cell_type": "code",
      "source": [
        "def test2(x,y) :\n",
        "  return x*y"
      ],
      "metadata": {
        "id": "oAG1xXQzPmzQ"
      },
      "execution_count": null,
      "outputs": []
    },
    {
      "cell_type": "code",
      "source": [
        "test2(2,4)"
      ],
      "metadata": {
        "colab": {
          "base_uri": "https://localhost:8080/"
        },
        "id": "2fcbvDHmQQlP",
        "outputId": "5ebce007-2375-4fcf-f17e-363c453ab49c"
      },
      "execution_count": null,
      "outputs": [
        {
          "output_type": "execute_result",
          "data": {
            "text/plain": [
              "8"
            ]
          },
          "metadata": {},
          "execution_count": 14
        }
      ]
    },
    {
      "cell_type": "code",
      "source": [
        "type(test2(12,34))"
      ],
      "metadata": {
        "colab": {
          "base_uri": "https://localhost:8080/"
        },
        "id": "CkLNo0H9QVZa",
        "outputId": "a17c36f2-0a3f-415d-bfe2-c6199fea6287"
      },
      "execution_count": null,
      "outputs": [
        {
          "output_type": "execute_result",
          "data": {
            "text/plain": [
              "int"
            ]
          },
          "metadata": {},
          "execution_count": 15
        }
      ]
    },
    {
      "cell_type": "code",
      "source": [
        "test1(12,34)"
      ],
      "metadata": {
        "colab": {
          "base_uri": "https://localhost:8080/"
        },
        "id": "S71JGFVwQ2P1",
        "outputId": "d3433adf-8eef-4f8a-8646-d11a09527611"
      },
      "execution_count": null,
      "outputs": [
        {
          "output_type": "stream",
          "name": "stdout",
          "text": [
            "46\n"
          ]
        }
      ]
    },
    {
      "cell_type": "code",
      "source": [
        "test2('ram',2)"
      ],
      "metadata": {
        "colab": {
          "base_uri": "https://localhost:8080/",
          "height": 35
        },
        "id": "-NE3oPKkRNpb",
        "outputId": "feb10030-45f8-4df8-f116-04d2c251ad5a"
      },
      "execution_count": null,
      "outputs": [
        {
          "output_type": "execute_result",
          "data": {
            "text/plain": [
              "'ramram'"
            ],
            "application/vnd.google.colaboratory.intrinsic+json": {
              "type": "string"
            }
          },
          "metadata": {},
          "execution_count": 18
        }
      ]
    },
    {
      "cell_type": "code",
      "source": [
        "type(test2('ram',2))"
      ],
      "metadata": {
        "colab": {
          "base_uri": "https://localhost:8080/"
        },
        "id": "E8HZx5IURUF2",
        "outputId": "ed5b6acc-d9ff-4ce3-df6b-102f050cb8bb"
      },
      "execution_count": null,
      "outputs": [
        {
          "output_type": "execute_result",
          "data": {
            "text/plain": [
              "str"
            ]
          },
          "metadata": {},
          "execution_count": 19
        }
      ]
    },
    {
      "cell_type": "code",
      "source": [
        "type(test1(12,34))"
      ],
      "metadata": {
        "colab": {
          "base_uri": "https://localhost:8080/"
        },
        "id": "DvkPXtD6Q6hA",
        "outputId": "1ab2f8e5-0c33-414f-d8f2-90f98e9437f7"
      },
      "execution_count": null,
      "outputs": [
        {
          "output_type": "stream",
          "name": "stdout",
          "text": [
            "46\n"
          ]
        },
        {
          "output_type": "execute_result",
          "data": {
            "text/plain": [
              "NoneType"
            ]
          },
          "metadata": {},
          "execution_count": 17
        }
      ]
    },
    {
      "cell_type": "code",
      "source": [
        "# in print statement it will give the nontype data type in output\n",
        "# in return statement the output data type will be adjusted according to your given input and logic inside the function"
      ],
      "metadata": {
        "id": "Yc_faUPsRBJa"
      },
      "execution_count": null,
      "outputs": []
    },
    {
      "cell_type": "code",
      "source": [
        "a = test2(23,45)"
      ],
      "metadata": {
        "id": "Urj7-r1qSD8s"
      },
      "execution_count": null,
      "outputs": []
    },
    {
      "cell_type": "code",
      "source": [
        "a"
      ],
      "metadata": {
        "colab": {
          "base_uri": "https://localhost:8080/"
        },
        "id": "Fbq-lOXuSG4W",
        "outputId": "e9845621-2918-4d9b-c8cd-bbe48039191a"
      },
      "execution_count": null,
      "outputs": [
        {
          "output_type": "execute_result",
          "data": {
            "text/plain": [
              "1035"
            ]
          },
          "metadata": {},
          "execution_count": 22
        }
      ]
    },
    {
      "cell_type": "code",
      "source": [
        "type(a)"
      ],
      "metadata": {
        "colab": {
          "base_uri": "https://localhost:8080/"
        },
        "id": "CnQTzp7sSHf5",
        "outputId": "ab356ba6-e2a8-4704-ab08-ddbbe148abbe"
      },
      "execution_count": null,
      "outputs": [
        {
          "output_type": "execute_result",
          "data": {
            "text/plain": [
              "int"
            ]
          },
          "metadata": {},
          "execution_count": 23
        }
      ]
    },
    {
      "cell_type": "code",
      "source": [
        "b = test1(34,12)"
      ],
      "metadata": {
        "colab": {
          "base_uri": "https://localhost:8080/"
        },
        "id": "JGPIdx1ASIPG",
        "outputId": "be47bb08-f851-47a6-e77f-550ca657fe86"
      },
      "execution_count": null,
      "outputs": [
        {
          "output_type": "stream",
          "name": "stdout",
          "text": [
            "46\n"
          ]
        }
      ]
    },
    {
      "cell_type": "code",
      "source": [
        "b"
      ],
      "metadata": {
        "id": "Rz5wkdiaSKWg"
      },
      "execution_count": null,
      "outputs": []
    },
    {
      "cell_type": "code",
      "source": [
        "type(b)"
      ],
      "metadata": {
        "colab": {
          "base_uri": "https://localhost:8080/"
        },
        "id": "0MRPGWnoSLDZ",
        "outputId": "19578a2a-66c6-4fda-b12e-e48e16525944"
      },
      "execution_count": null,
      "outputs": [
        {
          "output_type": "execute_result",
          "data": {
            "text/plain": [
              "NoneType"
            ]
          },
          "metadata": {},
          "execution_count": 26
        }
      ]
    },
    {
      "cell_type": "code",
      "source": [
        "def test3 (n,m) :\n",
        "  return n*10, m*12, n+m"
      ],
      "metadata": {
        "id": "AEQf_JhXSLxY"
      },
      "execution_count": null,
      "outputs": []
    },
    {
      "cell_type": "code",
      "source": [
        "test3(12,34)"
      ],
      "metadata": {
        "colab": {
          "base_uri": "https://localhost:8080/"
        },
        "id": "UQsaQlVHS0_1",
        "outputId": "b13957d6-5422-4a36-da7d-6dc81b5123c9"
      },
      "execution_count": null,
      "outputs": [
        {
          "output_type": "execute_result",
          "data": {
            "text/plain": [
              "(120, 408, 46)"
            ]
          },
          "metadata": {},
          "execution_count": 28
        }
      ]
    },
    {
      "cell_type": "code",
      "source": [
        "type(test3(12,34))"
      ],
      "metadata": {
        "colab": {
          "base_uri": "https://localhost:8080/"
        },
        "id": "22BJm4x4S4pr",
        "outputId": "55466923-ca69-4056-f991-c6a70cb9dd9b"
      },
      "execution_count": null,
      "outputs": [
        {
          "output_type": "execute_result",
          "data": {
            "text/plain": [
              "tuple"
            ]
          },
          "metadata": {},
          "execution_count": 29
        }
      ]
    },
    {
      "cell_type": "code",
      "source": [
        "c,x,v = test3(34,56)"
      ],
      "metadata": {
        "id": "e_m6p8-9S7wH"
      },
      "execution_count": null,
      "outputs": []
    },
    {
      "cell_type": "code",
      "source": [
        "c"
      ],
      "metadata": {
        "colab": {
          "base_uri": "https://localhost:8080/"
        },
        "id": "KPpyKDCwTNFk",
        "outputId": "55d68089-532c-4255-e6d3-40a2a62bf056"
      },
      "execution_count": null,
      "outputs": [
        {
          "output_type": "execute_result",
          "data": {
            "text/plain": [
              "340"
            ]
          },
          "metadata": {},
          "execution_count": 31
        }
      ]
    },
    {
      "cell_type": "code",
      "source": [
        "x"
      ],
      "metadata": {
        "colab": {
          "base_uri": "https://localhost:8080/"
        },
        "id": "laaDvqpCTNvM",
        "outputId": "4aa29f7d-8f8f-41e9-c479-ebe21093319c"
      },
      "execution_count": null,
      "outputs": [
        {
          "output_type": "execute_result",
          "data": {
            "text/plain": [
              "672"
            ]
          },
          "metadata": {},
          "execution_count": 32
        }
      ]
    },
    {
      "cell_type": "code",
      "source": [
        "v"
      ],
      "metadata": {
        "colab": {
          "base_uri": "https://localhost:8080/"
        },
        "id": "-JxABvoOTOPO",
        "outputId": "6d5318a8-8f51-4e23-a26a-11fd163de768"
      },
      "execution_count": null,
      "outputs": [
        {
          "output_type": "execute_result",
          "data": {
            "text/plain": [
              "90"
            ]
          },
          "metadata": {},
          "execution_count": 33
        }
      ]
    },
    {
      "cell_type": "code",
      "source": [
        "c,x,_  = test3(3,4)"
      ],
      "metadata": {
        "id": "0o300uC1TO_5"
      },
      "execution_count": null,
      "outputs": []
    },
    {
      "cell_type": "code",
      "source": [
        "c"
      ],
      "metadata": {
        "colab": {
          "base_uri": "https://localhost:8080/"
        },
        "id": "8CKd299ATkMn",
        "outputId": "50e642dc-8258-46c2-b9ad-d0214ef121c4"
      },
      "execution_count": null,
      "outputs": [
        {
          "output_type": "execute_result",
          "data": {
            "text/plain": [
              "30"
            ]
          },
          "metadata": {},
          "execution_count": 35
        }
      ]
    },
    {
      "cell_type": "code",
      "source": [
        "x"
      ],
      "metadata": {
        "colab": {
          "base_uri": "https://localhost:8080/"
        },
        "id": "-ev7UtobT3y9",
        "outputId": "66e0c05d-f666-456a-e7f4-56a564eda7a1"
      },
      "execution_count": null,
      "outputs": [
        {
          "output_type": "execute_result",
          "data": {
            "text/plain": [
              "48"
            ]
          },
          "metadata": {},
          "execution_count": 36
        }
      ]
    },
    {
      "cell_type": "code",
      "source": [
        "_"
      ],
      "metadata": {
        "colab": {
          "base_uri": "https://localhost:8080/"
        },
        "id": "6lT-Ns6oT4Kp",
        "outputId": "c670cf86-814e-4c3c-aaff-d963e7b3101c"
      },
      "execution_count": null,
      "outputs": [
        {
          "output_type": "execute_result",
          "data": {
            "text/plain": [
              "7"
            ]
          },
          "metadata": {},
          "execution_count": 37
        }
      ]
    },
    {
      "cell_type": "code",
      "source": [
        "def test4 () :\n",
        "  return 'this is my first clss'"
      ],
      "metadata": {
        "id": "TEbEOXcAT49a"
      },
      "execution_count": null,
      "outputs": []
    },
    {
      "cell_type": "code",
      "source": [
        "test4()"
      ],
      "metadata": {
        "colab": {
          "base_uri": "https://localhost:8080/",
          "height": 35
        },
        "id": "NogudYQUVHkc",
        "outputId": "6df13db0-6beb-42e5-e7e4-909e59664875"
      },
      "execution_count": null,
      "outputs": [
        {
          "output_type": "execute_result",
          "data": {
            "text/plain": [
              "'this is my first clss'"
            ],
            "application/vnd.google.colaboratory.intrinsic+json": {
              "type": "string"
            }
          },
          "metadata": {},
          "execution_count": 40
        }
      ]
    },
    {
      "cell_type": "code",
      "source": [
        "a = test4() + 'of ineauron'"
      ],
      "metadata": {
        "id": "zSvc1YlGVPV1"
      },
      "execution_count": null,
      "outputs": []
    },
    {
      "cell_type": "code",
      "source": [
        "a"
      ],
      "metadata": {
        "colab": {
          "base_uri": "https://localhost:8080/",
          "height": 35
        },
        "id": "bNc_hwuJVTwE",
        "outputId": "6c12f68a-6a09-40a1-ab16-5044502995cb"
      },
      "execution_count": null,
      "outputs": [
        {
          "output_type": "execute_result",
          "data": {
            "text/plain": [
              "'this is my first clssof ineauron'"
            ],
            "application/vnd.google.colaboratory.intrinsic+json": {
              "type": "string"
            }
          },
          "metadata": {},
          "execution_count": 42
        }
      ]
    },
    {
      "cell_type": "code",
      "source": [
        "def test5 () :\n",
        "  print('this is my first clss')"
      ],
      "metadata": {
        "id": "GzPJAVL5VUin"
      },
      "execution_count": null,
      "outputs": []
    },
    {
      "cell_type": "code",
      "source": [
        "a = test5()"
      ],
      "metadata": {
        "colab": {
          "base_uri": "https://localhost:8080/"
        },
        "id": "MuPcfOHWVZqa",
        "outputId": "c4b82637-757f-4da5-8521-8c5bbea3da22"
      },
      "execution_count": null,
      "outputs": [
        {
          "output_type": "stream",
          "name": "stdout",
          "text": [
            "this is my first clss\n"
          ]
        }
      ]
    },
    {
      "cell_type": "code",
      "source": [
        "a = test5() + 'of inearon'"
      ],
      "metadata": {
        "colab": {
          "base_uri": "https://localhost:8080/",
          "height": 184
        },
        "id": "kxjmy_sjVeG3",
        "outputId": "9c8d6bc7-5abe-494e-bc9a-a62325126be9"
      },
      "execution_count": null,
      "outputs": [
        {
          "output_type": "stream",
          "name": "stdout",
          "text": [
            "this is my first clss\n"
          ]
        },
        {
          "output_type": "error",
          "ename": "TypeError",
          "evalue": "ignored",
          "traceback": [
            "\u001b[0;31m---------------------------------------------------------------------------\u001b[0m",
            "\u001b[0;31mTypeError\u001b[0m                                 Traceback (most recent call last)",
            "\u001b[0;32m<ipython-input-46-df844a6ae79a>\u001b[0m in \u001b[0;36m<module>\u001b[0;34m\u001b[0m\n\u001b[0;32m----> 1\u001b[0;31m \u001b[0ma\u001b[0m \u001b[0;34m=\u001b[0m \u001b[0mtest5\u001b[0m\u001b[0;34m(\u001b[0m\u001b[0;34m)\u001b[0m \u001b[0;34m+\u001b[0m \u001b[0;34m'of inearon'\u001b[0m\u001b[0;34m\u001b[0m\u001b[0;34m\u001b[0m\u001b[0m\n\u001b[0m",
            "\u001b[0;31mTypeError\u001b[0m: unsupported operand type(s) for +: 'NoneType' and 'str'"
          ]
        }
      ]
    },
    {
      "cell_type": "code",
      "source": [
        "def test(n):\n",
        "  return n*2"
      ],
      "metadata": {
        "id": "D1fNk4ldVheN"
      },
      "execution_count": null,
      "outputs": []
    },
    {
      "cell_type": "code",
      "source": [
        "test([1,2,4,5,6])"
      ],
      "metadata": {
        "colab": {
          "base_uri": "https://localhost:8080/"
        },
        "id": "FVUGYIwhVtpi",
        "outputId": "ed56b51c-b78e-4080-b0f6-f5a924717238"
      },
      "execution_count": null,
      "outputs": [
        {
          "output_type": "execute_result",
          "data": {
            "text/plain": [
              "[1, 2, 4, 5, 6, 1, 2, 4, 5, 6]"
            ]
          },
          "metadata": {},
          "execution_count": 48
        }
      ]
    },
    {
      "cell_type": "code",
      "source": [
        "test(23)"
      ],
      "metadata": {
        "colab": {
          "base_uri": "https://localhost:8080/"
        },
        "id": "eN18tXzCVwCc",
        "outputId": "9ca02945-3862-4038-efed-71369cec3e84"
      },
      "execution_count": null,
      "outputs": [
        {
          "output_type": "execute_result",
          "data": {
            "text/plain": [
              "46"
            ]
          },
          "metadata": {},
          "execution_count": 49
        }
      ]
    },
    {
      "cell_type": "markdown",
      "source": [
        "# Difference between return and print\n",
        "\n",
        "- print : the output was saved as none data type. so we cant do any operations after getting output from function if we use print function\n",
        "\n",
        "- return : the output was adjusted to proper data type automatically.so that we can do some proper operations like +,-,/,*...etc to the output we got if we use return in function."
      ],
      "metadata": {
        "id": "uioBp0r_JwU9"
      }
    },
    {
      "cell_type": "code",
      "source": [
        "def test8 (n):\n",
        "  return n, n*2"
      ],
      "metadata": {
        "id": "V-mMEECWVyuR"
      },
      "execution_count": null,
      "outputs": []
    },
    {
      "cell_type": "code",
      "source": [
        "test8 ([1,2,45,56])"
      ],
      "metadata": {
        "colab": {
          "base_uri": "https://localhost:8080/"
        },
        "id": "IitMSnVOV8Tj",
        "outputId": "0a36781c-eadb-4b65-b45d-38fb0e77abce"
      },
      "execution_count": null,
      "outputs": [
        {
          "output_type": "execute_result",
          "data": {
            "text/plain": [
              "([1, 2, 45, 56], [1, 2, 45, 56, 1, 2, 45, 56])"
            ]
          },
          "metadata": {},
          "execution_count": 51
        }
      ]
    },
    {
      "cell_type": "markdown",
      "source": [
        "# Types of Arguments/Parameters\n",
        "\n",
        "positional /Required arguments\n",
        "\n",
        "Keyword arguments\n",
        "\n",
        "Default arguments\n",
        "\n",
        "variable length argument"
      ],
      "metadata": {
        "id": "SatYmspZa7tZ"
      }
    },
    {
      "cell_type": "markdown",
      "source": [
        "# Required and positional arguments\n",
        "\n",
        "- Number of arguments should be same in definition and call.\n",
        "\n",
        "- Order should also be same\n"
      ],
      "metadata": {
        "id": "irIL3kg5bsym"
      }
    },
    {
      "cell_type": "code",
      "source": [
        "def demo5(a,b,c):\n",
        "  print('the value of a:',  a)\n",
        "  print('the value of b :', b)\n",
        "  print('the value of c :', c)"
      ],
      "metadata": {
        "id": "vfBS2ZQWcY-2"
      },
      "execution_count": null,
      "outputs": []
    },
    {
      "cell_type": "code",
      "source": [
        "demo5(2,4,5)\n",
        "\n",
        "# based on the variable postioanl sequence the variable values will be assigned"
      ],
      "metadata": {
        "colab": {
          "base_uri": "https://localhost:8080/"
        },
        "id": "5pGbuqYkcY7G",
        "outputId": "858e602d-83fe-4d77-bda4-2860e3be3767"
      },
      "execution_count": null,
      "outputs": [
        {
          "output_type": "stream",
          "name": "stdout",
          "text": [
            "the value of a: 2\n",
            "the value of b : 4\n",
            "the value of c : 5\n"
          ]
        }
      ]
    },
    {
      "cell_type": "code",
      "source": [
        "# WAP to check if the given number is odd palindrome, i.e. a palindrome number whose all digits are odd. \n",
        "#(Hint: The program should have two functions isPalindrome and isOdd.)\n",
        "#Input : 131\n",
        "\n",
        "\n",
        "def is_odd_pelindrome(a):\n",
        "  b = str(a)\n",
        "\n",
        "  if b == b[::-1]:\n",
        "    for i in b:\n",
        "      if int(i) % 2 == 0:\n",
        "        return False\n",
        "    else:\n",
        "      return True\n",
        "\n"
      ],
      "metadata": {
        "id": "FKXGjtsdl4zR"
      },
      "execution_count": null,
      "outputs": []
    },
    {
      "cell_type": "code",
      "source": [
        "is_odd_pelindrome(171)"
      ],
      "metadata": {
        "colab": {
          "base_uri": "https://localhost:8080/"
        },
        "id": "X8n7tuVUnP2v",
        "outputId": "4a2b65df-dce0-436e-c097-cd36d0cdd486"
      },
      "execution_count": null,
      "outputs": [
        {
          "output_type": "execute_result",
          "data": {
            "text/plain": [
              "True"
            ]
          },
          "metadata": {},
          "execution_count": 92
        }
      ]
    },
    {
      "cell_type": "code",
      "source": [
        "# WAP to check if the given number is odd palindrome, i.e. a palindrome number whose all digits are odd. \n",
        "#(Hint: The program should have two functions isPalindrome and isOdd.)\n",
        "#Input : 131\n",
        "\n",
        "\n",
        "def is_peindrome(a):\n",
        "   b = str(a)\n",
        "\n",
        "   if b == b[::-1]:\n",
        "     return True\n",
        "\n",
        "   else :\n",
        "      return False"
      ],
      "metadata": {
        "id": "MxNrVX9mns2U"
      },
      "execution_count": null,
      "outputs": []
    },
    {
      "cell_type": "code",
      "source": [
        "def check_odd_pelindrome(a):\n",
        "  b = str(a)\n",
        "  if is_pelindrome(a) == True:\n",
        "    for i in b :\n",
        "      if int(i) %2 == 0:\n",
        "        return 'its even pelindrome'\n",
        "\n",
        "      else :\n",
        "        return 'its odd pelindrome'\n",
        "\n",
        "\n",
        "  else :\n",
        "      return 'its not pelindrome'\n"
      ],
      "metadata": {
        "id": "m-TsIwcXnsjS"
      },
      "execution_count": null,
      "outputs": []
    },
    {
      "cell_type": "code",
      "source": [
        "check_odd_pelindrome(531)"
      ],
      "metadata": {
        "colab": {
          "base_uri": "https://localhost:8080/",
          "height": 35
        },
        "id": "XOY0093IpC_c",
        "outputId": "2a380d12-14af-4fc7-b1be-243fff31b501"
      },
      "execution_count": null,
      "outputs": [
        {
          "output_type": "execute_result",
          "data": {
            "text/plain": [
              "'its not pelindrome'"
            ],
            "application/vnd.google.colaboratory.intrinsic+json": {
              "type": "string"
            }
          },
          "metadata": {},
          "execution_count": 102
        }
      ]
    },
    {
      "cell_type": "markdown",
      "source": [
        "\n",
        "\n",
        "\n",
        "# Keyword arguments\n",
        "\n",
        "- Number of arguments should be same in definition and call.\n",
        "\n",
        "- Keyword arguments order can be any thing.\n",
        "\n",
        "- But should be put after required arguments in the function call.\n",
        "\n"
      ],
      "metadata": {
        "id": "enbpV1Qxa7cK"
      }
    },
    {
      "cell_type": "code",
      "source": [
        "def demo6(a,b,c):\n",
        "  print('the value of a:',  a)\n",
        "  print('the value of b :', b)\n",
        "  print('the value of c :', c)"
      ],
      "metadata": {
        "id": "c3KrKifcdMFa"
      },
      "execution_count": null,
      "outputs": []
    },
    {
      "cell_type": "code",
      "source": [
        "demo6(c = 10,b = 20, a = 14)"
      ],
      "metadata": {
        "colab": {
          "base_uri": "https://localhost:8080/"
        },
        "id": "gC5HKR1jdL4j",
        "outputId": "0ede679a-df3e-455d-ae0f-3f6d01f032de"
      },
      "execution_count": null,
      "outputs": [
        {
          "output_type": "stream",
          "name": "stdout",
          "text": [
            "the value of a: 14\n",
            "the value of b : 20\n",
            "the value of c : 10\n"
          ]
        }
      ]
    },
    {
      "cell_type": "markdown",
      "source": [
        "# Default arguments\n",
        "\n",
        "- These are optional arguments.\n",
        "\n",
        "- Should be put after the non-default arguments in the function definition.\n",
        "\n",
        "- If not passed in function call, the default behaviour is followed."
      ],
      "metadata": {
        "id": "f52pvbasdgvK"
      }
    },
    {
      "cell_type": "code",
      "source": [
        "def demo7(a,b,c = 10):\n",
        "  print('the value of a:',  a)\n",
        "  print('the value of b :', b)\n",
        "  print('the value of c :', c)\n",
        "\n",
        "  # we are giving the default value to c. and default variable should be last in the function defination.\n",
        "  # if we not mention the c variable value in calling function, by default it will take value of 10 mentioned in function."
      ],
      "metadata": {
        "id": "0yhQRwTvdsOV"
      },
      "execution_count": null,
      "outputs": []
    },
    {
      "cell_type": "code",
      "source": [
        "demo7(1,2)"
      ],
      "metadata": {
        "colab": {
          "base_uri": "https://localhost:8080/"
        },
        "id": "OOwj3oYYdsKa",
        "outputId": "d8cc4b97-81d5-48d5-c972-082f43c38887"
      },
      "execution_count": null,
      "outputs": [
        {
          "output_type": "stream",
          "name": "stdout",
          "text": [
            "the value of a: 1\n",
            "the value of b : 2\n",
            "the value of c : 10\n"
          ]
        }
      ]
    },
    {
      "cell_type": "code",
      "source": [
        "demo7(1,2,58)"
      ],
      "metadata": {
        "colab": {
          "base_uri": "https://localhost:8080/"
        },
        "id": "ta0SdV0Yd6_S",
        "outputId": "53e396e2-35eb-4026-f659-b212780bc487"
      },
      "execution_count": null,
      "outputs": [
        {
          "output_type": "stream",
          "name": "stdout",
          "text": [
            "the value of a: 1\n",
            "the value of b : 2\n",
            "the value of c : 58\n"
          ]
        }
      ]
    },
    {
      "cell_type": "code",
      "source": [],
      "metadata": {
        "id": "EFMJYu0Bd6wI"
      },
      "execution_count": null,
      "outputs": []
    },
    {
      "cell_type": "code",
      "source": [
        "b = test8([1,34,56])"
      ],
      "metadata": {
        "id": "P2bzRPeSV-0y"
      },
      "execution_count": null,
      "outputs": []
    },
    {
      "cell_type": "code",
      "source": [
        "b"
      ],
      "metadata": {
        "colab": {
          "base_uri": "https://localhost:8080/"
        },
        "id": "7jtp5-8jWENm",
        "outputId": "e05825b6-9b66-41bd-9787-e1fb9efd02fa"
      },
      "execution_count": null,
      "outputs": [
        {
          "output_type": "execute_result",
          "data": {
            "text/plain": [
              "([1, 34, 56], [1, 34, 56, 1, 34, 56])"
            ]
          },
          "metadata": {},
          "execution_count": 53
        }
      ]
    },
    {
      "cell_type": "code",
      "source": [
        "b[0]"
      ],
      "metadata": {
        "colab": {
          "base_uri": "https://localhost:8080/"
        },
        "id": "YGikcKA8WFF-",
        "outputId": "7d9d5abd-aeb9-4879-935e-15003f03356d"
      },
      "execution_count": null,
      "outputs": [
        {
          "output_type": "execute_result",
          "data": {
            "text/plain": [
              "[1, 34, 56]"
            ]
          },
          "metadata": {},
          "execution_count": 54
        }
      ]
    },
    {
      "cell_type": "code",
      "source": [
        "def test10 (n, m =20):\n",
        "  return n+m"
      ],
      "metadata": {
        "id": "PbGRsrKHWIoS"
      },
      "execution_count": null,
      "outputs": []
    },
    {
      "cell_type": "code",
      "source": [
        "test10(12)"
      ],
      "metadata": {
        "colab": {
          "base_uri": "https://localhost:8080/"
        },
        "id": "GzXAPjK6XibJ",
        "outputId": "17bf80ed-ae88-4736-ffe9-79ac958e10df"
      },
      "execution_count": null,
      "outputs": [
        {
          "output_type": "execute_result",
          "data": {
            "text/plain": [
              "32"
            ]
          },
          "metadata": {},
          "execution_count": 56
        }
      ]
    },
    {
      "cell_type": "code",
      "source": [
        "test10(10,15)"
      ],
      "metadata": {
        "colab": {
          "base_uri": "https://localhost:8080/"
        },
        "id": "0Br8fTzGXjwj",
        "outputId": "64f7f290-e4b9-4251-a328-cde316d271f3"
      },
      "execution_count": null,
      "outputs": [
        {
          "output_type": "execute_result",
          "data": {
            "text/plain": [
              "25"
            ]
          },
          "metadata": {},
          "execution_count": 57
        }
      ]
    },
    {
      "cell_type": "code",
      "source": [
        "def boolx(x = True , y = False):\n",
        "  return x + y"
      ],
      "metadata": {
        "id": "K3fb3XXuXzjT"
      },
      "execution_count": null,
      "outputs": []
    },
    {
      "cell_type": "code",
      "source": [
        "boolx()"
      ],
      "metadata": {
        "colab": {
          "base_uri": "https://localhost:8080/"
        },
        "id": "tmpQMr8jYJ2V",
        "outputId": "d64afc1d-5de7-4368-8ca0-c59bbefc5364"
      },
      "execution_count": null,
      "outputs": [
        {
          "output_type": "execute_result",
          "data": {
            "text/plain": [
              "1"
            ]
          },
          "metadata": {},
          "execution_count": 60
        }
      ]
    },
    {
      "cell_type": "code",
      "source": [
        "def travel (bike = True, Car = False):\n",
        "  plan_travel = bike or Car\n",
        "  return bike, Car, plan_travel"
      ],
      "metadata": {
        "id": "amoHkypiYMmo"
      },
      "execution_count": null,
      "outputs": []
    },
    {
      "cell_type": "code",
      "source": [
        "travel()"
      ],
      "metadata": {
        "colab": {
          "base_uri": "https://localhost:8080/"
        },
        "id": "oRLjhaaoY02j",
        "outputId": "1fb44096-2378-4213-f61b-75f57b6cf9b7"
      },
      "execution_count": null,
      "outputs": [
        {
          "output_type": "execute_result",
          "data": {
            "text/plain": [
              "(True, False, True)"
            ]
          },
          "metadata": {},
          "execution_count": 64
        }
      ]
    },
    {
      "cell_type": "code",
      "source": [
        "# Function / Method Over loading : its only possible by default arguments"
      ],
      "metadata": {
        "id": "O3eglvonhKQf"
      },
      "execution_count": null,
      "outputs": []
    },
    {
      "cell_type": "code",
      "source": [
        "round(2.456)"
      ],
      "metadata": {
        "colab": {
          "base_uri": "https://localhost:8080/"
        },
        "id": "71nw4PiAhJ_f",
        "outputId": "fd0d1b47-e8c2-4c45-91c5-1774ab4636d7"
      },
      "execution_count": null,
      "outputs": [
        {
          "output_type": "execute_result",
          "data": {
            "text/plain": [
              "2"
            ]
          },
          "metadata": {},
          "execution_count": 82
        }
      ]
    },
    {
      "cell_type": "code",
      "source": [
        "round(2.456,2)"
      ],
      "metadata": {
        "colab": {
          "base_uri": "https://localhost:8080/"
        },
        "id": "OUYkXwz_hgsS",
        "outputId": "5680a39b-8ac3-4bd5-c9ce-6d816cff6abf"
      },
      "execution_count": null,
      "outputs": [
        {
          "output_type": "execute_result",
          "data": {
            "text/plain": [
              "2.46"
            ]
          },
          "metadata": {},
          "execution_count": 83
        }
      ]
    },
    {
      "cell_type": "code",
      "source": [
        "# in same round function...if we provide one vaariable it works in another manner and if we provide 2 variables it works in another manner."
      ],
      "metadata": {
        "id": "Mm6U9ay0hl8K"
      },
      "execution_count": null,
      "outputs": []
    },
    {
      "cell_type": "code",
      "source": [
        "# Area Example\n",
        "\n",
        "square = l **2\n",
        "rectangle = l * b"
      ],
      "metadata": {
        "id": "aGWAgJL4iB2J"
      },
      "execution_count": null,
      "outputs": []
    },
    {
      "cell_type": "code",
      "source": [
        "def area(length, width = False) :\n",
        "  if width == False :\n",
        "    return length**2\n",
        "\n",
        "  else :\n",
        "    return length * width"
      ],
      "metadata": {
        "id": "-QSS4mTdiByO"
      },
      "execution_count": null,
      "outputs": []
    },
    {
      "cell_type": "code",
      "source": [
        "area(10,40) #rectangle"
      ],
      "metadata": {
        "colab": {
          "base_uri": "https://localhost:8080/"
        },
        "id": "EOuY71iSijtV",
        "outputId": "48541c92-d5ae-4517-a91a-9f573d6ae612"
      },
      "execution_count": null,
      "outputs": [
        {
          "output_type": "execute_result",
          "data": {
            "text/plain": [
              "400"
            ]
          },
          "metadata": {},
          "execution_count": 86
        }
      ]
    },
    {
      "cell_type": "code",
      "source": [
        "area(10) # Square"
      ],
      "metadata": {
        "colab": {
          "base_uri": "https://localhost:8080/"
        },
        "id": "q6dqiYrFinaN",
        "outputId": "ee3552fa-bd6f-4bd7-a989-cdc75f16c016"
      },
      "execution_count": null,
      "outputs": [
        {
          "output_type": "execute_result",
          "data": {
            "text/plain": [
              "100"
            ]
          },
          "metadata": {},
          "execution_count": 88
        }
      ]
    },
    {
      "cell_type": "markdown",
      "source": [
        "# Variable Length Argument\n",
        "\n",
        "we will not give how many paramenters we should take in function defination. But it will take any number of paramenters by using *args, **kwargs"
      ],
      "metadata": {
        "id": "7oJOd8vWj9Xm"
      }
    },
    {
      "cell_type": "code",
      "source": [
        "def test11(*args):\n",
        "  return args"
      ],
      "metadata": {
        "id": "t1taPjIQY2h1"
      },
      "execution_count": null,
      "outputs": []
    },
    {
      "cell_type": "code",
      "source": [
        "test11('siva','Durga','Prasad',3,45,567)"
      ],
      "metadata": {
        "colab": {
          "base_uri": "https://localhost:8080/"
        },
        "id": "2YJSeMtrap19",
        "outputId": "66cf0a0a-aa63-4d75-dccd-0a2372ca1806"
      },
      "execution_count": null,
      "outputs": [
        {
          "output_type": "execute_result",
          "data": {
            "text/plain": [
              "('siva', 'Durga', 'Prasad', 3, 45, 567)"
            ]
          },
          "metadata": {},
          "execution_count": 66
        }
      ]
    },
    {
      "cell_type": "code",
      "source": [
        "def test12(*args):\n",
        "  return args "
      ],
      "metadata": {
        "id": "dkAcWhWzawDs"
      },
      "execution_count": null,
      "outputs": []
    },
    {
      "cell_type": "code",
      "source": [
        "a = test12(122,34,53,[24,45],'dis')"
      ],
      "metadata": {
        "id": "lW_pjOKfbSHC"
      },
      "execution_count": null,
      "outputs": []
    },
    {
      "cell_type": "code",
      "source": [
        "a"
      ],
      "metadata": {
        "colab": {
          "base_uri": "https://localhost:8080/"
        },
        "id": "CmF_HnoTbppP",
        "outputId": "286d4ab6-abc9-451a-8303-484f8c3e42a6"
      },
      "execution_count": null,
      "outputs": [
        {
          "output_type": "execute_result",
          "data": {
            "text/plain": [
              "(122, 34, 53, [24, 45], 'dis')"
            ]
          },
          "metadata": {},
          "execution_count": 71
        }
      ]
    },
    {
      "cell_type": "code",
      "source": [
        "l = []\n",
        "for i in a :\n",
        "  l.append(i)\n"
      ],
      "metadata": {
        "id": "GNWPo9ksbqsX"
      },
      "execution_count": null,
      "outputs": []
    },
    {
      "cell_type": "code",
      "source": [
        "l"
      ],
      "metadata": {
        "colab": {
          "base_uri": "https://localhost:8080/"
        },
        "id": "z3cDywBxbyTV",
        "outputId": "9a8e26cb-5f8d-4f0d-f892-4ec7d8c2a5b2"
      },
      "execution_count": null,
      "outputs": [
        {
          "output_type": "execute_result",
          "data": {
            "text/plain": [
              "[122, 34, 53, [24, 45], 'dis']"
            ]
          },
          "metadata": {},
          "execution_count": 73
        }
      ]
    },
    {
      "cell_type": "code",
      "source": [
        "def test13 (*args) :\n",
        "  l = []\n",
        "  for i in args :\n",
        "    l = l+i\n",
        "  return l"
      ],
      "metadata": {
        "id": "Y6WEFOE3bzYB"
      },
      "execution_count": null,
      "outputs": []
    },
    {
      "cell_type": "code",
      "source": [
        "test13([1,2,3,5],[34,65,34],[1,0,5,45])"
      ],
      "metadata": {
        "colab": {
          "base_uri": "https://localhost:8080/"
        },
        "id": "xOcwjO4YdAyT",
        "outputId": "232ea520-57da-4851-b1bd-0ae619a79f77"
      },
      "execution_count": null,
      "outputs": [
        {
          "output_type": "execute_result",
          "data": {
            "text/plain": [
              "[1, 2, 3, 5, 34, 65, 34, 1, 0, 5, 45]"
            ]
          },
          "metadata": {},
          "execution_count": 80
        }
      ]
    },
    {
      "cell_type": "code",
      "source": [
        "test13('siva',123,[23,45,56],[12,45,90])"
      ],
      "metadata": {
        "colab": {
          "base_uri": "https://localhost:8080/",
          "height": 270
        },
        "id": "6lDcC74TdaRC",
        "outputId": "824b9d5f-1685-4eaa-faf1-4ed010a58613"
      },
      "execution_count": null,
      "outputs": [
        {
          "output_type": "error",
          "ename": "TypeError",
          "evalue": "ignored",
          "traceback": [
            "\u001b[0;31m---------------------------------------------------------------------------\u001b[0m",
            "\u001b[0;31mTypeError\u001b[0m                                 Traceback (most recent call last)",
            "\u001b[0;32m<ipython-input-81-f1e581b759a4>\u001b[0m in \u001b[0;36m<module>\u001b[0;34m\u001b[0m\n\u001b[0;32m----> 1\u001b[0;31m \u001b[0mtest13\u001b[0m\u001b[0;34m(\u001b[0m\u001b[0;34m'siva'\u001b[0m\u001b[0;34m,\u001b[0m\u001b[0;36m123\u001b[0m\u001b[0;34m,\u001b[0m\u001b[0;34m[\u001b[0m\u001b[0;36m23\u001b[0m\u001b[0;34m,\u001b[0m\u001b[0;36m45\u001b[0m\u001b[0;34m,\u001b[0m\u001b[0;36m56\u001b[0m\u001b[0;34m]\u001b[0m\u001b[0;34m,\u001b[0m\u001b[0;34m[\u001b[0m\u001b[0;36m12\u001b[0m\u001b[0;34m,\u001b[0m\u001b[0;36m45\u001b[0m\u001b[0;34m,\u001b[0m\u001b[0;36m90\u001b[0m\u001b[0;34m]\u001b[0m\u001b[0;34m)\u001b[0m\u001b[0;34m\u001b[0m\u001b[0;34m\u001b[0m\u001b[0m\n\u001b[0m",
            "\u001b[0;32m<ipython-input-79-7948fd73982b>\u001b[0m in \u001b[0;36mtest13\u001b[0;34m(*args)\u001b[0m\n\u001b[1;32m      2\u001b[0m   \u001b[0ml\u001b[0m \u001b[0;34m=\u001b[0m \u001b[0;34m[\u001b[0m\u001b[0;34m]\u001b[0m\u001b[0;34m\u001b[0m\u001b[0;34m\u001b[0m\u001b[0m\n\u001b[1;32m      3\u001b[0m   \u001b[0;32mfor\u001b[0m \u001b[0mi\u001b[0m \u001b[0;32min\u001b[0m \u001b[0margs\u001b[0m \u001b[0;34m:\u001b[0m\u001b[0;34m\u001b[0m\u001b[0;34m\u001b[0m\u001b[0m\n\u001b[0;32m----> 4\u001b[0;31m     \u001b[0ml\u001b[0m \u001b[0;34m=\u001b[0m \u001b[0ml\u001b[0m\u001b[0;34m+\u001b[0m\u001b[0mi\u001b[0m\u001b[0;34m\u001b[0m\u001b[0;34m\u001b[0m\u001b[0m\n\u001b[0m\u001b[1;32m      5\u001b[0m   \u001b[0;32mreturn\u001b[0m \u001b[0ml\u001b[0m\u001b[0;34m\u001b[0m\u001b[0;34m\u001b[0m\u001b[0m\n",
            "\u001b[0;31mTypeError\u001b[0m: can only concatenate list (not \"str\") to list"
          ]
        }
      ]
    },
    {
      "cell_type": "code",
      "source": [
        "def test14 (*args):\n",
        "  l = []\n",
        "  for i in args:\n",
        "    if type(i) == list:\n",
        "            l = l+i\n",
        "  return l"
      ],
      "metadata": {
        "id": "XI4dcwc6emNa"
      },
      "execution_count": null,
      "outputs": []
    },
    {
      "cell_type": "code",
      "source": [
        "test14('siva',123,[23,45,56],[12,45,90])"
      ],
      "metadata": {
        "colab": {
          "base_uri": "https://localhost:8080/"
        },
        "id": "6zJEBF2fe6cR",
        "outputId": "b22ae991-8466-455e-c10a-7a16976058e0"
      },
      "execution_count": null,
      "outputs": [
        {
          "output_type": "execute_result",
          "data": {
            "text/plain": [
              "[23, 45, 56, 12, 45, 90]"
            ]
          },
          "metadata": {},
          "execution_count": 93
        }
      ]
    },
    {
      "cell_type": "code",
      "source": [
        "def test16(**kwargs):\n",
        "  return kwargs"
      ],
      "metadata": {
        "id": "jx-a2Byme-eR"
      },
      "execution_count": null,
      "outputs": []
    },
    {
      "cell_type": "code",
      "source": [
        "test16(12,34,45,56)"
      ],
      "metadata": {
        "colab": {
          "base_uri": "https://localhost:8080/",
          "height": 166
        },
        "id": "Wfb4vA4rhHZA",
        "outputId": "8d63b95e-fc1d-4931-b42c-1c1a68be0230"
      },
      "execution_count": null,
      "outputs": [
        {
          "output_type": "error",
          "ename": "TypeError",
          "evalue": "ignored",
          "traceback": [
            "\u001b[0;31m---------------------------------------------------------------------------\u001b[0m",
            "\u001b[0;31mTypeError\u001b[0m                                 Traceback (most recent call last)",
            "\u001b[0;32m<ipython-input-95-4d18e85da83c>\u001b[0m in \u001b[0;36m<module>\u001b[0;34m\u001b[0m\n\u001b[0;32m----> 1\u001b[0;31m \u001b[0mtest16\u001b[0m\u001b[0;34m(\u001b[0m\u001b[0;36m12\u001b[0m\u001b[0;34m,\u001b[0m\u001b[0;36m34\u001b[0m\u001b[0;34m,\u001b[0m\u001b[0;36m45\u001b[0m\u001b[0;34m,\u001b[0m\u001b[0;36m56\u001b[0m\u001b[0;34m)\u001b[0m\u001b[0;34m\u001b[0m\u001b[0;34m\u001b[0m\u001b[0m\n\u001b[0m",
            "\u001b[0;31mTypeError\u001b[0m: test16() takes 0 positional arguments but 4 were given"
          ]
        }
      ]
    },
    {
      "cell_type": "code",
      "source": [
        "test16(a = 12,b =13,c = 45,d= 56)"
      ],
      "metadata": {
        "colab": {
          "base_uri": "https://localhost:8080/"
        },
        "id": "ha_5mFV5hJMF",
        "outputId": "ac9eab36-f96b-4b02-d125-1544fd5cc6bb"
      },
      "execution_count": null,
      "outputs": [
        {
          "output_type": "execute_result",
          "data": {
            "text/plain": [
              "{'a': 12, 'b': 13, 'c': 45, 'd': 56}"
            ]
          },
          "metadata": {},
          "execution_count": 96
        }
      ]
    },
    {
      "cell_type": "code",
      "source": [
        "def test17(args,**kwargs):\n",
        "  return args "
      ],
      "metadata": {
        "id": "7UMlnsEbhPQl"
      },
      "execution_count": null,
      "outputs": []
    },
    {
      "cell_type": "code",
      "source": [
        "# to create a function take any number of mixed data and try  to create a list  of seperate data based on data type and return multiple results\n",
        "\n",
        "def fun1(**args):\n",
        "  a = []\n",
        "  b = []\n",
        "  c = []\n",
        "  d = []\n",
        "  e =[]\n",
        "  f = []\n",
        "  g = []\n",
        "\n",
        "  for i in args :\n",
        "    if type(i )== int:\n",
        "      a.append(i)\n",
        "    if type(i) == str :\n",
        "      b.append(i)\n",
        "    if type(i) == float:\n",
        "      c.append(i)\n",
        "    if type(i) == tuple:\n",
        "      d.append(i)\n",
        "    if type(i) == bool :\n",
        "      e.append(i)\n",
        "    if type(i) == set:\n",
        "      f.append(i)\n",
        "    if type(i) == dict:\n",
        "      g.append(i)\n",
        "\n",
        "  return a,b,c,d,e,f,g"
      ],
      "metadata": {
        "id": "nilZ3kuDi6mW"
      },
      "execution_count": null,
      "outputs": []
    },
    {
      "cell_type": "code",
      "source": [
        "def fun3(*args):\n",
        "  dt ={}\n",
        "  for i in args:\n",
        "    if type(i) in dt:\n",
        "      dt[type(i)] =   i\n"
      ],
      "metadata": {
        "id": "lZkIU4H3jnQm"
      },
      "execution_count": null,
      "outputs": []
    },
    {
      "cell_type": "code",
      "source": [
        "# create a function which will be able to use args and kwargs , and it will be able to do all the list value concatination and return a list\n",
        "\n",
        "def fun2(*args,**kwargs):\n",
        "  b = []\n",
        "  c = []\n",
        "  for i in args:\n",
        "    if type(i) == list:\n",
        "      b.append(i)\n",
        "  for i in kwargs.items() :\n",
        "    if type(i[1]) == list:\n",
        "      c.append(i[1])\n",
        "\n",
        "  return b,c\n"
      ],
      "metadata": {
        "id": "R-liYE1ljAWd"
      },
      "execution_count": null,
      "outputs": []
    },
    {
      "cell_type": "code",
      "source": [
        "fun2([1,2,35,12],[12,45,657,1],3,4,5,6,1,a =10, b= 23,c = 12,d = [1,2,3,4,5,5,6])"
      ],
      "metadata": {
        "colab": {
          "base_uri": "https://localhost:8080/"
        },
        "id": "I75834-uehQf",
        "outputId": "fecc3a98-13ca-48e0-d826-b8b689f05c92"
      },
      "execution_count": null,
      "outputs": [
        {
          "output_type": "execute_result",
          "data": {
            "text/plain": [
              "([[1, 2, 35, 12], [12, 45, 657, 1]], [[1, 2, 3, 4, 5, 5, 6]])"
            ]
          },
          "metadata": {},
          "execution_count": 10
        }
      ]
    },
    {
      "cell_type": "code",
      "source": [
        "def test18 (**kwargs) :\n",
        "  return kwargs"
      ],
      "metadata": {
        "id": "67pSmPZ_eu5H"
      },
      "execution_count": null,
      "outputs": []
    },
    {
      "cell_type": "code",
      "source": [
        "test18(a = 12,b =[1,2,3,4],c = 23,d =['siva','durga','prasad'],n = 6+7j)"
      ],
      "metadata": {
        "colab": {
          "base_uri": "https://localhost:8080/"
        },
        "id": "Q7ZerIlMf1Bv",
        "outputId": "d21de2f0-c95a-41fb-90de-2442a51653a7"
      },
      "execution_count": null,
      "outputs": [
        {
          "output_type": "execute_result",
          "data": {
            "text/plain": [
              "{'a': 12,\n",
              " 'b': [1, 2, 3, 4],\n",
              " 'c': 23,\n",
              " 'd': ['siva', 'durga', 'prasad'],\n",
              " 'n': (6+7j)}"
            ]
          },
          "metadata": {},
          "execution_count": 12
        }
      ]
    },
    {
      "cell_type": "code",
      "source": [
        "def test19(**kwargs):\n",
        "  for i in kwargs.items():\n",
        "    print(i)\n",
        "  return kwargs \n",
        "\n"
      ],
      "metadata": {
        "id": "hg4ud39egSTf"
      },
      "execution_count": null,
      "outputs": []
    },
    {
      "cell_type": "code",
      "source": [
        "test19(a = 12,b =[1,2,3,4],c = 23,d =['siva','durga','prasad'],n = 6+7j)\n"
      ],
      "metadata": {
        "colab": {
          "base_uri": "https://localhost:8080/"
        },
        "id": "wXl7Y_iigyVj",
        "outputId": "d1872e28-d859-4d71-d580-d2b176354ec4"
      },
      "execution_count": null,
      "outputs": [
        {
          "output_type": "stream",
          "name": "stdout",
          "text": [
            "('a', 12)\n",
            "('b', [1, 2, 3, 4])\n",
            "('c', 23)\n",
            "('d', ['siva', 'durga', 'prasad'])\n",
            "('n', (6+7j))\n"
          ]
        },
        {
          "output_type": "execute_result",
          "data": {
            "text/plain": [
              "{'a': 12,\n",
              " 'b': [1, 2, 3, 4],\n",
              " 'c': 23,\n",
              " 'd': ['siva', 'durga', 'prasad'],\n",
              " 'n': (6+7j)}"
            ]
          },
          "metadata": {},
          "execution_count": 14
        }
      ]
    },
    {
      "cell_type": "code",
      "source": [
        "def test20(**kwargs):\n",
        "  for i in kwargs.items():\n",
        "    if type(i[1]) == list:\n",
        "      if 'siva' in i[1]:\n",
        "        print('i am able to find your name in input data')\n",
        "        print(i)\n",
        "  return kwargs "
      ],
      "metadata": {
        "id": "d3MXZ8Qag1UL"
      },
      "execution_count": null,
      "outputs": []
    },
    {
      "cell_type": "code",
      "source": [
        "test20(a = 12,b =[1,2,3,4],c = 23,d =['siva','durga','prasad'],n = 6+7j)"
      ],
      "metadata": {
        "colab": {
          "base_uri": "https://localhost:8080/"
        },
        "id": "RkoqSZHehk2w",
        "outputId": "fea57f8f-56b0-4217-dfb4-20a8b2ffcf7f"
      },
      "execution_count": null,
      "outputs": [
        {
          "output_type": "stream",
          "name": "stdout",
          "text": [
            "i am able to find your name in input data\n",
            "('d', ['siva', 'durga', 'prasad'])\n"
          ]
        },
        {
          "output_type": "execute_result",
          "data": {
            "text/plain": [
              "{'a': 12,\n",
              " 'b': [1, 2, 3, 4],\n",
              " 'c': 23,\n",
              " 'd': ['siva', 'durga', 'prasad'],\n",
              " 'n': (6+7j)}"
            ]
          },
          "metadata": {},
          "execution_count": 17
        }
      ]
    },
    {
      "cell_type": "code",
      "source": [
        "def test21(name,mail_id):\n",
        "  return mail_id , name"
      ],
      "metadata": {
        "id": "dbEt2C0Xhpts"
      },
      "execution_count": null,
      "outputs": []
    },
    {
      "cell_type": "code",
      "source": [
        "test21('siva', 'siva@gamil.com')"
      ],
      "metadata": {
        "colab": {
          "base_uri": "https://localhost:8080/"
        },
        "id": "AjmuKRaAuy-C",
        "outputId": "bf5f5a2e-35b1-4b31-a17f-c4f3ded1a15f"
      },
      "execution_count": null,
      "outputs": [
        {
          "output_type": "execute_result",
          "data": {
            "text/plain": [
              "('siva@gamil.com', 'siva')"
            ]
          },
          "metadata": {},
          "execution_count": 2
        }
      ]
    },
    {
      "cell_type": "code",
      "source": [
        "def test21(name,mail_id):\n",
        "  con = name + mail_id\n",
        "  return mail_id , name , con"
      ],
      "metadata": {
        "id": "QkdD0zpPu4ZL"
      },
      "execution_count": null,
      "outputs": []
    },
    {
      "cell_type": "code",
      "source": [
        "test21('siva','ram@gamil.com')"
      ],
      "metadata": {
        "colab": {
          "base_uri": "https://localhost:8080/"
        },
        "id": "1vKv7w6FvCDJ",
        "outputId": "e916eb9f-b4e3-45f2-e856-24ad83ddbc32"
      },
      "execution_count": null,
      "outputs": [
        {
          "output_type": "execute_result",
          "data": {
            "text/plain": [
              "('ram@gamil.com', 'siva', 'sivaram@gamil.com')"
            ]
          },
          "metadata": {},
          "execution_count": 6
        }
      ]
    },
    {
      "cell_type": "markdown",
      "source": [
        "Lambda Function / Anonmous Function"
      ],
      "metadata": {
        "id": "E8ZjRgPJvQzs"
      }
    },
    {
      "cell_type": "code",
      "source": [
        "a = 10\n",
        "b = 15\n",
        "\n",
        "def test22(x,y):\n",
        "  return x+y"
      ],
      "metadata": {
        "id": "4gjO1nVSvI3R"
      },
      "execution_count": null,
      "outputs": []
    },
    {
      "cell_type": "code",
      "source": [
        "test22(a,b)"
      ],
      "metadata": {
        "colab": {
          "base_uri": "https://localhost:8080/"
        },
        "id": "_ig9zdpyv6UY",
        "outputId": "0eb62db2-68d9-44f3-e61b-d72b46fec902"
      },
      "execution_count": null,
      "outputs": [
        {
          "output_type": "execute_result",
          "data": {
            "text/plain": [
              "25"
            ]
          },
          "metadata": {},
          "execution_count": 8
        }
      ]
    },
    {
      "cell_type": "code",
      "source": [
        "m = lambda x,y :x +y"
      ],
      "metadata": {
        "id": "Gv5m5Dpmv7jd"
      },
      "execution_count": null,
      "outputs": []
    },
    {
      "cell_type": "code",
      "source": [
        "m(a,b)"
      ],
      "metadata": {
        "colab": {
          "base_uri": "https://localhost:8080/"
        },
        "id": "dl7L9rAzwWE2",
        "outputId": "e304bc8a-66f6-4ee1-a3be-373c2534342f"
      },
      "execution_count": null,
      "outputs": [
        {
          "output_type": "execute_result",
          "data": {
            "text/plain": [
              "25"
            ]
          },
          "metadata": {},
          "execution_count": 11
        }
      ]
    },
    {
      "cell_type": "code",
      "source": [
        "m('siva','ram')"
      ],
      "metadata": {
        "colab": {
          "base_uri": "https://localhost:8080/",
          "height": 35
        },
        "id": "Xwq10oIIwenK",
        "outputId": "3bfc2e83-aae4-461a-b2ed-ddfdafedf6d9"
      },
      "execution_count": null,
      "outputs": [
        {
          "output_type": "execute_result",
          "data": {
            "text/plain": [
              "'sivaram'"
            ],
            "application/vnd.google.colaboratory.intrinsic+json": {
              "type": "string"
            }
          },
          "metadata": {},
          "execution_count": 12
        }
      ]
    },
    {
      "cell_type": "code",
      "source": [
        "b = 'siva'\n",
        "c = 'test'\n",
        "n = lambda arg1, arg2 : print(arg1,arg2)"
      ],
      "metadata": {
        "id": "KSkudQ4pww9h"
      },
      "execution_count": null,
      "outputs": []
    },
    {
      "cell_type": "code",
      "source": [
        "n(b,c)"
      ],
      "metadata": {
        "colab": {
          "base_uri": "https://localhost:8080/"
        },
        "id": "k-Tdup_nxayc",
        "outputId": "ea03b68a-2efc-4356-da1e-d7d6d0ffbb2c"
      },
      "execution_count": null,
      "outputs": [
        {
          "output_type": "stream",
          "name": "stdout",
          "text": [
            "siva test\n"
          ]
        }
      ]
    },
    {
      "cell_type": "code",
      "source": [
        "help(print)\n",
        "\n",
        "# Doc string --> the discription of the function to get the knowledge of function to the developer to use the function in proper manner"
      ],
      "metadata": {
        "colab": {
          "base_uri": "https://localhost:8080/"
        },
        "id": "0we0O7nQxciJ",
        "outputId": "abd117a9-1bff-4eba-ed65-682e4920c7e3"
      },
      "execution_count": null,
      "outputs": [
        {
          "output_type": "stream",
          "name": "stdout",
          "text": [
            "Help on built-in function print in module builtins:\n",
            "\n",
            "print(...)\n",
            "    print(value, ..., sep=' ', end='\\n', file=sys.stdout, flush=False)\n",
            "    \n",
            "    Prints the values to a stream, or to sys.stdout by default.\n",
            "    Optional keyword arguments:\n",
            "    file:  a file-like object (stream); defaults to the current sys.stdout.\n",
            "    sep:   string inserted between values, default a space.\n",
            "    end:   string appended after the last value, default a newline.\n",
            "    flush: whether to forcibly flush the stream.\n",
            "\n"
          ]
        }
      ]
    },
    {
      "cell_type": "code",
      "source": [
        "def test24():\n",
        "  print('my name is assf')"
      ],
      "metadata": {
        "id": "YSz9tGwD4O-A"
      },
      "execution_count": null,
      "outputs": []
    },
    {
      "cell_type": "code",
      "source": [
        "test24()"
      ],
      "metadata": {
        "colab": {
          "base_uri": "https://localhost:8080/"
        },
        "id": "vRC2ncTN4RuE",
        "outputId": "86f9a649-2b72-41a3-ee36-4e41ea5df0c7"
      },
      "execution_count": null,
      "outputs": [
        {
          "output_type": "stream",
          "name": "stdout",
          "text": [
            "my name is assf\n"
          ]
        }
      ]
    },
    {
      "cell_type": "code",
      "source": [
        "help(test24)"
      ],
      "metadata": {
        "colab": {
          "base_uri": "https://localhost:8080/"
        },
        "id": "uvl-z1BE597C",
        "outputId": "6c5fbec1-6295-4af6-b5fb-130ed6f30821"
      },
      "execution_count": null,
      "outputs": [
        {
          "output_type": "stream",
          "name": "stdout",
          "text": [
            "Help on function test24 in module __main__:\n",
            "\n",
            "test24()\n",
            "\n"
          ]
        }
      ]
    },
    {
      "cell_type": "code",
      "source": [
        "def test25():\n",
        "  '''\n",
        "  this is the test function with the help of this function you will be able to learn basic of fun\n",
        "\n",
        "  '''\n",
        "\n",
        "  print('my name is xyz')"
      ],
      "metadata": {
        "id": "vbzB3y_L6BV6"
      },
      "execution_count": null,
      "outputs": []
    },
    {
      "cell_type": "code",
      "source": [
        "help(test25)"
      ],
      "metadata": {
        "colab": {
          "base_uri": "https://localhost:8080/"
        },
        "id": "HQTYgFzN6h-T",
        "outputId": "f5695e53-0d12-4795-de0a-906aaeec2e0d"
      },
      "execution_count": null,
      "outputs": [
        {
          "output_type": "stream",
          "name": "stdout",
          "text": [
            "Help on function test25 in module __main__:\n",
            "\n",
            "test25()\n",
            "    this is the test function with the help of this function you will be able to learn basic of fun\n",
            "\n"
          ]
        }
      ]
    },
    {
      "cell_type": "code",
      "source": [
        " a = 10\n",
        "\n",
        " for i in a :\n",
        "   print(a)"
      ],
      "metadata": {
        "id": "lQ10vCB76kR3",
        "colab": {
          "base_uri": "https://localhost:8080/",
          "height": 218
        },
        "outputId": "86ca25a4-c24c-4e89-cf80-3443d33bf89b"
      },
      "execution_count": 1,
      "outputs": [
        {
          "output_type": "error",
          "ename": "TypeError",
          "evalue": "ignored",
          "traceback": [
            "\u001b[0;31m---------------------------------------------------------------------------\u001b[0m",
            "\u001b[0;31mTypeError\u001b[0m                                 Traceback (most recent call last)",
            "\u001b[0;32m<ipython-input-1-5d2808a11fd9>\u001b[0m in \u001b[0;36m<module>\u001b[0;34m\u001b[0m\n\u001b[1;32m      1\u001b[0m \u001b[0ma\u001b[0m \u001b[0;34m=\u001b[0m \u001b[0;36m10\u001b[0m\u001b[0;34m\u001b[0m\u001b[0;34m\u001b[0m\u001b[0m\n\u001b[1;32m      2\u001b[0m \u001b[0;34m\u001b[0m\u001b[0m\n\u001b[0;32m----> 3\u001b[0;31m \u001b[0;32mfor\u001b[0m \u001b[0mi\u001b[0m \u001b[0;32min\u001b[0m \u001b[0ma\u001b[0m \u001b[0;34m:\u001b[0m\u001b[0;34m\u001b[0m\u001b[0;34m\u001b[0m\u001b[0m\n\u001b[0m\u001b[1;32m      4\u001b[0m   \u001b[0mprint\u001b[0m\u001b[0;34m(\u001b[0m\u001b[0ma\u001b[0m\u001b[0;34m)\u001b[0m\u001b[0;34m\u001b[0m\u001b[0;34m\u001b[0m\u001b[0m\n",
            "\u001b[0;31mTypeError\u001b[0m: 'int' object is not iterable"
          ]
        }
      ]
    },
    {
      "cell_type": "code",
      "source": [
        "for i in 'siva':\n",
        "  print(i)"
      ],
      "metadata": {
        "colab": {
          "base_uri": "https://localhost:8080/"
        },
        "id": "qH7TA7fkz9-4",
        "outputId": "299b68de-c5f1-4ebe-cd8a-fbf2570fc7f3"
      },
      "execution_count": 2,
      "outputs": [
        {
          "output_type": "stream",
          "name": "stdout",
          "text": [
            "s\n",
            "i\n",
            "v\n",
            "a\n"
          ]
        }
      ]
    },
    {
      "cell_type": "code",
      "source": [
        "s = 'durga'\n",
        "\n",
        "next(s)"
      ],
      "metadata": {
        "colab": {
          "base_uri": "https://localhost:8080/",
          "height": 201
        },
        "id": "VN3Xf5Bt0BfW",
        "outputId": "f0e8d5fb-70ac-43bd-b3a3-40da380bb86c"
      },
      "execution_count": 3,
      "outputs": [
        {
          "output_type": "error",
          "ename": "TypeError",
          "evalue": "ignored",
          "traceback": [
            "\u001b[0;31m---------------------------------------------------------------------------\u001b[0m",
            "\u001b[0;31mTypeError\u001b[0m                                 Traceback (most recent call last)",
            "\u001b[0;32m<ipython-input-3-e155ceb79189>\u001b[0m in \u001b[0;36m<module>\u001b[0;34m\u001b[0m\n\u001b[1;32m      1\u001b[0m \u001b[0ms\u001b[0m \u001b[0;34m=\u001b[0m \u001b[0;34m'durga'\u001b[0m\u001b[0;34m\u001b[0m\u001b[0;34m\u001b[0m\u001b[0m\n\u001b[1;32m      2\u001b[0m \u001b[0;34m\u001b[0m\u001b[0m\n\u001b[0;32m----> 3\u001b[0;31m \u001b[0mnext\u001b[0m\u001b[0;34m(\u001b[0m\u001b[0ms\u001b[0m\u001b[0;34m)\u001b[0m\u001b[0;34m\u001b[0m\u001b[0;34m\u001b[0m\u001b[0m\n\u001b[0m",
            "\u001b[0;31mTypeError\u001b[0m: 'str' object is not an iterator"
          ]
        }
      ]
    },
    {
      "cell_type": "code",
      "source": [
        "x = iter(s)"
      ],
      "metadata": {
        "id": "ltKSTmJZ0I80"
      },
      "execution_count": 4,
      "outputs": []
    },
    {
      "cell_type": "code",
      "source": [
        "next(x)"
      ],
      "metadata": {
        "colab": {
          "base_uri": "https://localhost:8080/",
          "height": 35
        },
        "id": "MoBPm92a1yYr",
        "outputId": "2e0a3bb1-843c-4be4-fe2a-b4e048d18686"
      },
      "execution_count": 5,
      "outputs": [
        {
          "output_type": "execute_result",
          "data": {
            "text/plain": [
              "'d'"
            ],
            "application/vnd.google.colaboratory.intrinsic+json": {
              "type": "string"
            }
          },
          "metadata": {},
          "execution_count": 5
        }
      ]
    },
    {
      "cell_type": "code",
      "source": [
        "next(x)"
      ],
      "metadata": {
        "colab": {
          "base_uri": "https://localhost:8080/",
          "height": 35
        },
        "id": "acDs32hS2k6g",
        "outputId": "171b0842-f5c9-41e8-982b-a4437c1e813d"
      },
      "execution_count": 8,
      "outputs": [
        {
          "output_type": "execute_result",
          "data": {
            "text/plain": [
              "'u'"
            ],
            "application/vnd.google.colaboratory.intrinsic+json": {
              "type": "string"
            }
          },
          "metadata": {},
          "execution_count": 8
        }
      ]
    },
    {
      "cell_type": "code",
      "source": [
        "a = 20\n",
        "next(a)"
      ],
      "metadata": {
        "colab": {
          "base_uri": "https://localhost:8080/",
          "height": 184
        },
        "id": "sInxrtcr1zza",
        "outputId": "6d1b76fe-5888-4467-e04f-7da7d97e41fc"
      },
      "execution_count": 6,
      "outputs": [
        {
          "output_type": "error",
          "ename": "TypeError",
          "evalue": "ignored",
          "traceback": [
            "\u001b[0;31m---------------------------------------------------------------------------\u001b[0m",
            "\u001b[0;31mTypeError\u001b[0m                                 Traceback (most recent call last)",
            "\u001b[0;32m<ipython-input-6-15f178e84989>\u001b[0m in \u001b[0;36m<module>\u001b[0;34m\u001b[0m\n\u001b[1;32m      1\u001b[0m \u001b[0ma\u001b[0m \u001b[0;34m=\u001b[0m \u001b[0;36m20\u001b[0m\u001b[0;34m\u001b[0m\u001b[0;34m\u001b[0m\u001b[0m\n\u001b[0;32m----> 2\u001b[0;31m \u001b[0mnext\u001b[0m\u001b[0;34m(\u001b[0m\u001b[0ma\u001b[0m\u001b[0;34m)\u001b[0m\u001b[0;34m\u001b[0m\u001b[0;34m\u001b[0m\u001b[0m\n\u001b[0m",
            "\u001b[0;31mTypeError\u001b[0m: 'int' object is not an iterator"
          ]
        }
      ]
    },
    {
      "cell_type": "code",
      "source": [
        "iter(a)"
      ],
      "metadata": {
        "colab": {
          "base_uri": "https://localhost:8080/",
          "height": 166
        },
        "id": "SQ4qvefz2G-8",
        "outputId": "a2b24bd9-f1d0-4b79-a215-704541f9f65b"
      },
      "execution_count": 7,
      "outputs": [
        {
          "output_type": "error",
          "ename": "TypeError",
          "evalue": "ignored",
          "traceback": [
            "\u001b[0;31m---------------------------------------------------------------------------\u001b[0m",
            "\u001b[0;31mTypeError\u001b[0m                                 Traceback (most recent call last)",
            "\u001b[0;32m<ipython-input-7-2b64cb055077>\u001b[0m in \u001b[0;36m<module>\u001b[0;34m\u001b[0m\n\u001b[0;32m----> 1\u001b[0;31m \u001b[0miter\u001b[0m\u001b[0;34m(\u001b[0m\u001b[0ma\u001b[0m\u001b[0;34m)\u001b[0m\u001b[0;34m\u001b[0m\u001b[0;34m\u001b[0m\u001b[0m\n\u001b[0m",
            "\u001b[0;31mTypeError\u001b[0m: 'int' object is not iterable"
          ]
        }
      ]
    },
    {
      "cell_type": "code",
      "source": [
        " b= 'siva'"
      ],
      "metadata": {
        "id": "bxOR6o4D2LHW"
      },
      "execution_count": 9,
      "outputs": []
    },
    {
      "cell_type": "code",
      "source": [
        "c = iter(b)"
      ],
      "metadata": {
        "id": "VIJlYGcZ256G"
      },
      "execution_count": 10,
      "outputs": []
    },
    {
      "cell_type": "code",
      "source": [
        "next(c)"
      ],
      "metadata": {
        "colab": {
          "base_uri": "https://localhost:8080/",
          "height": 35
        },
        "id": "7m05whI628rw",
        "outputId": "c05b10c2-31e7-4b37-ac23-fd621dee1979"
      },
      "execution_count": 11,
      "outputs": [
        {
          "output_type": "execute_result",
          "data": {
            "text/plain": [
              "'s'"
            ],
            "application/vnd.google.colaboratory.intrinsic+json": {
              "type": "string"
            }
          },
          "metadata": {},
          "execution_count": 11
        }
      ]
    },
    {
      "cell_type": "code",
      "source": [
        "next(c)"
      ],
      "metadata": {
        "colab": {
          "base_uri": "https://localhost:8080/",
          "height": 35
        },
        "id": "JjtFcECK29lO",
        "outputId": "3e42e011-d495-4ef9-cd05-500ba25527d0"
      },
      "execution_count": 12,
      "outputs": [
        {
          "output_type": "execute_result",
          "data": {
            "text/plain": [
              "'i'"
            ],
            "application/vnd.google.colaboratory.intrinsic+json": {
              "type": "string"
            }
          },
          "metadata": {},
          "execution_count": 12
        }
      ]
    },
    {
      "cell_type": "code",
      "source": [
        "next(c)"
      ],
      "metadata": {
        "colab": {
          "base_uri": "https://localhost:8080/",
          "height": 35
        },
        "id": "gh7z4sJT2-N-",
        "outputId": "8101c136-e25e-4ed8-c631-7e6c20afe837"
      },
      "execution_count": 13,
      "outputs": [
        {
          "output_type": "execute_result",
          "data": {
            "text/plain": [
              "'v'"
            ],
            "application/vnd.google.colaboratory.intrinsic+json": {
              "type": "string"
            }
          },
          "metadata": {},
          "execution_count": 13
        }
      ]
    },
    {
      "cell_type": "code",
      "source": [
        "next(c)"
      ],
      "metadata": {
        "colab": {
          "base_uri": "https://localhost:8080/",
          "height": 35
        },
        "id": "wM2-wxse2_DH",
        "outputId": "938b2cf7-55aa-4bec-9ecc-3cdbc30a0360"
      },
      "execution_count": 14,
      "outputs": [
        {
          "output_type": "execute_result",
          "data": {
            "text/plain": [
              "'a'"
            ],
            "application/vnd.google.colaboratory.intrinsic+json": {
              "type": "string"
            }
          },
          "metadata": {},
          "execution_count": 14
        }
      ]
    },
    {
      "cell_type": "code",
      "source": [
        "next(c)"
      ],
      "metadata": {
        "colab": {
          "base_uri": "https://localhost:8080/",
          "height": 166
        },
        "id": "lONvFCSW2_qe",
        "outputId": "1ae9d200-05d6-434a-f34b-b4f7a92510e3"
      },
      "execution_count": 15,
      "outputs": [
        {
          "output_type": "error",
          "ename": "StopIteration",
          "evalue": "ignored",
          "traceback": [
            "\u001b[0;31m---------------------------------------------------------------------------\u001b[0m",
            "\u001b[0;31mStopIteration\u001b[0m                             Traceback (most recent call last)",
            "\u001b[0;32m<ipython-input-15-e846efec376d>\u001b[0m in \u001b[0;36m<module>\u001b[0;34m\u001b[0m\n\u001b[0;32m----> 1\u001b[0;31m \u001b[0mnext\u001b[0m\u001b[0;34m(\u001b[0m\u001b[0mc\u001b[0m\u001b[0;34m)\u001b[0m\u001b[0;34m\u001b[0m\u001b[0;34m\u001b[0m\u001b[0m\n\u001b[0m",
            "\u001b[0;31mStopIteration\u001b[0m: "
          ]
        }
      ]
    },
    {
      "cell_type": "code",
      "source": [
        "l = [1,2,3,4,5,6]"
      ],
      "metadata": {
        "id": "M3iPEcPY3APM"
      },
      "execution_count": 16,
      "outputs": []
    },
    {
      "cell_type": "code",
      "source": [
        "next(l)"
      ],
      "metadata": {
        "colab": {
          "base_uri": "https://localhost:8080/",
          "height": 166
        },
        "id": "GEJwhH3e3OYk",
        "outputId": "77cb2070-cf6d-4cf1-95da-3228a937ce1c"
      },
      "execution_count": 17,
      "outputs": [
        {
          "output_type": "error",
          "ename": "TypeError",
          "evalue": "ignored",
          "traceback": [
            "\u001b[0;31m---------------------------------------------------------------------------\u001b[0m",
            "\u001b[0;31mTypeError\u001b[0m                                 Traceback (most recent call last)",
            "\u001b[0;32m<ipython-input-17-cdc8a39da60d>\u001b[0m in \u001b[0;36m<module>\u001b[0;34m\u001b[0m\n\u001b[0;32m----> 1\u001b[0;31m \u001b[0mnext\u001b[0m\u001b[0;34m(\u001b[0m\u001b[0ml\u001b[0m\u001b[0;34m)\u001b[0m\u001b[0;34m\u001b[0m\u001b[0;34m\u001b[0m\u001b[0m\n\u001b[0m",
            "\u001b[0;31mTypeError\u001b[0m: 'list' object is not an iterator"
          ]
        }
      ]
    },
    {
      "cell_type": "code",
      "source": [
        "a = iter(l)"
      ],
      "metadata": {
        "id": "PySKBAE73PCk"
      },
      "execution_count": 19,
      "outputs": []
    },
    {
      "cell_type": "code",
      "source": [
        "next(a)"
      ],
      "metadata": {
        "colab": {
          "base_uri": "https://localhost:8080/"
        },
        "id": "SC_cB9Db3Px3",
        "outputId": "fc1f75c8-0020-4201-97d4-b15c14e772ab"
      },
      "execution_count": 20,
      "outputs": [
        {
          "output_type": "execute_result",
          "data": {
            "text/plain": [
              "1"
            ]
          },
          "metadata": {},
          "execution_count": 20
        }
      ]
    },
    {
      "cell_type": "code",
      "source": [
        "next(a)"
      ],
      "metadata": {
        "colab": {
          "base_uri": "https://localhost:8080/"
        },
        "id": "qiTcdB1I3Tko",
        "outputId": "dfd073ac-828f-44b6-ad55-1c68c78e144d"
      },
      "execution_count": 21,
      "outputs": [
        {
          "output_type": "execute_result",
          "data": {
            "text/plain": [
              "2"
            ]
          },
          "metadata": {},
          "execution_count": 21
        }
      ]
    },
    {
      "cell_type": "code",
      "source": [
        "next(a)"
      ],
      "metadata": {
        "colab": {
          "base_uri": "https://localhost:8080/"
        },
        "id": "VAJ5H48c3UEf",
        "outputId": "886a7ecf-d327-4a0d-c519-4bd96e997fb6"
      },
      "execution_count": 22,
      "outputs": [
        {
          "output_type": "execute_result",
          "data": {
            "text/plain": [
              "3"
            ]
          },
          "metadata": {},
          "execution_count": 22
        }
      ]
    },
    {
      "cell_type": "code",
      "source": [
        "next(a)"
      ],
      "metadata": {
        "colab": {
          "base_uri": "https://localhost:8080/"
        },
        "id": "G7dAJXJA3U_S",
        "outputId": "dc32b857-81b1-4833-f453-185d6b136deb"
      },
      "execution_count": 23,
      "outputs": [
        {
          "output_type": "execute_result",
          "data": {
            "text/plain": [
              "4"
            ]
          },
          "metadata": {},
          "execution_count": 23
        }
      ]
    },
    {
      "cell_type": "code",
      "source": [
        "next(a)"
      ],
      "metadata": {
        "colab": {
          "base_uri": "https://localhost:8080/"
        },
        "id": "rAVnUzZs3V1J",
        "outputId": "35580085-c7d5-4481-8cb8-e82249f6524f"
      },
      "execution_count": 24,
      "outputs": [
        {
          "output_type": "execute_result",
          "data": {
            "text/plain": [
              "5"
            ]
          },
          "metadata": {},
          "execution_count": 24
        }
      ]
    },
    {
      "cell_type": "code",
      "source": [
        "next(a)"
      ],
      "metadata": {
        "colab": {
          "base_uri": "https://localhost:8080/"
        },
        "id": "P580sV8d3WVz",
        "outputId": "b148d7f9-8ed7-4902-d5f9-f3d7c6263235"
      },
      "execution_count": 25,
      "outputs": [
        {
          "output_type": "execute_result",
          "data": {
            "text/plain": [
              "6"
            ]
          },
          "metadata": {},
          "execution_count": 25
        }
      ]
    },
    {
      "cell_type": "code",
      "source": [
        "next(a)"
      ],
      "metadata": {
        "colab": {
          "base_uri": "https://localhost:8080/",
          "height": 166
        },
        "id": "7i52u1aY3W2V",
        "outputId": "08dccaf8-9ca3-49f8-e6ac-23a8624f17c1"
      },
      "execution_count": 26,
      "outputs": [
        {
          "output_type": "error",
          "ename": "StopIteration",
          "evalue": "ignored",
          "traceback": [
            "\u001b[0;31m---------------------------------------------------------------------------\u001b[0m",
            "\u001b[0;31mStopIteration\u001b[0m                             Traceback (most recent call last)",
            "\u001b[0;32m<ipython-input-26-15841f3f11d4>\u001b[0m in \u001b[0;36m<module>\u001b[0;34m\u001b[0m\n\u001b[0;32m----> 1\u001b[0;31m \u001b[0mnext\u001b[0m\u001b[0;34m(\u001b[0m\u001b[0ma\u001b[0m\u001b[0;34m)\u001b[0m\u001b[0;34m\u001b[0m\u001b[0;34m\u001b[0m\u001b[0m\n\u001b[0m",
            "\u001b[0;31mStopIteration\u001b[0m: "
          ]
        }
      ]
    },
    {
      "cell_type": "code",
      "source": [
        "def testa(n) :\n",
        "  l = []\n",
        "  for i in range(n):\n",
        "    l.append(i**3)\n",
        "\n",
        "\n",
        "  return l"
      ],
      "metadata": {
        "id": "o-VlaGSV3X4u"
      },
      "execution_count": 27,
      "outputs": []
    },
    {
      "cell_type": "code",
      "source": [
        "testa(6)"
      ],
      "metadata": {
        "colab": {
          "base_uri": "https://localhost:8080/"
        },
        "id": "t7oi69kF5yOZ",
        "outputId": "10646c74-6e9a-4913-975e-4fea5023a96d"
      },
      "execution_count": 28,
      "outputs": [
        {
          "output_type": "execute_result",
          "data": {
            "text/plain": [
              "[0, 1, 8, 27, 64, 125]"
            ]
          },
          "metadata": {},
          "execution_count": 28
        }
      ]
    },
    {
      "cell_type": "code",
      "source": [
        "testa(600)"
      ],
      "metadata": {
        "colab": {
          "base_uri": "https://localhost:8080/"
        },
        "id": "Qsfe98Sw50Wl",
        "outputId": "54189463-b075-49a7-ecc4-29bec19abc2a"
      },
      "execution_count": 29,
      "outputs": [
        {
          "output_type": "execute_result",
          "data": {
            "text/plain": [
              "[0,\n",
              " 1,\n",
              " 8,\n",
              " 27,\n",
              " 64,\n",
              " 125,\n",
              " 216,\n",
              " 343,\n",
              " 512,\n",
              " 729,\n",
              " 1000,\n",
              " 1331,\n",
              " 1728,\n",
              " 2197,\n",
              " 2744,\n",
              " 3375,\n",
              " 4096,\n",
              " 4913,\n",
              " 5832,\n",
              " 6859,\n",
              " 8000,\n",
              " 9261,\n",
              " 10648,\n",
              " 12167,\n",
              " 13824,\n",
              " 15625,\n",
              " 17576,\n",
              " 19683,\n",
              " 21952,\n",
              " 24389,\n",
              " 27000,\n",
              " 29791,\n",
              " 32768,\n",
              " 35937,\n",
              " 39304,\n",
              " 42875,\n",
              " 46656,\n",
              " 50653,\n",
              " 54872,\n",
              " 59319,\n",
              " 64000,\n",
              " 68921,\n",
              " 74088,\n",
              " 79507,\n",
              " 85184,\n",
              " 91125,\n",
              " 97336,\n",
              " 103823,\n",
              " 110592,\n",
              " 117649,\n",
              " 125000,\n",
              " 132651,\n",
              " 140608,\n",
              " 148877,\n",
              " 157464,\n",
              " 166375,\n",
              " 175616,\n",
              " 185193,\n",
              " 195112,\n",
              " 205379,\n",
              " 216000,\n",
              " 226981,\n",
              " 238328,\n",
              " 250047,\n",
              " 262144,\n",
              " 274625,\n",
              " 287496,\n",
              " 300763,\n",
              " 314432,\n",
              " 328509,\n",
              " 343000,\n",
              " 357911,\n",
              " 373248,\n",
              " 389017,\n",
              " 405224,\n",
              " 421875,\n",
              " 438976,\n",
              " 456533,\n",
              " 474552,\n",
              " 493039,\n",
              " 512000,\n",
              " 531441,\n",
              " 551368,\n",
              " 571787,\n",
              " 592704,\n",
              " 614125,\n",
              " 636056,\n",
              " 658503,\n",
              " 681472,\n",
              " 704969,\n",
              " 729000,\n",
              " 753571,\n",
              " 778688,\n",
              " 804357,\n",
              " 830584,\n",
              " 857375,\n",
              " 884736,\n",
              " 912673,\n",
              " 941192,\n",
              " 970299,\n",
              " 1000000,\n",
              " 1030301,\n",
              " 1061208,\n",
              " 1092727,\n",
              " 1124864,\n",
              " 1157625,\n",
              " 1191016,\n",
              " 1225043,\n",
              " 1259712,\n",
              " 1295029,\n",
              " 1331000,\n",
              " 1367631,\n",
              " 1404928,\n",
              " 1442897,\n",
              " 1481544,\n",
              " 1520875,\n",
              " 1560896,\n",
              " 1601613,\n",
              " 1643032,\n",
              " 1685159,\n",
              " 1728000,\n",
              " 1771561,\n",
              " 1815848,\n",
              " 1860867,\n",
              " 1906624,\n",
              " 1953125,\n",
              " 2000376,\n",
              " 2048383,\n",
              " 2097152,\n",
              " 2146689,\n",
              " 2197000,\n",
              " 2248091,\n",
              " 2299968,\n",
              " 2352637,\n",
              " 2406104,\n",
              " 2460375,\n",
              " 2515456,\n",
              " 2571353,\n",
              " 2628072,\n",
              " 2685619,\n",
              " 2744000,\n",
              " 2803221,\n",
              " 2863288,\n",
              " 2924207,\n",
              " 2985984,\n",
              " 3048625,\n",
              " 3112136,\n",
              " 3176523,\n",
              " 3241792,\n",
              " 3307949,\n",
              " 3375000,\n",
              " 3442951,\n",
              " 3511808,\n",
              " 3581577,\n",
              " 3652264,\n",
              " 3723875,\n",
              " 3796416,\n",
              " 3869893,\n",
              " 3944312,\n",
              " 4019679,\n",
              " 4096000,\n",
              " 4173281,\n",
              " 4251528,\n",
              " 4330747,\n",
              " 4410944,\n",
              " 4492125,\n",
              " 4574296,\n",
              " 4657463,\n",
              " 4741632,\n",
              " 4826809,\n",
              " 4913000,\n",
              " 5000211,\n",
              " 5088448,\n",
              " 5177717,\n",
              " 5268024,\n",
              " 5359375,\n",
              " 5451776,\n",
              " 5545233,\n",
              " 5639752,\n",
              " 5735339,\n",
              " 5832000,\n",
              " 5929741,\n",
              " 6028568,\n",
              " 6128487,\n",
              " 6229504,\n",
              " 6331625,\n",
              " 6434856,\n",
              " 6539203,\n",
              " 6644672,\n",
              " 6751269,\n",
              " 6859000,\n",
              " 6967871,\n",
              " 7077888,\n",
              " 7189057,\n",
              " 7301384,\n",
              " 7414875,\n",
              " 7529536,\n",
              " 7645373,\n",
              " 7762392,\n",
              " 7880599,\n",
              " 8000000,\n",
              " 8120601,\n",
              " 8242408,\n",
              " 8365427,\n",
              " 8489664,\n",
              " 8615125,\n",
              " 8741816,\n",
              " 8869743,\n",
              " 8998912,\n",
              " 9129329,\n",
              " 9261000,\n",
              " 9393931,\n",
              " 9528128,\n",
              " 9663597,\n",
              " 9800344,\n",
              " 9938375,\n",
              " 10077696,\n",
              " 10218313,\n",
              " 10360232,\n",
              " 10503459,\n",
              " 10648000,\n",
              " 10793861,\n",
              " 10941048,\n",
              " 11089567,\n",
              " 11239424,\n",
              " 11390625,\n",
              " 11543176,\n",
              " 11697083,\n",
              " 11852352,\n",
              " 12008989,\n",
              " 12167000,\n",
              " 12326391,\n",
              " 12487168,\n",
              " 12649337,\n",
              " 12812904,\n",
              " 12977875,\n",
              " 13144256,\n",
              " 13312053,\n",
              " 13481272,\n",
              " 13651919,\n",
              " 13824000,\n",
              " 13997521,\n",
              " 14172488,\n",
              " 14348907,\n",
              " 14526784,\n",
              " 14706125,\n",
              " 14886936,\n",
              " 15069223,\n",
              " 15252992,\n",
              " 15438249,\n",
              " 15625000,\n",
              " 15813251,\n",
              " 16003008,\n",
              " 16194277,\n",
              " 16387064,\n",
              " 16581375,\n",
              " 16777216,\n",
              " 16974593,\n",
              " 17173512,\n",
              " 17373979,\n",
              " 17576000,\n",
              " 17779581,\n",
              " 17984728,\n",
              " 18191447,\n",
              " 18399744,\n",
              " 18609625,\n",
              " 18821096,\n",
              " 19034163,\n",
              " 19248832,\n",
              " 19465109,\n",
              " 19683000,\n",
              " 19902511,\n",
              " 20123648,\n",
              " 20346417,\n",
              " 20570824,\n",
              " 20796875,\n",
              " 21024576,\n",
              " 21253933,\n",
              " 21484952,\n",
              " 21717639,\n",
              " 21952000,\n",
              " 22188041,\n",
              " 22425768,\n",
              " 22665187,\n",
              " 22906304,\n",
              " 23149125,\n",
              " 23393656,\n",
              " 23639903,\n",
              " 23887872,\n",
              " 24137569,\n",
              " 24389000,\n",
              " 24642171,\n",
              " 24897088,\n",
              " 25153757,\n",
              " 25412184,\n",
              " 25672375,\n",
              " 25934336,\n",
              " 26198073,\n",
              " 26463592,\n",
              " 26730899,\n",
              " 27000000,\n",
              " 27270901,\n",
              " 27543608,\n",
              " 27818127,\n",
              " 28094464,\n",
              " 28372625,\n",
              " 28652616,\n",
              " 28934443,\n",
              " 29218112,\n",
              " 29503629,\n",
              " 29791000,\n",
              " 30080231,\n",
              " 30371328,\n",
              " 30664297,\n",
              " 30959144,\n",
              " 31255875,\n",
              " 31554496,\n",
              " 31855013,\n",
              " 32157432,\n",
              " 32461759,\n",
              " 32768000,\n",
              " 33076161,\n",
              " 33386248,\n",
              " 33698267,\n",
              " 34012224,\n",
              " 34328125,\n",
              " 34645976,\n",
              " 34965783,\n",
              " 35287552,\n",
              " 35611289,\n",
              " 35937000,\n",
              " 36264691,\n",
              " 36594368,\n",
              " 36926037,\n",
              " 37259704,\n",
              " 37595375,\n",
              " 37933056,\n",
              " 38272753,\n",
              " 38614472,\n",
              " 38958219,\n",
              " 39304000,\n",
              " 39651821,\n",
              " 40001688,\n",
              " 40353607,\n",
              " 40707584,\n",
              " 41063625,\n",
              " 41421736,\n",
              " 41781923,\n",
              " 42144192,\n",
              " 42508549,\n",
              " 42875000,\n",
              " 43243551,\n",
              " 43614208,\n",
              " 43986977,\n",
              " 44361864,\n",
              " 44738875,\n",
              " 45118016,\n",
              " 45499293,\n",
              " 45882712,\n",
              " 46268279,\n",
              " 46656000,\n",
              " 47045881,\n",
              " 47437928,\n",
              " 47832147,\n",
              " 48228544,\n",
              " 48627125,\n",
              " 49027896,\n",
              " 49430863,\n",
              " 49836032,\n",
              " 50243409,\n",
              " 50653000,\n",
              " 51064811,\n",
              " 51478848,\n",
              " 51895117,\n",
              " 52313624,\n",
              " 52734375,\n",
              " 53157376,\n",
              " 53582633,\n",
              " 54010152,\n",
              " 54439939,\n",
              " 54872000,\n",
              " 55306341,\n",
              " 55742968,\n",
              " 56181887,\n",
              " 56623104,\n",
              " 57066625,\n",
              " 57512456,\n",
              " 57960603,\n",
              " 58411072,\n",
              " 58863869,\n",
              " 59319000,\n",
              " 59776471,\n",
              " 60236288,\n",
              " 60698457,\n",
              " 61162984,\n",
              " 61629875,\n",
              " 62099136,\n",
              " 62570773,\n",
              " 63044792,\n",
              " 63521199,\n",
              " 64000000,\n",
              " 64481201,\n",
              " 64964808,\n",
              " 65450827,\n",
              " 65939264,\n",
              " 66430125,\n",
              " 66923416,\n",
              " 67419143,\n",
              " 67917312,\n",
              " 68417929,\n",
              " 68921000,\n",
              " 69426531,\n",
              " 69934528,\n",
              " 70444997,\n",
              " 70957944,\n",
              " 71473375,\n",
              " 71991296,\n",
              " 72511713,\n",
              " 73034632,\n",
              " 73560059,\n",
              " 74088000,\n",
              " 74618461,\n",
              " 75151448,\n",
              " 75686967,\n",
              " 76225024,\n",
              " 76765625,\n",
              " 77308776,\n",
              " 77854483,\n",
              " 78402752,\n",
              " 78953589,\n",
              " 79507000,\n",
              " 80062991,\n",
              " 80621568,\n",
              " 81182737,\n",
              " 81746504,\n",
              " 82312875,\n",
              " 82881856,\n",
              " 83453453,\n",
              " 84027672,\n",
              " 84604519,\n",
              " 85184000,\n",
              " 85766121,\n",
              " 86350888,\n",
              " 86938307,\n",
              " 87528384,\n",
              " 88121125,\n",
              " 88716536,\n",
              " 89314623,\n",
              " 89915392,\n",
              " 90518849,\n",
              " 91125000,\n",
              " 91733851,\n",
              " 92345408,\n",
              " 92959677,\n",
              " 93576664,\n",
              " 94196375,\n",
              " 94818816,\n",
              " 95443993,\n",
              " 96071912,\n",
              " 96702579,\n",
              " 97336000,\n",
              " 97972181,\n",
              " 98611128,\n",
              " 99252847,\n",
              " 99897344,\n",
              " 100544625,\n",
              " 101194696,\n",
              " 101847563,\n",
              " 102503232,\n",
              " 103161709,\n",
              " 103823000,\n",
              " 104487111,\n",
              " 105154048,\n",
              " 105823817,\n",
              " 106496424,\n",
              " 107171875,\n",
              " 107850176,\n",
              " 108531333,\n",
              " 109215352,\n",
              " 109902239,\n",
              " 110592000,\n",
              " 111284641,\n",
              " 111980168,\n",
              " 112678587,\n",
              " 113379904,\n",
              " 114084125,\n",
              " 114791256,\n",
              " 115501303,\n",
              " 116214272,\n",
              " 116930169,\n",
              " 117649000,\n",
              " 118370771,\n",
              " 119095488,\n",
              " 119823157,\n",
              " 120553784,\n",
              " 121287375,\n",
              " 122023936,\n",
              " 122763473,\n",
              " 123505992,\n",
              " 124251499,\n",
              " 125000000,\n",
              " 125751501,\n",
              " 126506008,\n",
              " 127263527,\n",
              " 128024064,\n",
              " 128787625,\n",
              " 129554216,\n",
              " 130323843,\n",
              " 131096512,\n",
              " 131872229,\n",
              " 132651000,\n",
              " 133432831,\n",
              " 134217728,\n",
              " 135005697,\n",
              " 135796744,\n",
              " 136590875,\n",
              " 137388096,\n",
              " 138188413,\n",
              " 138991832,\n",
              " 139798359,\n",
              " 140608000,\n",
              " 141420761,\n",
              " 142236648,\n",
              " 143055667,\n",
              " 143877824,\n",
              " 144703125,\n",
              " 145531576,\n",
              " 146363183,\n",
              " 147197952,\n",
              " 148035889,\n",
              " 148877000,\n",
              " 149721291,\n",
              " 150568768,\n",
              " 151419437,\n",
              " 152273304,\n",
              " 153130375,\n",
              " 153990656,\n",
              " 154854153,\n",
              " 155720872,\n",
              " 156590819,\n",
              " 157464000,\n",
              " 158340421,\n",
              " 159220088,\n",
              " 160103007,\n",
              " 160989184,\n",
              " 161878625,\n",
              " 162771336,\n",
              " 163667323,\n",
              " 164566592,\n",
              " 165469149,\n",
              " 166375000,\n",
              " 167284151,\n",
              " 168196608,\n",
              " 169112377,\n",
              " 170031464,\n",
              " 170953875,\n",
              " 171879616,\n",
              " 172808693,\n",
              " 173741112,\n",
              " 174676879,\n",
              " 175616000,\n",
              " 176558481,\n",
              " 177504328,\n",
              " 178453547,\n",
              " 179406144,\n",
              " 180362125,\n",
              " 181321496,\n",
              " 182284263,\n",
              " 183250432,\n",
              " 184220009,\n",
              " 185193000,\n",
              " 186169411,\n",
              " 187149248,\n",
              " 188132517,\n",
              " 189119224,\n",
              " 190109375,\n",
              " 191102976,\n",
              " 192100033,\n",
              " 193100552,\n",
              " 194104539,\n",
              " 195112000,\n",
              " 196122941,\n",
              " 197137368,\n",
              " 198155287,\n",
              " 199176704,\n",
              " 200201625,\n",
              " 201230056,\n",
              " 202262003,\n",
              " 203297472,\n",
              " 204336469,\n",
              " 205379000,\n",
              " 206425071,\n",
              " 207474688,\n",
              " 208527857,\n",
              " 209584584,\n",
              " 210644875,\n",
              " 211708736,\n",
              " 212776173,\n",
              " 213847192,\n",
              " 214921799]"
            ]
          },
          "metadata": {},
          "execution_count": 29
        }
      ]
    },
    {
      "cell_type": "code",
      "source": [
        "testa(6000000)"
      ],
      "metadata": {
        "colab": {
          "base_uri": "https://localhost:8080/"
        },
        "id": "TvPHlhBJ53q-",
        "outputId": "801fa4eb-d058-499c-c8dd-4fceb3e87dec"
      },
      "execution_count": 30,
      "outputs": [
        {
          "output_type": "execute_result",
          "data": {
            "text/plain": [
              "[0,\n",
              " 1,\n",
              " 8,\n",
              " 27,\n",
              " 64,\n",
              " 125,\n",
              " 216,\n",
              " 343,\n",
              " 512,\n",
              " 729,\n",
              " 1000,\n",
              " 1331,\n",
              " 1728,\n",
              " 2197,\n",
              " 2744,\n",
              " 3375,\n",
              " 4096,\n",
              " 4913,\n",
              " 5832,\n",
              " 6859,\n",
              " 8000,\n",
              " 9261,\n",
              " 10648,\n",
              " 12167,\n",
              " 13824,\n",
              " 15625,\n",
              " 17576,\n",
              " 19683,\n",
              " 21952,\n",
              " 24389,\n",
              " 27000,\n",
              " 29791,\n",
              " 32768,\n",
              " 35937,\n",
              " 39304,\n",
              " 42875,\n",
              " 46656,\n",
              " 50653,\n",
              " 54872,\n",
              " 59319,\n",
              " 64000,\n",
              " 68921,\n",
              " 74088,\n",
              " 79507,\n",
              " 85184,\n",
              " 91125,\n",
              " 97336,\n",
              " 103823,\n",
              " 110592,\n",
              " 117649,\n",
              " 125000,\n",
              " 132651,\n",
              " 140608,\n",
              " 148877,\n",
              " 157464,\n",
              " 166375,\n",
              " 175616,\n",
              " 185193,\n",
              " 195112,\n",
              " 205379,\n",
              " 216000,\n",
              " 226981,\n",
              " 238328,\n",
              " 250047,\n",
              " 262144,\n",
              " 274625,\n",
              " 287496,\n",
              " 300763,\n",
              " 314432,\n",
              " 328509,\n",
              " 343000,\n",
              " 357911,\n",
              " 373248,\n",
              " 389017,\n",
              " 405224,\n",
              " 421875,\n",
              " 438976,\n",
              " 456533,\n",
              " 474552,\n",
              " 493039,\n",
              " 512000,\n",
              " 531441,\n",
              " 551368,\n",
              " 571787,\n",
              " 592704,\n",
              " 614125,\n",
              " 636056,\n",
              " 658503,\n",
              " 681472,\n",
              " 704969,\n",
              " 729000,\n",
              " 753571,\n",
              " 778688,\n",
              " 804357,\n",
              " 830584,\n",
              " 857375,\n",
              " 884736,\n",
              " 912673,\n",
              " 941192,\n",
              " 970299,\n",
              " 1000000,\n",
              " 1030301,\n",
              " 1061208,\n",
              " 1092727,\n",
              " 1124864,\n",
              " 1157625,\n",
              " 1191016,\n",
              " 1225043,\n",
              " 1259712,\n",
              " 1295029,\n",
              " 1331000,\n",
              " 1367631,\n",
              " 1404928,\n",
              " 1442897,\n",
              " 1481544,\n",
              " 1520875,\n",
              " 1560896,\n",
              " 1601613,\n",
              " 1643032,\n",
              " 1685159,\n",
              " 1728000,\n",
              " 1771561,\n",
              " 1815848,\n",
              " 1860867,\n",
              " 1906624,\n",
              " 1953125,\n",
              " 2000376,\n",
              " 2048383,\n",
              " 2097152,\n",
              " 2146689,\n",
              " 2197000,\n",
              " 2248091,\n",
              " 2299968,\n",
              " 2352637,\n",
              " 2406104,\n",
              " 2460375,\n",
              " 2515456,\n",
              " 2571353,\n",
              " 2628072,\n",
              " 2685619,\n",
              " 2744000,\n",
              " 2803221,\n",
              " 2863288,\n",
              " 2924207,\n",
              " 2985984,\n",
              " 3048625,\n",
              " 3112136,\n",
              " 3176523,\n",
              " 3241792,\n",
              " 3307949,\n",
              " 3375000,\n",
              " 3442951,\n",
              " 3511808,\n",
              " 3581577,\n",
              " 3652264,\n",
              " 3723875,\n",
              " 3796416,\n",
              " 3869893,\n",
              " 3944312,\n",
              " 4019679,\n",
              " 4096000,\n",
              " 4173281,\n",
              " 4251528,\n",
              " 4330747,\n",
              " 4410944,\n",
              " 4492125,\n",
              " 4574296,\n",
              " 4657463,\n",
              " 4741632,\n",
              " 4826809,\n",
              " 4913000,\n",
              " 5000211,\n",
              " 5088448,\n",
              " 5177717,\n",
              " 5268024,\n",
              " 5359375,\n",
              " 5451776,\n",
              " 5545233,\n",
              " 5639752,\n",
              " 5735339,\n",
              " 5832000,\n",
              " 5929741,\n",
              " 6028568,\n",
              " 6128487,\n",
              " 6229504,\n",
              " 6331625,\n",
              " 6434856,\n",
              " 6539203,\n",
              " 6644672,\n",
              " 6751269,\n",
              " 6859000,\n",
              " 6967871,\n",
              " 7077888,\n",
              " 7189057,\n",
              " 7301384,\n",
              " 7414875,\n",
              " 7529536,\n",
              " 7645373,\n",
              " 7762392,\n",
              " 7880599,\n",
              " 8000000,\n",
              " 8120601,\n",
              " 8242408,\n",
              " 8365427,\n",
              " 8489664,\n",
              " 8615125,\n",
              " 8741816,\n",
              " 8869743,\n",
              " 8998912,\n",
              " 9129329,\n",
              " 9261000,\n",
              " 9393931,\n",
              " 9528128,\n",
              " 9663597,\n",
              " 9800344,\n",
              " 9938375,\n",
              " 10077696,\n",
              " 10218313,\n",
              " 10360232,\n",
              " 10503459,\n",
              " 10648000,\n",
              " 10793861,\n",
              " 10941048,\n",
              " 11089567,\n",
              " 11239424,\n",
              " 11390625,\n",
              " 11543176,\n",
              " 11697083,\n",
              " 11852352,\n",
              " 12008989,\n",
              " 12167000,\n",
              " 12326391,\n",
              " 12487168,\n",
              " 12649337,\n",
              " 12812904,\n",
              " 12977875,\n",
              " 13144256,\n",
              " 13312053,\n",
              " 13481272,\n",
              " 13651919,\n",
              " 13824000,\n",
              " 13997521,\n",
              " 14172488,\n",
              " 14348907,\n",
              " 14526784,\n",
              " 14706125,\n",
              " 14886936,\n",
              " 15069223,\n",
              " 15252992,\n",
              " 15438249,\n",
              " 15625000,\n",
              " 15813251,\n",
              " 16003008,\n",
              " 16194277,\n",
              " 16387064,\n",
              " 16581375,\n",
              " 16777216,\n",
              " 16974593,\n",
              " 17173512,\n",
              " 17373979,\n",
              " 17576000,\n",
              " 17779581,\n",
              " 17984728,\n",
              " 18191447,\n",
              " 18399744,\n",
              " 18609625,\n",
              " 18821096,\n",
              " 19034163,\n",
              " 19248832,\n",
              " 19465109,\n",
              " 19683000,\n",
              " 19902511,\n",
              " 20123648,\n",
              " 20346417,\n",
              " 20570824,\n",
              " 20796875,\n",
              " 21024576,\n",
              " 21253933,\n",
              " 21484952,\n",
              " 21717639,\n",
              " 21952000,\n",
              " 22188041,\n",
              " 22425768,\n",
              " 22665187,\n",
              " 22906304,\n",
              " 23149125,\n",
              " 23393656,\n",
              " 23639903,\n",
              " 23887872,\n",
              " 24137569,\n",
              " 24389000,\n",
              " 24642171,\n",
              " 24897088,\n",
              " 25153757,\n",
              " 25412184,\n",
              " 25672375,\n",
              " 25934336,\n",
              " 26198073,\n",
              " 26463592,\n",
              " 26730899,\n",
              " 27000000,\n",
              " 27270901,\n",
              " 27543608,\n",
              " 27818127,\n",
              " 28094464,\n",
              " 28372625,\n",
              " 28652616,\n",
              " 28934443,\n",
              " 29218112,\n",
              " 29503629,\n",
              " 29791000,\n",
              " 30080231,\n",
              " 30371328,\n",
              " 30664297,\n",
              " 30959144,\n",
              " 31255875,\n",
              " 31554496,\n",
              " 31855013,\n",
              " 32157432,\n",
              " 32461759,\n",
              " 32768000,\n",
              " 33076161,\n",
              " 33386248,\n",
              " 33698267,\n",
              " 34012224,\n",
              " 34328125,\n",
              " 34645976,\n",
              " 34965783,\n",
              " 35287552,\n",
              " 35611289,\n",
              " 35937000,\n",
              " 36264691,\n",
              " 36594368,\n",
              " 36926037,\n",
              " 37259704,\n",
              " 37595375,\n",
              " 37933056,\n",
              " 38272753,\n",
              " 38614472,\n",
              " 38958219,\n",
              " 39304000,\n",
              " 39651821,\n",
              " 40001688,\n",
              " 40353607,\n",
              " 40707584,\n",
              " 41063625,\n",
              " 41421736,\n",
              " 41781923,\n",
              " 42144192,\n",
              " 42508549,\n",
              " 42875000,\n",
              " 43243551,\n",
              " 43614208,\n",
              " 43986977,\n",
              " 44361864,\n",
              " 44738875,\n",
              " 45118016,\n",
              " 45499293,\n",
              " 45882712,\n",
              " 46268279,\n",
              " 46656000,\n",
              " 47045881,\n",
              " 47437928,\n",
              " 47832147,\n",
              " 48228544,\n",
              " 48627125,\n",
              " 49027896,\n",
              " 49430863,\n",
              " 49836032,\n",
              " 50243409,\n",
              " 50653000,\n",
              " 51064811,\n",
              " 51478848,\n",
              " 51895117,\n",
              " 52313624,\n",
              " 52734375,\n",
              " 53157376,\n",
              " 53582633,\n",
              " 54010152,\n",
              " 54439939,\n",
              " 54872000,\n",
              " 55306341,\n",
              " 55742968,\n",
              " 56181887,\n",
              " 56623104,\n",
              " 57066625,\n",
              " 57512456,\n",
              " 57960603,\n",
              " 58411072,\n",
              " 58863869,\n",
              " 59319000,\n",
              " 59776471,\n",
              " 60236288,\n",
              " 60698457,\n",
              " 61162984,\n",
              " 61629875,\n",
              " 62099136,\n",
              " 62570773,\n",
              " 63044792,\n",
              " 63521199,\n",
              " 64000000,\n",
              " 64481201,\n",
              " 64964808,\n",
              " 65450827,\n",
              " 65939264,\n",
              " 66430125,\n",
              " 66923416,\n",
              " 67419143,\n",
              " 67917312,\n",
              " 68417929,\n",
              " 68921000,\n",
              " 69426531,\n",
              " 69934528,\n",
              " 70444997,\n",
              " 70957944,\n",
              " 71473375,\n",
              " 71991296,\n",
              " 72511713,\n",
              " 73034632,\n",
              " 73560059,\n",
              " 74088000,\n",
              " 74618461,\n",
              " 75151448,\n",
              " 75686967,\n",
              " 76225024,\n",
              " 76765625,\n",
              " 77308776,\n",
              " 77854483,\n",
              " 78402752,\n",
              " 78953589,\n",
              " 79507000,\n",
              " 80062991,\n",
              " 80621568,\n",
              " 81182737,\n",
              " 81746504,\n",
              " 82312875,\n",
              " 82881856,\n",
              " 83453453,\n",
              " 84027672,\n",
              " 84604519,\n",
              " 85184000,\n",
              " 85766121,\n",
              " 86350888,\n",
              " 86938307,\n",
              " 87528384,\n",
              " 88121125,\n",
              " 88716536,\n",
              " 89314623,\n",
              " 89915392,\n",
              " 90518849,\n",
              " 91125000,\n",
              " 91733851,\n",
              " 92345408,\n",
              " 92959677,\n",
              " 93576664,\n",
              " 94196375,\n",
              " 94818816,\n",
              " 95443993,\n",
              " 96071912,\n",
              " 96702579,\n",
              " 97336000,\n",
              " 97972181,\n",
              " 98611128,\n",
              " 99252847,\n",
              " 99897344,\n",
              " 100544625,\n",
              " 101194696,\n",
              " 101847563,\n",
              " 102503232,\n",
              " 103161709,\n",
              " 103823000,\n",
              " 104487111,\n",
              " 105154048,\n",
              " 105823817,\n",
              " 106496424,\n",
              " 107171875,\n",
              " 107850176,\n",
              " 108531333,\n",
              " 109215352,\n",
              " 109902239,\n",
              " 110592000,\n",
              " 111284641,\n",
              " 111980168,\n",
              " 112678587,\n",
              " 113379904,\n",
              " 114084125,\n",
              " 114791256,\n",
              " 115501303,\n",
              " 116214272,\n",
              " 116930169,\n",
              " 117649000,\n",
              " 118370771,\n",
              " 119095488,\n",
              " 119823157,\n",
              " 120553784,\n",
              " 121287375,\n",
              " 122023936,\n",
              " 122763473,\n",
              " 123505992,\n",
              " 124251499,\n",
              " 125000000,\n",
              " 125751501,\n",
              " 126506008,\n",
              " 127263527,\n",
              " 128024064,\n",
              " 128787625,\n",
              " 129554216,\n",
              " 130323843,\n",
              " 131096512,\n",
              " 131872229,\n",
              " 132651000,\n",
              " 133432831,\n",
              " 134217728,\n",
              " 135005697,\n",
              " 135796744,\n",
              " 136590875,\n",
              " 137388096,\n",
              " 138188413,\n",
              " 138991832,\n",
              " 139798359,\n",
              " 140608000,\n",
              " 141420761,\n",
              " 142236648,\n",
              " 143055667,\n",
              " 143877824,\n",
              " 144703125,\n",
              " 145531576,\n",
              " 146363183,\n",
              " 147197952,\n",
              " 148035889,\n",
              " 148877000,\n",
              " 149721291,\n",
              " 150568768,\n",
              " 151419437,\n",
              " 152273304,\n",
              " 153130375,\n",
              " 153990656,\n",
              " 154854153,\n",
              " 155720872,\n",
              " 156590819,\n",
              " 157464000,\n",
              " 158340421,\n",
              " 159220088,\n",
              " 160103007,\n",
              " 160989184,\n",
              " 161878625,\n",
              " 162771336,\n",
              " 163667323,\n",
              " 164566592,\n",
              " 165469149,\n",
              " 166375000,\n",
              " 167284151,\n",
              " 168196608,\n",
              " 169112377,\n",
              " 170031464,\n",
              " 170953875,\n",
              " 171879616,\n",
              " 172808693,\n",
              " 173741112,\n",
              " 174676879,\n",
              " 175616000,\n",
              " 176558481,\n",
              " 177504328,\n",
              " 178453547,\n",
              " 179406144,\n",
              " 180362125,\n",
              " 181321496,\n",
              " 182284263,\n",
              " 183250432,\n",
              " 184220009,\n",
              " 185193000,\n",
              " 186169411,\n",
              " 187149248,\n",
              " 188132517,\n",
              " 189119224,\n",
              " 190109375,\n",
              " 191102976,\n",
              " 192100033,\n",
              " 193100552,\n",
              " 194104539,\n",
              " 195112000,\n",
              " 196122941,\n",
              " 197137368,\n",
              " 198155287,\n",
              " 199176704,\n",
              " 200201625,\n",
              " 201230056,\n",
              " 202262003,\n",
              " 203297472,\n",
              " 204336469,\n",
              " 205379000,\n",
              " 206425071,\n",
              " 207474688,\n",
              " 208527857,\n",
              " 209584584,\n",
              " 210644875,\n",
              " 211708736,\n",
              " 212776173,\n",
              " 213847192,\n",
              " 214921799,\n",
              " 216000000,\n",
              " 217081801,\n",
              " 218167208,\n",
              " 219256227,\n",
              " 220348864,\n",
              " 221445125,\n",
              " 222545016,\n",
              " 223648543,\n",
              " 224755712,\n",
              " 225866529,\n",
              " 226981000,\n",
              " 228099131,\n",
              " 229220928,\n",
              " 230346397,\n",
              " 231475544,\n",
              " 232608375,\n",
              " 233744896,\n",
              " 234885113,\n",
              " 236029032,\n",
              " 237176659,\n",
              " 238328000,\n",
              " 239483061,\n",
              " 240641848,\n",
              " 241804367,\n",
              " 242970624,\n",
              " 244140625,\n",
              " 245314376,\n",
              " 246491883,\n",
              " 247673152,\n",
              " 248858189,\n",
              " 250047000,\n",
              " 251239591,\n",
              " 252435968,\n",
              " 253636137,\n",
              " 254840104,\n",
              " 256047875,\n",
              " 257259456,\n",
              " 258474853,\n",
              " 259694072,\n",
              " 260917119,\n",
              " 262144000,\n",
              " 263374721,\n",
              " 264609288,\n",
              " 265847707,\n",
              " 267089984,\n",
              " 268336125,\n",
              " 269586136,\n",
              " 270840023,\n",
              " 272097792,\n",
              " 273359449,\n",
              " 274625000,\n",
              " 275894451,\n",
              " 277167808,\n",
              " 278445077,\n",
              " 279726264,\n",
              " 281011375,\n",
              " 282300416,\n",
              " 283593393,\n",
              " 284890312,\n",
              " 286191179,\n",
              " 287496000,\n",
              " 288804781,\n",
              " 290117528,\n",
              " 291434247,\n",
              " 292754944,\n",
              " 294079625,\n",
              " 295408296,\n",
              " 296740963,\n",
              " 298077632,\n",
              " 299418309,\n",
              " 300763000,\n",
              " 302111711,\n",
              " 303464448,\n",
              " 304821217,\n",
              " 306182024,\n",
              " 307546875,\n",
              " 308915776,\n",
              " 310288733,\n",
              " 311665752,\n",
              " 313046839,\n",
              " 314432000,\n",
              " 315821241,\n",
              " 317214568,\n",
              " 318611987,\n",
              " 320013504,\n",
              " 321419125,\n",
              " 322828856,\n",
              " 324242703,\n",
              " 325660672,\n",
              " 327082769,\n",
              " 328509000,\n",
              " 329939371,\n",
              " 331373888,\n",
              " 332812557,\n",
              " 334255384,\n",
              " 335702375,\n",
              " 337153536,\n",
              " 338608873,\n",
              " 340068392,\n",
              " 341532099,\n",
              " 343000000,\n",
              " 344472101,\n",
              " 345948408,\n",
              " 347428927,\n",
              " 348913664,\n",
              " 350402625,\n",
              " 351895816,\n",
              " 353393243,\n",
              " 354894912,\n",
              " 356400829,\n",
              " 357911000,\n",
              " 359425431,\n",
              " 360944128,\n",
              " 362467097,\n",
              " 363994344,\n",
              " 365525875,\n",
              " 367061696,\n",
              " 368601813,\n",
              " 370146232,\n",
              " 371694959,\n",
              " 373248000,\n",
              " 374805361,\n",
              " 376367048,\n",
              " 377933067,\n",
              " 379503424,\n",
              " 381078125,\n",
              " 382657176,\n",
              " 384240583,\n",
              " 385828352,\n",
              " 387420489,\n",
              " 389017000,\n",
              " 390617891,\n",
              " 392223168,\n",
              " 393832837,\n",
              " 395446904,\n",
              " 397065375,\n",
              " 398688256,\n",
              " 400315553,\n",
              " 401947272,\n",
              " 403583419,\n",
              " 405224000,\n",
              " 406869021,\n",
              " 408518488,\n",
              " 410172407,\n",
              " 411830784,\n",
              " 413493625,\n",
              " 415160936,\n",
              " 416832723,\n",
              " 418508992,\n",
              " 420189749,\n",
              " 421875000,\n",
              " 423564751,\n",
              " 425259008,\n",
              " 426957777,\n",
              " 428661064,\n",
              " 430368875,\n",
              " 432081216,\n",
              " 433798093,\n",
              " 435519512,\n",
              " 437245479,\n",
              " 438976000,\n",
              " 440711081,\n",
              " 442450728,\n",
              " 444194947,\n",
              " 445943744,\n",
              " 447697125,\n",
              " 449455096,\n",
              " 451217663,\n",
              " 452984832,\n",
              " 454756609,\n",
              " 456533000,\n",
              " 458314011,\n",
              " 460099648,\n",
              " 461889917,\n",
              " 463684824,\n",
              " 465484375,\n",
              " 467288576,\n",
              " 469097433,\n",
              " 470910952,\n",
              " 472729139,\n",
              " 474552000,\n",
              " 476379541,\n",
              " 478211768,\n",
              " 480048687,\n",
              " 481890304,\n",
              " 483736625,\n",
              " 485587656,\n",
              " 487443403,\n",
              " 489303872,\n",
              " 491169069,\n",
              " 493039000,\n",
              " 494913671,\n",
              " 496793088,\n",
              " 498677257,\n",
              " 500566184,\n",
              " 502459875,\n",
              " 504358336,\n",
              " 506261573,\n",
              " 508169592,\n",
              " 510082399,\n",
              " 512000000,\n",
              " 513922401,\n",
              " 515849608,\n",
              " 517781627,\n",
              " 519718464,\n",
              " 521660125,\n",
              " 523606616,\n",
              " 525557943,\n",
              " 527514112,\n",
              " 529475129,\n",
              " 531441000,\n",
              " 533411731,\n",
              " 535387328,\n",
              " 537367797,\n",
              " 539353144,\n",
              " 541343375,\n",
              " 543338496,\n",
              " 545338513,\n",
              " 547343432,\n",
              " 549353259,\n",
              " 551368000,\n",
              " 553387661,\n",
              " 555412248,\n",
              " 557441767,\n",
              " 559476224,\n",
              " 561515625,\n",
              " 563559976,\n",
              " 565609283,\n",
              " 567663552,\n",
              " 569722789,\n",
              " 571787000,\n",
              " 573856191,\n",
              " 575930368,\n",
              " 578009537,\n",
              " 580093704,\n",
              " 582182875,\n",
              " 584277056,\n",
              " 586376253,\n",
              " 588480472,\n",
              " 590589719,\n",
              " 592704000,\n",
              " 594823321,\n",
              " 596947688,\n",
              " 599077107,\n",
              " 601211584,\n",
              " 603351125,\n",
              " 605495736,\n",
              " 607645423,\n",
              " 609800192,\n",
              " 611960049,\n",
              " 614125000,\n",
              " 616295051,\n",
              " 618470208,\n",
              " 620650477,\n",
              " 622835864,\n",
              " 625026375,\n",
              " 627222016,\n",
              " 629422793,\n",
              " 631628712,\n",
              " 633839779,\n",
              " 636056000,\n",
              " 638277381,\n",
              " 640503928,\n",
              " 642735647,\n",
              " 644972544,\n",
              " 647214625,\n",
              " 649461896,\n",
              " 651714363,\n",
              " 653972032,\n",
              " 656234909,\n",
              " 658503000,\n",
              " 660776311,\n",
              " 663054848,\n",
              " 665338617,\n",
              " 667627624,\n",
              " 669921875,\n",
              " 672221376,\n",
              " 674526133,\n",
              " 676836152,\n",
              " 679151439,\n",
              " 681472000,\n",
              " 683797841,\n",
              " 686128968,\n",
              " 688465387,\n",
              " 690807104,\n",
              " 693154125,\n",
              " 695506456,\n",
              " 697864103,\n",
              " 700227072,\n",
              " 702595369,\n",
              " 704969000,\n",
              " 707347971,\n",
              " 709732288,\n",
              " 712121957,\n",
              " 714516984,\n",
              " 716917375,\n",
              " 719323136,\n",
              " 721734273,\n",
              " 724150792,\n",
              " 726572699,\n",
              " 729000000,\n",
              " 731432701,\n",
              " 733870808,\n",
              " 736314327,\n",
              " 738763264,\n",
              " 741217625,\n",
              " 743677416,\n",
              " 746142643,\n",
              " 748613312,\n",
              " 751089429,\n",
              " 753571000,\n",
              " 756058031,\n",
              " 758550528,\n",
              " 761048497,\n",
              " 763551944,\n",
              " 766060875,\n",
              " 768575296,\n",
              " 771095213,\n",
              " 773620632,\n",
              " 776151559,\n",
              " 778688000,\n",
              " 781229961,\n",
              " 783777448,\n",
              " 786330467,\n",
              " 788889024,\n",
              " 791453125,\n",
              " 794022776,\n",
              " 796597983,\n",
              " 799178752,\n",
              " 801765089,\n",
              " 804357000,\n",
              " 806954491,\n",
              " 809557568,\n",
              " 812166237,\n",
              " 814780504,\n",
              " 817400375,\n",
              " 820025856,\n",
              " 822656953,\n",
              " 825293672,\n",
              " 827936019,\n",
              " 830584000,\n",
              " 833237621,\n",
              " 835896888,\n",
              " 838561807,\n",
              " 841232384,\n",
              " 843908625,\n",
              " 846590536,\n",
              " 849278123,\n",
              " 851971392,\n",
              " 854670349,\n",
              " 857375000,\n",
              " 860085351,\n",
              " 862801408,\n",
              " 865523177,\n",
              " 868250664,\n",
              " 870983875,\n",
              " 873722816,\n",
              " 876467493,\n",
              " 879217912,\n",
              " 881974079,\n",
              " 884736000,\n",
              " 887503681,\n",
              " 890277128,\n",
              " 893056347,\n",
              " 895841344,\n",
              " 898632125,\n",
              " 901428696,\n",
              " 904231063,\n",
              " 907039232,\n",
              " 909853209,\n",
              " 912673000,\n",
              " 915498611,\n",
              " 918330048,\n",
              " 921167317,\n",
              " 924010424,\n",
              " 926859375,\n",
              " 929714176,\n",
              " 932574833,\n",
              " 935441352,\n",
              " 938313739,\n",
              " 941192000,\n",
              " 944076141,\n",
              " 946966168,\n",
              " 949862087,\n",
              " 952763904,\n",
              " 955671625,\n",
              " 958585256,\n",
              " 961504803,\n",
              " 964430272,\n",
              " 967361669,\n",
              " 970299000,\n",
              " 973242271,\n",
              " 976191488,\n",
              " 979146657,\n",
              " 982107784,\n",
              " 985074875,\n",
              " 988047936,\n",
              " 991026973,\n",
              " 994011992,\n",
              " 997002999,\n",
              " ...]"
            ]
          },
          "metadata": {},
          "execution_count": 30
        }
      ]
    },
    {
      "cell_type": "code",
      "source": [
        "def testb(n) :\n",
        "  for i in range(n):\n",
        "    yield i**3"
      ],
      "metadata": {
        "id": "IdOcnlpr55cD"
      },
      "execution_count": 31,
      "outputs": []
    },
    {
      "cell_type": "code",
      "source": [
        "testb(5)"
      ],
      "metadata": {
        "colab": {
          "base_uri": "https://localhost:8080/"
        },
        "id": "vUPjvER99p2E",
        "outputId": "d735cd74-ebdc-417a-baa8-6e5b18ef04f8"
      },
      "execution_count": 33,
      "outputs": [
        {
          "output_type": "execute_result",
          "data": {
            "text/plain": [
              "<generator object testb at 0x7fc1f19c49e0>"
            ]
          },
          "metadata": {},
          "execution_count": 33
        }
      ]
    },
    {
      "cell_type": "code",
      "source": [
        "for i in testb(5) :\n",
        "  print(i)"
      ],
      "metadata": {
        "colab": {
          "base_uri": "https://localhost:8080/"
        },
        "id": "-mMHBFoy9slM",
        "outputId": "3f3629a5-d8c8-40e7-e80c-ec9e2e54176c"
      },
      "execution_count": 34,
      "outputs": [
        {
          "output_type": "stream",
          "name": "stdout",
          "text": [
            "0\n",
            "1\n",
            "8\n",
            "27\n",
            "64\n"
          ]
        }
      ]
    },
    {
      "cell_type": "code",
      "source": [
        "# yield is generator function used to give the data in runtime. if we have a large number in n value , it will give the vlues in runtime until the \n",
        "# process will be complete."
      ],
      "metadata": {
        "id": "9oEv03hq90Xd"
      },
      "execution_count": 35,
      "outputs": []
    },
    {
      "cell_type": "code",
      "source": [
        "def fibn(n) :\n",
        "\n",
        "  a = 1\n",
        "  b = 1\n",
        "  c = []\n",
        "  for i in range(n):\n",
        "    c.append(a)\n",
        "    a,b = b, a+b\n",
        "  return c"
      ],
      "metadata": {
        "id": "djHZJTa--IZi"
      },
      "execution_count": 1,
      "outputs": []
    },
    {
      "cell_type": "code",
      "source": [
        "fibn(7)"
      ],
      "metadata": {
        "colab": {
          "base_uri": "https://localhost:8080/"
        },
        "id": "YCQ9A0zDvVT4",
        "outputId": "38527300-8cbb-4caa-c675-8f61f98e93eb"
      },
      "execution_count": 2,
      "outputs": [
        {
          "output_type": "execute_result",
          "data": {
            "text/plain": [
              "[1, 1, 2, 3, 5, 8, 13]"
            ]
          },
          "metadata": {},
          "execution_count": 2
        }
      ]
    },
    {
      "cell_type": "code",
      "source": [
        "def fibn1(n) :\n",
        "\n",
        "  a = 1\n",
        "  b = 1\n",
        " \n",
        "  for i in range(n):\n",
        "    yield a\n",
        "    a,b = b, a+b\n"
      ],
      "metadata": {
        "id": "P81S5SenvYE_"
      },
      "execution_count": 4,
      "outputs": []
    },
    {
      "cell_type": "code",
      "source": [
        "fibn1(7)"
      ],
      "metadata": {
        "colab": {
          "base_uri": "https://localhost:8080/"
        },
        "id": "JuHMCqdXvsle",
        "outputId": "36f0e666-fdf0-4a32-f403-2375d4aa625f"
      },
      "execution_count": 5,
      "outputs": [
        {
          "output_type": "execute_result",
          "data": {
            "text/plain": [
              "<generator object fibn1 at 0x7f2859c72120>"
            ]
          },
          "metadata": {},
          "execution_count": 5
        }
      ]
    },
    {
      "cell_type": "code",
      "source": [
        "for i in fibn1(6):\n",
        "  print(i)"
      ],
      "metadata": {
        "colab": {
          "base_uri": "https://localhost:8080/"
        },
        "id": "xsCOR7puvxVD",
        "outputId": "d50492a5-e4e6-4486-fc33-c8ff8758ebaa"
      },
      "execution_count": 8,
      "outputs": [
        {
          "output_type": "stream",
          "name": "stdout",
          "text": [
            "1\n",
            "1\n",
            "2\n",
            "3\n",
            "5\n",
            "8\n"
          ]
        }
      ]
    },
    {
      "cell_type": "code",
      "source": [],
      "metadata": {
        "id": "gLrpI1MxwGJQ"
      },
      "execution_count": null,
      "outputs": []
    }
  ]
}